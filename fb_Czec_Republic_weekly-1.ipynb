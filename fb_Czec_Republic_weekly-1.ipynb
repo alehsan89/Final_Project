{
 "cells": [
  {
   "cell_type": "code",
   "execution_count": 1,
   "metadata": {},
   "outputs": [],
   "source": [
    "import pandas as pd\n",
    "import matplotlib.pyplot as plt\n",
    "import seaborn as sns\n",
    "from plotnine import *\n",
    "import numpy as np\n",
    "import datetime\n",
    "import pandas as pd\n",
    "import sklearn as sk\n",
    "from fbprophet import Prophet\n",
    "from fbprophet.diagnostics import cross_validation\n",
    "from fbprophet.diagnostics import performance_metrics\n",
    "from fbprophet.plot import plot_cross_validation_metric\n",
    "import chart_studio.plotly as py\n",
    "import plotly.offline as pyoff\n",
    "import plotly.graph_objs as go"
   ]
  },
  {
   "cell_type": "code",
   "execution_count": 2,
   "metadata": {},
   "outputs": [],
   "source": [
    "data = pd.read_csv('/Users/alijanehsan/Downloads/Final_project/merge.csv', parse_dates=['date'], index_col =0)\n"
   ]
  },
  {
   "cell_type": "code",
   "execution_count": null,
   "metadata": {},
   "outputs": [],
   "source": []
  },
  {
   "cell_type": "code",
   "execution_count": 3,
   "metadata": {},
   "outputs": [
    {
     "data": {
      "text/html": [
       "<div>\n",
       "<style scoped>\n",
       "    .dataframe tbody tr th:only-of-type {\n",
       "        vertical-align: middle;\n",
       "    }\n",
       "\n",
       "    .dataframe tbody tr th {\n",
       "        vertical-align: top;\n",
       "    }\n",
       "\n",
       "    .dataframe thead th {\n",
       "        text-align: right;\n",
       "    }\n",
       "</style>\n",
       "<table border=\"1\" class=\"dataframe\">\n",
       "  <thead>\n",
       "    <tr style=\"text-align: right;\">\n",
       "      <th></th>\n",
       "      <th>date</th>\n",
       "      <th>item_code</th>\n",
       "      <th>quantity</th>\n",
       "      <th>unit_price_vat_excl</th>\n",
       "      <th>unit_cogs</th>\n",
       "      <th>unit_rrp_vat_excl</th>\n",
       "      <th>department</th>\n",
       "      <th>site</th>\n",
       "      <th>Revenue</th>\n",
       "      <th>country</th>\n",
       "      <th>...</th>\n",
       "      <th>category</th>\n",
       "      <th>gender</th>\n",
       "      <th>age</th>\n",
       "      <th>color</th>\n",
       "      <th>size</th>\n",
       "      <th>men</th>\n",
       "      <th>unisex</th>\n",
       "      <th>women</th>\n",
       "      <th>day</th>\n",
       "      <th>month</th>\n",
       "    </tr>\n",
       "  </thead>\n",
       "  <tbody>\n",
       "    <tr>\n",
       "      <th>1</th>\n",
       "      <td>2021-12-09</td>\n",
       "      <td>ZB00245086</td>\n",
       "      <td>1</td>\n",
       "      <td>98.582325</td>\n",
       "      <td>63.816279</td>\n",
       "      <td>129.458420</td>\n",
       "      <td>E-COMMER</td>\n",
       "      <td>top4running.it</td>\n",
       "      <td>98.582325</td>\n",
       "      <td>Italy</td>\n",
       "      <td>...</td>\n",
       "      <td>running</td>\n",
       "      <td>men</td>\n",
       "      <td>adults</td>\n",
       "      <td>White</td>\n",
       "      <td>44</td>\n",
       "      <td>1</td>\n",
       "      <td>0</td>\n",
       "      <td>0</td>\n",
       "      <td>Thursday</td>\n",
       "      <td>December</td>\n",
       "    </tr>\n",
       "    <tr>\n",
       "      <th>2</th>\n",
       "      <td>2021-12-08</td>\n",
       "      <td>ZB00245086</td>\n",
       "      <td>1</td>\n",
       "      <td>100.182074</td>\n",
       "      <td>63.815891</td>\n",
       "      <td>131.559296</td>\n",
       "      <td>E-COMMER</td>\n",
       "      <td>top4running.at</td>\n",
       "      <td>100.182074</td>\n",
       "      <td>Austria</td>\n",
       "      <td>...</td>\n",
       "      <td>running</td>\n",
       "      <td>men</td>\n",
       "      <td>adults</td>\n",
       "      <td>White</td>\n",
       "      <td>44</td>\n",
       "      <td>1</td>\n",
       "      <td>0</td>\n",
       "      <td>0</td>\n",
       "      <td>Wednesday</td>\n",
       "      <td>December</td>\n",
       "    </tr>\n",
       "    <tr>\n",
       "      <th>3</th>\n",
       "      <td>2021-12-04</td>\n",
       "      <td>ZB00245086</td>\n",
       "      <td>1</td>\n",
       "      <td>98.350139</td>\n",
       "      <td>63.816279</td>\n",
       "      <td>129.153514</td>\n",
       "      <td>E-COMMER</td>\n",
       "      <td>top4running.it</td>\n",
       "      <td>98.350139</td>\n",
       "      <td>Italy</td>\n",
       "      <td>...</td>\n",
       "      <td>running</td>\n",
       "      <td>men</td>\n",
       "      <td>adults</td>\n",
       "      <td>White</td>\n",
       "      <td>44</td>\n",
       "      <td>1</td>\n",
       "      <td>0</td>\n",
       "      <td>0</td>\n",
       "      <td>Saturday</td>\n",
       "      <td>December</td>\n",
       "    </tr>\n",
       "    <tr>\n",
       "      <th>4</th>\n",
       "      <td>2021-11-14</td>\n",
       "      <td>ZB00245086</td>\n",
       "      <td>1</td>\n",
       "      <td>99.296899</td>\n",
       "      <td>63.815891</td>\n",
       "      <td>130.396884</td>\n",
       "      <td>E-COMMER</td>\n",
       "      <td>top4running.at</td>\n",
       "      <td>99.296899</td>\n",
       "      <td>Austria</td>\n",
       "      <td>...</td>\n",
       "      <td>running</td>\n",
       "      <td>men</td>\n",
       "      <td>adults</td>\n",
       "      <td>White</td>\n",
       "      <td>44</td>\n",
       "      <td>1</td>\n",
       "      <td>0</td>\n",
       "      <td>0</td>\n",
       "      <td>Sunday</td>\n",
       "      <td>November</td>\n",
       "    </tr>\n",
       "    <tr>\n",
       "      <th>5</th>\n",
       "      <td>2022-01-14</td>\n",
       "      <td>S101</td>\n",
       "      <td>1</td>\n",
       "      <td>3.109643</td>\n",
       "      <td>0.000000</td>\n",
       "      <td>3.109643</td>\n",
       "      <td>E-COMMER</td>\n",
       "      <td>top4football.de</td>\n",
       "      <td>3.109643</td>\n",
       "      <td>Germany</td>\n",
       "      <td>...</td>\n",
       "      <td>football</td>\n",
       "      <td>men</td>\n",
       "      <td>adults</td>\n",
       "      <td>Black</td>\n",
       "      <td>M</td>\n",
       "      <td>1</td>\n",
       "      <td>0</td>\n",
       "      <td>0</td>\n",
       "      <td>Friday</td>\n",
       "      <td>January</td>\n",
       "    </tr>\n",
       "  </tbody>\n",
       "</table>\n",
       "<p>5 rows × 25 columns</p>\n",
       "</div>"
      ],
      "text/plain": [
       "        date   item_code  quantity  unit_price_vat_excl  unit_cogs  \\\n",
       "1 2021-12-09  ZB00245086         1            98.582325  63.816279   \n",
       "2 2021-12-08  ZB00245086         1           100.182074  63.815891   \n",
       "3 2021-12-04  ZB00245086         1            98.350139  63.816279   \n",
       "4 2021-11-14  ZB00245086         1            99.296899  63.815891   \n",
       "5 2022-01-14        S101         1             3.109643   0.000000   \n",
       "\n",
       "   unit_rrp_vat_excl department             site     Revenue  country  ...  \\\n",
       "1         129.458420   E-COMMER   top4running.it   98.582325    Italy  ...   \n",
       "2         131.559296   E-COMMER   top4running.at  100.182074  Austria  ...   \n",
       "3         129.153514   E-COMMER   top4running.it   98.350139    Italy  ...   \n",
       "4         130.396884   E-COMMER   top4running.at   99.296899  Austria  ...   \n",
       "5           3.109643   E-COMMER  top4football.de    3.109643  Germany  ...   \n",
       "\n",
       "   category gender     age  color size men unisex women        day     month  \n",
       "1   running    men  adults  White   44   1      0     0   Thursday  December  \n",
       "2   running    men  adults  White   44   1      0     0  Wednesday  December  \n",
       "3   running    men  adults  White   44   1      0     0   Saturday  December  \n",
       "4   running    men  adults  White   44   1      0     0     Sunday  November  \n",
       "5  football    men  adults  Black    M   1      0     0     Friday   January  \n",
       "\n",
       "[5 rows x 25 columns]"
      ]
     },
     "execution_count": 3,
     "metadata": {},
     "output_type": "execute_result"
    }
   ],
   "source": [
    "data.head()"
   ]
  },
  {
   "cell_type": "code",
   "execution_count": 4,
   "metadata": {},
   "outputs": [
    {
     "data": {
      "text/plain": [
       "Czech Republic    109802\n",
       "Slovakia           62792\n",
       "Romania            55512\n",
       "Hungary            40442\n",
       "Spain              28651\n",
       "Germany            18215\n",
       "France             17166\n",
       "Italy              13789\n",
       "Croatia             9168\n",
       "Ireland             6047\n",
       "Denmark             5738\n",
       "Portugal            3668\n",
       "Poland              3627\n",
       "Netherland          3620\n",
       "Sweden              3084\n",
       "com                 2391\n",
       "Austria             1827\n",
       "Belgium             1414\n",
       "Finland             1042\n",
       "Slovenia             616\n",
       "United Kingdom        10\n",
       "other                  9\n",
       "Bulgaria               5\n",
       "Name: country, dtype: int64"
      ]
     },
     "execution_count": 4,
     "metadata": {},
     "output_type": "execute_result"
    }
   ],
   "source": [
    "data['country'].value_counts()"
   ]
  },
  {
   "cell_type": "code",
   "execution_count": 5,
   "metadata": {},
   "outputs": [
    {
     "data": {
      "text/html": [
       "<div>\n",
       "<style scoped>\n",
       "    .dataframe tbody tr th:only-of-type {\n",
       "        vertical-align: middle;\n",
       "    }\n",
       "\n",
       "    .dataframe tbody tr th {\n",
       "        vertical-align: top;\n",
       "    }\n",
       "\n",
       "    .dataframe thead th {\n",
       "        text-align: right;\n",
       "    }\n",
       "</style>\n",
       "<table border=\"1\" class=\"dataframe\">\n",
       "  <thead>\n",
       "    <tr style=\"text-align: right;\">\n",
       "      <th></th>\n",
       "      <th>date</th>\n",
       "      <th>item_code</th>\n",
       "      <th>quantity</th>\n",
       "      <th>unit_price_vat_excl</th>\n",
       "      <th>unit_cogs</th>\n",
       "      <th>unit_rrp_vat_excl</th>\n",
       "      <th>department</th>\n",
       "      <th>site</th>\n",
       "      <th>Revenue</th>\n",
       "      <th>country</th>\n",
       "      <th>...</th>\n",
       "      <th>category</th>\n",
       "      <th>gender</th>\n",
       "      <th>age</th>\n",
       "      <th>color</th>\n",
       "      <th>size</th>\n",
       "      <th>men</th>\n",
       "      <th>unisex</th>\n",
       "      <th>women</th>\n",
       "      <th>day</th>\n",
       "      <th>month</th>\n",
       "    </tr>\n",
       "  </thead>\n",
       "  <tbody>\n",
       "    <tr>\n",
       "      <th>7</th>\n",
       "      <td>2022-01-14</td>\n",
       "      <td>S101</td>\n",
       "      <td>1</td>\n",
       "      <td>2.850775</td>\n",
       "      <td>0.000000</td>\n",
       "      <td>2.868217</td>\n",
       "      <td>E-COMMER</td>\n",
       "      <td>11teamsports.cz</td>\n",
       "      <td>2.850775</td>\n",
       "      <td>Czech Republic</td>\n",
       "      <td>...</td>\n",
       "      <td>football</td>\n",
       "      <td>men</td>\n",
       "      <td>adults</td>\n",
       "      <td>Black</td>\n",
       "      <td>M</td>\n",
       "      <td>1</td>\n",
       "      <td>0</td>\n",
       "      <td>0</td>\n",
       "      <td>Friday</td>\n",
       "      <td>January</td>\n",
       "    </tr>\n",
       "    <tr>\n",
       "      <th>10</th>\n",
       "      <td>2022-01-14</td>\n",
       "      <td>S101</td>\n",
       "      <td>1</td>\n",
       "      <td>1.889922</td>\n",
       "      <td>0.000000</td>\n",
       "      <td>1.899225</td>\n",
       "      <td>E-COMMER</td>\n",
       "      <td>11teamsports.cz</td>\n",
       "      <td>1.889922</td>\n",
       "      <td>Czech Republic</td>\n",
       "      <td>...</td>\n",
       "      <td>football</td>\n",
       "      <td>men</td>\n",
       "      <td>adults</td>\n",
       "      <td>Black</td>\n",
       "      <td>M</td>\n",
       "      <td>1</td>\n",
       "      <td>0</td>\n",
       "      <td>0</td>\n",
       "      <td>Friday</td>\n",
       "      <td>January</td>\n",
       "    </tr>\n",
       "    <tr>\n",
       "      <th>14</th>\n",
       "      <td>2022-01-14</td>\n",
       "      <td>S101</td>\n",
       "      <td>1</td>\n",
       "      <td>1.889922</td>\n",
       "      <td>0.000000</td>\n",
       "      <td>1.899225</td>\n",
       "      <td>E-COMMER</td>\n",
       "      <td>11teamsports.cz</td>\n",
       "      <td>1.889922</td>\n",
       "      <td>Czech Republic</td>\n",
       "      <td>...</td>\n",
       "      <td>football</td>\n",
       "      <td>men</td>\n",
       "      <td>adults</td>\n",
       "      <td>Black</td>\n",
       "      <td>M</td>\n",
       "      <td>1</td>\n",
       "      <td>0</td>\n",
       "      <td>0</td>\n",
       "      <td>Friday</td>\n",
       "      <td>January</td>\n",
       "    </tr>\n",
       "    <tr>\n",
       "      <th>16</th>\n",
       "      <td>2022-01-14</td>\n",
       "      <td>S101</td>\n",
       "      <td>1</td>\n",
       "      <td>1.889922</td>\n",
       "      <td>0.000000</td>\n",
       "      <td>1.899225</td>\n",
       "      <td>E-COMMER</td>\n",
       "      <td>top4running.cz</td>\n",
       "      <td>1.889922</td>\n",
       "      <td>Czech Republic</td>\n",
       "      <td>...</td>\n",
       "      <td>football</td>\n",
       "      <td>men</td>\n",
       "      <td>adults</td>\n",
       "      <td>Black</td>\n",
       "      <td>M</td>\n",
       "      <td>1</td>\n",
       "      <td>0</td>\n",
       "      <td>0</td>\n",
       "      <td>Friday</td>\n",
       "      <td>January</td>\n",
       "    </tr>\n",
       "    <tr>\n",
       "      <th>25</th>\n",
       "      <td>2022-01-14</td>\n",
       "      <td>S101</td>\n",
       "      <td>1</td>\n",
       "      <td>1.889922</td>\n",
       "      <td>0.000000</td>\n",
       "      <td>1.899225</td>\n",
       "      <td>E-COMMER</td>\n",
       "      <td>top4fitness.cz</td>\n",
       "      <td>1.889922</td>\n",
       "      <td>Czech Republic</td>\n",
       "      <td>...</td>\n",
       "      <td>football</td>\n",
       "      <td>men</td>\n",
       "      <td>adults</td>\n",
       "      <td>Black</td>\n",
       "      <td>M</td>\n",
       "      <td>1</td>\n",
       "      <td>0</td>\n",
       "      <td>0</td>\n",
       "      <td>Friday</td>\n",
       "      <td>January</td>\n",
       "    </tr>\n",
       "    <tr>\n",
       "      <th>...</th>\n",
       "      <td>...</td>\n",
       "      <td>...</td>\n",
       "      <td>...</td>\n",
       "      <td>...</td>\n",
       "      <td>...</td>\n",
       "      <td>...</td>\n",
       "      <td>...</td>\n",
       "      <td>...</td>\n",
       "      <td>...</td>\n",
       "      <td>...</td>\n",
       "      <td>...</td>\n",
       "      <td>...</td>\n",
       "      <td>...</td>\n",
       "      <td>...</td>\n",
       "      <td>...</td>\n",
       "      <td>...</td>\n",
       "      <td>...</td>\n",
       "      <td>...</td>\n",
       "      <td>...</td>\n",
       "      <td>...</td>\n",
       "      <td>...</td>\n",
       "    </tr>\n",
       "    <tr>\n",
       "      <th>431754</th>\n",
       "      <td>2021-09-22</td>\n",
       "      <td>ZB00222941</td>\n",
       "      <td>1</td>\n",
       "      <td>91.613953</td>\n",
       "      <td>55.454651</td>\n",
       "      <td>102.480620</td>\n",
       "      <td>E-COMMER</td>\n",
       "      <td>top4running.cz</td>\n",
       "      <td>91.613953</td>\n",
       "      <td>Czech Republic</td>\n",
       "      <td>...</td>\n",
       "      <td>running</td>\n",
       "      <td>men</td>\n",
       "      <td>adults</td>\n",
       "      <td>Blue</td>\n",
       "      <td>44,7</td>\n",
       "      <td>1</td>\n",
       "      <td>0</td>\n",
       "      <td>0</td>\n",
       "      <td>Wednesday</td>\n",
       "      <td>September</td>\n",
       "    </tr>\n",
       "    <tr>\n",
       "      <th>431757</th>\n",
       "      <td>2021-09-22</td>\n",
       "      <td>ZB00057897</td>\n",
       "      <td>1</td>\n",
       "      <td>46.863953</td>\n",
       "      <td>21.922481</td>\n",
       "      <td>66.937984</td>\n",
       "      <td>E-COMMER</td>\n",
       "      <td>top4fitness.cz</td>\n",
       "      <td>46.863953</td>\n",
       "      <td>Czech Republic</td>\n",
       "      <td>...</td>\n",
       "      <td>fitness</td>\n",
       "      <td>men</td>\n",
       "      <td>adults</td>\n",
       "      <td>Black</td>\n",
       "      <td>L</td>\n",
       "      <td>1</td>\n",
       "      <td>0</td>\n",
       "      <td>0</td>\n",
       "      <td>Wednesday</td>\n",
       "      <td>September</td>\n",
       "    </tr>\n",
       "    <tr>\n",
       "      <th>431759</th>\n",
       "      <td>2021-09-22</td>\n",
       "      <td>ZB00162055</td>\n",
       "      <td>1</td>\n",
       "      <td>69.126744</td>\n",
       "      <td>49.257364</td>\n",
       "      <td>89.651163</td>\n",
       "      <td>E-COMMER</td>\n",
       "      <td>top4fitness.cz</td>\n",
       "      <td>69.126744</td>\n",
       "      <td>Czech Republic</td>\n",
       "      <td>...</td>\n",
       "      <td>fitness</td>\n",
       "      <td>women</td>\n",
       "      <td>adults</td>\n",
       "      <td>Brown</td>\n",
       "      <td>40</td>\n",
       "      <td>0</td>\n",
       "      <td>0</td>\n",
       "      <td>1</td>\n",
       "      <td>Wednesday</td>\n",
       "      <td>September</td>\n",
       "    </tr>\n",
       "    <tr>\n",
       "      <th>431761</th>\n",
       "      <td>2021-09-22</td>\n",
       "      <td>ZB00163584</td>\n",
       "      <td>1</td>\n",
       "      <td>51.765116</td>\n",
       "      <td>37.713178</td>\n",
       "      <td>67.248062</td>\n",
       "      <td>E-COMMER</td>\n",
       "      <td>11teamsports.cz</td>\n",
       "      <td>51.765116</td>\n",
       "      <td>Czech Republic</td>\n",
       "      <td>...</td>\n",
       "      <td>football</td>\n",
       "      <td>unisex</td>\n",
       "      <td>adults</td>\n",
       "      <td>Black</td>\n",
       "      <td>44,5</td>\n",
       "      <td>0</td>\n",
       "      <td>1</td>\n",
       "      <td>0</td>\n",
       "      <td>Wednesday</td>\n",
       "      <td>September</td>\n",
       "    </tr>\n",
       "    <tr>\n",
       "      <th>431771</th>\n",
       "      <td>2021-09-22</td>\n",
       "      <td>ZB00252789</td>\n",
       "      <td>1</td>\n",
       "      <td>80.050000</td>\n",
       "      <td>41.976744</td>\n",
       "      <td>80.038760</td>\n",
       "      <td>E-COMMER</td>\n",
       "      <td>11teamsports.cz</td>\n",
       "      <td>80.050000</td>\n",
       "      <td>Czech Republic</td>\n",
       "      <td>...</td>\n",
       "      <td>football</td>\n",
       "      <td>unisex</td>\n",
       "      <td>adults</td>\n",
       "      <td>Green</td>\n",
       "      <td>46</td>\n",
       "      <td>0</td>\n",
       "      <td>1</td>\n",
       "      <td>0</td>\n",
       "      <td>Wednesday</td>\n",
       "      <td>September</td>\n",
       "    </tr>\n",
       "  </tbody>\n",
       "</table>\n",
       "<p>109802 rows × 25 columns</p>\n",
       "</div>"
      ],
      "text/plain": [
       "             date   item_code  quantity  unit_price_vat_excl  unit_cogs  \\\n",
       "7      2022-01-14        S101         1             2.850775   0.000000   \n",
       "10     2022-01-14        S101         1             1.889922   0.000000   \n",
       "14     2022-01-14        S101         1             1.889922   0.000000   \n",
       "16     2022-01-14        S101         1             1.889922   0.000000   \n",
       "25     2022-01-14        S101         1             1.889922   0.000000   \n",
       "...           ...         ...       ...                  ...        ...   \n",
       "431754 2021-09-22  ZB00222941         1            91.613953  55.454651   \n",
       "431757 2021-09-22  ZB00057897         1            46.863953  21.922481   \n",
       "431759 2021-09-22  ZB00162055         1            69.126744  49.257364   \n",
       "431761 2021-09-22  ZB00163584         1            51.765116  37.713178   \n",
       "431771 2021-09-22  ZB00252789         1            80.050000  41.976744   \n",
       "\n",
       "        unit_rrp_vat_excl department             site    Revenue  \\\n",
       "7                2.868217   E-COMMER  11teamsports.cz   2.850775   \n",
       "10               1.899225   E-COMMER  11teamsports.cz   1.889922   \n",
       "14               1.899225   E-COMMER  11teamsports.cz   1.889922   \n",
       "16               1.899225   E-COMMER   top4running.cz   1.889922   \n",
       "25               1.899225   E-COMMER   top4fitness.cz   1.889922   \n",
       "...                   ...        ...              ...        ...   \n",
       "431754         102.480620   E-COMMER   top4running.cz  91.613953   \n",
       "431757          66.937984   E-COMMER   top4fitness.cz  46.863953   \n",
       "431759          89.651163   E-COMMER   top4fitness.cz  69.126744   \n",
       "431761          67.248062   E-COMMER  11teamsports.cz  51.765116   \n",
       "431771          80.038760   E-COMMER  11teamsports.cz  80.050000   \n",
       "\n",
       "               country  ...  category  gender     age  color  size men unisex  \\\n",
       "7       Czech Republic  ...  football     men  adults  Black     M   1      0   \n",
       "10      Czech Republic  ...  football     men  adults  Black     M   1      0   \n",
       "14      Czech Republic  ...  football     men  adults  Black     M   1      0   \n",
       "16      Czech Republic  ...  football     men  adults  Black     M   1      0   \n",
       "25      Czech Republic  ...  football     men  adults  Black     M   1      0   \n",
       "...                ...  ...       ...     ...     ...    ...   ...  ..    ...   \n",
       "431754  Czech Republic  ...   running     men  adults   Blue  44,7   1      0   \n",
       "431757  Czech Republic  ...   fitness     men  adults  Black     L   1      0   \n",
       "431759  Czech Republic  ...   fitness   women  adults  Brown    40   0      0   \n",
       "431761  Czech Republic  ...  football  unisex  adults  Black  44,5   0      1   \n",
       "431771  Czech Republic  ...  football  unisex  adults  Green    46   0      1   \n",
       "\n",
       "       women        day      month  \n",
       "7          0     Friday    January  \n",
       "10         0     Friday    January  \n",
       "14         0     Friday    January  \n",
       "16         0     Friday    January  \n",
       "25         0     Friday    January  \n",
       "...      ...        ...        ...  \n",
       "431754     0  Wednesday  September  \n",
       "431757     0  Wednesday  September  \n",
       "431759     1  Wednesday  September  \n",
       "431761     0  Wednesday  September  \n",
       "431771     0  Wednesday  September  \n",
       "\n",
       "[109802 rows x 25 columns]"
      ]
     },
     "execution_count": 5,
     "metadata": {},
     "output_type": "execute_result"
    }
   ],
   "source": [
    "df_cz = data[data['country']== 'Czech Republic']\n",
    "\n",
    "df_cz"
   ]
  },
  {
   "cell_type": "code",
   "execution_count": 6,
   "metadata": {},
   "outputs": [
    {
     "data": {
      "text/plain": [
       "Index(['date', 'item_code', 'quantity', 'unit_price_vat_excl', 'unit_cogs',\n",
       "       'unit_rrp_vat_excl', 'department', 'site', 'Revenue', 'country',\n",
       "       'item_name', 'style', 'name', 'group0', 'group1', 'category', 'gender',\n",
       "       'age', 'color', 'size', 'men', 'unisex', 'women', 'day', 'month'],\n",
       "      dtype='object')"
      ]
     },
     "execution_count": 6,
     "metadata": {},
     "output_type": "execute_result"
    }
   ],
   "source": [
    "df_cz.columns"
   ]
  },
  {
   "cell_type": "code",
   "execution_count": 7,
   "metadata": {},
   "outputs": [
    {
     "data": {
      "text/plain": [
       "- žádný výrobce -    45639\n",
       "Nike                 30984\n",
       "adidas                9127\n",
       "Under Armour          7116\n",
       "Puma                  4426\n",
       "                     ...  \n",
       "Stance                   1\n",
       "Kelme                    1\n",
       "Everlast                 1\n",
       "Umbro                    1\n",
       "Fleo                     1\n",
       "Name: name, Length: 104, dtype: int64"
      ]
     },
     "execution_count": 7,
     "metadata": {},
     "output_type": "execute_result"
    }
   ],
   "source": [
    "df_cz['name'].value_counts()"
   ]
  },
  {
   "cell_type": "code",
   "execution_count": 8,
   "metadata": {},
   "outputs": [
    {
     "data": {
      "text/html": [
       "<div>\n",
       "<style scoped>\n",
       "    .dataframe tbody tr th:only-of-type {\n",
       "        vertical-align: middle;\n",
       "    }\n",
       "\n",
       "    .dataframe tbody tr th {\n",
       "        vertical-align: top;\n",
       "    }\n",
       "\n",
       "    .dataframe thead th {\n",
       "        text-align: right;\n",
       "    }\n",
       "</style>\n",
       "<table border=\"1\" class=\"dataframe\">\n",
       "  <thead>\n",
       "    <tr style=\"text-align: right;\">\n",
       "      <th></th>\n",
       "      <th>date</th>\n",
       "      <th>item_code</th>\n",
       "      <th>quantity</th>\n",
       "      <th>unit_price_vat_excl</th>\n",
       "      <th>unit_cogs</th>\n",
       "      <th>unit_rrp_vat_excl</th>\n",
       "      <th>department</th>\n",
       "      <th>site</th>\n",
       "      <th>Revenue</th>\n",
       "      <th>country</th>\n",
       "      <th>...</th>\n",
       "      <th>category</th>\n",
       "      <th>gender</th>\n",
       "      <th>age</th>\n",
       "      <th>color</th>\n",
       "      <th>size</th>\n",
       "      <th>men</th>\n",
       "      <th>unisex</th>\n",
       "      <th>women</th>\n",
       "      <th>day</th>\n",
       "      <th>month</th>\n",
       "    </tr>\n",
       "  </thead>\n",
       "  <tbody>\n",
       "    <tr>\n",
       "      <th>76335</th>\n",
       "      <td>2022-01-14</td>\n",
       "      <td>ZB00267150</td>\n",
       "      <td>1</td>\n",
       "      <td>43.820930</td>\n",
       "      <td>29.586047</td>\n",
       "      <td>60.813953</td>\n",
       "      <td>E-COMMER</td>\n",
       "      <td>top4running.cz</td>\n",
       "      <td>43.820930</td>\n",
       "      <td>Czech Republic</td>\n",
       "      <td>...</td>\n",
       "      <td>running</td>\n",
       "      <td>women</td>\n",
       "      <td>adults</td>\n",
       "      <td>Silver</td>\n",
       "      <td>M</td>\n",
       "      <td>0</td>\n",
       "      <td>0</td>\n",
       "      <td>1</td>\n",
       "      <td>Friday</td>\n",
       "      <td>January</td>\n",
       "    </tr>\n",
       "    <tr>\n",
       "      <th>76336</th>\n",
       "      <td>2021-12-30</td>\n",
       "      <td>ZB00267150</td>\n",
       "      <td>1</td>\n",
       "      <td>42.955814</td>\n",
       "      <td>29.586047</td>\n",
       "      <td>60.813953</td>\n",
       "      <td>E-COMMER</td>\n",
       "      <td>top4running.cz</td>\n",
       "      <td>42.955814</td>\n",
       "      <td>Czech Republic</td>\n",
       "      <td>...</td>\n",
       "      <td>running</td>\n",
       "      <td>women</td>\n",
       "      <td>adults</td>\n",
       "      <td>Silver</td>\n",
       "      <td>M</td>\n",
       "      <td>0</td>\n",
       "      <td>0</td>\n",
       "      <td>1</td>\n",
       "      <td>Thursday</td>\n",
       "      <td>December</td>\n",
       "    </tr>\n",
       "    <tr>\n",
       "      <th>76338</th>\n",
       "      <td>2021-11-14</td>\n",
       "      <td>ZB00267150</td>\n",
       "      <td>1</td>\n",
       "      <td>46.223256</td>\n",
       "      <td>29.586047</td>\n",
       "      <td>60.813953</td>\n",
       "      <td>E-COMMER</td>\n",
       "      <td>top4running.cz</td>\n",
       "      <td>46.223256</td>\n",
       "      <td>Czech Republic</td>\n",
       "      <td>...</td>\n",
       "      <td>running</td>\n",
       "      <td>women</td>\n",
       "      <td>adults</td>\n",
       "      <td>Silver</td>\n",
       "      <td>M</td>\n",
       "      <td>0</td>\n",
       "      <td>0</td>\n",
       "      <td>1</td>\n",
       "      <td>Sunday</td>\n",
       "      <td>November</td>\n",
       "    </tr>\n",
       "    <tr>\n",
       "      <th>76339</th>\n",
       "      <td>2022-01-14</td>\n",
       "      <td>ZB00291291</td>\n",
       "      <td>1</td>\n",
       "      <td>30.239147</td>\n",
       "      <td>12.286822</td>\n",
       "      <td>35.193798</td>\n",
       "      <td>E-COMMER</td>\n",
       "      <td>top4running.cz</td>\n",
       "      <td>30.239147</td>\n",
       "      <td>Czech Republic</td>\n",
       "      <td>...</td>\n",
       "      <td>fitness</td>\n",
       "      <td>women</td>\n",
       "      <td>adults</td>\n",
       "      <td>Orange</td>\n",
       "      <td>M</td>\n",
       "      <td>0</td>\n",
       "      <td>0</td>\n",
       "      <td>1</td>\n",
       "      <td>Friday</td>\n",
       "      <td>January</td>\n",
       "    </tr>\n",
       "    <tr>\n",
       "      <th>76342</th>\n",
       "      <td>2022-01-11</td>\n",
       "      <td>ZB00264905</td>\n",
       "      <td>1</td>\n",
       "      <td>94.945349</td>\n",
       "      <td>54.285659</td>\n",
       "      <td>108.875969</td>\n",
       "      <td>E-COMMER</td>\n",
       "      <td>top4running.cz</td>\n",
       "      <td>94.945349</td>\n",
       "      <td>Czech Republic</td>\n",
       "      <td>...</td>\n",
       "      <td>running</td>\n",
       "      <td>women</td>\n",
       "      <td>adults</td>\n",
       "      <td>Blue</td>\n",
       "      <td>40</td>\n",
       "      <td>0</td>\n",
       "      <td>0</td>\n",
       "      <td>1</td>\n",
       "      <td>Tuesday</td>\n",
       "      <td>January</td>\n",
       "    </tr>\n",
       "  </tbody>\n",
       "</table>\n",
       "<p>5 rows × 25 columns</p>\n",
       "</div>"
      ],
      "text/plain": [
       "            date   item_code  quantity  unit_price_vat_excl  unit_cogs  \\\n",
       "76335 2022-01-14  ZB00267150         1            43.820930  29.586047   \n",
       "76336 2021-12-30  ZB00267150         1            42.955814  29.586047   \n",
       "76338 2021-11-14  ZB00267150         1            46.223256  29.586047   \n",
       "76339 2022-01-14  ZB00291291         1            30.239147  12.286822   \n",
       "76342 2022-01-11  ZB00264905         1            94.945349  54.285659   \n",
       "\n",
       "       unit_rrp_vat_excl department            site    Revenue  \\\n",
       "76335          60.813953   E-COMMER  top4running.cz  43.820930   \n",
       "76336          60.813953   E-COMMER  top4running.cz  42.955814   \n",
       "76338          60.813953   E-COMMER  top4running.cz  46.223256   \n",
       "76339          35.193798   E-COMMER  top4running.cz  30.239147   \n",
       "76342         108.875969   E-COMMER  top4running.cz  94.945349   \n",
       "\n",
       "              country  ... category gender     age   color size men unisex  \\\n",
       "76335  Czech Republic  ...  running  women  adults  Silver    M   0      0   \n",
       "76336  Czech Republic  ...  running  women  adults  Silver    M   0      0   \n",
       "76338  Czech Republic  ...  running  women  adults  Silver    M   0      0   \n",
       "76339  Czech Republic  ...  fitness  women  adults  Orange    M   0      0   \n",
       "76342  Czech Republic  ...  running  women  adults    Blue   40   0      0   \n",
       "\n",
       "      women       day     month  \n",
       "76335     1    Friday   January  \n",
       "76336     1  Thursday  December  \n",
       "76338     1    Sunday  November  \n",
       "76339     1    Friday   January  \n",
       "76342     1   Tuesday   January  \n",
       "\n",
       "[5 rows x 25 columns]"
      ]
     },
     "execution_count": 8,
     "metadata": {},
     "output_type": "execute_result"
    }
   ],
   "source": [
    "# Filter the data for a specific item (Nike)\n",
    "# Predict demand  the Nike product to Czech Republic\n",
    "\n",
    "#df_cz['name'].value_counts()\n",
    "df_nike = df_cz[df_cz['name']== 'Nike']\n",
    "df_nike.head()\n"
   ]
  },
  {
   "cell_type": "code",
   "execution_count": 9,
   "metadata": {},
   "outputs": [
    {
     "data": {
      "text/plain": [
       "(30984, 25)"
      ]
     },
     "execution_count": 9,
     "metadata": {},
     "output_type": "execute_result"
    }
   ],
   "source": [
    "df_nike.shape"
   ]
  },
  {
   "cell_type": "code",
   "execution_count": 10,
   "metadata": {},
   "outputs": [],
   "source": [
    "# Prepare weekly data\n",
    "\n",
    "def weekly_data(df_nike, time_period='week', Revenue='net'):\n",
    "    time_periods = {\n",
    "        'day': 'D',\n",
    "        'week': 'W',\n",
    "        'month': 'M'}\n",
    "    \n",
    "    revenue_cat = {\n",
    "        'net':'Revenue'}\n",
    "    df_nike['date'] = pd.to_datetime(df_nike['date'])\n",
    "    df_nike = df_nike.set_index('date')\n",
    "    df_nike = df_nike[revenue_cat[Revenue]].resample(time_periods[time_period]).sum()\n",
    "    df_nike = pd.DataFrame(df_nike).reset_index()\n",
    "    return df_nike"
   ]
  },
  {
   "cell_type": "code",
   "execution_count": 11,
   "metadata": {},
   "outputs": [
    {
     "name": "stderr",
     "output_type": "stream",
     "text": [
      "<ipython-input-10-5b5c85c0969c>:11: SettingWithCopyWarning:\n",
      "\n",
      "\n",
      "A value is trying to be set on a copy of a slice from a DataFrame.\n",
      "Try using .loc[row_indexer,col_indexer] = value instead\n",
      "\n",
      "See the caveats in the documentation: https://pandas.pydata.org/pandas-docs/stable/user_guide/indexing.html#returning-a-view-versus-a-copy\n",
      "\n",
      "<ipython-input-11-a61937fac9e2>:3: UserWarning:\n",
      "\n",
      "Pandas doesn't allow columns to be created via a new attribute name - see https://pandas.pydata.org/pandas-docs/stable/indexing.html#attribute-access\n",
      "\n"
     ]
    },
    {
     "data": {
      "text/html": [
       "<div>\n",
       "<style scoped>\n",
       "    .dataframe tbody tr th:only-of-type {\n",
       "        vertical-align: middle;\n",
       "    }\n",
       "\n",
       "    .dataframe tbody tr th {\n",
       "        vertical-align: top;\n",
       "    }\n",
       "\n",
       "    .dataframe thead th {\n",
       "        text-align: right;\n",
       "    }\n",
       "</style>\n",
       "<table border=\"1\" class=\"dataframe\">\n",
       "  <thead>\n",
       "    <tr style=\"text-align: right;\">\n",
       "      <th></th>\n",
       "      <th>date</th>\n",
       "      <th>Revenue</th>\n",
       "    </tr>\n",
       "  </thead>\n",
       "  <tbody>\n",
       "    <tr>\n",
       "      <th>0</th>\n",
       "      <td>2021-09-26</td>\n",
       "      <td>26313.436785</td>\n",
       "    </tr>\n",
       "    <tr>\n",
       "      <th>1</th>\n",
       "      <td>2021-10-03</td>\n",
       "      <td>45392.472037</td>\n",
       "    </tr>\n",
       "    <tr>\n",
       "      <th>2</th>\n",
       "      <td>2021-10-10</td>\n",
       "      <td>49353.184428</td>\n",
       "    </tr>\n",
       "    <tr>\n",
       "      <th>3</th>\n",
       "      <td>2021-10-17</td>\n",
       "      <td>52636.772403</td>\n",
       "    </tr>\n",
       "    <tr>\n",
       "      <th>4</th>\n",
       "      <td>2021-10-24</td>\n",
       "      <td>44369.553427</td>\n",
       "    </tr>\n",
       "  </tbody>\n",
       "</table>\n",
       "</div>"
      ],
      "text/plain": [
       "        date       Revenue\n",
       "0 2021-09-26  26313.436785\n",
       "1 2021-10-03  45392.472037\n",
       "2 2021-10-10  49353.184428\n",
       "3 2021-10-17  52636.772403\n",
       "4 2021-10-24  44369.553427"
      ]
     },
     "execution_count": 11,
     "metadata": {},
     "output_type": "execute_result"
    }
   ],
   "source": [
    "df_w = weekly_data(df_nike)\n",
    "#df_w.columns=['ds', 'y']\n",
    "df_w.ds=pd.to_datetime(df_w['date'])\n",
    "df_w.sort_values('date')\n",
    "df_w.head()"
   ]
  },
  {
   "cell_type": "code",
   "execution_count": 12,
   "metadata": {},
   "outputs": [
    {
     "data": {
      "text/html": [
       "<div>\n",
       "<style scoped>\n",
       "    .dataframe tbody tr th:only-of-type {\n",
       "        vertical-align: middle;\n",
       "    }\n",
       "\n",
       "    .dataframe tbody tr th {\n",
       "        vertical-align: top;\n",
       "    }\n",
       "\n",
       "    .dataframe thead th {\n",
       "        text-align: right;\n",
       "    }\n",
       "</style>\n",
       "<table border=\"1\" class=\"dataframe\">\n",
       "  <thead>\n",
       "    <tr style=\"text-align: right;\">\n",
       "      <th></th>\n",
       "      <th>date</th>\n",
       "      <th>Revenue</th>\n",
       "    </tr>\n",
       "  </thead>\n",
       "  <tbody>\n",
       "    <tr>\n",
       "      <th>76335</th>\n",
       "      <td>2022-01-14</td>\n",
       "      <td>43.820930</td>\n",
       "    </tr>\n",
       "    <tr>\n",
       "      <th>76336</th>\n",
       "      <td>2021-12-30</td>\n",
       "      <td>42.955814</td>\n",
       "    </tr>\n",
       "    <tr>\n",
       "      <th>76338</th>\n",
       "      <td>2021-11-14</td>\n",
       "      <td>46.223256</td>\n",
       "    </tr>\n",
       "    <tr>\n",
       "      <th>76339</th>\n",
       "      <td>2022-01-14</td>\n",
       "      <td>30.239147</td>\n",
       "    </tr>\n",
       "    <tr>\n",
       "      <th>76342</th>\n",
       "      <td>2022-01-11</td>\n",
       "      <td>94.945349</td>\n",
       "    </tr>\n",
       "  </tbody>\n",
       "</table>\n",
       "</div>"
      ],
      "text/plain": [
       "            date    Revenue\n",
       "76335 2022-01-14  43.820930\n",
       "76336 2021-12-30  42.955814\n",
       "76338 2021-11-14  46.223256\n",
       "76339 2022-01-14  30.239147\n",
       "76342 2022-01-11  94.945349"
      ]
     },
     "execution_count": 12,
     "metadata": {},
     "output_type": "execute_result"
    }
   ],
   "source": [
    "# Just filter the date and Revenue column\n",
    "df_nsale = df_nike[['date','Revenue']]\n",
    "df_nsale.head()"
   ]
  },
  {
   "cell_type": "code",
   "execution_count": 13,
   "metadata": {},
   "outputs": [
    {
     "data": {
      "application/vnd.plotly.v1+json": {
       "config": {
        "linkText": "Export to plot.ly",
        "plotlyServerURL": "https://plot.ly",
        "showLink": false
       },
       "data": [
        {
         "type": "scatter",
         "x": [
          "2021-09-26T00:00:00",
          "2021-10-03T00:00:00",
          "2021-10-10T00:00:00",
          "2021-10-17T00:00:00",
          "2021-10-24T00:00:00",
          "2021-10-31T00:00:00",
          "2021-11-07T00:00:00",
          "2021-11-14T00:00:00",
          "2021-11-21T00:00:00",
          "2021-11-28T00:00:00",
          "2021-12-05T00:00:00",
          "2021-12-12T00:00:00",
          "2021-12-19T00:00:00",
          "2021-12-26T00:00:00",
          "2022-01-02T00:00:00",
          "2022-01-09T00:00:00",
          "2022-01-16T00:00:00"
         ],
         "y": [
          26313.4367851,
          45392.4720368,
          49353.1844278,
          52636.7724032,
          44369.5534266,
          43555.861568,
          51714.410772,
          73233.0060718,
          77441.9979299,
          94302.5839303,
          81042.629284,
          89589.4494299,
          74756.887843,
          29443.889104500002,
          33299.7933653,
          43300.6894776,
          30177.2329004
         ]
        }
       ],
       "layout": {
        "template": {
         "data": {
          "bar": [
           {
            "error_x": {
             "color": "#2a3f5f"
            },
            "error_y": {
             "color": "#2a3f5f"
            },
            "marker": {
             "line": {
              "color": "#E5ECF6",
              "width": 0.5
             },
             "pattern": {
              "fillmode": "overlay",
              "size": 10,
              "solidity": 0.2
             }
            },
            "type": "bar"
           }
          ],
          "barpolar": [
           {
            "marker": {
             "line": {
              "color": "#E5ECF6",
              "width": 0.5
             },
             "pattern": {
              "fillmode": "overlay",
              "size": 10,
              "solidity": 0.2
             }
            },
            "type": "barpolar"
           }
          ],
          "carpet": [
           {
            "aaxis": {
             "endlinecolor": "#2a3f5f",
             "gridcolor": "white",
             "linecolor": "white",
             "minorgridcolor": "white",
             "startlinecolor": "#2a3f5f"
            },
            "baxis": {
             "endlinecolor": "#2a3f5f",
             "gridcolor": "white",
             "linecolor": "white",
             "minorgridcolor": "white",
             "startlinecolor": "#2a3f5f"
            },
            "type": "carpet"
           }
          ],
          "choropleth": [
           {
            "colorbar": {
             "outlinewidth": 0,
             "ticks": ""
            },
            "type": "choropleth"
           }
          ],
          "contour": [
           {
            "colorbar": {
             "outlinewidth": 0,
             "ticks": ""
            },
            "colorscale": [
             [
              0,
              "#0d0887"
             ],
             [
              0.1111111111111111,
              "#46039f"
             ],
             [
              0.2222222222222222,
              "#7201a8"
             ],
             [
              0.3333333333333333,
              "#9c179e"
             ],
             [
              0.4444444444444444,
              "#bd3786"
             ],
             [
              0.5555555555555556,
              "#d8576b"
             ],
             [
              0.6666666666666666,
              "#ed7953"
             ],
             [
              0.7777777777777778,
              "#fb9f3a"
             ],
             [
              0.8888888888888888,
              "#fdca26"
             ],
             [
              1,
              "#f0f921"
             ]
            ],
            "type": "contour"
           }
          ],
          "contourcarpet": [
           {
            "colorbar": {
             "outlinewidth": 0,
             "ticks": ""
            },
            "type": "contourcarpet"
           }
          ],
          "heatmap": [
           {
            "colorbar": {
             "outlinewidth": 0,
             "ticks": ""
            },
            "colorscale": [
             [
              0,
              "#0d0887"
             ],
             [
              0.1111111111111111,
              "#46039f"
             ],
             [
              0.2222222222222222,
              "#7201a8"
             ],
             [
              0.3333333333333333,
              "#9c179e"
             ],
             [
              0.4444444444444444,
              "#bd3786"
             ],
             [
              0.5555555555555556,
              "#d8576b"
             ],
             [
              0.6666666666666666,
              "#ed7953"
             ],
             [
              0.7777777777777778,
              "#fb9f3a"
             ],
             [
              0.8888888888888888,
              "#fdca26"
             ],
             [
              1,
              "#f0f921"
             ]
            ],
            "type": "heatmap"
           }
          ],
          "heatmapgl": [
           {
            "colorbar": {
             "outlinewidth": 0,
             "ticks": ""
            },
            "colorscale": [
             [
              0,
              "#0d0887"
             ],
             [
              0.1111111111111111,
              "#46039f"
             ],
             [
              0.2222222222222222,
              "#7201a8"
             ],
             [
              0.3333333333333333,
              "#9c179e"
             ],
             [
              0.4444444444444444,
              "#bd3786"
             ],
             [
              0.5555555555555556,
              "#d8576b"
             ],
             [
              0.6666666666666666,
              "#ed7953"
             ],
             [
              0.7777777777777778,
              "#fb9f3a"
             ],
             [
              0.8888888888888888,
              "#fdca26"
             ],
             [
              1,
              "#f0f921"
             ]
            ],
            "type": "heatmapgl"
           }
          ],
          "histogram": [
           {
            "marker": {
             "pattern": {
              "fillmode": "overlay",
              "size": 10,
              "solidity": 0.2
             }
            },
            "type": "histogram"
           }
          ],
          "histogram2d": [
           {
            "colorbar": {
             "outlinewidth": 0,
             "ticks": ""
            },
            "colorscale": [
             [
              0,
              "#0d0887"
             ],
             [
              0.1111111111111111,
              "#46039f"
             ],
             [
              0.2222222222222222,
              "#7201a8"
             ],
             [
              0.3333333333333333,
              "#9c179e"
             ],
             [
              0.4444444444444444,
              "#bd3786"
             ],
             [
              0.5555555555555556,
              "#d8576b"
             ],
             [
              0.6666666666666666,
              "#ed7953"
             ],
             [
              0.7777777777777778,
              "#fb9f3a"
             ],
             [
              0.8888888888888888,
              "#fdca26"
             ],
             [
              1,
              "#f0f921"
             ]
            ],
            "type": "histogram2d"
           }
          ],
          "histogram2dcontour": [
           {
            "colorbar": {
             "outlinewidth": 0,
             "ticks": ""
            },
            "colorscale": [
             [
              0,
              "#0d0887"
             ],
             [
              0.1111111111111111,
              "#46039f"
             ],
             [
              0.2222222222222222,
              "#7201a8"
             ],
             [
              0.3333333333333333,
              "#9c179e"
             ],
             [
              0.4444444444444444,
              "#bd3786"
             ],
             [
              0.5555555555555556,
              "#d8576b"
             ],
             [
              0.6666666666666666,
              "#ed7953"
             ],
             [
              0.7777777777777778,
              "#fb9f3a"
             ],
             [
              0.8888888888888888,
              "#fdca26"
             ],
             [
              1,
              "#f0f921"
             ]
            ],
            "type": "histogram2dcontour"
           }
          ],
          "mesh3d": [
           {
            "colorbar": {
             "outlinewidth": 0,
             "ticks": ""
            },
            "type": "mesh3d"
           }
          ],
          "parcoords": [
           {
            "line": {
             "colorbar": {
              "outlinewidth": 0,
              "ticks": ""
             }
            },
            "type": "parcoords"
           }
          ],
          "pie": [
           {
            "automargin": true,
            "type": "pie"
           }
          ],
          "scatter": [
           {
            "marker": {
             "colorbar": {
              "outlinewidth": 0,
              "ticks": ""
             }
            },
            "type": "scatter"
           }
          ],
          "scatter3d": [
           {
            "line": {
             "colorbar": {
              "outlinewidth": 0,
              "ticks": ""
             }
            },
            "marker": {
             "colorbar": {
              "outlinewidth": 0,
              "ticks": ""
             }
            },
            "type": "scatter3d"
           }
          ],
          "scattercarpet": [
           {
            "marker": {
             "colorbar": {
              "outlinewidth": 0,
              "ticks": ""
             }
            },
            "type": "scattercarpet"
           }
          ],
          "scattergeo": [
           {
            "marker": {
             "colorbar": {
              "outlinewidth": 0,
              "ticks": ""
             }
            },
            "type": "scattergeo"
           }
          ],
          "scattergl": [
           {
            "marker": {
             "colorbar": {
              "outlinewidth": 0,
              "ticks": ""
             }
            },
            "type": "scattergl"
           }
          ],
          "scattermapbox": [
           {
            "marker": {
             "colorbar": {
              "outlinewidth": 0,
              "ticks": ""
             }
            },
            "type": "scattermapbox"
           }
          ],
          "scatterpolar": [
           {
            "marker": {
             "colorbar": {
              "outlinewidth": 0,
              "ticks": ""
             }
            },
            "type": "scatterpolar"
           }
          ],
          "scatterpolargl": [
           {
            "marker": {
             "colorbar": {
              "outlinewidth": 0,
              "ticks": ""
             }
            },
            "type": "scatterpolargl"
           }
          ],
          "scatterternary": [
           {
            "marker": {
             "colorbar": {
              "outlinewidth": 0,
              "ticks": ""
             }
            },
            "type": "scatterternary"
           }
          ],
          "surface": [
           {
            "colorbar": {
             "outlinewidth": 0,
             "ticks": ""
            },
            "colorscale": [
             [
              0,
              "#0d0887"
             ],
             [
              0.1111111111111111,
              "#46039f"
             ],
             [
              0.2222222222222222,
              "#7201a8"
             ],
             [
              0.3333333333333333,
              "#9c179e"
             ],
             [
              0.4444444444444444,
              "#bd3786"
             ],
             [
              0.5555555555555556,
              "#d8576b"
             ],
             [
              0.6666666666666666,
              "#ed7953"
             ],
             [
              0.7777777777777778,
              "#fb9f3a"
             ],
             [
              0.8888888888888888,
              "#fdca26"
             ],
             [
              1,
              "#f0f921"
             ]
            ],
            "type": "surface"
           }
          ],
          "table": [
           {
            "cells": {
             "fill": {
              "color": "#EBF0F8"
             },
             "line": {
              "color": "white"
             }
            },
            "header": {
             "fill": {
              "color": "#C8D4E3"
             },
             "line": {
              "color": "white"
             }
            },
            "type": "table"
           }
          ]
         },
         "layout": {
          "annotationdefaults": {
           "arrowcolor": "#2a3f5f",
           "arrowhead": 0,
           "arrowwidth": 1
          },
          "autotypenumbers": "strict",
          "coloraxis": {
           "colorbar": {
            "outlinewidth": 0,
            "ticks": ""
           }
          },
          "colorscale": {
           "diverging": [
            [
             0,
             "#8e0152"
            ],
            [
             0.1,
             "#c51b7d"
            ],
            [
             0.2,
             "#de77ae"
            ],
            [
             0.3,
             "#f1b6da"
            ],
            [
             0.4,
             "#fde0ef"
            ],
            [
             0.5,
             "#f7f7f7"
            ],
            [
             0.6,
             "#e6f5d0"
            ],
            [
             0.7,
             "#b8e186"
            ],
            [
             0.8,
             "#7fbc41"
            ],
            [
             0.9,
             "#4d9221"
            ],
            [
             1,
             "#276419"
            ]
           ],
           "sequential": [
            [
             0,
             "#0d0887"
            ],
            [
             0.1111111111111111,
             "#46039f"
            ],
            [
             0.2222222222222222,
             "#7201a8"
            ],
            [
             0.3333333333333333,
             "#9c179e"
            ],
            [
             0.4444444444444444,
             "#bd3786"
            ],
            [
             0.5555555555555556,
             "#d8576b"
            ],
            [
             0.6666666666666666,
             "#ed7953"
            ],
            [
             0.7777777777777778,
             "#fb9f3a"
            ],
            [
             0.8888888888888888,
             "#fdca26"
            ],
            [
             1,
             "#f0f921"
            ]
           ],
           "sequentialminus": [
            [
             0,
             "#0d0887"
            ],
            [
             0.1111111111111111,
             "#46039f"
            ],
            [
             0.2222222222222222,
             "#7201a8"
            ],
            [
             0.3333333333333333,
             "#9c179e"
            ],
            [
             0.4444444444444444,
             "#bd3786"
            ],
            [
             0.5555555555555556,
             "#d8576b"
            ],
            [
             0.6666666666666666,
             "#ed7953"
            ],
            [
             0.7777777777777778,
             "#fb9f3a"
            ],
            [
             0.8888888888888888,
             "#fdca26"
            ],
            [
             1,
             "#f0f921"
            ]
           ]
          },
          "colorway": [
           "#636efa",
           "#EF553B",
           "#00cc96",
           "#ab63fa",
           "#FFA15A",
           "#19d3f3",
           "#FF6692",
           "#B6E880",
           "#FF97FF",
           "#FECB52"
          ],
          "font": {
           "color": "#2a3f5f"
          },
          "geo": {
           "bgcolor": "white",
           "lakecolor": "white",
           "landcolor": "#E5ECF6",
           "showlakes": true,
           "showland": true,
           "subunitcolor": "white"
          },
          "hoverlabel": {
           "align": "left"
          },
          "hovermode": "closest",
          "mapbox": {
           "style": "light"
          },
          "paper_bgcolor": "white",
          "plot_bgcolor": "#E5ECF6",
          "polar": {
           "angularaxis": {
            "gridcolor": "white",
            "linecolor": "white",
            "ticks": ""
           },
           "bgcolor": "#E5ECF6",
           "radialaxis": {
            "gridcolor": "white",
            "linecolor": "white",
            "ticks": ""
           }
          },
          "scene": {
           "xaxis": {
            "backgroundcolor": "#E5ECF6",
            "gridcolor": "white",
            "gridwidth": 2,
            "linecolor": "white",
            "showbackground": true,
            "ticks": "",
            "zerolinecolor": "white"
           },
           "yaxis": {
            "backgroundcolor": "#E5ECF6",
            "gridcolor": "white",
            "gridwidth": 2,
            "linecolor": "white",
            "showbackground": true,
            "ticks": "",
            "zerolinecolor": "white"
           },
           "zaxis": {
            "backgroundcolor": "#E5ECF6",
            "gridcolor": "white",
            "gridwidth": 2,
            "linecolor": "white",
            "showbackground": true,
            "ticks": "",
            "zerolinecolor": "white"
           }
          },
          "shapedefaults": {
           "line": {
            "color": "#2a3f5f"
           }
          },
          "ternary": {
           "aaxis": {
            "gridcolor": "white",
            "linecolor": "white",
            "ticks": ""
           },
           "baxis": {
            "gridcolor": "white",
            "linecolor": "white",
            "ticks": ""
           },
           "bgcolor": "#E5ECF6",
           "caxis": {
            "gridcolor": "white",
            "linecolor": "white",
            "ticks": ""
           }
          },
          "title": {
           "x": 0.05
          },
          "xaxis": {
           "automargin": true,
           "gridcolor": "white",
           "linecolor": "white",
           "ticks": "",
           "title": {
            "standoff": 15
           },
           "zerolinecolor": "white",
           "zerolinewidth": 2
          },
          "yaxis": {
           "automargin": true,
           "gridcolor": "white",
           "linecolor": "white",
           "ticks": "",
           "title": {
            "standoff": 15
           },
           "zerolinecolor": "white",
           "zerolinewidth": 2
          }
         }
        },
        "title": {
         "text": "weekly Sales"
        }
       }
      }
     },
     "metadata": {},
     "output_type": "display_data"
    }
   ],
   "source": [
    "# Check the data to see whether it is stationary or not\n",
    "plot_data = [\n",
    "    go.Scatter(\n",
    "        x=df_w['date'],\n",
    "        y=df_w['Revenue'],\n",
    "    )\n",
    "]\n",
    "plot_layout = go.Layout(\n",
    "        title='weekly Sales'\n",
    "    )\n",
    "fig = go.Figure(data=plot_data, layout=plot_layout)\n",
    "pyoff.iplot(fig)"
   ]
  },
  {
   "cell_type": "code",
   "execution_count": 14,
   "metadata": {},
   "outputs": [
    {
     "name": "stdout",
     "output_type": "stream",
     "text": [
      "Observations of Dickey-fuller test\n",
      "Test Statistic                 -2.118527\n",
      "p-value                         0.237130\n",
      "#lags used                      4.000000\n",
      "number of observations used    12.000000\n",
      "critical value (1%)            -4.137829\n",
      "critical value (5%)            -3.154972\n",
      "critical value (10%)           -2.714477\n",
      "dtype: float64\n"
     ]
    }
   ],
   "source": [
    "# Check the data with Dicky-Fuller test\n",
    "from statsmodels.tsa.stattools import adfuller\n",
    "print(\"Observations of Dickey-fuller test\")\n",
    "dftest = adfuller(df_w['Revenue'],autolag='AIC')\n",
    "dfoutput=pd.Series(dftest[0:4],index=['Test Statistic','p-value','#lags used','number of observations used'])\n",
    "for key,value in dftest[4].items():\n",
    "    dfoutput['critical value (%s)'%key]= value\n",
    "print(dfoutput)"
   ]
  },
  {
   "cell_type": "markdown",
   "metadata": {},
   "source": [
    "Both the plot and Dicky-Fuller test shows that the data is not sationary, so we need make it stationary"
   ]
  },
  {
   "cell_type": "code",
   "execution_count": 15,
   "metadata": {},
   "outputs": [
    {
     "data": {
      "text/html": [
       "<div>\n",
       "<style scoped>\n",
       "    .dataframe tbody tr th:only-of-type {\n",
       "        vertical-align: middle;\n",
       "    }\n",
       "\n",
       "    .dataframe tbody tr th {\n",
       "        vertical-align: top;\n",
       "    }\n",
       "\n",
       "    .dataframe thead th {\n",
       "        text-align: right;\n",
       "    }\n",
       "</style>\n",
       "<table border=\"1\" class=\"dataframe\">\n",
       "  <thead>\n",
       "    <tr style=\"text-align: right;\">\n",
       "      <th></th>\n",
       "      <th>date</th>\n",
       "      <th>Revenue</th>\n",
       "      <th>prev_sales</th>\n",
       "      <th>diff</th>\n",
       "    </tr>\n",
       "  </thead>\n",
       "  <tbody>\n",
       "    <tr>\n",
       "      <th>1</th>\n",
       "      <td>2021-10-03</td>\n",
       "      <td>45392.472037</td>\n",
       "      <td>26313.436785</td>\n",
       "      <td>19079.035252</td>\n",
       "    </tr>\n",
       "    <tr>\n",
       "      <th>2</th>\n",
       "      <td>2021-10-10</td>\n",
       "      <td>49353.184428</td>\n",
       "      <td>45392.472037</td>\n",
       "      <td>3960.712391</td>\n",
       "    </tr>\n",
       "    <tr>\n",
       "      <th>3</th>\n",
       "      <td>2021-10-17</td>\n",
       "      <td>52636.772403</td>\n",
       "      <td>49353.184428</td>\n",
       "      <td>3283.587975</td>\n",
       "    </tr>\n",
       "    <tr>\n",
       "      <th>4</th>\n",
       "      <td>2021-10-24</td>\n",
       "      <td>44369.553427</td>\n",
       "      <td>52636.772403</td>\n",
       "      <td>-8267.218977</td>\n",
       "    </tr>\n",
       "    <tr>\n",
       "      <th>5</th>\n",
       "      <td>2021-10-31</td>\n",
       "      <td>43555.861568</td>\n",
       "      <td>44369.553427</td>\n",
       "      <td>-813.691859</td>\n",
       "    </tr>\n",
       "    <tr>\n",
       "      <th>6</th>\n",
       "      <td>2021-11-07</td>\n",
       "      <td>51714.410772</td>\n",
       "      <td>43555.861568</td>\n",
       "      <td>8158.549204</td>\n",
       "    </tr>\n",
       "    <tr>\n",
       "      <th>7</th>\n",
       "      <td>2021-11-14</td>\n",
       "      <td>73233.006072</td>\n",
       "      <td>51714.410772</td>\n",
       "      <td>21518.595300</td>\n",
       "    </tr>\n",
       "    <tr>\n",
       "      <th>8</th>\n",
       "      <td>2021-11-21</td>\n",
       "      <td>77441.997930</td>\n",
       "      <td>73233.006072</td>\n",
       "      <td>4208.991858</td>\n",
       "    </tr>\n",
       "    <tr>\n",
       "      <th>9</th>\n",
       "      <td>2021-11-28</td>\n",
       "      <td>94302.583930</td>\n",
       "      <td>77441.997930</td>\n",
       "      <td>16860.586000</td>\n",
       "    </tr>\n",
       "    <tr>\n",
       "      <th>10</th>\n",
       "      <td>2021-12-05</td>\n",
       "      <td>81042.629284</td>\n",
       "      <td>94302.583930</td>\n",
       "      <td>-13259.954646</td>\n",
       "    </tr>\n",
       "  </tbody>\n",
       "</table>\n",
       "</div>"
      ],
      "text/plain": [
       "         date       Revenue    prev_sales          diff\n",
       "1  2021-10-03  45392.472037  26313.436785  19079.035252\n",
       "2  2021-10-10  49353.184428  45392.472037   3960.712391\n",
       "3  2021-10-17  52636.772403  49353.184428   3283.587975\n",
       "4  2021-10-24  44369.553427  52636.772403  -8267.218977\n",
       "5  2021-10-31  43555.861568  44369.553427   -813.691859\n",
       "6  2021-11-07  51714.410772  43555.861568   8158.549204\n",
       "7  2021-11-14  73233.006072  51714.410772  21518.595300\n",
       "8  2021-11-21  77441.997930  73233.006072   4208.991858\n",
       "9  2021-11-28  94302.583930  77441.997930  16860.586000\n",
       "10 2021-12-05  81042.629284  94302.583930 -13259.954646"
      ]
     },
     "execution_count": 15,
     "metadata": {},
     "output_type": "execute_result"
    }
   ],
   "source": [
    "df_diff = df_w.copy()\n",
    "#add previous sales to the next row\n",
    "df_diff['prev_sales'] = df_diff['Revenue'].shift(1)\n",
    "#drop the null values and calculate the difference\n",
    "df_diff = df_diff.dropna()\n",
    "df_diff['diff'] = (df_diff['Revenue'] - df_diff['prev_sales'])\n",
    "df_diff.head(10)"
   ]
  },
  {
   "cell_type": "code",
   "execution_count": 16,
   "metadata": {},
   "outputs": [
    {
     "data": {
      "application/vnd.plotly.v1+json": {
       "config": {
        "linkText": "Export to plot.ly",
        "plotlyServerURL": "https://plot.ly",
        "showLink": false
       },
       "data": [
        {
         "type": "scatter",
         "x": [
          "2021-10-03T00:00:00",
          "2021-10-10T00:00:00",
          "2021-10-17T00:00:00",
          "2021-10-24T00:00:00",
          "2021-10-31T00:00:00",
          "2021-11-07T00:00:00",
          "2021-11-14T00:00:00",
          "2021-11-21T00:00:00",
          "2021-11-28T00:00:00",
          "2021-12-05T00:00:00",
          "2021-12-12T00:00:00",
          "2021-12-19T00:00:00",
          "2021-12-26T00:00:00",
          "2022-01-02T00:00:00",
          "2022-01-09T00:00:00",
          "2022-01-16T00:00:00"
         ],
         "y": [
          19079.0352517,
          3960.712391000001,
          3283.587975399998,
          -8267.218976599994,
          -813.6918586000029,
          8158.549204000003,
          21518.5952998,
          4208.991858099995,
          16860.5860004,
          -13259.9546463,
          8546.820145900012,
          -14832.561586900003,
          -45312.9987385,
          3855.904260799998,
          10000.896112299997,
          -13123.456577199999
         ]
        }
       ],
       "layout": {
        "template": {
         "data": {
          "bar": [
           {
            "error_x": {
             "color": "#2a3f5f"
            },
            "error_y": {
             "color": "#2a3f5f"
            },
            "marker": {
             "line": {
              "color": "#E5ECF6",
              "width": 0.5
             },
             "pattern": {
              "fillmode": "overlay",
              "size": 10,
              "solidity": 0.2
             }
            },
            "type": "bar"
           }
          ],
          "barpolar": [
           {
            "marker": {
             "line": {
              "color": "#E5ECF6",
              "width": 0.5
             },
             "pattern": {
              "fillmode": "overlay",
              "size": 10,
              "solidity": 0.2
             }
            },
            "type": "barpolar"
           }
          ],
          "carpet": [
           {
            "aaxis": {
             "endlinecolor": "#2a3f5f",
             "gridcolor": "white",
             "linecolor": "white",
             "minorgridcolor": "white",
             "startlinecolor": "#2a3f5f"
            },
            "baxis": {
             "endlinecolor": "#2a3f5f",
             "gridcolor": "white",
             "linecolor": "white",
             "minorgridcolor": "white",
             "startlinecolor": "#2a3f5f"
            },
            "type": "carpet"
           }
          ],
          "choropleth": [
           {
            "colorbar": {
             "outlinewidth": 0,
             "ticks": ""
            },
            "type": "choropleth"
           }
          ],
          "contour": [
           {
            "colorbar": {
             "outlinewidth": 0,
             "ticks": ""
            },
            "colorscale": [
             [
              0,
              "#0d0887"
             ],
             [
              0.1111111111111111,
              "#46039f"
             ],
             [
              0.2222222222222222,
              "#7201a8"
             ],
             [
              0.3333333333333333,
              "#9c179e"
             ],
             [
              0.4444444444444444,
              "#bd3786"
             ],
             [
              0.5555555555555556,
              "#d8576b"
             ],
             [
              0.6666666666666666,
              "#ed7953"
             ],
             [
              0.7777777777777778,
              "#fb9f3a"
             ],
             [
              0.8888888888888888,
              "#fdca26"
             ],
             [
              1,
              "#f0f921"
             ]
            ],
            "type": "contour"
           }
          ],
          "contourcarpet": [
           {
            "colorbar": {
             "outlinewidth": 0,
             "ticks": ""
            },
            "type": "contourcarpet"
           }
          ],
          "heatmap": [
           {
            "colorbar": {
             "outlinewidth": 0,
             "ticks": ""
            },
            "colorscale": [
             [
              0,
              "#0d0887"
             ],
             [
              0.1111111111111111,
              "#46039f"
             ],
             [
              0.2222222222222222,
              "#7201a8"
             ],
             [
              0.3333333333333333,
              "#9c179e"
             ],
             [
              0.4444444444444444,
              "#bd3786"
             ],
             [
              0.5555555555555556,
              "#d8576b"
             ],
             [
              0.6666666666666666,
              "#ed7953"
             ],
             [
              0.7777777777777778,
              "#fb9f3a"
             ],
             [
              0.8888888888888888,
              "#fdca26"
             ],
             [
              1,
              "#f0f921"
             ]
            ],
            "type": "heatmap"
           }
          ],
          "heatmapgl": [
           {
            "colorbar": {
             "outlinewidth": 0,
             "ticks": ""
            },
            "colorscale": [
             [
              0,
              "#0d0887"
             ],
             [
              0.1111111111111111,
              "#46039f"
             ],
             [
              0.2222222222222222,
              "#7201a8"
             ],
             [
              0.3333333333333333,
              "#9c179e"
             ],
             [
              0.4444444444444444,
              "#bd3786"
             ],
             [
              0.5555555555555556,
              "#d8576b"
             ],
             [
              0.6666666666666666,
              "#ed7953"
             ],
             [
              0.7777777777777778,
              "#fb9f3a"
             ],
             [
              0.8888888888888888,
              "#fdca26"
             ],
             [
              1,
              "#f0f921"
             ]
            ],
            "type": "heatmapgl"
           }
          ],
          "histogram": [
           {
            "marker": {
             "pattern": {
              "fillmode": "overlay",
              "size": 10,
              "solidity": 0.2
             }
            },
            "type": "histogram"
           }
          ],
          "histogram2d": [
           {
            "colorbar": {
             "outlinewidth": 0,
             "ticks": ""
            },
            "colorscale": [
             [
              0,
              "#0d0887"
             ],
             [
              0.1111111111111111,
              "#46039f"
             ],
             [
              0.2222222222222222,
              "#7201a8"
             ],
             [
              0.3333333333333333,
              "#9c179e"
             ],
             [
              0.4444444444444444,
              "#bd3786"
             ],
             [
              0.5555555555555556,
              "#d8576b"
             ],
             [
              0.6666666666666666,
              "#ed7953"
             ],
             [
              0.7777777777777778,
              "#fb9f3a"
             ],
             [
              0.8888888888888888,
              "#fdca26"
             ],
             [
              1,
              "#f0f921"
             ]
            ],
            "type": "histogram2d"
           }
          ],
          "histogram2dcontour": [
           {
            "colorbar": {
             "outlinewidth": 0,
             "ticks": ""
            },
            "colorscale": [
             [
              0,
              "#0d0887"
             ],
             [
              0.1111111111111111,
              "#46039f"
             ],
             [
              0.2222222222222222,
              "#7201a8"
             ],
             [
              0.3333333333333333,
              "#9c179e"
             ],
             [
              0.4444444444444444,
              "#bd3786"
             ],
             [
              0.5555555555555556,
              "#d8576b"
             ],
             [
              0.6666666666666666,
              "#ed7953"
             ],
             [
              0.7777777777777778,
              "#fb9f3a"
             ],
             [
              0.8888888888888888,
              "#fdca26"
             ],
             [
              1,
              "#f0f921"
             ]
            ],
            "type": "histogram2dcontour"
           }
          ],
          "mesh3d": [
           {
            "colorbar": {
             "outlinewidth": 0,
             "ticks": ""
            },
            "type": "mesh3d"
           }
          ],
          "parcoords": [
           {
            "line": {
             "colorbar": {
              "outlinewidth": 0,
              "ticks": ""
             }
            },
            "type": "parcoords"
           }
          ],
          "pie": [
           {
            "automargin": true,
            "type": "pie"
           }
          ],
          "scatter": [
           {
            "marker": {
             "colorbar": {
              "outlinewidth": 0,
              "ticks": ""
             }
            },
            "type": "scatter"
           }
          ],
          "scatter3d": [
           {
            "line": {
             "colorbar": {
              "outlinewidth": 0,
              "ticks": ""
             }
            },
            "marker": {
             "colorbar": {
              "outlinewidth": 0,
              "ticks": ""
             }
            },
            "type": "scatter3d"
           }
          ],
          "scattercarpet": [
           {
            "marker": {
             "colorbar": {
              "outlinewidth": 0,
              "ticks": ""
             }
            },
            "type": "scattercarpet"
           }
          ],
          "scattergeo": [
           {
            "marker": {
             "colorbar": {
              "outlinewidth": 0,
              "ticks": ""
             }
            },
            "type": "scattergeo"
           }
          ],
          "scattergl": [
           {
            "marker": {
             "colorbar": {
              "outlinewidth": 0,
              "ticks": ""
             }
            },
            "type": "scattergl"
           }
          ],
          "scattermapbox": [
           {
            "marker": {
             "colorbar": {
              "outlinewidth": 0,
              "ticks": ""
             }
            },
            "type": "scattermapbox"
           }
          ],
          "scatterpolar": [
           {
            "marker": {
             "colorbar": {
              "outlinewidth": 0,
              "ticks": ""
             }
            },
            "type": "scatterpolar"
           }
          ],
          "scatterpolargl": [
           {
            "marker": {
             "colorbar": {
              "outlinewidth": 0,
              "ticks": ""
             }
            },
            "type": "scatterpolargl"
           }
          ],
          "scatterternary": [
           {
            "marker": {
             "colorbar": {
              "outlinewidth": 0,
              "ticks": ""
             }
            },
            "type": "scatterternary"
           }
          ],
          "surface": [
           {
            "colorbar": {
             "outlinewidth": 0,
             "ticks": ""
            },
            "colorscale": [
             [
              0,
              "#0d0887"
             ],
             [
              0.1111111111111111,
              "#46039f"
             ],
             [
              0.2222222222222222,
              "#7201a8"
             ],
             [
              0.3333333333333333,
              "#9c179e"
             ],
             [
              0.4444444444444444,
              "#bd3786"
             ],
             [
              0.5555555555555556,
              "#d8576b"
             ],
             [
              0.6666666666666666,
              "#ed7953"
             ],
             [
              0.7777777777777778,
              "#fb9f3a"
             ],
             [
              0.8888888888888888,
              "#fdca26"
             ],
             [
              1,
              "#f0f921"
             ]
            ],
            "type": "surface"
           }
          ],
          "table": [
           {
            "cells": {
             "fill": {
              "color": "#EBF0F8"
             },
             "line": {
              "color": "white"
             }
            },
            "header": {
             "fill": {
              "color": "#C8D4E3"
             },
             "line": {
              "color": "white"
             }
            },
            "type": "table"
           }
          ]
         },
         "layout": {
          "annotationdefaults": {
           "arrowcolor": "#2a3f5f",
           "arrowhead": 0,
           "arrowwidth": 1
          },
          "autotypenumbers": "strict",
          "coloraxis": {
           "colorbar": {
            "outlinewidth": 0,
            "ticks": ""
           }
          },
          "colorscale": {
           "diverging": [
            [
             0,
             "#8e0152"
            ],
            [
             0.1,
             "#c51b7d"
            ],
            [
             0.2,
             "#de77ae"
            ],
            [
             0.3,
             "#f1b6da"
            ],
            [
             0.4,
             "#fde0ef"
            ],
            [
             0.5,
             "#f7f7f7"
            ],
            [
             0.6,
             "#e6f5d0"
            ],
            [
             0.7,
             "#b8e186"
            ],
            [
             0.8,
             "#7fbc41"
            ],
            [
             0.9,
             "#4d9221"
            ],
            [
             1,
             "#276419"
            ]
           ],
           "sequential": [
            [
             0,
             "#0d0887"
            ],
            [
             0.1111111111111111,
             "#46039f"
            ],
            [
             0.2222222222222222,
             "#7201a8"
            ],
            [
             0.3333333333333333,
             "#9c179e"
            ],
            [
             0.4444444444444444,
             "#bd3786"
            ],
            [
             0.5555555555555556,
             "#d8576b"
            ],
            [
             0.6666666666666666,
             "#ed7953"
            ],
            [
             0.7777777777777778,
             "#fb9f3a"
            ],
            [
             0.8888888888888888,
             "#fdca26"
            ],
            [
             1,
             "#f0f921"
            ]
           ],
           "sequentialminus": [
            [
             0,
             "#0d0887"
            ],
            [
             0.1111111111111111,
             "#46039f"
            ],
            [
             0.2222222222222222,
             "#7201a8"
            ],
            [
             0.3333333333333333,
             "#9c179e"
            ],
            [
             0.4444444444444444,
             "#bd3786"
            ],
            [
             0.5555555555555556,
             "#d8576b"
            ],
            [
             0.6666666666666666,
             "#ed7953"
            ],
            [
             0.7777777777777778,
             "#fb9f3a"
            ],
            [
             0.8888888888888888,
             "#fdca26"
            ],
            [
             1,
             "#f0f921"
            ]
           ]
          },
          "colorway": [
           "#636efa",
           "#EF553B",
           "#00cc96",
           "#ab63fa",
           "#FFA15A",
           "#19d3f3",
           "#FF6692",
           "#B6E880",
           "#FF97FF",
           "#FECB52"
          ],
          "font": {
           "color": "#2a3f5f"
          },
          "geo": {
           "bgcolor": "white",
           "lakecolor": "white",
           "landcolor": "#E5ECF6",
           "showlakes": true,
           "showland": true,
           "subunitcolor": "white"
          },
          "hoverlabel": {
           "align": "left"
          },
          "hovermode": "closest",
          "mapbox": {
           "style": "light"
          },
          "paper_bgcolor": "white",
          "plot_bgcolor": "#E5ECF6",
          "polar": {
           "angularaxis": {
            "gridcolor": "white",
            "linecolor": "white",
            "ticks": ""
           },
           "bgcolor": "#E5ECF6",
           "radialaxis": {
            "gridcolor": "white",
            "linecolor": "white",
            "ticks": ""
           }
          },
          "scene": {
           "xaxis": {
            "backgroundcolor": "#E5ECF6",
            "gridcolor": "white",
            "gridwidth": 2,
            "linecolor": "white",
            "showbackground": true,
            "ticks": "",
            "zerolinecolor": "white"
           },
           "yaxis": {
            "backgroundcolor": "#E5ECF6",
            "gridcolor": "white",
            "gridwidth": 2,
            "linecolor": "white",
            "showbackground": true,
            "ticks": "",
            "zerolinecolor": "white"
           },
           "zaxis": {
            "backgroundcolor": "#E5ECF6",
            "gridcolor": "white",
            "gridwidth": 2,
            "linecolor": "white",
            "showbackground": true,
            "ticks": "",
            "zerolinecolor": "white"
           }
          },
          "shapedefaults": {
           "line": {
            "color": "#2a3f5f"
           }
          },
          "ternary": {
           "aaxis": {
            "gridcolor": "white",
            "linecolor": "white",
            "ticks": ""
           },
           "baxis": {
            "gridcolor": "white",
            "linecolor": "white",
            "ticks": ""
           },
           "bgcolor": "#E5ECF6",
           "caxis": {
            "gridcolor": "white",
            "linecolor": "white",
            "ticks": ""
           }
          },
          "title": {
           "x": 0.05
          },
          "xaxis": {
           "automargin": true,
           "gridcolor": "white",
           "linecolor": "white",
           "ticks": "",
           "title": {
            "standoff": 15
           },
           "zerolinecolor": "white",
           "zerolinewidth": 2
          },
          "yaxis": {
           "automargin": true,
           "gridcolor": "white",
           "linecolor": "white",
           "ticks": "",
           "title": {
            "standoff": 15
           },
           "zerolinecolor": "white",
           "zerolinewidth": 2
          }
         }
        },
        "title": {
         "text": "weekly Sales"
        }
       }
      }
     },
     "metadata": {},
     "output_type": "display_data"
    }
   ],
   "source": [
    "# Plot the data again and see whether the data is stationary or not\n",
    "plot_data = [\n",
    "    go.Scatter(\n",
    "        x=df_diff['date'],\n",
    "        y=df_diff['diff'],\n",
    "    )\n",
    "]\n",
    "plot_layout = go.Layout(\n",
    "        title='weekly Sales'\n",
    "    )\n",
    "fig = go.Figure(data=plot_data, layout=plot_layout)\n",
    "pyoff.iplot(fig)"
   ]
  },
  {
   "cell_type": "code",
   "execution_count": 17,
   "metadata": {},
   "outputs": [
    {
     "name": "stdout",
     "output_type": "stream",
     "text": [
      "Observations of Dickey-fuller test\n",
      "Test Statistic                 -3.372914\n",
      "p-value                         0.011918\n",
      "#lags used                      0.000000\n",
      "number of observations used    15.000000\n",
      "critical value (1%)            -3.964443\n",
      "critical value (5%)            -3.084908\n",
      "critical value (10%)           -2.681814\n",
      "dtype: float64\n"
     ]
    }
   ],
   "source": [
    "# Check the data with Dicky-Fuller test\n",
    "from statsmodels.tsa.stattools import adfuller\n",
    "print(\"Observations of Dickey-fuller test\")\n",
    "dftest = adfuller(df_diff['diff'],autolag='AIC')\n",
    "dfoutput=pd.Series(dftest[0:4],index=['Test Statistic','p-value','#lags used','number of observations used'])\n",
    "for key,value in dftest[4].items():\n",
    "    dfoutput['critical value (%s)'%key]= value\n",
    "print(dfoutput)"
   ]
  },
  {
   "cell_type": "markdown",
   "metadata": {},
   "source": [
    "Since the p-value is smaller than 0.05, so we can conclude that our data is stationary"
   ]
  },
  {
   "cell_type": "code",
   "execution_count": 18,
   "metadata": {},
   "outputs": [
    {
     "data": {
      "text/html": [
       "<div>\n",
       "<style scoped>\n",
       "    .dataframe tbody tr th:only-of-type {\n",
       "        vertical-align: middle;\n",
       "    }\n",
       "\n",
       "    .dataframe tbody tr th {\n",
       "        vertical-align: top;\n",
       "    }\n",
       "\n",
       "    .dataframe thead th {\n",
       "        text-align: right;\n",
       "    }\n",
       "</style>\n",
       "<table border=\"1\" class=\"dataframe\">\n",
       "  <thead>\n",
       "    <tr style=\"text-align: right;\">\n",
       "      <th></th>\n",
       "      <th>date</th>\n",
       "      <th>Revenue</th>\n",
       "      <th>prev_sales</th>\n",
       "      <th>diff</th>\n",
       "    </tr>\n",
       "  </thead>\n",
       "  <tbody>\n",
       "    <tr>\n",
       "      <th>1</th>\n",
       "      <td>2021-10-03</td>\n",
       "      <td>45392.472037</td>\n",
       "      <td>26313.436785</td>\n",
       "      <td>19079.035252</td>\n",
       "    </tr>\n",
       "    <tr>\n",
       "      <th>2</th>\n",
       "      <td>2021-10-10</td>\n",
       "      <td>49353.184428</td>\n",
       "      <td>45392.472037</td>\n",
       "      <td>3960.712391</td>\n",
       "    </tr>\n",
       "    <tr>\n",
       "      <th>3</th>\n",
       "      <td>2021-10-17</td>\n",
       "      <td>52636.772403</td>\n",
       "      <td>49353.184428</td>\n",
       "      <td>3283.587975</td>\n",
       "    </tr>\n",
       "    <tr>\n",
       "      <th>4</th>\n",
       "      <td>2021-10-24</td>\n",
       "      <td>44369.553427</td>\n",
       "      <td>52636.772403</td>\n",
       "      <td>-8267.218977</td>\n",
       "    </tr>\n",
       "    <tr>\n",
       "      <th>5</th>\n",
       "      <td>2021-10-31</td>\n",
       "      <td>43555.861568</td>\n",
       "      <td>44369.553427</td>\n",
       "      <td>-813.691859</td>\n",
       "    </tr>\n",
       "    <tr>\n",
       "      <th>6</th>\n",
       "      <td>2021-11-07</td>\n",
       "      <td>51714.410772</td>\n",
       "      <td>43555.861568</td>\n",
       "      <td>8158.549204</td>\n",
       "    </tr>\n",
       "    <tr>\n",
       "      <th>7</th>\n",
       "      <td>2021-11-14</td>\n",
       "      <td>73233.006072</td>\n",
       "      <td>51714.410772</td>\n",
       "      <td>21518.595300</td>\n",
       "    </tr>\n",
       "    <tr>\n",
       "      <th>8</th>\n",
       "      <td>2021-11-21</td>\n",
       "      <td>77441.997930</td>\n",
       "      <td>73233.006072</td>\n",
       "      <td>4208.991858</td>\n",
       "    </tr>\n",
       "    <tr>\n",
       "      <th>9</th>\n",
       "      <td>2021-11-28</td>\n",
       "      <td>94302.583930</td>\n",
       "      <td>77441.997930</td>\n",
       "      <td>16860.586000</td>\n",
       "    </tr>\n",
       "    <tr>\n",
       "      <th>10</th>\n",
       "      <td>2021-12-05</td>\n",
       "      <td>81042.629284</td>\n",
       "      <td>94302.583930</td>\n",
       "      <td>-13259.954646</td>\n",
       "    </tr>\n",
       "    <tr>\n",
       "      <th>11</th>\n",
       "      <td>2021-12-12</td>\n",
       "      <td>89589.449430</td>\n",
       "      <td>81042.629284</td>\n",
       "      <td>8546.820146</td>\n",
       "    </tr>\n",
       "    <tr>\n",
       "      <th>12</th>\n",
       "      <td>2021-12-19</td>\n",
       "      <td>74756.887843</td>\n",
       "      <td>89589.449430</td>\n",
       "      <td>-14832.561587</td>\n",
       "    </tr>\n",
       "    <tr>\n",
       "      <th>13</th>\n",
       "      <td>2021-12-26</td>\n",
       "      <td>29443.889105</td>\n",
       "      <td>74756.887843</td>\n",
       "      <td>-45312.998738</td>\n",
       "    </tr>\n",
       "    <tr>\n",
       "      <th>14</th>\n",
       "      <td>2022-01-02</td>\n",
       "      <td>33299.793365</td>\n",
       "      <td>29443.889105</td>\n",
       "      <td>3855.904261</td>\n",
       "    </tr>\n",
       "    <tr>\n",
       "      <th>15</th>\n",
       "      <td>2022-01-09</td>\n",
       "      <td>43300.689478</td>\n",
       "      <td>33299.793365</td>\n",
       "      <td>10000.896112</td>\n",
       "    </tr>\n",
       "    <tr>\n",
       "      <th>16</th>\n",
       "      <td>2022-01-16</td>\n",
       "      <td>30177.232900</td>\n",
       "      <td>43300.689478</td>\n",
       "      <td>-13123.456577</td>\n",
       "    </tr>\n",
       "  </tbody>\n",
       "</table>\n",
       "</div>"
      ],
      "text/plain": [
       "         date       Revenue    prev_sales          diff\n",
       "1  2021-10-03  45392.472037  26313.436785  19079.035252\n",
       "2  2021-10-10  49353.184428  45392.472037   3960.712391\n",
       "3  2021-10-17  52636.772403  49353.184428   3283.587975\n",
       "4  2021-10-24  44369.553427  52636.772403  -8267.218977\n",
       "5  2021-10-31  43555.861568  44369.553427   -813.691859\n",
       "6  2021-11-07  51714.410772  43555.861568   8158.549204\n",
       "7  2021-11-14  73233.006072  51714.410772  21518.595300\n",
       "8  2021-11-21  77441.997930  73233.006072   4208.991858\n",
       "9  2021-11-28  94302.583930  77441.997930  16860.586000\n",
       "10 2021-12-05  81042.629284  94302.583930 -13259.954646\n",
       "11 2021-12-12  89589.449430  81042.629284   8546.820146\n",
       "12 2021-12-19  74756.887843  89589.449430 -14832.561587\n",
       "13 2021-12-26  29443.889105  74756.887843 -45312.998738\n",
       "14 2022-01-02  33299.793365  29443.889105   3855.904261\n",
       "15 2022-01-09  43300.689478  33299.793365  10000.896112\n",
       "16 2022-01-16  30177.232900  43300.689478 -13123.456577"
      ]
     },
     "execution_count": 18,
     "metadata": {},
     "output_type": "execute_result"
    }
   ],
   "source": [
    "df_diff"
   ]
  },
  {
   "cell_type": "code",
   "execution_count": 19,
   "metadata": {},
   "outputs": [],
   "source": [
    "df_diff2 = df_diff[['date', 'diff']]\n",
    "df_diff2.columns = ['ds','y']"
   ]
  },
  {
   "cell_type": "code",
   "execution_count": 20,
   "metadata": {},
   "outputs": [
    {
     "data": {
      "text/plain": [
       "16"
      ]
     },
     "execution_count": 20,
     "metadata": {},
     "output_type": "execute_result"
    }
   ],
   "source": [
    "len(df_diff2)"
   ]
  },
  {
   "cell_type": "code",
   "execution_count": 21,
   "metadata": {},
   "outputs": [],
   "source": [
    "\n",
    "train=df_diff2[:12]\n",
    "test= df_diff2[12:]"
   ]
  },
  {
   "cell_type": "code",
   "execution_count": 22,
   "metadata": {},
   "outputs": [
    {
     "data": {
      "image/png": "[encoded data removed]",
      "text/plain": [
       "<Figure size 1152x576 with 1 Axes>"
      ]
     },
     "metadata": {
      "needs_background": "light"
     },
     "output_type": "display_data"
    }
   ],
   "source": [
    "# Plot the test and train data\n",
    "fig, ax = plt.subplots(figsize=(16, 8))\n",
    "sns.lineplot(x='ds', y='y', label='train', data=train, ax=ax)\n",
    "sns.lineplot(x='ds', y='y', label='test', data=test, ax=ax)\n",
    "plt.ticklabel_format(style='plain', axis='y')\n",
    "ax.legend(loc='upper left')\n",
    "ax.set(title='Dependent Variable', ylabel='Sales');\n",
    "plt.ticklabel_format(style='plain', axis='y')\n",
    "\n"
   ]
  },
  {
   "cell_type": "code",
   "execution_count": 29,
   "metadata": {},
   "outputs": [
    {
     "name": "stderr",
     "output_type": "stream",
     "text": [
      "INFO:fbprophet:Disabling daily seasonality. Run prophet with daily_seasonality=True to override this.\n",
      "/opt/anaconda3/lib/python3.8/site-packages/fbprophet/forecaster.py:891: FutureWarning:\n",
      "\n",
      "The frame.append method is deprecated and will be removed from pandas in a future version. Use pandas.concat instead.\n",
      "\n",
      "INFO:fbprophet:n_changepoints greater than number of observations. Using 8.\n"
     ]
    },
    {
     "data": {
      "text/plain": [
       "<fbprophet.forecaster.Prophet at 0x7fa469c142e0>"
      ]
     },
     "execution_count": 29,
     "metadata": {},
     "output_type": "execute_result"
    }
   ],
   "source": [
    "m = Prophet(weekly_seasonality=True,yearly_seasonality=True)\n",
    "m.add_seasonality(name='weekly', period=len(train), fourier_order=2)\n",
    "#m.add_country_holidays(country_name='UK')\n",
    "m.fit(train)"
   ]
  },
  {
   "cell_type": "code",
   "execution_count": 30,
   "metadata": {},
   "outputs": [
    {
     "name": "stderr",
     "output_type": "stream",
     "text": [
      "/opt/anaconda3/lib/python3.8/site-packages/fbprophet/forecaster.py:891: FutureWarning:\n",
      "\n",
      "The frame.append method is deprecated and will be removed from pandas in a future version. Use pandas.concat instead.\n",
      "\n",
      "/opt/anaconda3/lib/python3.8/site-packages/fbprophet/forecaster.py:891: FutureWarning:\n",
      "\n",
      "The frame.append method is deprecated and will be removed from pandas in a future version. Use pandas.concat instead.\n",
      "\n"
     ]
    },
    {
     "data": {
      "text/html": [
       "<div>\n",
       "<style scoped>\n",
       "    .dataframe tbody tr th:only-of-type {\n",
       "        vertical-align: middle;\n",
       "    }\n",
       "\n",
       "    .dataframe tbody tr th {\n",
       "        vertical-align: top;\n",
       "    }\n",
       "\n",
       "    .dataframe thead th {\n",
       "        text-align: right;\n",
       "    }\n",
       "</style>\n",
       "<table border=\"1\" class=\"dataframe\">\n",
       "  <thead>\n",
       "    <tr style=\"text-align: right;\">\n",
       "      <th></th>\n",
       "      <th>ds</th>\n",
       "      <th>trend</th>\n",
       "      <th>yhat_lower</th>\n",
       "      <th>yhat_upper</th>\n",
       "      <th>trend_lower</th>\n",
       "      <th>trend_upper</th>\n",
       "      <th>additive_terms</th>\n",
       "      <th>additive_terms_lower</th>\n",
       "      <th>additive_terms_upper</th>\n",
       "      <th>weekly</th>\n",
       "      <th>weekly_lower</th>\n",
       "      <th>weekly_upper</th>\n",
       "      <th>yearly</th>\n",
       "      <th>yearly_lower</th>\n",
       "      <th>yearly_upper</th>\n",
       "      <th>multiplicative_terms</th>\n",
       "      <th>multiplicative_terms_lower</th>\n",
       "      <th>multiplicative_terms_upper</th>\n",
       "      <th>yhat</th>\n",
       "    </tr>\n",
       "  </thead>\n",
       "  <tbody>\n",
       "    <tr>\n",
       "      <th>0</th>\n",
       "      <td>2021-10-03</td>\n",
       "      <td>-1723.171401</td>\n",
       "      <td>10049.779294</td>\n",
       "      <td>26749.306346</td>\n",
       "      <td>-1723.171401</td>\n",
       "      <td>-1723.171401</td>\n",
       "      <td>20327.002719</td>\n",
       "      <td>20327.002719</td>\n",
       "      <td>20327.002719</td>\n",
       "      <td>-20791.076751</td>\n",
       "      <td>-20791.076751</td>\n",
       "      <td>-20791.076751</td>\n",
       "      <td>41118.079470</td>\n",
       "      <td>41118.079470</td>\n",
       "      <td>41118.079470</td>\n",
       "      <td>0.0</td>\n",
       "      <td>0.0</td>\n",
       "      <td>0.0</td>\n",
       "      <td>18603.831318</td>\n",
       "    </tr>\n",
       "    <tr>\n",
       "      <th>1</th>\n",
       "      <td>2021-10-10</td>\n",
       "      <td>-2515.990253</td>\n",
       "      <td>-2344.892945</td>\n",
       "      <td>14269.243384</td>\n",
       "      <td>-2515.990253</td>\n",
       "      <td>-2515.990253</td>\n",
       "      <td>8485.418073</td>\n",
       "      <td>8485.418073</td>\n",
       "      <td>8485.418073</td>\n",
       "      <td>-20791.076751</td>\n",
       "      <td>-20791.076751</td>\n",
       "      <td>-20791.076751</td>\n",
       "      <td>29276.494823</td>\n",
       "      <td>29276.494823</td>\n",
       "      <td>29276.494823</td>\n",
       "      <td>0.0</td>\n",
       "      <td>0.0</td>\n",
       "      <td>0.0</td>\n",
       "      <td>5969.427820</td>\n",
       "    </tr>\n",
       "    <tr>\n",
       "      <th>2</th>\n",
       "      <td>2021-10-17</td>\n",
       "      <td>-3308.809104</td>\n",
       "      <td>-9136.947200</td>\n",
       "      <td>7400.269564</td>\n",
       "      <td>-3308.809104</td>\n",
       "      <td>-3308.809104</td>\n",
       "      <td>2676.147324</td>\n",
       "      <td>2676.147324</td>\n",
       "      <td>2676.147324</td>\n",
       "      <td>-20791.076751</td>\n",
       "      <td>-20791.076751</td>\n",
       "      <td>-20791.076751</td>\n",
       "      <td>23467.224075</td>\n",
       "      <td>23467.224075</td>\n",
       "      <td>23467.224075</td>\n",
       "      <td>0.0</td>\n",
       "      <td>0.0</td>\n",
       "      <td>0.0</td>\n",
       "      <td>-632.661780</td>\n",
       "    </tr>\n",
       "    <tr>\n",
       "      <th>3</th>\n",
       "      <td>2021-10-24</td>\n",
       "      <td>-4101.627956</td>\n",
       "      <td>-13397.447319</td>\n",
       "      <td>3576.794306</td>\n",
       "      <td>-4101.627956</td>\n",
       "      <td>-4101.627956</td>\n",
       "      <td>-338.916100</td>\n",
       "      <td>-338.916100</td>\n",
       "      <td>-338.916100</td>\n",
       "      <td>-20791.076751</td>\n",
       "      <td>-20791.076751</td>\n",
       "      <td>-20791.076751</td>\n",
       "      <td>20452.160651</td>\n",
       "      <td>20452.160651</td>\n",
       "      <td>20452.160651</td>\n",
       "      <td>0.0</td>\n",
       "      <td>0.0</td>\n",
       "      <td>0.0</td>\n",
       "      <td>-4440.544056</td>\n",
       "    </tr>\n",
       "    <tr>\n",
       "      <th>4</th>\n",
       "      <td>2021-10-31</td>\n",
       "      <td>-4894.446808</td>\n",
       "      <td>-10500.118393</td>\n",
       "      <td>6828.661476</td>\n",
       "      <td>-4894.446808</td>\n",
       "      <td>-4894.446808</td>\n",
       "      <td>2739.774072</td>\n",
       "      <td>2739.774072</td>\n",
       "      <td>2739.774072</td>\n",
       "      <td>-20791.076751</td>\n",
       "      <td>-20791.076751</td>\n",
       "      <td>-20791.076751</td>\n",
       "      <td>23530.850823</td>\n",
       "      <td>23530.850823</td>\n",
       "      <td>23530.850823</td>\n",
       "      <td>0.0</td>\n",
       "      <td>0.0</td>\n",
       "      <td>0.0</td>\n",
       "      <td>-2154.672735</td>\n",
       "    </tr>\n",
       "    <tr>\n",
       "      <th>5</th>\n",
       "      <td>2021-11-07</td>\n",
       "      <td>-5687.265660</td>\n",
       "      <td>-40.729408</td>\n",
       "      <td>16224.122803</td>\n",
       "      <td>-5687.265660</td>\n",
       "      <td>-5687.265660</td>\n",
       "      <td>13866.335790</td>\n",
       "      <td>13866.335790</td>\n",
       "      <td>13866.335790</td>\n",
       "      <td>-20791.076751</td>\n",
       "      <td>-20791.076751</td>\n",
       "      <td>-20791.076751</td>\n",
       "      <td>34657.412540</td>\n",
       "      <td>34657.412540</td>\n",
       "      <td>34657.412540</td>\n",
       "      <td>0.0</td>\n",
       "      <td>0.0</td>\n",
       "      <td>0.0</td>\n",
       "      <td>8179.070130</td>\n",
       "    </tr>\n",
       "    <tr>\n",
       "      <th>6</th>\n",
       "      <td>2021-11-14</td>\n",
       "      <td>-6480.084511</td>\n",
       "      <td>9697.180737</td>\n",
       "      <td>25998.915172</td>\n",
       "      <td>-6480.084511</td>\n",
       "      <td>-6480.084511</td>\n",
       "      <td>24233.776527</td>\n",
       "      <td>24233.776527</td>\n",
       "      <td>24233.776527</td>\n",
       "      <td>-20791.076751</td>\n",
       "      <td>-20791.076751</td>\n",
       "      <td>-20791.076751</td>\n",
       "      <td>45024.853278</td>\n",
       "      <td>45024.853278</td>\n",
       "      <td>45024.853278</td>\n",
       "      <td>0.0</td>\n",
       "      <td>0.0</td>\n",
       "      <td>0.0</td>\n",
       "      <td>17753.692016</td>\n",
       "    </tr>\n",
       "    <tr>\n",
       "      <th>7</th>\n",
       "      <td>2021-11-21</td>\n",
       "      <td>-7272.903363</td>\n",
       "      <td>7276.556368</td>\n",
       "      <td>23447.827944</td>\n",
       "      <td>-7272.903363</td>\n",
       "      <td>-7272.903363</td>\n",
       "      <td>22154.135345</td>\n",
       "      <td>22154.135345</td>\n",
       "      <td>22154.135345</td>\n",
       "      <td>-20791.076751</td>\n",
       "      <td>-20791.076751</td>\n",
       "      <td>-20791.076751</td>\n",
       "      <td>42945.212096</td>\n",
       "      <td>42945.212096</td>\n",
       "      <td>42945.212096</td>\n",
       "      <td>0.0</td>\n",
       "      <td>0.0</td>\n",
       "      <td>0.0</td>\n",
       "      <td>14881.231982</td>\n",
       "    </tr>\n",
       "    <tr>\n",
       "      <th>8</th>\n",
       "      <td>2021-11-28</td>\n",
       "      <td>-8065.722215</td>\n",
       "      <td>-4992.091771</td>\n",
       "      <td>11047.641279</td>\n",
       "      <td>-8065.722215</td>\n",
       "      <td>-8065.722215</td>\n",
       "      <td>10761.543952</td>\n",
       "      <td>10761.543952</td>\n",
       "      <td>10761.543952</td>\n",
       "      <td>-20791.076751</td>\n",
       "      <td>-20791.076751</td>\n",
       "      <td>-20791.076751</td>\n",
       "      <td>31552.620703</td>\n",
       "      <td>31552.620703</td>\n",
       "      <td>31552.620703</td>\n",
       "      <td>0.0</td>\n",
       "      <td>0.0</td>\n",
       "      <td>0.0</td>\n",
       "      <td>2695.821737</td>\n",
       "    </tr>\n",
       "    <tr>\n",
       "      <th>9</th>\n",
       "      <td>2021-12-05</td>\n",
       "      <td>-8858.541067</td>\n",
       "      <td>-10530.665975</td>\n",
       "      <td>6436.739619</td>\n",
       "      <td>-8858.541067</td>\n",
       "      <td>-8858.541067</td>\n",
       "      <td>6848.688795</td>\n",
       "      <td>6848.688795</td>\n",
       "      <td>6848.688795</td>\n",
       "      <td>-20791.076751</td>\n",
       "      <td>-20791.076751</td>\n",
       "      <td>-20791.076751</td>\n",
       "      <td>27639.765545</td>\n",
       "      <td>27639.765545</td>\n",
       "      <td>27639.765545</td>\n",
       "      <td>0.0</td>\n",
       "      <td>0.0</td>\n",
       "      <td>0.0</td>\n",
       "      <td>-2009.852273</td>\n",
       "    </tr>\n",
       "    <tr>\n",
       "      <th>10</th>\n",
       "      <td>2021-12-12</td>\n",
       "      <td>-9651.359919</td>\n",
       "      <td>-4350.382222</td>\n",
       "      <td>12007.420677</td>\n",
       "      <td>-9651.359919</td>\n",
       "      <td>-9651.359919</td>\n",
       "      <td>12893.118350</td>\n",
       "      <td>12893.118350</td>\n",
       "      <td>12893.118350</td>\n",
       "      <td>-20791.076751</td>\n",
       "      <td>-20791.076751</td>\n",
       "      <td>-20791.076751</td>\n",
       "      <td>33684.195101</td>\n",
       "      <td>33684.195101</td>\n",
       "      <td>33684.195101</td>\n",
       "      <td>0.0</td>\n",
       "      <td>0.0</td>\n",
       "      <td>0.0</td>\n",
       "      <td>3241.758431</td>\n",
       "    </tr>\n",
       "    <tr>\n",
       "      <th>11</th>\n",
       "      <td>2021-12-19</td>\n",
       "      <td>-10444.178771</td>\n",
       "      <td>-22578.672732</td>\n",
       "      <td>-5641.840603</td>\n",
       "      <td>-10444.178771</td>\n",
       "      <td>-10444.178771</td>\n",
       "      <td>-3167.406537</td>\n",
       "      <td>-3167.406537</td>\n",
       "      <td>-3167.406537</td>\n",
       "      <td>-20791.076751</td>\n",
       "      <td>-20791.076751</td>\n",
       "      <td>-20791.076751</td>\n",
       "      <td>17623.670214</td>\n",
       "      <td>17623.670214</td>\n",
       "      <td>17623.670214</td>\n",
       "      <td>0.0</td>\n",
       "      <td>0.0</td>\n",
       "      <td>0.0</td>\n",
       "      <td>-13611.585308</td>\n",
       "    </tr>\n",
       "    <tr>\n",
       "      <th>12</th>\n",
       "      <td>2021-12-26</td>\n",
       "      <td>-11236.997622</td>\n",
       "      <td>-101041.262686</td>\n",
       "      <td>-83970.675239</td>\n",
       "      <td>-11236.997631</td>\n",
       "      <td>-11236.997613</td>\n",
       "      <td>-81629.426452</td>\n",
       "      <td>-81629.426452</td>\n",
       "      <td>-81629.426452</td>\n",
       "      <td>-20791.076751</td>\n",
       "      <td>-20791.076751</td>\n",
       "      <td>-20791.076751</td>\n",
       "      <td>-60838.349701</td>\n",
       "      <td>-60838.349701</td>\n",
       "      <td>-60838.349701</td>\n",
       "      <td>0.0</td>\n",
       "      <td>0.0</td>\n",
       "      <td>0.0</td>\n",
       "      <td>-92866.424075</td>\n",
       "    </tr>\n",
       "    <tr>\n",
       "      <th>13</th>\n",
       "      <td>2022-01-02</td>\n",
       "      <td>-12029.816474</td>\n",
       "      <td>-233675.595685</td>\n",
       "      <td>-217236.263402</td>\n",
       "      <td>-12029.816511</td>\n",
       "      <td>-12029.816437</td>\n",
       "      <td>-213273.321810</td>\n",
       "      <td>-213273.321810</td>\n",
       "      <td>-213273.321810</td>\n",
       "      <td>-20791.076751</td>\n",
       "      <td>-20791.076751</td>\n",
       "      <td>-20791.076751</td>\n",
       "      <td>-192482.245060</td>\n",
       "      <td>-192482.245060</td>\n",
       "      <td>-192482.245060</td>\n",
       "      <td>0.0</td>\n",
       "      <td>0.0</td>\n",
       "      <td>0.0</td>\n",
       "      <td>-225303.138285</td>\n",
       "    </tr>\n",
       "    <tr>\n",
       "      <th>14</th>\n",
       "      <td>2022-01-09</td>\n",
       "      <td>-12822.635326</td>\n",
       "      <td>-338735.378033</td>\n",
       "      <td>-321820.203119</td>\n",
       "      <td>-12822.635403</td>\n",
       "      <td>-12822.635252</td>\n",
       "      <td>-317574.994648</td>\n",
       "      <td>-317574.994648</td>\n",
       "      <td>-317574.994648</td>\n",
       "      <td>-20791.076751</td>\n",
       "      <td>-20791.076751</td>\n",
       "      <td>-20791.076751</td>\n",
       "      <td>-296783.917897</td>\n",
       "      <td>-296783.917897</td>\n",
       "      <td>-296783.917897</td>\n",
       "      <td>0.0</td>\n",
       "      <td>0.0</td>\n",
       "      <td>0.0</td>\n",
       "      <td>-330397.629974</td>\n",
       "    </tr>\n",
       "  </tbody>\n",
       "</table>\n",
       "</div>"
      ],
      "text/plain": [
       "           ds         trend     yhat_lower     yhat_upper   trend_lower  \\\n",
       "0  2021-10-03  -1723.171401   10049.779294   26749.306346  -1723.171401   \n",
       "1  2021-10-10  -2515.990253   -2344.892945   14269.243384  -2515.990253   \n",
       "2  2021-10-17  -3308.809104   -9136.947200    7400.269564  -3308.809104   \n",
       "3  2021-10-24  -4101.627956  -13397.447319    3576.794306  -4101.627956   \n",
       "4  2021-10-31  -4894.446808  -10500.118393    6828.661476  -4894.446808   \n",
       "5  2021-11-07  -5687.265660     -40.729408   16224.122803  -5687.265660   \n",
       "6  2021-11-14  -6480.084511    9697.180737   25998.915172  -6480.084511   \n",
       "7  2021-11-21  -7272.903363    7276.556368   23447.827944  -7272.903363   \n",
       "8  2021-11-28  -8065.722215   -4992.091771   11047.641279  -8065.722215   \n",
       "9  2021-12-05  -8858.541067  -10530.665975    6436.739619  -8858.541067   \n",
       "10 2021-12-12  -9651.359919   -4350.382222   12007.420677  -9651.359919   \n",
       "11 2021-12-19 -10444.178771  -22578.672732   -5641.840603 -10444.178771   \n",
       "12 2021-12-26 -11236.997622 -101041.262686  -83970.675239 -11236.997631   \n",
       "13 2022-01-02 -12029.816474 -233675.595685 -217236.263402 -12029.816511   \n",
       "14 2022-01-09 -12822.635326 -338735.378033 -321820.203119 -12822.635403   \n",
       "\n",
       "     trend_upper  additive_terms  additive_terms_lower  additive_terms_upper  \\\n",
       "0   -1723.171401    20327.002719          20327.002719          20327.002719   \n",
       "1   -2515.990253     8485.418073           8485.418073           8485.418073   \n",
       "2   -3308.809104     2676.147324           2676.147324           2676.147324   \n",
       "3   -4101.627956     -338.916100           -338.916100           -338.916100   \n",
       "4   -4894.446808     2739.774072           2739.774072           2739.774072   \n",
       "5   -5687.265660    13866.335790          13866.335790          13866.335790   \n",
       "6   -6480.084511    24233.776527          24233.776527          24233.776527   \n",
       "7   -7272.903363    22154.135345          22154.135345          22154.135345   \n",
       "8   -8065.722215    10761.543952          10761.543952          10761.543952   \n",
       "9   -8858.541067     6848.688795           6848.688795           6848.688795   \n",
       "10  -9651.359919    12893.118350          12893.118350          12893.118350   \n",
       "11 -10444.178771    -3167.406537          -3167.406537          -3167.406537   \n",
       "12 -11236.997613   -81629.426452         -81629.426452         -81629.426452   \n",
       "13 -12029.816437  -213273.321810        -213273.321810        -213273.321810   \n",
       "14 -12822.635252  -317574.994648        -317574.994648        -317574.994648   \n",
       "\n",
       "          weekly  weekly_lower  weekly_upper         yearly   yearly_lower  \\\n",
       "0  -20791.076751 -20791.076751 -20791.076751   41118.079470   41118.079470   \n",
       "1  -20791.076751 -20791.076751 -20791.076751   29276.494823   29276.494823   \n",
       "2  -20791.076751 -20791.076751 -20791.076751   23467.224075   23467.224075   \n",
       "3  -20791.076751 -20791.076751 -20791.076751   20452.160651   20452.160651   \n",
       "4  -20791.076751 -20791.076751 -20791.076751   23530.850823   23530.850823   \n",
       "5  -20791.076751 -20791.076751 -20791.076751   34657.412540   34657.412540   \n",
       "6  -20791.076751 -20791.076751 -20791.076751   45024.853278   45024.853278   \n",
       "7  -20791.076751 -20791.076751 -20791.076751   42945.212096   42945.212096   \n",
       "8  -20791.076751 -20791.076751 -20791.076751   31552.620703   31552.620703   \n",
       "9  -20791.076751 -20791.076751 -20791.076751   27639.765545   27639.765545   \n",
       "10 -20791.076751 -20791.076751 -20791.076751   33684.195101   33684.195101   \n",
       "11 -20791.076751 -20791.076751 -20791.076751   17623.670214   17623.670214   \n",
       "12 -20791.076751 -20791.076751 -20791.076751  -60838.349701  -60838.349701   \n",
       "13 -20791.076751 -20791.076751 -20791.076751 -192482.245060 -192482.245060   \n",
       "14 -20791.076751 -20791.076751 -20791.076751 -296783.917897 -296783.917897   \n",
       "\n",
       "     yearly_upper  multiplicative_terms  multiplicative_terms_lower  \\\n",
       "0    41118.079470                   0.0                         0.0   \n",
       "1    29276.494823                   0.0                         0.0   \n",
       "2    23467.224075                   0.0                         0.0   \n",
       "3    20452.160651                   0.0                         0.0   \n",
       "4    23530.850823                   0.0                         0.0   \n",
       "5    34657.412540                   0.0                         0.0   \n",
       "6    45024.853278                   0.0                         0.0   \n",
       "7    42945.212096                   0.0                         0.0   \n",
       "8    31552.620703                   0.0                         0.0   \n",
       "9    27639.765545                   0.0                         0.0   \n",
       "10   33684.195101                   0.0                         0.0   \n",
       "11   17623.670214                   0.0                         0.0   \n",
       "12  -60838.349701                   0.0                         0.0   \n",
       "13 -192482.245060                   0.0                         0.0   \n",
       "14 -296783.917897                   0.0                         0.0   \n",
       "\n",
       "    multiplicative_terms_upper           yhat  \n",
       "0                          0.0   18603.831318  \n",
       "1                          0.0    5969.427820  \n",
       "2                          0.0    -632.661780  \n",
       "3                          0.0   -4440.544056  \n",
       "4                          0.0   -2154.672735  \n",
       "5                          0.0    8179.070130  \n",
       "6                          0.0   17753.692016  \n",
       "7                          0.0   14881.231982  \n",
       "8                          0.0    2695.821737  \n",
       "9                          0.0   -2009.852273  \n",
       "10                         0.0    3241.758431  \n",
       "11                         0.0  -13611.585308  \n",
       "12                         0.0  -92866.424075  \n",
       "13                         0.0 -225303.138285  \n",
       "14                         0.0 -330397.629974  "
      ]
     },
     "execution_count": 30,
     "metadata": {},
     "output_type": "execute_result"
    }
   ],
   "source": [
    "future = m.make_future_dataframe(periods= 3, freq = 'W')\n",
    "forecast = m.predict(future)\n",
    "forecast"
   ]
  },
  {
   "cell_type": "code",
   "execution_count": 31,
   "metadata": {},
   "outputs": [
    {
     "data": {
      "image/png": "[encoded data removed]",
      "text/plain": [
       "<Figure size 720x432 with 1 Axes>"
      ]
     },
     "metadata": {},
     "output_type": "display_data"
    }
   ],
   "source": [
    "#plot the forcaste\n",
    "fig1 = m.plot(forecast)\n"
   ]
  },
  {
   "cell_type": "code",
   "execution_count": 32,
   "metadata": {},
   "outputs": [
    {
     "name": "stderr",
     "output_type": "stream",
     "text": [
      "/opt/anaconda3/lib/python3.8/site-packages/fbprophet/forecaster.py:891: FutureWarning:\n",
      "\n",
      "The frame.append method is deprecated and will be removed from pandas in a future version. Use pandas.concat instead.\n",
      "\n",
      "/opt/anaconda3/lib/python3.8/site-packages/fbprophet/forecaster.py:891: FutureWarning:\n",
      "\n",
      "The frame.append method is deprecated and will be removed from pandas in a future version. Use pandas.concat instead.\n",
      "\n"
     ]
    },
    {
     "data": {
      "image/png": "[encoded data removed]",
      "text/plain": [
       "<Figure size 648x648 with 3 Axes>"
      ]
     },
     "metadata": {},
     "output_type": "display_data"
    }
   ],
   "source": [
    "# plot the component\n",
    "m.plot_components(forecast)\n",
    "plt.show()"
   ]
  },
  {
   "cell_type": "code",
   "execution_count": 33,
   "metadata": {},
   "outputs": [
    {
     "name": "stderr",
     "output_type": "stream",
     "text": [
      "/opt/anaconda3/lib/python3.8/site-packages/fbprophet/forecaster.py:891: FutureWarning:\n",
      "\n",
      "The frame.append method is deprecated and will be removed from pandas in a future version. Use pandas.concat instead.\n",
      "\n",
      "/opt/anaconda3/lib/python3.8/site-packages/fbprophet/forecaster.py:891: FutureWarning:\n",
      "\n",
      "The frame.append method is deprecated and will be removed from pandas in a future version. Use pandas.concat instead.\n",
      "\n"
     ]
    },
    {
     "data": {
      "text/html": [
       "<div>\n",
       "<style scoped>\n",
       "    .dataframe tbody tr th:only-of-type {\n",
       "        vertical-align: middle;\n",
       "    }\n",
       "\n",
       "    .dataframe tbody tr th {\n",
       "        vertical-align: top;\n",
       "    }\n",
       "\n",
       "    .dataframe thead th {\n",
       "        text-align: right;\n",
       "    }\n",
       "</style>\n",
       "<table border=\"1\" class=\"dataframe\">\n",
       "  <thead>\n",
       "    <tr style=\"text-align: right;\">\n",
       "      <th></th>\n",
       "      <th>ds</th>\n",
       "      <th>yhat</th>\n",
       "      <th>yhat_lower</th>\n",
       "      <th>yhat_upper</th>\n",
       "    </tr>\n",
       "  </thead>\n",
       "  <tbody>\n",
       "    <tr>\n",
       "      <th>0</th>\n",
       "      <td>2021-12-26</td>\n",
       "      <td>-92866.424075</td>\n",
       "      <td>-100308.880760</td>\n",
       "      <td>-83976.894406</td>\n",
       "    </tr>\n",
       "    <tr>\n",
       "      <th>1</th>\n",
       "      <td>2022-01-02</td>\n",
       "      <td>-225303.138285</td>\n",
       "      <td>-233491.796240</td>\n",
       "      <td>-217091.713381</td>\n",
       "    </tr>\n",
       "    <tr>\n",
       "      <th>2</th>\n",
       "      <td>2022-01-09</td>\n",
       "      <td>-330397.629974</td>\n",
       "      <td>-338567.251251</td>\n",
       "      <td>-322066.939481</td>\n",
       "    </tr>\n",
       "    <tr>\n",
       "      <th>3</th>\n",
       "      <td>2022-01-16</td>\n",
       "      <td>-314675.331375</td>\n",
       "      <td>-323151.466984</td>\n",
       "      <td>-306777.129858</td>\n",
       "    </tr>\n",
       "  </tbody>\n",
       "</table>\n",
       "</div>"
      ],
      "text/plain": [
       "          ds           yhat     yhat_lower     yhat_upper\n",
       "0 2021-12-26  -92866.424075 -100308.880760  -83976.894406\n",
       "1 2022-01-02 -225303.138285 -233491.796240 -217091.713381\n",
       "2 2022-01-09 -330397.629974 -338567.251251 -322066.939481\n",
       "3 2022-01-16 -314675.331375 -323151.466984 -306777.129858"
      ]
     },
     "execution_count": 33,
     "metadata": {},
     "output_type": "execute_result"
    }
   ],
   "source": [
    "test_forecast=m.predict(test)\n",
    "test_forecast[['ds', 'yhat', 'yhat_lower', 'yhat_upper']].tail(7)"
   ]
  },
  {
   "cell_type": "code",
   "execution_count": 34,
   "metadata": {},
   "outputs": [
    {
     "data": {
      "text/plain": [
       "Text(0.5, 1.0, 'Forecast VS Actual')"
      ]
     },
     "execution_count": 34,
     "metadata": {},
     "output_type": "execute_result"
    },
    {
     "data": {
      "image/png": "[encoded data removed]",
      "text/plain": [
       "<Figure size 1080x360 with 1 Axes>"
      ]
     },
     "metadata": {
      "needs_background": "light"
     },
     "output_type": "display_data"
    }
   ],
   "source": [
    "# Plot the forecast VS the actuals\n",
    "f, ax = plt.subplots(figsize=(14, 5))\n",
    "f.set_figheight(5)\n",
    "f.set_figwidth(15)\n",
    "test.plot(x='ds', y='y', color='r', label='Test', ax=ax)\n",
    "test_forecast.plot(x='ds', y='yhat', label='Forecast', ax=ax)\n",
    "plt.legend()\n",
    "ax.set_xlabel('Date')\n",
    "ax.set_ylabel('Sales')\n",
    "plt.title('Forecast VS Actual')"
   ]
  },
  {
   "cell_type": "markdown",
   "metadata": {},
   "source": [
    "### Evaluate the model performance"
   ]
  },
  {
   "cell_type": "code",
   "execution_count": 35,
   "metadata": {},
   "outputs": [
    {
     "data": {
      "text/html": [
       "<div>\n",
       "<style scoped>\n",
       "    .dataframe tbody tr th:only-of-type {\n",
       "        vertical-align: middle;\n",
       "    }\n",
       "\n",
       "    .dataframe tbody tr th {\n",
       "        vertical-align: top;\n",
       "    }\n",
       "\n",
       "    .dataframe thead th {\n",
       "        text-align: right;\n",
       "    }\n",
       "</style>\n",
       "<table border=\"1\" class=\"dataframe\">\n",
       "  <thead>\n",
       "    <tr style=\"text-align: right;\">\n",
       "      <th></th>\n",
       "      <th>ds</th>\n",
       "      <th>yhat_lower</th>\n",
       "      <th>yhat_upper</th>\n",
       "      <th>yhat</th>\n",
       "      <th>y</th>\n",
       "    </tr>\n",
       "  </thead>\n",
       "  <tbody>\n",
       "    <tr>\n",
       "      <th>0</th>\n",
       "      <td>2021-12-26</td>\n",
       "      <td>-101041.262686</td>\n",
       "      <td>-83970.675239</td>\n",
       "      <td>-92866.424075</td>\n",
       "      <td>-45312.998738</td>\n",
       "    </tr>\n",
       "    <tr>\n",
       "      <th>1</th>\n",
       "      <td>2022-01-02</td>\n",
       "      <td>-233675.595685</td>\n",
       "      <td>-217236.263402</td>\n",
       "      <td>-225303.138285</td>\n",
       "      <td>3855.904261</td>\n",
       "    </tr>\n",
       "    <tr>\n",
       "      <th>2</th>\n",
       "      <td>2022-01-09</td>\n",
       "      <td>-338735.378033</td>\n",
       "      <td>-321820.203119</td>\n",
       "      <td>-330397.629974</td>\n",
       "      <td>10000.896112</td>\n",
       "    </tr>\n",
       "  </tbody>\n",
       "</table>\n",
       "</div>"
      ],
      "text/plain": [
       "          ds     yhat_lower     yhat_upper           yhat             y\n",
       "0 2021-12-26 -101041.262686  -83970.675239  -92866.424075 -45312.998738\n",
       "1 2022-01-02 -233675.595685 -217236.263402 -225303.138285   3855.904261\n",
       "2 2022-01-09 -338735.378033 -321820.203119 -330397.629974  10000.896112"
      ]
     },
     "execution_count": 35,
     "metadata": {},
     "output_type": "execute_result"
    }
   ],
   "source": [
    "df_merge = pd.merge(test, forecast[['ds','yhat_lower','yhat_upper','yhat']],on='ds')\n",
    "df_merge = df_merge[['ds','yhat_lower','yhat_upper','yhat','y']]\n",
    "df_merge.head()"
   ]
  },
  {
   "cell_type": "code",
   "execution_count": 40,
   "metadata": {},
   "outputs": [
    {
     "name": "stdout",
     "output_type": "stream",
     "text": [
      "MAE: 205703.6646558227 MAPE: 31.505644580989923\n"
     ]
    }
   ],
   "source": [
    "from sklearn.metrics import mean_absolute_error\n",
    "from sklearn.metrics import mean_absolute_percentage_error\n",
    "\n",
    "y_true = df_merge['y'].values\n",
    "y_pred = df_merge['yhat'].values\n",
    "mae_01 = mean_absolute_error(y_true, y_pred)\n",
    "mape_01 = mean_absolute_percentage_error(y_true, y_pred)\n",
    "\n",
    "print('MAE:', mae_01, 'MAPE:',mape_01)"
   ]
  },
  {
   "cell_type": "code",
   "execution_count": 46,
   "metadata": {},
   "outputs": [
    {
     "name": "stderr",
     "output_type": "stream",
     "text": [
      "INFO:fbprophet:Disabling yearly seasonality. Run prophet with yearly_seasonality=True to override this.\n",
      "INFO:fbprophet:Disabling weekly seasonality. Run prophet with weekly_seasonality=True to override this.\n",
      "INFO:fbprophet:Disabling daily seasonality. Run prophet with daily_seasonality=True to override this.\n",
      "INFO:fbprophet:n_changepoints greater than number of observations. Using 11.\n",
      "INFO:fbprophet:Making 15 forecasts with cutoffs between 2021-10-09 23:59:59.999999970 and 2022-01-15 23:59:59.999999970\n",
      "INFO:fbprophet:Applying in parallel with <concurrent.futures.process.ProcessPoolExecutor object at 0x7fa46995a0a0>\n"
     ]
    },
    {
     "ename": "Exception",
     "evalue": "Less than two datapoints before cutoff. Increase initial window.",
     "output_type": "error",
     "traceback": [
      "\u001b[0;31m---------------------------------------------------------------------------\u001b[0m",
      "\u001b[0;31m_RemoteTraceback\u001b[0m                          Traceback (most recent call last)",
      "\u001b[0;31m_RemoteTraceback\u001b[0m: \n\"\"\"\nTraceback (most recent call last):\n  File \"/opt/anaconda3/lib/python3.8/concurrent/futures/process.py\", line 239, in _process_worker\n    r = call_item.fn(*call_item.args, **call_item.kwargs)\n  File \"/opt/anaconda3/lib/python3.8/concurrent/futures/process.py\", line 198, in _process_chunk\n    return [fn(*args) for args in chunk]\n  File \"/opt/anaconda3/lib/python3.8/concurrent/futures/process.py\", line 198, in <listcomp>\n    return [fn(*args) for args in chunk]\n  File \"/opt/anaconda3/lib/python3.8/site-packages/fbprophet/diagnostics.py\", line 223, in single_cutoff_forecast\n    raise Exception(\nException: Less than two datapoints before cutoff. Increase initial window.\n\"\"\"",
      "\nThe above exception was the direct cause of the following exception:\n",
      "\u001b[0;31mException\u001b[0m                                 Traceback (most recent call last)",
      "\u001b[0;32m<ipython-input-46-59b43c3de20b>\u001b[0m in \u001b[0;36m<module>\u001b[0;34m\u001b[0m\n\u001b[1;32m     15\u001b[0m \u001b[0;32mfor\u001b[0m \u001b[0mparams\u001b[0m \u001b[0;32min\u001b[0m \u001b[0mall_params\u001b[0m\u001b[0;34m:\u001b[0m\u001b[0;34m\u001b[0m\u001b[0;34m\u001b[0m\u001b[0m\n\u001b[1;32m     16\u001b[0m     \u001b[0mm\u001b[0m \u001b[0;34m=\u001b[0m \u001b[0mProphet\u001b[0m\u001b[0;34m(\u001b[0m\u001b[0;34m**\u001b[0m\u001b[0mparams\u001b[0m\u001b[0;34m)\u001b[0m\u001b[0;34m.\u001b[0m\u001b[0mfit\u001b[0m\u001b[0;34m(\u001b[0m\u001b[0mdf_diff2\u001b[0m\u001b[0;34m)\u001b[0m  \u001b[0;31m# Fit model with given params\u001b[0m\u001b[0;34m\u001b[0m\u001b[0;34m\u001b[0m\u001b[0m\n\u001b[0;32m---> 17\u001b[0;31m     \u001b[0mdf_cv\u001b[0m \u001b[0;34m=\u001b[0m \u001b[0mcross_validation\u001b[0m\u001b[0;34m(\u001b[0m\u001b[0mm\u001b[0m\u001b[0;34m,\u001b[0m \u001b[0mhorizon\u001b[0m\u001b[0;34m=\u001b[0m\u001b[0;34m'30'\u001b[0m\u001b[0;34m,\u001b[0m \u001b[0mparallel\u001b[0m\u001b[0;34m=\u001b[0m\u001b[0;34m\"processes\"\u001b[0m\u001b[0;34m)\u001b[0m\u001b[0;34m\u001b[0m\u001b[0;34m\u001b[0m\u001b[0m\n\u001b[0m\u001b[1;32m     18\u001b[0m     \u001b[0mdf_p\u001b[0m \u001b[0;34m=\u001b[0m \u001b[0mperformance_metrics\u001b[0m\u001b[0;34m(\u001b[0m\u001b[0mdf_cv\u001b[0m\u001b[0;34m,\u001b[0m \u001b[0mrolling_window\u001b[0m\u001b[0;34m=\u001b[0m\u001b[0;36m1\u001b[0m\u001b[0;34m)\u001b[0m\u001b[0;34m\u001b[0m\u001b[0;34m\u001b[0m\u001b[0m\n\u001b[1;32m     19\u001b[0m     \u001b[0mmaes\u001b[0m\u001b[0;34m.\u001b[0m\u001b[0mappend\u001b[0m\u001b[0;34m(\u001b[0m\u001b[0mdf_p\u001b[0m\u001b[0;34m[\u001b[0m\u001b[0;34m'mae'\u001b[0m\u001b[0;34m]\u001b[0m\u001b[0;34m.\u001b[0m\u001b[0mvalues\u001b[0m\u001b[0;34m[\u001b[0m\u001b[0;36m0\u001b[0m\u001b[0;34m]\u001b[0m\u001b[0;34m)\u001b[0m\u001b[0;34m\u001b[0m\u001b[0;34m\u001b[0m\u001b[0m\n",
      "\u001b[0;32m/opt/anaconda3/lib/python3.8/site-packages/fbprophet/diagnostics.py\u001b[0m in \u001b[0;36mcross_validation\u001b[0;34m(model, horizon, period, initial, parallel, cutoffs)\u001b[0m\n\u001b[1;32m    191\u001b[0m \u001b[0;34m\u001b[0m\u001b[0m\n\u001b[1;32m    192\u001b[0m     \u001b[0;31m# Combine all predicted pd.DataFrame into one pd.DataFrame\u001b[0m\u001b[0;34m\u001b[0m\u001b[0;34m\u001b[0m\u001b[0;34m\u001b[0m\u001b[0m\n\u001b[0;32m--> 193\u001b[0;31m     \u001b[0;32mreturn\u001b[0m \u001b[0mpd\u001b[0m\u001b[0;34m.\u001b[0m\u001b[0mconcat\u001b[0m\u001b[0;34m(\u001b[0m\u001b[0mpredicts\u001b[0m\u001b[0;34m,\u001b[0m \u001b[0maxis\u001b[0m\u001b[0;34m=\u001b[0m\u001b[0;36m0\u001b[0m\u001b[0;34m)\u001b[0m\u001b[0;34m.\u001b[0m\u001b[0mreset_index\u001b[0m\u001b[0;34m(\u001b[0m\u001b[0mdrop\u001b[0m\u001b[0;34m=\u001b[0m\u001b[0;32mTrue\u001b[0m\u001b[0;34m)\u001b[0m\u001b[0;34m\u001b[0m\u001b[0;34m\u001b[0m\u001b[0m\n\u001b[0m\u001b[1;32m    194\u001b[0m \u001b[0;34m\u001b[0m\u001b[0m\n\u001b[1;32m    195\u001b[0m \u001b[0;34m\u001b[0m\u001b[0m\n",
      "\u001b[0;32m/opt/anaconda3/lib/python3.8/site-packages/pandas/util/_decorators.py\u001b[0m in \u001b[0;36mwrapper\u001b[0;34m(*args, **kwargs)\u001b[0m\n\u001b[1;32m    309\u001b[0m                     \u001b[0mstacklevel\u001b[0m\u001b[0;34m=\u001b[0m\u001b[0mstacklevel\u001b[0m\u001b[0;34m,\u001b[0m\u001b[0;34m\u001b[0m\u001b[0;34m\u001b[0m\u001b[0m\n\u001b[1;32m    310\u001b[0m                 )\n\u001b[0;32m--> 311\u001b[0;31m             \u001b[0;32mreturn\u001b[0m \u001b[0mfunc\u001b[0m\u001b[0;34m(\u001b[0m\u001b[0;34m*\u001b[0m\u001b[0margs\u001b[0m\u001b[0;34m,\u001b[0m \u001b[0;34m**\u001b[0m\u001b[0mkwargs\u001b[0m\u001b[0;34m)\u001b[0m\u001b[0;34m\u001b[0m\u001b[0;34m\u001b[0m\u001b[0m\n\u001b[0m\u001b[1;32m    312\u001b[0m \u001b[0;34m\u001b[0m\u001b[0m\n\u001b[1;32m    313\u001b[0m         \u001b[0;32mreturn\u001b[0m \u001b[0mwrapper\u001b[0m\u001b[0;34m\u001b[0m\u001b[0;34m\u001b[0m\u001b[0m\n",
      "\u001b[0;32m/opt/anaconda3/lib/python3.8/site-packages/pandas/core/reshape/concat.py\u001b[0m in \u001b[0;36mconcat\u001b[0;34m(objs, axis, join, ignore_index, keys, levels, names, verify_integrity, sort, copy)\u001b[0m\n\u001b[1;32m    344\u001b[0m     \u001b[0mValueError\u001b[0m\u001b[0;34m:\u001b[0m \u001b[0mIndexes\u001b[0m \u001b[0mhave\u001b[0m \u001b[0moverlapping\u001b[0m \u001b[0mvalues\u001b[0m\u001b[0;34m:\u001b[0m \u001b[0;34m[\u001b[0m\u001b[0;34m'a'\u001b[0m\u001b[0;34m]\u001b[0m\u001b[0;34m\u001b[0m\u001b[0;34m\u001b[0m\u001b[0m\n\u001b[1;32m    345\u001b[0m     \"\"\"\n\u001b[0;32m--> 346\u001b[0;31m     op = _Concatenator(\n\u001b[0m\u001b[1;32m    347\u001b[0m         \u001b[0mobjs\u001b[0m\u001b[0;34m,\u001b[0m\u001b[0;34m\u001b[0m\u001b[0;34m\u001b[0m\u001b[0m\n\u001b[1;32m    348\u001b[0m         \u001b[0maxis\u001b[0m\u001b[0;34m=\u001b[0m\u001b[0maxis\u001b[0m\u001b[0;34m,\u001b[0m\u001b[0;34m\u001b[0m\u001b[0;34m\u001b[0m\u001b[0m\n",
      "\u001b[0;32m/opt/anaconda3/lib/python3.8/site-packages/pandas/core/reshape/concat.py\u001b[0m in \u001b[0;36m__init__\u001b[0;34m(self, objs, axis, join, keys, levels, names, ignore_index, verify_integrity, copy, sort)\u001b[0m\n\u001b[1;32m    398\u001b[0m             \u001b[0mobjs\u001b[0m \u001b[0;34m=\u001b[0m \u001b[0;34m[\u001b[0m\u001b[0mobjs\u001b[0m\u001b[0;34m[\u001b[0m\u001b[0mk\u001b[0m\u001b[0;34m]\u001b[0m \u001b[0;32mfor\u001b[0m \u001b[0mk\u001b[0m \u001b[0;32min\u001b[0m \u001b[0mkeys\u001b[0m\u001b[0;34m]\u001b[0m\u001b[0;34m\u001b[0m\u001b[0;34m\u001b[0m\u001b[0m\n\u001b[1;32m    399\u001b[0m         \u001b[0;32melse\u001b[0m\u001b[0;34m:\u001b[0m\u001b[0;34m\u001b[0m\u001b[0;34m\u001b[0m\u001b[0m\n\u001b[0;32m--> 400\u001b[0;31m             \u001b[0mobjs\u001b[0m \u001b[0;34m=\u001b[0m \u001b[0mlist\u001b[0m\u001b[0;34m(\u001b[0m\u001b[0mobjs\u001b[0m\u001b[0;34m)\u001b[0m\u001b[0;34m\u001b[0m\u001b[0;34m\u001b[0m\u001b[0m\n\u001b[0m\u001b[1;32m    401\u001b[0m \u001b[0;34m\u001b[0m\u001b[0m\n\u001b[1;32m    402\u001b[0m         \u001b[0;32mif\u001b[0m \u001b[0mlen\u001b[0m\u001b[0;34m(\u001b[0m\u001b[0mobjs\u001b[0m\u001b[0;34m)\u001b[0m \u001b[0;34m==\u001b[0m \u001b[0;36m0\u001b[0m\u001b[0;34m:\u001b[0m\u001b[0;34m\u001b[0m\u001b[0;34m\u001b[0m\u001b[0m\n",
      "\u001b[0;32m/opt/anaconda3/lib/python3.8/concurrent/futures/process.py\u001b[0m in \u001b[0;36m_chain_from_iterable_of_lists\u001b[0;34m(iterable)\u001b[0m\n\u001b[1;32m    482\u001b[0m     \u001b[0mcareful\u001b[0m \u001b[0;32mnot\u001b[0m \u001b[0mto\u001b[0m \u001b[0mkeep\u001b[0m \u001b[0mreferences\u001b[0m \u001b[0mto\u001b[0m \u001b[0myielded\u001b[0m \u001b[0mobjects\u001b[0m\u001b[0;34m.\u001b[0m\u001b[0;34m\u001b[0m\u001b[0;34m\u001b[0m\u001b[0m\n\u001b[1;32m    483\u001b[0m     \"\"\"\n\u001b[0;32m--> 484\u001b[0;31m     \u001b[0;32mfor\u001b[0m \u001b[0melement\u001b[0m \u001b[0;32min\u001b[0m \u001b[0miterable\u001b[0m\u001b[0;34m:\u001b[0m\u001b[0;34m\u001b[0m\u001b[0;34m\u001b[0m\u001b[0m\n\u001b[0m\u001b[1;32m    485\u001b[0m         \u001b[0melement\u001b[0m\u001b[0;34m.\u001b[0m\u001b[0mreverse\u001b[0m\u001b[0;34m(\u001b[0m\u001b[0;34m)\u001b[0m\u001b[0;34m\u001b[0m\u001b[0;34m\u001b[0m\u001b[0m\n\u001b[1;32m    486\u001b[0m         \u001b[0;32mwhile\u001b[0m \u001b[0melement\u001b[0m\u001b[0;34m:\u001b[0m\u001b[0;34m\u001b[0m\u001b[0;34m\u001b[0m\u001b[0m\n",
      "\u001b[0;32m/opt/anaconda3/lib/python3.8/concurrent/futures/_base.py\u001b[0m in \u001b[0;36mresult_iterator\u001b[0;34m()\u001b[0m\n\u001b[1;32m    609\u001b[0m                     \u001b[0;31m# Careful not to keep a reference to the popped future\u001b[0m\u001b[0;34m\u001b[0m\u001b[0;34m\u001b[0m\u001b[0;34m\u001b[0m\u001b[0m\n\u001b[1;32m    610\u001b[0m                     \u001b[0;32mif\u001b[0m \u001b[0mtimeout\u001b[0m \u001b[0;32mis\u001b[0m \u001b[0;32mNone\u001b[0m\u001b[0;34m:\u001b[0m\u001b[0;34m\u001b[0m\u001b[0;34m\u001b[0m\u001b[0m\n\u001b[0;32m--> 611\u001b[0;31m                         \u001b[0;32myield\u001b[0m \u001b[0mfs\u001b[0m\u001b[0;34m.\u001b[0m\u001b[0mpop\u001b[0m\u001b[0;34m(\u001b[0m\u001b[0;34m)\u001b[0m\u001b[0;34m.\u001b[0m\u001b[0mresult\u001b[0m\u001b[0;34m(\u001b[0m\u001b[0;34m)\u001b[0m\u001b[0;34m\u001b[0m\u001b[0;34m\u001b[0m\u001b[0m\n\u001b[0m\u001b[1;32m    612\u001b[0m                     \u001b[0;32melse\u001b[0m\u001b[0;34m:\u001b[0m\u001b[0;34m\u001b[0m\u001b[0;34m\u001b[0m\u001b[0m\n\u001b[1;32m    613\u001b[0m                         \u001b[0;32myield\u001b[0m \u001b[0mfs\u001b[0m\u001b[0;34m.\u001b[0m\u001b[0mpop\u001b[0m\u001b[0;34m(\u001b[0m\u001b[0;34m)\u001b[0m\u001b[0;34m.\u001b[0m\u001b[0mresult\u001b[0m\u001b[0;34m(\u001b[0m\u001b[0mend_time\u001b[0m \u001b[0;34m-\u001b[0m \u001b[0mtime\u001b[0m\u001b[0;34m.\u001b[0m\u001b[0mmonotonic\u001b[0m\u001b[0;34m(\u001b[0m\u001b[0;34m)\u001b[0m\u001b[0;34m)\u001b[0m\u001b[0;34m\u001b[0m\u001b[0;34m\u001b[0m\u001b[0m\n",
      "\u001b[0;32m/opt/anaconda3/lib/python3.8/concurrent/futures/_base.py\u001b[0m in \u001b[0;36mresult\u001b[0;34m(self, timeout)\u001b[0m\n\u001b[1;32m    437\u001b[0m                 \u001b[0;32mraise\u001b[0m \u001b[0mCancelledError\u001b[0m\u001b[0;34m(\u001b[0m\u001b[0;34m)\u001b[0m\u001b[0;34m\u001b[0m\u001b[0;34m\u001b[0m\u001b[0m\n\u001b[1;32m    438\u001b[0m             \u001b[0;32melif\u001b[0m \u001b[0mself\u001b[0m\u001b[0;34m.\u001b[0m\u001b[0m_state\u001b[0m \u001b[0;34m==\u001b[0m \u001b[0mFINISHED\u001b[0m\u001b[0;34m:\u001b[0m\u001b[0;34m\u001b[0m\u001b[0;34m\u001b[0m\u001b[0m\n\u001b[0;32m--> 439\u001b[0;31m                 \u001b[0;32mreturn\u001b[0m \u001b[0mself\u001b[0m\u001b[0;34m.\u001b[0m\u001b[0m__get_result\u001b[0m\u001b[0;34m(\u001b[0m\u001b[0;34m)\u001b[0m\u001b[0;34m\u001b[0m\u001b[0;34m\u001b[0m\u001b[0m\n\u001b[0m\u001b[1;32m    440\u001b[0m             \u001b[0;32melse\u001b[0m\u001b[0;34m:\u001b[0m\u001b[0;34m\u001b[0m\u001b[0;34m\u001b[0m\u001b[0m\n\u001b[1;32m    441\u001b[0m                 \u001b[0;32mraise\u001b[0m \u001b[0mTimeoutError\u001b[0m\u001b[0;34m(\u001b[0m\u001b[0;34m)\u001b[0m\u001b[0;34m\u001b[0m\u001b[0;34m\u001b[0m\u001b[0m\n",
      "\u001b[0;32m/opt/anaconda3/lib/python3.8/concurrent/futures/_base.py\u001b[0m in \u001b[0;36m__get_result\u001b[0;34m(self)\u001b[0m\n\u001b[1;32m    386\u001b[0m     \u001b[0;32mdef\u001b[0m \u001b[0m__get_result\u001b[0m\u001b[0;34m(\u001b[0m\u001b[0mself\u001b[0m\u001b[0;34m)\u001b[0m\u001b[0;34m:\u001b[0m\u001b[0;34m\u001b[0m\u001b[0;34m\u001b[0m\u001b[0m\n\u001b[1;32m    387\u001b[0m         \u001b[0;32mif\u001b[0m \u001b[0mself\u001b[0m\u001b[0;34m.\u001b[0m\u001b[0m_exception\u001b[0m\u001b[0;34m:\u001b[0m\u001b[0;34m\u001b[0m\u001b[0;34m\u001b[0m\u001b[0m\n\u001b[0;32m--> 388\u001b[0;31m             \u001b[0;32mraise\u001b[0m \u001b[0mself\u001b[0m\u001b[0;34m.\u001b[0m\u001b[0m_exception\u001b[0m\u001b[0;34m\u001b[0m\u001b[0;34m\u001b[0m\u001b[0m\n\u001b[0m\u001b[1;32m    389\u001b[0m         \u001b[0;32melse\u001b[0m\u001b[0;34m:\u001b[0m\u001b[0;34m\u001b[0m\u001b[0;34m\u001b[0m\u001b[0m\n\u001b[1;32m    390\u001b[0m             \u001b[0;32mreturn\u001b[0m \u001b[0mself\u001b[0m\u001b[0;34m.\u001b[0m\u001b[0m_result\u001b[0m\u001b[0;34m\u001b[0m\u001b[0;34m\u001b[0m\u001b[0m\n",
      "\u001b[0;31mException\u001b[0m: Less than two datapoints before cutoff. Increase initial window."
     ]
    }
   ],
   "source": [
    "# Let's tun the hpyer parameter\n",
    "import itertools\n",
    "\n",
    "param_grid = {  \n",
    "    'changepoint_prior_scale': [0.001, 0.01, 0.1, 0.5],\n",
    "    'seasonality_prior_scale': [0.01, 0.1, 1.0, 10.0],   \n",
    "}\n",
    "\n",
    "# Generate all combinations of parameters\n",
    "all_params = [dict(zip(param_grid.keys(), v)) for v in itertools.product(*param_grid.values())]\n",
    "maes = []  # Store the MAE for each params here\n",
    "mapes = [] # Store the MAPE for each params here\n",
    "\n",
    "# Use cross validation to evaluate all parameters\n",
    "for params in all_params:\n",
    "    m = Prophet(**params).fit(df_diff2)  # Fit model with given params\n",
    "    df_cv = cross_validation(m, horizon='30', parallel=\"processes\")\n",
    "    df_p = performance_metrics(df_cv, rolling_window=1)\n",
    "    maes.append(df_p['mae'].values[0])\n",
    "    mapes.append(df_p['mape'].values[0])\n",
    "\n",
    "# Find the best parameters\n",
    "tuning_results = pd.DataFrame(all_params)\n",
    "tuning_results['mae'] = maes\n",
    "tuning_results['mape'] = mapes"
   ]
  }
 ],
 "metadata": {
  "interpreter": {
   "hash": "40d3a090f54c6569ab1632332b64b2c03c39dcf918b08424e98f38b5ae0af88f"
  },
  "kernelspec": {
   "display_name": "Python 3.8.8 64-bit ('base': conda)",
   "language": "python",
   "name": "python3"
  },
  "language_info": {
   "codemirror_mode": {
    "name": "ipython",
    "version": 3
   },
   "file_extension": ".py",
   "mimetype": "text/x-python",
   "name": "python",
   "nbconvert_exporter": "python",
   "pygments_lexer": "ipython3",
   "version": "3.8.8"
  },
  "orig_nbformat": 4
 },
 "nbformat": 4,
 "nbformat_minor": 2
}
