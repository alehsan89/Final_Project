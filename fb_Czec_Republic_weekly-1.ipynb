{
 "cells": [
  {
   "cell_type": "markdown",
   "metadata": {},
   "source": [
    "Import libraries"
   ]
  },
  {
   "cell_type": "code",
   "execution_count": null,
   "metadata": {},
   "outputs": [],
   "source": [
    "import pandas as pd\n",
    "import matplotlib.pyplot as plt\n",
    "import seaborn as sns\n",
    "from plotnine import *\n",
    "import numpy as np\n",
    "import datetime\n",
    "import pandas as pd\n",
    "import sklearn as sk\n",
    "from fbprophet import Prophet\n",
    "from fbprophet.diagnostics import cross_validation\n",
    "from fbprophet.diagnostics import performance_metrics\n",
    "from fbprophet.plot import plot_cross_validation_metric\n",
    "import chart_studio.plotly as py\n",
    "import plotly.offline as pyoff\n",
    "import plotly.graph_objs as go"
   ]
  },
  {
   "cell_type": "markdown",
   "metadata": {},
   "source": []
  },
  {
   "cell_type": "markdown",
   "metadata": {},
   "source": [
    "Import cleaned data"
   ]
  },
  {
   "cell_type": "code",
   "execution_count": 48,
   "metadata": {},
   "outputs": [],
   "source": [
    "data = pd.read_csv('/Users/alijanehsan/Downloads/Final_project/merge.csv', parse_dates=['date'], index_col =0)\n"
   ]
  },
  {
   "cell_type": "markdown",
   "metadata": {},
   "source": [
    "Check data"
   ]
  },
  {
   "cell_type": "code",
   "execution_count": 49,
   "metadata": {},
   "outputs": [
    {
     "data": {
      "text/html": [
       "<div>\n",
       "<style scoped>\n",
       "    .dataframe tbody tr th:only-of-type {\n",
       "        vertical-align: middle;\n",
       "    }\n",
       "\n",
       "    .dataframe tbody tr th {\n",
       "        vertical-align: top;\n",
       "    }\n",
       "\n",
       "    .dataframe thead th {\n",
       "        text-align: right;\n",
       "    }\n",
       "</style>\n",
       "<table border=\"1\" class=\"dataframe\">\n",
       "  <thead>\n",
       "    <tr style=\"text-align: right;\">\n",
       "      <th></th>\n",
       "      <th>date</th>\n",
       "      <th>item_code</th>\n",
       "      <th>quantity</th>\n",
       "      <th>unit_price_vat_excl</th>\n",
       "      <th>unit_cogs</th>\n",
       "      <th>unit_rrp_vat_excl</th>\n",
       "      <th>department</th>\n",
       "      <th>site</th>\n",
       "      <th>Revenue</th>\n",
       "      <th>country</th>\n",
       "      <th>...</th>\n",
       "      <th>gender</th>\n",
       "      <th>age</th>\n",
       "      <th>color</th>\n",
       "      <th>size</th>\n",
       "      <th>kids</th>\n",
       "      <th>men</th>\n",
       "      <th>unisex</th>\n",
       "      <th>women</th>\n",
       "      <th>day</th>\n",
       "      <th>month</th>\n",
       "    </tr>\n",
       "  </thead>\n",
       "  <tbody>\n",
       "    <tr>\n",
       "      <th>0</th>\n",
       "      <td>2022-01-14</td>\n",
       "      <td>ZB00245086</td>\n",
       "      <td>1</td>\n",
       "      <td>107.443868</td>\n",
       "      <td>63.815891</td>\n",
       "      <td>126.367186</td>\n",
       "      <td>E-COMMER</td>\n",
       "      <td>top4running.at</td>\n",
       "      <td>107.443868</td>\n",
       "      <td>Austria</td>\n",
       "      <td>...</td>\n",
       "      <td>men</td>\n",
       "      <td>adults</td>\n",
       "      <td>White</td>\n",
       "      <td>44</td>\n",
       "      <td>0</td>\n",
       "      <td>1</td>\n",
       "      <td>0</td>\n",
       "      <td>0</td>\n",
       "      <td>Friday</td>\n",
       "      <td>January</td>\n",
       "    </tr>\n",
       "    <tr>\n",
       "      <th>1</th>\n",
       "      <td>2021-12-09</td>\n",
       "      <td>ZB00245086</td>\n",
       "      <td>1</td>\n",
       "      <td>98.582325</td>\n",
       "      <td>63.816279</td>\n",
       "      <td>129.458420</td>\n",
       "      <td>E-COMMER</td>\n",
       "      <td>top4running.it</td>\n",
       "      <td>98.582325</td>\n",
       "      <td>Italy</td>\n",
       "      <td>...</td>\n",
       "      <td>men</td>\n",
       "      <td>adults</td>\n",
       "      <td>White</td>\n",
       "      <td>44</td>\n",
       "      <td>0</td>\n",
       "      <td>1</td>\n",
       "      <td>0</td>\n",
       "      <td>0</td>\n",
       "      <td>Thursday</td>\n",
       "      <td>December</td>\n",
       "    </tr>\n",
       "    <tr>\n",
       "      <th>2</th>\n",
       "      <td>2021-12-08</td>\n",
       "      <td>ZB00245086</td>\n",
       "      <td>1</td>\n",
       "      <td>100.182074</td>\n",
       "      <td>63.815891</td>\n",
       "      <td>131.559296</td>\n",
       "      <td>E-COMMER</td>\n",
       "      <td>top4running.at</td>\n",
       "      <td>100.182074</td>\n",
       "      <td>Austria</td>\n",
       "      <td>...</td>\n",
       "      <td>men</td>\n",
       "      <td>adults</td>\n",
       "      <td>White</td>\n",
       "      <td>44</td>\n",
       "      <td>0</td>\n",
       "      <td>1</td>\n",
       "      <td>0</td>\n",
       "      <td>0</td>\n",
       "      <td>Wednesday</td>\n",
       "      <td>December</td>\n",
       "    </tr>\n",
       "    <tr>\n",
       "      <th>3</th>\n",
       "      <td>2021-12-04</td>\n",
       "      <td>ZB00245086</td>\n",
       "      <td>1</td>\n",
       "      <td>98.350139</td>\n",
       "      <td>63.816279</td>\n",
       "      <td>129.153514</td>\n",
       "      <td>E-COMMER</td>\n",
       "      <td>top4running.it</td>\n",
       "      <td>98.350139</td>\n",
       "      <td>Italy</td>\n",
       "      <td>...</td>\n",
       "      <td>men</td>\n",
       "      <td>adults</td>\n",
       "      <td>White</td>\n",
       "      <td>44</td>\n",
       "      <td>0</td>\n",
       "      <td>1</td>\n",
       "      <td>0</td>\n",
       "      <td>0</td>\n",
       "      <td>Saturday</td>\n",
       "      <td>December</td>\n",
       "    </tr>\n",
       "    <tr>\n",
       "      <th>4</th>\n",
       "      <td>2021-11-14</td>\n",
       "      <td>ZB00245086</td>\n",
       "      <td>1</td>\n",
       "      <td>99.296899</td>\n",
       "      <td>63.815891</td>\n",
       "      <td>130.396884</td>\n",
       "      <td>E-COMMER</td>\n",
       "      <td>top4running.at</td>\n",
       "      <td>99.296899</td>\n",
       "      <td>Austria</td>\n",
       "      <td>...</td>\n",
       "      <td>men</td>\n",
       "      <td>adults</td>\n",
       "      <td>White</td>\n",
       "      <td>44</td>\n",
       "      <td>0</td>\n",
       "      <td>1</td>\n",
       "      <td>0</td>\n",
       "      <td>0</td>\n",
       "      <td>Sunday</td>\n",
       "      <td>November</td>\n",
       "    </tr>\n",
       "  </tbody>\n",
       "</table>\n",
       "<p>5 rows × 26 columns</p>\n",
       "</div>"
      ],
      "text/plain": [
       "        date   item_code  quantity  unit_price_vat_excl  unit_cogs  \\\n",
       "0 2022-01-14  ZB00245086         1           107.443868  63.815891   \n",
       "1 2021-12-09  ZB00245086         1            98.582325  63.816279   \n",
       "2 2021-12-08  ZB00245086         1           100.182074  63.815891   \n",
       "3 2021-12-04  ZB00245086         1            98.350139  63.816279   \n",
       "4 2021-11-14  ZB00245086         1            99.296899  63.815891   \n",
       "\n",
       "   unit_rrp_vat_excl department            site     Revenue  country  ...  \\\n",
       "0         126.367186   E-COMMER  top4running.at  107.443868  Austria  ...   \n",
       "1         129.458420   E-COMMER  top4running.it   98.582325    Italy  ...   \n",
       "2         131.559296   E-COMMER  top4running.at  100.182074  Austria  ...   \n",
       "3         129.153514   E-COMMER  top4running.it   98.350139    Italy  ...   \n",
       "4         130.396884   E-COMMER  top4running.at   99.296899  Austria  ...   \n",
       "\n",
       "  gender     age  color size kids men unisex women        day     month  \n",
       "0    men  adults  White   44    0   1      0     0     Friday   January  \n",
       "1    men  adults  White   44    0   1      0     0   Thursday  December  \n",
       "2    men  adults  White   44    0   1      0     0  Wednesday  December  \n",
       "3    men  adults  White   44    0   1      0     0   Saturday  December  \n",
       "4    men  adults  White   44    0   1      0     0     Sunday  November  \n",
       "\n",
       "[5 rows x 26 columns]"
      ]
     },
     "execution_count": 49,
     "metadata": {},
     "output_type": "execute_result"
    }
   ],
   "source": [
    "data.head(5)"
   ]
  },
  {
   "cell_type": "code",
   "execution_count": 50,
   "metadata": {},
   "outputs": [
    {
     "data": {
      "text/plain": [
       "(1911344, 26)"
      ]
     },
     "execution_count": 50,
     "metadata": {},
     "output_type": "execute_result"
    }
   ],
   "source": [
    "data.shape"
   ]
  },
  {
   "cell_type": "code",
   "execution_count": 51,
   "metadata": {},
   "outputs": [
    {
     "data": {
      "text/plain": [
       "Czech Republic    650064\n",
       "Slovakia          328889\n",
       "Hungary           270961\n",
       "Romania           256946\n",
       "Germany            96276\n",
       "Spain              95304\n",
       "France             59791\n",
       "Italy              34672\n",
       "Croatia            33770\n",
       "com                25582\n",
       "Ireland            13666\n",
       "Denmark            10788\n",
       "Netherland          8688\n",
       "Austria             7799\n",
       "Sweden              5369\n",
       "Portugal            4132\n",
       "Poland              3976\n",
       "Belgium             2742\n",
       "Finland             1225\n",
       "Slovenia             618\n",
       "other                 71\n",
       "United Kingdom        10\n",
       "Bulgaria               5\n",
       "Name: country, dtype: int64"
      ]
     },
     "execution_count": 51,
     "metadata": {},
     "output_type": "execute_result"
    }
   ],
   "source": [
    "data['country'].value_counts()"
   ]
  },
  {
   "cell_type": "markdown",
   "metadata": {},
   "source": []
  },
  {
   "cell_type": "markdown",
   "metadata": {},
   "source": [
    "Filter the data for Czeck Republic"
   ]
  },
  {
   "cell_type": "code",
   "execution_count": 52,
   "metadata": {},
   "outputs": [
    {
     "data": {
      "text/html": [
       "<div>\n",
       "<style scoped>\n",
       "    .dataframe tbody tr th:only-of-type {\n",
       "        vertical-align: middle;\n",
       "    }\n",
       "\n",
       "    .dataframe tbody tr th {\n",
       "        vertical-align: top;\n",
       "    }\n",
       "\n",
       "    .dataframe thead th {\n",
       "        text-align: right;\n",
       "    }\n",
       "</style>\n",
       "<table border=\"1\" class=\"dataframe\">\n",
       "  <thead>\n",
       "    <tr style=\"text-align: right;\">\n",
       "      <th></th>\n",
       "      <th>date</th>\n",
       "      <th>item_code</th>\n",
       "      <th>quantity</th>\n",
       "      <th>unit_price_vat_excl</th>\n",
       "      <th>unit_cogs</th>\n",
       "      <th>unit_rrp_vat_excl</th>\n",
       "      <th>department</th>\n",
       "      <th>site</th>\n",
       "      <th>Revenue</th>\n",
       "      <th>country</th>\n",
       "      <th>...</th>\n",
       "      <th>gender</th>\n",
       "      <th>age</th>\n",
       "      <th>color</th>\n",
       "      <th>size</th>\n",
       "      <th>kids</th>\n",
       "      <th>men</th>\n",
       "      <th>unisex</th>\n",
       "      <th>women</th>\n",
       "      <th>day</th>\n",
       "      <th>month</th>\n",
       "    </tr>\n",
       "  </thead>\n",
       "  <tbody>\n",
       "    <tr>\n",
       "      <th>7</th>\n",
       "      <td>2022-01-14</td>\n",
       "      <td>S101</td>\n",
       "      <td>1</td>\n",
       "      <td>2.850775</td>\n",
       "      <td>0.000000</td>\n",
       "      <td>2.868217</td>\n",
       "      <td>E-COMMER</td>\n",
       "      <td>11teamsports.cz</td>\n",
       "      <td>2.850775</td>\n",
       "      <td>Czech Republic</td>\n",
       "      <td>...</td>\n",
       "      <td>men</td>\n",
       "      <td>adults</td>\n",
       "      <td>Black</td>\n",
       "      <td>M</td>\n",
       "      <td>0</td>\n",
       "      <td>1</td>\n",
       "      <td>0</td>\n",
       "      <td>0</td>\n",
       "      <td>Friday</td>\n",
       "      <td>January</td>\n",
       "    </tr>\n",
       "    <tr>\n",
       "      <th>10</th>\n",
       "      <td>2022-01-14</td>\n",
       "      <td>S101</td>\n",
       "      <td>1</td>\n",
       "      <td>1.889922</td>\n",
       "      <td>0.000000</td>\n",
       "      <td>1.899225</td>\n",
       "      <td>E-COMMER</td>\n",
       "      <td>11teamsports.cz</td>\n",
       "      <td>1.889922</td>\n",
       "      <td>Czech Republic</td>\n",
       "      <td>...</td>\n",
       "      <td>men</td>\n",
       "      <td>adults</td>\n",
       "      <td>Black</td>\n",
       "      <td>M</td>\n",
       "      <td>0</td>\n",
       "      <td>1</td>\n",
       "      <td>0</td>\n",
       "      <td>0</td>\n",
       "      <td>Friday</td>\n",
       "      <td>January</td>\n",
       "    </tr>\n",
       "    <tr>\n",
       "      <th>14</th>\n",
       "      <td>2022-01-14</td>\n",
       "      <td>S101</td>\n",
       "      <td>1</td>\n",
       "      <td>1.889922</td>\n",
       "      <td>0.000000</td>\n",
       "      <td>1.899225</td>\n",
       "      <td>E-COMMER</td>\n",
       "      <td>11teamsports.cz</td>\n",
       "      <td>1.889922</td>\n",
       "      <td>Czech Republic</td>\n",
       "      <td>...</td>\n",
       "      <td>men</td>\n",
       "      <td>adults</td>\n",
       "      <td>Black</td>\n",
       "      <td>M</td>\n",
       "      <td>0</td>\n",
       "      <td>1</td>\n",
       "      <td>0</td>\n",
       "      <td>0</td>\n",
       "      <td>Friday</td>\n",
       "      <td>January</td>\n",
       "    </tr>\n",
       "    <tr>\n",
       "      <th>16</th>\n",
       "      <td>2022-01-14</td>\n",
       "      <td>S101</td>\n",
       "      <td>1</td>\n",
       "      <td>1.889922</td>\n",
       "      <td>0.000000</td>\n",
       "      <td>1.899225</td>\n",
       "      <td>E-COMMER</td>\n",
       "      <td>top4running.cz</td>\n",
       "      <td>1.889922</td>\n",
       "      <td>Czech Republic</td>\n",
       "      <td>...</td>\n",
       "      <td>men</td>\n",
       "      <td>adults</td>\n",
       "      <td>Black</td>\n",
       "      <td>M</td>\n",
       "      <td>0</td>\n",
       "      <td>1</td>\n",
       "      <td>0</td>\n",
       "      <td>0</td>\n",
       "      <td>Friday</td>\n",
       "      <td>January</td>\n",
       "    </tr>\n",
       "    <tr>\n",
       "      <th>25</th>\n",
       "      <td>2022-01-14</td>\n",
       "      <td>S101</td>\n",
       "      <td>1</td>\n",
       "      <td>1.889922</td>\n",
       "      <td>0.000000</td>\n",
       "      <td>1.899225</td>\n",
       "      <td>E-COMMER</td>\n",
       "      <td>top4fitness.cz</td>\n",
       "      <td>1.889922</td>\n",
       "      <td>Czech Republic</td>\n",
       "      <td>...</td>\n",
       "      <td>men</td>\n",
       "      <td>adults</td>\n",
       "      <td>Black</td>\n",
       "      <td>M</td>\n",
       "      <td>0</td>\n",
       "      <td>1</td>\n",
       "      <td>0</td>\n",
       "      <td>0</td>\n",
       "      <td>Friday</td>\n",
       "      <td>January</td>\n",
       "    </tr>\n",
       "    <tr>\n",
       "      <th>...</th>\n",
       "      <td>...</td>\n",
       "      <td>...</td>\n",
       "      <td>...</td>\n",
       "      <td>...</td>\n",
       "      <td>...</td>\n",
       "      <td>...</td>\n",
       "      <td>...</td>\n",
       "      <td>...</td>\n",
       "      <td>...</td>\n",
       "      <td>...</td>\n",
       "      <td>...</td>\n",
       "      <td>...</td>\n",
       "      <td>...</td>\n",
       "      <td>...</td>\n",
       "      <td>...</td>\n",
       "      <td>...</td>\n",
       "      <td>...</td>\n",
       "      <td>...</td>\n",
       "      <td>...</td>\n",
       "      <td>...</td>\n",
       "      <td>...</td>\n",
       "    </tr>\n",
       "    <tr>\n",
       "      <th>2128516</th>\n",
       "      <td>2019-06-01</td>\n",
       "      <td>ZB00021748</td>\n",
       "      <td>1</td>\n",
       "      <td>74.828682</td>\n",
       "      <td>48.626357</td>\n",
       "      <td>96.066279</td>\n",
       "      <td>E-COMMER</td>\n",
       "      <td>top4running.cz</td>\n",
       "      <td>74.828682</td>\n",
       "      <td>Czech Republic</td>\n",
       "      <td>...</td>\n",
       "      <td>women</td>\n",
       "      <td>adults</td>\n",
       "      <td>Silver</td>\n",
       "      <td>39</td>\n",
       "      <td>0</td>\n",
       "      <td>0</td>\n",
       "      <td>0</td>\n",
       "      <td>1</td>\n",
       "      <td>Saturday</td>\n",
       "      <td>June</td>\n",
       "    </tr>\n",
       "    <tr>\n",
       "      <th>2128518</th>\n",
       "      <td>2019-06-01</td>\n",
       "      <td>ZB00009785</td>\n",
       "      <td>1</td>\n",
       "      <td>63.232558</td>\n",
       "      <td>1.000775</td>\n",
       "      <td>105.387984</td>\n",
       "      <td>E-COMMER</td>\n",
       "      <td>top4running.cz</td>\n",
       "      <td>63.232558</td>\n",
       "      <td>Czech Republic</td>\n",
       "      <td>...</td>\n",
       "      <td>men</td>\n",
       "      <td>adults</td>\n",
       "      <td>Black</td>\n",
       "      <td>40,5</td>\n",
       "      <td>0</td>\n",
       "      <td>1</td>\n",
       "      <td>0</td>\n",
       "      <td>0</td>\n",
       "      <td>Saturday</td>\n",
       "      <td>June</td>\n",
       "    </tr>\n",
       "    <tr>\n",
       "      <th>2128520</th>\n",
       "      <td>2019-06-01</td>\n",
       "      <td>ZB00000151</td>\n",
       "      <td>1</td>\n",
       "      <td>25.305814</td>\n",
       "      <td>9.053101</td>\n",
       "      <td>0.930233</td>\n",
       "      <td>E-COMMER</td>\n",
       "      <td>top4running.cz</td>\n",
       "      <td>25.305814</td>\n",
       "      <td>Czech Republic</td>\n",
       "      <td>...</td>\n",
       "      <td>women</td>\n",
       "      <td>adults</td>\n",
       "      <td>Black</td>\n",
       "      <td>S</td>\n",
       "      <td>0</td>\n",
       "      <td>0</td>\n",
       "      <td>0</td>\n",
       "      <td>1</td>\n",
       "      <td>Saturday</td>\n",
       "      <td>June</td>\n",
       "    </tr>\n",
       "    <tr>\n",
       "      <th>2128521</th>\n",
       "      <td>2019-06-01</td>\n",
       "      <td>ZB00025745</td>\n",
       "      <td>1</td>\n",
       "      <td>45.646899</td>\n",
       "      <td>24.039922</td>\n",
       "      <td>60.830233</td>\n",
       "      <td>E-COMMER</td>\n",
       "      <td>11teamsports.cz</td>\n",
       "      <td>45.646899</td>\n",
       "      <td>Czech Republic</td>\n",
       "      <td>...</td>\n",
       "      <td>men</td>\n",
       "      <td>adults</td>\n",
       "      <td>Silver</td>\n",
       "      <td>45</td>\n",
       "      <td>0</td>\n",
       "      <td>1</td>\n",
       "      <td>0</td>\n",
       "      <td>0</td>\n",
       "      <td>Saturday</td>\n",
       "      <td>June</td>\n",
       "    </tr>\n",
       "    <tr>\n",
       "      <th>2128523</th>\n",
       "      <td>2019-06-01</td>\n",
       "      <td>ZB00013828</td>\n",
       "      <td>1</td>\n",
       "      <td>25.305814</td>\n",
       "      <td>11.261240</td>\n",
       "      <td>0.930233</td>\n",
       "      <td>E-COMMER</td>\n",
       "      <td>top4running.cz</td>\n",
       "      <td>25.305814</td>\n",
       "      <td>Czech Republic</td>\n",
       "      <td>...</td>\n",
       "      <td>women</td>\n",
       "      <td>adults</td>\n",
       "      <td>Pink</td>\n",
       "      <td>S</td>\n",
       "      <td>0</td>\n",
       "      <td>0</td>\n",
       "      <td>0</td>\n",
       "      <td>1</td>\n",
       "      <td>Saturday</td>\n",
       "      <td>June</td>\n",
       "    </tr>\n",
       "  </tbody>\n",
       "</table>\n",
       "<p>650064 rows × 26 columns</p>\n",
       "</div>"
      ],
      "text/plain": [
       "              date   item_code  quantity  unit_price_vat_excl  unit_cogs  \\\n",
       "7       2022-01-14        S101         1             2.850775   0.000000   \n",
       "10      2022-01-14        S101         1             1.889922   0.000000   \n",
       "14      2022-01-14        S101         1             1.889922   0.000000   \n",
       "16      2022-01-14        S101         1             1.889922   0.000000   \n",
       "25      2022-01-14        S101         1             1.889922   0.000000   \n",
       "...            ...         ...       ...                  ...        ...   \n",
       "2128516 2019-06-01  ZB00021748         1            74.828682  48.626357   \n",
       "2128518 2019-06-01  ZB00009785         1            63.232558   1.000775   \n",
       "2128520 2019-06-01  ZB00000151         1            25.305814   9.053101   \n",
       "2128521 2019-06-01  ZB00025745         1            45.646899  24.039922   \n",
       "2128523 2019-06-01  ZB00013828         1            25.305814  11.261240   \n",
       "\n",
       "         unit_rrp_vat_excl department             site    Revenue  \\\n",
       "7                 2.868217   E-COMMER  11teamsports.cz   2.850775   \n",
       "10                1.899225   E-COMMER  11teamsports.cz   1.889922   \n",
       "14                1.899225   E-COMMER  11teamsports.cz   1.889922   \n",
       "16                1.899225   E-COMMER   top4running.cz   1.889922   \n",
       "25                1.899225   E-COMMER   top4fitness.cz   1.889922   \n",
       "...                    ...        ...              ...        ...   \n",
       "2128516          96.066279   E-COMMER   top4running.cz  74.828682   \n",
       "2128518         105.387984   E-COMMER   top4running.cz  63.232558   \n",
       "2128520           0.930233   E-COMMER   top4running.cz  25.305814   \n",
       "2128521          60.830233   E-COMMER  11teamsports.cz  45.646899   \n",
       "2128523           0.930233   E-COMMER   top4running.cz  25.305814   \n",
       "\n",
       "                country  ... gender     age   color  size kids men unisex  \\\n",
       "7        Czech Republic  ...    men  adults   Black     M    0   1      0   \n",
       "10       Czech Republic  ...    men  adults   Black     M    0   1      0   \n",
       "14       Czech Republic  ...    men  adults   Black     M    0   1      0   \n",
       "16       Czech Republic  ...    men  adults   Black     M    0   1      0   \n",
       "25       Czech Republic  ...    men  adults   Black     M    0   1      0   \n",
       "...                 ...  ...    ...     ...     ...   ...  ...  ..    ...   \n",
       "2128516  Czech Republic  ...  women  adults  Silver    39    0   0      0   \n",
       "2128518  Czech Republic  ...    men  adults   Black  40,5    0   1      0   \n",
       "2128520  Czech Republic  ...  women  adults   Black     S    0   0      0   \n",
       "2128521  Czech Republic  ...    men  adults  Silver    45    0   1      0   \n",
       "2128523  Czech Republic  ...  women  adults    Pink     S    0   0      0   \n",
       "\n",
       "        women       day    month  \n",
       "7           0    Friday  January  \n",
       "10          0    Friday  January  \n",
       "14          0    Friday  January  \n",
       "16          0    Friday  January  \n",
       "25          0    Friday  January  \n",
       "...       ...       ...      ...  \n",
       "2128516     1  Saturday     June  \n",
       "2128518     0  Saturday     June  \n",
       "2128520     1  Saturday     June  \n",
       "2128521     0  Saturday     June  \n",
       "2128523     1  Saturday     June  \n",
       "\n",
       "[650064 rows x 26 columns]"
      ]
     },
     "execution_count": 52,
     "metadata": {},
     "output_type": "execute_result"
    }
   ],
   "source": [
    "df_cz = data[data['country']== 'Czech Republic']\n",
    "\n",
    "df_cz"
   ]
  },
  {
   "cell_type": "markdown",
   "metadata": {},
   "source": []
  },
  {
   "cell_type": "markdown",
   "metadata": {},
   "source": [
    "Write a function to get weekly data"
   ]
  },
  {
   "cell_type": "code",
   "execution_count": 53,
   "metadata": {},
   "outputs": [],
   "source": [
    "\n",
    "\n",
    "def weekly_data(df_cz, time_period='week', Revenue='net'):\n",
    "    time_periods = {\n",
    "        'day': 'D',\n",
    "        'week': 'W',\n",
    "        'month': 'M'}\n",
    "    \n",
    "    revenue_cat = {\n",
    "        'net':'Revenue'}\n",
    "    df_cz['date'] = pd.to_datetime(df_cz['date'])\n",
    "    df_cz = df_cz.set_index('date')\n",
    "    df_cz = df_cz[revenue_cat[Revenue]].resample(time_periods[time_period]).sum()\n",
    "    df_cz = pd.DataFrame(df_cz).reset_index()\n",
    "    return df_cz"
   ]
  },
  {
   "cell_type": "code",
   "execution_count": 54,
   "metadata": {},
   "outputs": [
    {
     "name": "stderr",
     "output_type": "stream",
     "text": [
      "<ipython-input-53-d47523a17911>:9: SettingWithCopyWarning:\n",
      "\n",
      "\n",
      "A value is trying to be set on a copy of a slice from a DataFrame.\n",
      "Try using .loc[row_indexer,col_indexer] = value instead\n",
      "\n",
      "See the caveats in the documentation: https://pandas.pydata.org/pandas-docs/stable/user_guide/indexing.html#returning-a-view-versus-a-copy\n",
      "\n",
      "<ipython-input-54-aa918ba341b7>:3: UserWarning:\n",
      "\n",
      "Pandas doesn't allow columns to be created via a new attribute name - see https://pandas.pydata.org/pandas-docs/stable/indexing.html#attribute-access\n",
      "\n"
     ]
    },
    {
     "data": {
      "text/html": [
       "<div>\n",
       "<style scoped>\n",
       "    .dataframe tbody tr th:only-of-type {\n",
       "        vertical-align: middle;\n",
       "    }\n",
       "\n",
       "    .dataframe tbody tr th {\n",
       "        vertical-align: top;\n",
       "    }\n",
       "\n",
       "    .dataframe thead th {\n",
       "        text-align: right;\n",
       "    }\n",
       "</style>\n",
       "<table border=\"1\" class=\"dataframe\">\n",
       "  <thead>\n",
       "    <tr style=\"text-align: right;\">\n",
       "      <th></th>\n",
       "      <th>date</th>\n",
       "      <th>Revenue</th>\n",
       "    </tr>\n",
       "  </thead>\n",
       "  <tbody>\n",
       "    <tr>\n",
       "      <th>0</th>\n",
       "      <td>2019-06-02</td>\n",
       "      <td>1263.118988</td>\n",
       "    </tr>\n",
       "    <tr>\n",
       "      <th>1</th>\n",
       "      <td>2019-06-09</td>\n",
       "      <td>53144.983937</td>\n",
       "    </tr>\n",
       "    <tr>\n",
       "      <th>2</th>\n",
       "      <td>2019-06-16</td>\n",
       "      <td>40175.268093</td>\n",
       "    </tr>\n",
       "    <tr>\n",
       "      <th>3</th>\n",
       "      <td>2019-06-23</td>\n",
       "      <td>57770.308586</td>\n",
       "    </tr>\n",
       "    <tr>\n",
       "      <th>4</th>\n",
       "      <td>2019-06-30</td>\n",
       "      <td>36489.526615</td>\n",
       "    </tr>\n",
       "  </tbody>\n",
       "</table>\n",
       "</div>"
      ],
      "text/plain": [
       "        date       Revenue\n",
       "0 2019-06-02   1263.118988\n",
       "1 2019-06-09  53144.983937\n",
       "2 2019-06-16  40175.268093\n",
       "3 2019-06-23  57770.308586\n",
       "4 2019-06-30  36489.526615"
      ]
     },
     "execution_count": 54,
     "metadata": {},
     "output_type": "execute_result"
    }
   ],
   "source": [
    "df_w = weekly_data(df_cz)\n",
    "#df_w.columns=['ds', 'y']\n",
    "df_w.ds=pd.to_datetime(df_w['date'])\n",
    "df_w.sort_values('date')\n",
    "df_w.head()"
   ]
  },
  {
   "cell_type": "markdown",
   "metadata": {},
   "source": []
  },
  {
   "cell_type": "markdown",
   "metadata": {},
   "source": [
    "Check whether the data is stationary or not"
   ]
  },
  {
   "cell_type": "code",
   "execution_count": 55,
   "metadata": {},
   "outputs": [
    {
     "data": {
      "application/vnd.plotly.v1+json": {
       "config": {
        "linkText": "Export to plot.ly",
        "plotlyServerURL": "https://plot.ly",
        "showLink": false
       },
       "data": [
        {
         "type": "scatter",
         "x": [
          "2019-06-02T00:00:00",
          "2019-06-09T00:00:00",
          "2019-06-16T00:00:00",
          "2019-06-23T00:00:00",
          "2019-06-30T00:00:00",
          "2019-07-07T00:00:00",
          "2019-07-14T00:00:00",
          "2019-07-21T00:00:00",
          "2019-07-28T00:00:00",
          "2019-08-04T00:00:00",
          "2019-08-11T00:00:00",
          "2019-08-18T00:00:00",
          "2019-08-25T00:00:00",
          "2019-09-01T00:00:00",
          "2019-09-08T00:00:00",
          "2019-09-15T00:00:00",
          "2019-09-22T00:00:00",
          "2019-09-29T00:00:00",
          "2019-10-06T00:00:00",
          "2019-10-13T00:00:00",
          "2019-10-20T00:00:00",
          "2019-10-27T00:00:00",
          "2019-11-03T00:00:00",
          "2019-11-10T00:00:00",
          "2019-11-17T00:00:00",
          "2019-11-24T00:00:00",
          "2019-12-01T00:00:00",
          "2019-12-08T00:00:00",
          "2019-12-15T00:00:00",
          "2019-12-22T00:00:00",
          "2019-12-29T00:00:00",
          "2020-01-05T00:00:00",
          "2020-01-12T00:00:00",
          "2020-01-19T00:00:00",
          "2020-01-26T00:00:00",
          "2020-02-02T00:00:00",
          "2020-02-09T00:00:00",
          "2020-02-16T00:00:00",
          "2020-02-23T00:00:00",
          "2020-03-01T00:00:00",
          "2020-03-08T00:00:00",
          "2020-03-15T00:00:00",
          "2020-03-22T00:00:00",
          "2020-03-29T00:00:00",
          "2020-04-05T00:00:00",
          "2020-04-12T00:00:00",
          "2020-04-19T00:00:00",
          "2020-04-26T00:00:00",
          "2020-05-03T00:00:00",
          "2020-05-10T00:00:00",
          "2020-05-17T00:00:00",
          "2020-05-24T00:00:00",
          "2020-05-31T00:00:00",
          "2020-06-07T00:00:00",
          "2020-06-14T00:00:00",
          "2020-06-21T00:00:00",
          "2020-06-28T00:00:00",
          "2020-07-05T00:00:00",
          "2020-07-12T00:00:00",
          "2020-07-19T00:00:00",
          "2020-07-26T00:00:00",
          "2020-08-02T00:00:00",
          "2020-08-09T00:00:00",
          "2020-08-16T00:00:00",
          "2020-08-23T00:00:00",
          "2020-08-30T00:00:00",
          "2020-09-06T00:00:00",
          "2020-09-13T00:00:00",
          "2020-09-20T00:00:00",
          "2020-09-27T00:00:00",
          "2020-10-04T00:00:00",
          "2020-10-11T00:00:00",
          "2020-10-18T00:00:00",
          "2020-10-25T00:00:00",
          "2020-11-01T00:00:00",
          "2020-11-08T00:00:00",
          "2020-11-15T00:00:00",
          "2020-11-22T00:00:00",
          "2020-11-29T00:00:00",
          "2020-12-06T00:00:00",
          "2020-12-13T00:00:00",
          "2020-12-20T00:00:00",
          "2020-12-27T00:00:00",
          "2021-01-03T00:00:00",
          "2021-01-10T00:00:00",
          "2021-01-17T00:00:00",
          "2021-01-24T00:00:00",
          "2021-01-31T00:00:00",
          "2021-02-07T00:00:00",
          "2021-02-14T00:00:00",
          "2021-02-21T00:00:00",
          "2021-02-28T00:00:00",
          "2021-03-07T00:00:00",
          "2021-03-14T00:00:00",
          "2021-03-21T00:00:00",
          "2021-03-28T00:00:00",
          "2021-04-04T00:00:00",
          "2021-04-11T00:00:00",
          "2021-04-18T00:00:00",
          "2021-04-25T00:00:00",
          "2021-05-02T00:00:00",
          "2021-05-09T00:00:00",
          "2021-05-16T00:00:00",
          "2021-05-23T00:00:00",
          "2021-05-30T00:00:00",
          "2021-06-06T00:00:00",
          "2021-06-13T00:00:00",
          "2021-06-20T00:00:00",
          "2021-06-27T00:00:00",
          "2021-07-04T00:00:00",
          "2021-07-11T00:00:00",
          "2021-07-18T00:00:00",
          "2021-07-25T00:00:00",
          "2021-08-01T00:00:00",
          "2021-08-08T00:00:00",
          "2021-08-15T00:00:00",
          "2021-08-22T00:00:00",
          "2021-08-29T00:00:00",
          "2021-09-05T00:00:00",
          "2021-09-12T00:00:00",
          "2021-09-19T00:00:00",
          "2021-09-26T00:00:00",
          "2021-10-03T00:00:00",
          "2021-10-10T00:00:00",
          "2021-10-17T00:00:00",
          "2021-10-24T00:00:00",
          "2021-10-31T00:00:00",
          "2021-11-07T00:00:00",
          "2021-11-14T00:00:00",
          "2021-11-21T00:00:00",
          "2021-11-28T00:00:00",
          "2021-12-05T00:00:00",
          "2021-12-12T00:00:00",
          "2021-12-19T00:00:00",
          "2021-12-26T00:00:00",
          "2022-01-02T00:00:00",
          "2022-01-09T00:00:00",
          "2022-01-16T00:00:00"
         ],
         "y": [
          1263.1189884,
          53144.9839372,
          40175.2680932,
          57770.3085858,
          36489.5266153,
          49574.6548496,
          64448.398219,
          59600.9327462,
          55165.2629972,
          65289.939325,
          74226.2195302,
          80766.5148758,
          69996.4877838,
          75705.2176219,
          82949.555976,
          66899.3699622,
          60334.8878106,
          50037.6967521,
          53776.7835576,
          65052.8517454,
          54854.9459686,
          39532.9808913,
          50532.3835804,
          53055.9700035,
          84251.4082688,
          148919.9495511,
          186928.4149386,
          149332.0371053,
          154225.0661866,
          59844.42812,
          38449.4871065,
          48218.561898,
          70384.6195896,
          66986.1196004,
          61350.8548742,
          47623.6068453,
          50418.4863022,
          56749.5921029,
          51515.310333299996,
          49233.3626595,
          57495.9347444,
          53848.6192232,
          42192.5037705,
          56140.3188888,
          50195.3909929,
          64548.7490893,
          92655.2319708,
          77662.5730669,
          82277.323838,
          74963.3773349,
          82797.2606513,
          82250.6761582,
          65531.9688363,
          70160.6649426,
          61199.1882138,
          58579.165353899996,
          47953.6134447,
          45232.559182799996,
          51086.57894,
          65088.9199875,
          63109.2529401,
          58710.8285334,
          59057.8079828,
          67363.3816103,
          70379.965296,
          67758.8412462,
          74646.6823231,
          74761.1877523,
          72135.5257441,
          71433.8862,
          70155.9357992,
          64695.0474551,
          66742.9765257,
          69695.4866024,
          95337.8632546,
          123789.2108197,
          209667.3415504,
          265770.3073485,
          261855.9181994,
          150926.9437285,
          144669.3030312,
          82922.3094467,
          53107.24985,
          79950.3610239,
          99262.5621586,
          98487.4807573,
          84261.6485885,
          91794.5330808,
          97785.0276346,
          83704.7288271,
          97128.9950892,
          116570.1780064,
          145319.6934541,
          145108.6876224,
          140638.7829868,
          144247.3422572,
          129098.8667054,
          149602.0965071,
          158644.3449123,
          135577.5023495,
          119922.3434795,
          95552.1125281,
          105017.1679237,
          90407.0807567,
          97621.074155,
          83148.7838507,
          94642.1842057,
          71446.6978306,
          53499.4978986,
          50170.4917124,
          63566.777332,
          86606.6365535,
          75594.0800082,
          87279.4710431,
          112789.6438568,
          103688.2190585,
          101570.877216,
          97997.6869146,
          97285.2993074,
          91797.8725773,
          94649.7845982,
          89505.0295774,
          89640.2183677,
          94244.8144636,
          99360.7900159,
          88502.1532353,
          78841.8040357,
          102982.5640593,
          156435.4626991,
          174692.564939,
          217133.3810231,
          191797.1310549,
          211035.3794049,
          169199.2764855,
          65451.923429,
          76393.5222524,
          100326.8520276,
          65635.2098767
         ]
        }
       ],
       "layout": {
        "template": {
         "data": {
          "bar": [
           {
            "error_x": {
             "color": "#2a3f5f"
            },
            "error_y": {
             "color": "#2a3f5f"
            },
            "marker": {
             "line": {
              "color": "#E5ECF6",
              "width": 0.5
             },
             "pattern": {
              "fillmode": "overlay",
              "size": 10,
              "solidity": 0.2
             }
            },
            "type": "bar"
           }
          ],
          "barpolar": [
           {
            "marker": {
             "line": {
              "color": "#E5ECF6",
              "width": 0.5
             },
             "pattern": {
              "fillmode": "overlay",
              "size": 10,
              "solidity": 0.2
             }
            },
            "type": "barpolar"
           }
          ],
          "carpet": [
           {
            "aaxis": {
             "endlinecolor": "#2a3f5f",
             "gridcolor": "white",
             "linecolor": "white",
             "minorgridcolor": "white",
             "startlinecolor": "#2a3f5f"
            },
            "baxis": {
             "endlinecolor": "#2a3f5f",
             "gridcolor": "white",
             "linecolor": "white",
             "minorgridcolor": "white",
             "startlinecolor": "#2a3f5f"
            },
            "type": "carpet"
           }
          ],
          "choropleth": [
           {
            "colorbar": {
             "outlinewidth": 0,
             "ticks": ""
            },
            "type": "choropleth"
           }
          ],
          "contour": [
           {
            "colorbar": {
             "outlinewidth": 0,
             "ticks": ""
            },
            "colorscale": [
             [
              0,
              "#0d0887"
             ],
             [
              0.1111111111111111,
              "#46039f"
             ],
             [
              0.2222222222222222,
              "#7201a8"
             ],
             [
              0.3333333333333333,
              "#9c179e"
             ],
             [
              0.4444444444444444,
              "#bd3786"
             ],
             [
              0.5555555555555556,
              "#d8576b"
             ],
             [
              0.6666666666666666,
              "#ed7953"
             ],
             [
              0.7777777777777778,
              "#fb9f3a"
             ],
             [
              0.8888888888888888,
              "#fdca26"
             ],
             [
              1,
              "#f0f921"
             ]
            ],
            "type": "contour"
           }
          ],
          "contourcarpet": [
           {
            "colorbar": {
             "outlinewidth": 0,
             "ticks": ""
            },
            "type": "contourcarpet"
           }
          ],
          "heatmap": [
           {
            "colorbar": {
             "outlinewidth": 0,
             "ticks": ""
            },
            "colorscale": [
             [
              0,
              "#0d0887"
             ],
             [
              0.1111111111111111,
              "#46039f"
             ],
             [
              0.2222222222222222,
              "#7201a8"
             ],
             [
              0.3333333333333333,
              "#9c179e"
             ],
             [
              0.4444444444444444,
              "#bd3786"
             ],
             [
              0.5555555555555556,
              "#d8576b"
             ],
             [
              0.6666666666666666,
              "#ed7953"
             ],
             [
              0.7777777777777778,
              "#fb9f3a"
             ],
             [
              0.8888888888888888,
              "#fdca26"
             ],
             [
              1,
              "#f0f921"
             ]
            ],
            "type": "heatmap"
           }
          ],
          "heatmapgl": [
           {
            "colorbar": {
             "outlinewidth": 0,
             "ticks": ""
            },
            "colorscale": [
             [
              0,
              "#0d0887"
             ],
             [
              0.1111111111111111,
              "#46039f"
             ],
             [
              0.2222222222222222,
              "#7201a8"
             ],
             [
              0.3333333333333333,
              "#9c179e"
             ],
             [
              0.4444444444444444,
              "#bd3786"
             ],
             [
              0.5555555555555556,
              "#d8576b"
             ],
             [
              0.6666666666666666,
              "#ed7953"
             ],
             [
              0.7777777777777778,
              "#fb9f3a"
             ],
             [
              0.8888888888888888,
              "#fdca26"
             ],
             [
              1,
              "#f0f921"
             ]
            ],
            "type": "heatmapgl"
           }
          ],
          "histogram": [
           {
            "marker": {
             "pattern": {
              "fillmode": "overlay",
              "size": 10,
              "solidity": 0.2
             }
            },
            "type": "histogram"
           }
          ],
          "histogram2d": [
           {
            "colorbar": {
             "outlinewidth": 0,
             "ticks": ""
            },
            "colorscale": [
             [
              0,
              "#0d0887"
             ],
             [
              0.1111111111111111,
              "#46039f"
             ],
             [
              0.2222222222222222,
              "#7201a8"
             ],
             [
              0.3333333333333333,
              "#9c179e"
             ],
             [
              0.4444444444444444,
              "#bd3786"
             ],
             [
              0.5555555555555556,
              "#d8576b"
             ],
             [
              0.6666666666666666,
              "#ed7953"
             ],
             [
              0.7777777777777778,
              "#fb9f3a"
             ],
             [
              0.8888888888888888,
              "#fdca26"
             ],
             [
              1,
              "#f0f921"
             ]
            ],
            "type": "histogram2d"
           }
          ],
          "histogram2dcontour": [
           {
            "colorbar": {
             "outlinewidth": 0,
             "ticks": ""
            },
            "colorscale": [
             [
              0,
              "#0d0887"
             ],
             [
              0.1111111111111111,
              "#46039f"
             ],
             [
              0.2222222222222222,
              "#7201a8"
             ],
             [
              0.3333333333333333,
              "#9c179e"
             ],
             [
              0.4444444444444444,
              "#bd3786"
             ],
             [
              0.5555555555555556,
              "#d8576b"
             ],
             [
              0.6666666666666666,
              "#ed7953"
             ],
             [
              0.7777777777777778,
              "#fb9f3a"
             ],
             [
              0.8888888888888888,
              "#fdca26"
             ],
             [
              1,
              "#f0f921"
             ]
            ],
            "type": "histogram2dcontour"
           }
          ],
          "mesh3d": [
           {
            "colorbar": {
             "outlinewidth": 0,
             "ticks": ""
            },
            "type": "mesh3d"
           }
          ],
          "parcoords": [
           {
            "line": {
             "colorbar": {
              "outlinewidth": 0,
              "ticks": ""
             }
            },
            "type": "parcoords"
           }
          ],
          "pie": [
           {
            "automargin": true,
            "type": "pie"
           }
          ],
          "scatter": [
           {
            "marker": {
             "colorbar": {
              "outlinewidth": 0,
              "ticks": ""
             }
            },
            "type": "scatter"
           }
          ],
          "scatter3d": [
           {
            "line": {
             "colorbar": {
              "outlinewidth": 0,
              "ticks": ""
             }
            },
            "marker": {
             "colorbar": {
              "outlinewidth": 0,
              "ticks": ""
             }
            },
            "type": "scatter3d"
           }
          ],
          "scattercarpet": [
           {
            "marker": {
             "colorbar": {
              "outlinewidth": 0,
              "ticks": ""
             }
            },
            "type": "scattercarpet"
           }
          ],
          "scattergeo": [
           {
            "marker": {
             "colorbar": {
              "outlinewidth": 0,
              "ticks": ""
             }
            },
            "type": "scattergeo"
           }
          ],
          "scattergl": [
           {
            "marker": {
             "colorbar": {
              "outlinewidth": 0,
              "ticks": ""
             }
            },
            "type": "scattergl"
           }
          ],
          "scattermapbox": [
           {
            "marker": {
             "colorbar": {
              "outlinewidth": 0,
              "ticks": ""
             }
            },
            "type": "scattermapbox"
           }
          ],
          "scatterpolar": [
           {
            "marker": {
             "colorbar": {
              "outlinewidth": 0,
              "ticks": ""
             }
            },
            "type": "scatterpolar"
           }
          ],
          "scatterpolargl": [
           {
            "marker": {
             "colorbar": {
              "outlinewidth": 0,
              "ticks": ""
             }
            },
            "type": "scatterpolargl"
           }
          ],
          "scatterternary": [
           {
            "marker": {
             "colorbar": {
              "outlinewidth": 0,
              "ticks": ""
             }
            },
            "type": "scatterternary"
           }
          ],
          "surface": [
           {
            "colorbar": {
             "outlinewidth": 0,
             "ticks": ""
            },
            "colorscale": [
             [
              0,
              "#0d0887"
             ],
             [
              0.1111111111111111,
              "#46039f"
             ],
             [
              0.2222222222222222,
              "#7201a8"
             ],
             [
              0.3333333333333333,
              "#9c179e"
             ],
             [
              0.4444444444444444,
              "#bd3786"
             ],
             [
              0.5555555555555556,
              "#d8576b"
             ],
             [
              0.6666666666666666,
              "#ed7953"
             ],
             [
              0.7777777777777778,
              "#fb9f3a"
             ],
             [
              0.8888888888888888,
              "#fdca26"
             ],
             [
              1,
              "#f0f921"
             ]
            ],
            "type": "surface"
           }
          ],
          "table": [
           {
            "cells": {
             "fill": {
              "color": "#EBF0F8"
             },
             "line": {
              "color": "white"
             }
            },
            "header": {
             "fill": {
              "color": "#C8D4E3"
             },
             "line": {
              "color": "white"
             }
            },
            "type": "table"
           }
          ]
         },
         "layout": {
          "annotationdefaults": {
           "arrowcolor": "#2a3f5f",
           "arrowhead": 0,
           "arrowwidth": 1
          },
          "autotypenumbers": "strict",
          "coloraxis": {
           "colorbar": {
            "outlinewidth": 0,
            "ticks": ""
           }
          },
          "colorscale": {
           "diverging": [
            [
             0,
             "#8e0152"
            ],
            [
             0.1,
             "#c51b7d"
            ],
            [
             0.2,
             "#de77ae"
            ],
            [
             0.3,
             "#f1b6da"
            ],
            [
             0.4,
             "#fde0ef"
            ],
            [
             0.5,
             "#f7f7f7"
            ],
            [
             0.6,
             "#e6f5d0"
            ],
            [
             0.7,
             "#b8e186"
            ],
            [
             0.8,
             "#7fbc41"
            ],
            [
             0.9,
             "#4d9221"
            ],
            [
             1,
             "#276419"
            ]
           ],
           "sequential": [
            [
             0,
             "#0d0887"
            ],
            [
             0.1111111111111111,
             "#46039f"
            ],
            [
             0.2222222222222222,
             "#7201a8"
            ],
            [
             0.3333333333333333,
             "#9c179e"
            ],
            [
             0.4444444444444444,
             "#bd3786"
            ],
            [
             0.5555555555555556,
             "#d8576b"
            ],
            [
             0.6666666666666666,
             "#ed7953"
            ],
            [
             0.7777777777777778,
             "#fb9f3a"
            ],
            [
             0.8888888888888888,
             "#fdca26"
            ],
            [
             1,
             "#f0f921"
            ]
           ],
           "sequentialminus": [
            [
             0,
             "#0d0887"
            ],
            [
             0.1111111111111111,
             "#46039f"
            ],
            [
             0.2222222222222222,
             "#7201a8"
            ],
            [
             0.3333333333333333,
             "#9c179e"
            ],
            [
             0.4444444444444444,
             "#bd3786"
            ],
            [
             0.5555555555555556,
             "#d8576b"
            ],
            [
             0.6666666666666666,
             "#ed7953"
            ],
            [
             0.7777777777777778,
             "#fb9f3a"
            ],
            [
             0.8888888888888888,
             "#fdca26"
            ],
            [
             1,
             "#f0f921"
            ]
           ]
          },
          "colorway": [
           "#636efa",
           "#EF553B",
           "#00cc96",
           "#ab63fa",
           "#FFA15A",
           "#19d3f3",
           "#FF6692",
           "#B6E880",
           "#FF97FF",
           "#FECB52"
          ],
          "font": {
           "color": "#2a3f5f"
          },
          "geo": {
           "bgcolor": "white",
           "lakecolor": "white",
           "landcolor": "#E5ECF6",
           "showlakes": true,
           "showland": true,
           "subunitcolor": "white"
          },
          "hoverlabel": {
           "align": "left"
          },
          "hovermode": "closest",
          "mapbox": {
           "style": "light"
          },
          "paper_bgcolor": "white",
          "plot_bgcolor": "#E5ECF6",
          "polar": {
           "angularaxis": {
            "gridcolor": "white",
            "linecolor": "white",
            "ticks": ""
           },
           "bgcolor": "#E5ECF6",
           "radialaxis": {
            "gridcolor": "white",
            "linecolor": "white",
            "ticks": ""
           }
          },
          "scene": {
           "xaxis": {
            "backgroundcolor": "#E5ECF6",
            "gridcolor": "white",
            "gridwidth": 2,
            "linecolor": "white",
            "showbackground": true,
            "ticks": "",
            "zerolinecolor": "white"
           },
           "yaxis": {
            "backgroundcolor": "#E5ECF6",
            "gridcolor": "white",
            "gridwidth": 2,
            "linecolor": "white",
            "showbackground": true,
            "ticks": "",
            "zerolinecolor": "white"
           },
           "zaxis": {
            "backgroundcolor": "#E5ECF6",
            "gridcolor": "white",
            "gridwidth": 2,
            "linecolor": "white",
            "showbackground": true,
            "ticks": "",
            "zerolinecolor": "white"
           }
          },
          "shapedefaults": {
           "line": {
            "color": "#2a3f5f"
           }
          },
          "ternary": {
           "aaxis": {
            "gridcolor": "white",
            "linecolor": "white",
            "ticks": ""
           },
           "baxis": {
            "gridcolor": "white",
            "linecolor": "white",
            "ticks": ""
           },
           "bgcolor": "#E5ECF6",
           "caxis": {
            "gridcolor": "white",
            "linecolor": "white",
            "ticks": ""
           }
          },
          "title": {
           "x": 0.05
          },
          "xaxis": {
           "automargin": true,
           "gridcolor": "white",
           "linecolor": "white",
           "ticks": "",
           "title": {
            "standoff": 15
           },
           "zerolinecolor": "white",
           "zerolinewidth": 2
          },
          "yaxis": {
           "automargin": true,
           "gridcolor": "white",
           "linecolor": "white",
           "ticks": "",
           "title": {
            "standoff": 15
           },
           "zerolinecolor": "white",
           "zerolinewidth": 2
          }
         }
        },
        "title": {
         "text": "weekly Sales"
        }
       }
      }
     },
     "metadata": {},
     "output_type": "display_data"
    }
   ],
   "source": [
    "# Check the data to see whether it is stationary or not\n",
    "plot_data = [\n",
    "    go.Scatter(\n",
    "        x=df_w['date'],\n",
    "        y=df_w['Revenue'],\n",
    "    )\n",
    "]\n",
    "plot_layout = go.Layout(\n",
    "        title='weekly Sales'\n",
    "    )\n",
    "fig = go.Figure(data=plot_data, layout=plot_layout)\n",
    "pyoff.iplot(fig)"
   ]
  },
  {
   "cell_type": "markdown",
   "metadata": {},
   "source": []
  },
  {
   "cell_type": "markdown",
   "metadata": {},
   "source": [
    " Check the data with Dicky-Fuller test as well"
   ]
  },
  {
   "cell_type": "code",
   "execution_count": 56,
   "metadata": {},
   "outputs": [
    {
     "name": "stdout",
     "output_type": "stream",
     "text": [
      "Observations of Dickey-fuller test\n",
      "Test Statistic                  -4.386625\n",
      "p-value                          0.000313\n",
      "#lags used                       1.000000\n",
      "number of observations used    136.000000\n",
      "critical value (1%)             -3.479372\n",
      "critical value (5%)             -2.883037\n",
      "critical value (10%)            -2.578234\n",
      "dtype: float64\n"
     ]
    }
   ],
   "source": [
    "\n",
    "from statsmodels.tsa.stattools import adfuller\n",
    "print(\"Observations of Dickey-fuller test\")\n",
    "dftest = adfuller(df_w['Revenue'],autolag='AIC')\n",
    "dfoutput=pd.Series(dftest[0:4],index=['Test Statistic','p-value','#lags used','number of observations used'])\n",
    "for key,value in dftest[4].items():\n",
    "    dfoutput['critical value (%s)'%key]= value\n",
    "print(dfoutput)"
   ]
  },
  {
   "cell_type": "markdown",
   "metadata": {},
   "source": []
  },
  {
   "cell_type": "code",
   "execution_count": 57,
   "metadata": {},
   "outputs": [],
   "source": [
    "\n",
    "df_w.columns = ['ds','y']"
   ]
  },
  {
   "cell_type": "code",
   "execution_count": 58,
   "metadata": {},
   "outputs": [
    {
     "data": {
      "text/plain": [
       "138"
      ]
     },
     "execution_count": 58,
     "metadata": {},
     "output_type": "execute_result"
    }
   ],
   "source": [
    "len(df_w)"
   ]
  },
  {
   "cell_type": "code",
   "execution_count": 59,
   "metadata": {},
   "outputs": [],
   "source": [
    "\n",
    "train=df_w[:100]\n",
    "test= df_w[100:]"
   ]
  },
  {
   "cell_type": "code",
   "execution_count": 60,
   "metadata": {},
   "outputs": [
    {
     "data": {
      "image/png": "[encoded data removed]",
      "text/plain": [
       "<Figure size 1152x576 with 1 Axes>"
      ]
     },
     "metadata": {
      "needs_background": "light"
     },
     "output_type": "display_data"
    }
   ],
   "source": [
    "# Plot the test and train data\n",
    "fig, ax = plt.subplots(figsize=(16, 8))\n",
    "sns.lineplot(x='ds', y='y', label='train', data=train, ax=ax)\n",
    "sns.lineplot(x='ds', y='y', label='test', data=test, ax=ax)\n",
    "plt.ticklabel_format(style='plain', axis='y')\n",
    "ax.legend(loc='upper left')\n",
    "ax.set(title='Dependent Variable', ylabel='Sales');\n",
    "plt.ticklabel_format(style='plain', axis='y')\n",
    "\n"
   ]
  },
  {
   "cell_type": "markdown",
   "metadata": {},
   "source": []
  },
  {
   "cell_type": "markdown",
   "metadata": {},
   "source": [
    "Train the model"
   ]
  },
  {
   "cell_type": "code",
   "execution_count": 61,
   "metadata": {},
   "outputs": [
    {
     "name": "stderr",
     "output_type": "stream",
     "text": [
      "INFO:fbprophet:Disabling daily seasonality. Run prophet with daily_seasonality=True to override this.\n",
      "/opt/anaconda3/lib/python3.8/site-packages/fbprophet/forecaster.py:891: FutureWarning:\n",
      "\n",
      "The frame.append method is deprecated and will be removed from pandas in a future version. Use pandas.concat instead.\n",
      "\n"
     ]
    },
    {
     "data": {
      "text/plain": [
       "<fbprophet.forecaster.Prophet at 0x7fc1062611f0>"
      ]
     },
     "execution_count": 61,
     "metadata": {},
     "output_type": "execute_result"
    }
   ],
   "source": [
    "m = Prophet(weekly_seasonality=True,yearly_seasonality=True)\n",
    "m.add_seasonality(name='weekly', period=len(train), fourier_order=2)\n",
    "#m.add_country_holidays(country_name='UK')\n",
    "m.fit(train)"
   ]
  },
  {
   "cell_type": "markdown",
   "metadata": {},
   "source": []
  },
  {
   "cell_type": "markdown",
   "metadata": {},
   "source": [
    "Predict weekly sales for Czech Republic"
   ]
  },
  {
   "cell_type": "code",
   "execution_count": 62,
   "metadata": {},
   "outputs": [
    {
     "name": "stderr",
     "output_type": "stream",
     "text": [
      "/opt/anaconda3/lib/python3.8/site-packages/fbprophet/forecaster.py:891: FutureWarning:\n",
      "\n",
      "The frame.append method is deprecated and will be removed from pandas in a future version. Use pandas.concat instead.\n",
      "\n",
      "/opt/anaconda3/lib/python3.8/site-packages/fbprophet/forecaster.py:891: FutureWarning:\n",
      "\n",
      "The frame.append method is deprecated and will be removed from pandas in a future version. Use pandas.concat instead.\n",
      "\n"
     ]
    },
    {
     "data": {
      "text/html": [
       "<div>\n",
       "<style scoped>\n",
       "    .dataframe tbody tr th:only-of-type {\n",
       "        vertical-align: middle;\n",
       "    }\n",
       "\n",
       "    .dataframe tbody tr th {\n",
       "        vertical-align: top;\n",
       "    }\n",
       "\n",
       "    .dataframe thead th {\n",
       "        text-align: right;\n",
       "    }\n",
       "</style>\n",
       "<table border=\"1\" class=\"dataframe\">\n",
       "  <thead>\n",
       "    <tr style=\"text-align: right;\">\n",
       "      <th></th>\n",
       "      <th>ds</th>\n",
       "      <th>trend</th>\n",
       "      <th>yhat_lower</th>\n",
       "      <th>yhat_upper</th>\n",
       "      <th>trend_lower</th>\n",
       "      <th>trend_upper</th>\n",
       "      <th>additive_terms</th>\n",
       "      <th>additive_terms_lower</th>\n",
       "      <th>additive_terms_upper</th>\n",
       "      <th>weekly</th>\n",
       "      <th>weekly_lower</th>\n",
       "      <th>weekly_upper</th>\n",
       "      <th>yearly</th>\n",
       "      <th>yearly_lower</th>\n",
       "      <th>yearly_upper</th>\n",
       "      <th>multiplicative_terms</th>\n",
       "      <th>multiplicative_terms_lower</th>\n",
       "      <th>multiplicative_terms_upper</th>\n",
       "      <th>yhat</th>\n",
       "    </tr>\n",
       "  </thead>\n",
       "  <tbody>\n",
       "    <tr>\n",
       "      <th>0</th>\n",
       "      <td>2019-06-02</td>\n",
       "      <td>16219.419495</td>\n",
       "      <td>25350.393582</td>\n",
       "      <td>69047.771814</td>\n",
       "      <td>16219.419495</td>\n",
       "      <td>16219.419495</td>\n",
       "      <td>31306.176751</td>\n",
       "      <td>31306.176751</td>\n",
       "      <td>31306.176751</td>\n",
       "      <td>44903.157925</td>\n",
       "      <td>44903.157925</td>\n",
       "      <td>44903.157925</td>\n",
       "      <td>-13596.981173</td>\n",
       "      <td>-13596.981173</td>\n",
       "      <td>-13596.981173</td>\n",
       "      <td>0.0</td>\n",
       "      <td>0.0</td>\n",
       "      <td>0.0</td>\n",
       "      <td>47525.596246</td>\n",
       "    </tr>\n",
       "    <tr>\n",
       "      <th>1</th>\n",
       "      <td>2019-06-09</td>\n",
       "      <td>16451.940012</td>\n",
       "      <td>21123.866491</td>\n",
       "      <td>66507.244123</td>\n",
       "      <td>16451.940012</td>\n",
       "      <td>16451.940012</td>\n",
       "      <td>27724.944510</td>\n",
       "      <td>27724.944510</td>\n",
       "      <td>27724.944510</td>\n",
       "      <td>44903.157925</td>\n",
       "      <td>44903.157925</td>\n",
       "      <td>44903.157925</td>\n",
       "      <td>-17178.213415</td>\n",
       "      <td>-17178.213415</td>\n",
       "      <td>-17178.213415</td>\n",
       "      <td>0.0</td>\n",
       "      <td>0.0</td>\n",
       "      <td>0.0</td>\n",
       "      <td>44176.884523</td>\n",
       "    </tr>\n",
       "    <tr>\n",
       "      <th>2</th>\n",
       "      <td>2019-06-16</td>\n",
       "      <td>16684.460529</td>\n",
       "      <td>20850.581608</td>\n",
       "      <td>66112.729652</td>\n",
       "      <td>16684.460529</td>\n",
       "      <td>16684.460529</td>\n",
       "      <td>26355.793803</td>\n",
       "      <td>26355.793803</td>\n",
       "      <td>26355.793803</td>\n",
       "      <td>44903.157925</td>\n",
       "      <td>44903.157925</td>\n",
       "      <td>44903.157925</td>\n",
       "      <td>-18547.364122</td>\n",
       "      <td>-18547.364122</td>\n",
       "      <td>-18547.364122</td>\n",
       "      <td>0.0</td>\n",
       "      <td>0.0</td>\n",
       "      <td>0.0</td>\n",
       "      <td>43040.254332</td>\n",
       "    </tr>\n",
       "    <tr>\n",
       "      <th>3</th>\n",
       "      <td>2019-06-23</td>\n",
       "      <td>16916.981047</td>\n",
       "      <td>20587.914320</td>\n",
       "      <td>65912.201158</td>\n",
       "      <td>16916.981047</td>\n",
       "      <td>16916.981047</td>\n",
       "      <td>26498.430196</td>\n",
       "      <td>26498.430196</td>\n",
       "      <td>26498.430196</td>\n",
       "      <td>44903.157925</td>\n",
       "      <td>44903.157925</td>\n",
       "      <td>44903.157925</td>\n",
       "      <td>-18404.727728</td>\n",
       "      <td>-18404.727728</td>\n",
       "      <td>-18404.727728</td>\n",
       "      <td>0.0</td>\n",
       "      <td>0.0</td>\n",
       "      <td>0.0</td>\n",
       "      <td>43415.411243</td>\n",
       "    </tr>\n",
       "    <tr>\n",
       "      <th>4</th>\n",
       "      <td>2019-06-30</td>\n",
       "      <td>17149.501591</td>\n",
       "      <td>21341.136020</td>\n",
       "      <td>66113.714135</td>\n",
       "      <td>17149.501591</td>\n",
       "      <td>17149.501591</td>\n",
       "      <td>26762.824161</td>\n",
       "      <td>26762.824161</td>\n",
       "      <td>26762.824161</td>\n",
       "      <td>44903.157925</td>\n",
       "      <td>44903.157925</td>\n",
       "      <td>44903.157925</td>\n",
       "      <td>-18140.333764</td>\n",
       "      <td>-18140.333764</td>\n",
       "      <td>-18140.333764</td>\n",
       "      <td>0.0</td>\n",
       "      <td>0.0</td>\n",
       "      <td>0.0</td>\n",
       "      <td>43912.325751</td>\n",
       "    </tr>\n",
       "    <tr>\n",
       "      <th>...</th>\n",
       "      <td>...</td>\n",
       "      <td>...</td>\n",
       "      <td>...</td>\n",
       "      <td>...</td>\n",
       "      <td>...</td>\n",
       "      <td>...</td>\n",
       "      <td>...</td>\n",
       "      <td>...</td>\n",
       "      <td>...</td>\n",
       "      <td>...</td>\n",
       "      <td>...</td>\n",
       "      <td>...</td>\n",
       "      <td>...</td>\n",
       "      <td>...</td>\n",
       "      <td>...</td>\n",
       "      <td>...</td>\n",
       "      <td>...</td>\n",
       "      <td>...</td>\n",
       "      <td>...</td>\n",
       "    </tr>\n",
       "    <tr>\n",
       "      <th>136</th>\n",
       "      <td>2022-01-09</td>\n",
       "      <td>142775.440438</td>\n",
       "      <td>147547.358391</td>\n",
       "      <td>195592.278293</td>\n",
       "      <td>137862.661273</td>\n",
       "      <td>148569.602851</td>\n",
       "      <td>28057.784124</td>\n",
       "      <td>28057.784124</td>\n",
       "      <td>28057.784124</td>\n",
       "      <td>44903.157925</td>\n",
       "      <td>44903.157925</td>\n",
       "      <td>44903.157925</td>\n",
       "      <td>-16845.373801</td>\n",
       "      <td>-16845.373801</td>\n",
       "      <td>-16845.373801</td>\n",
       "      <td>0.0</td>\n",
       "      <td>0.0</td>\n",
       "      <td>0.0</td>\n",
       "      <td>170833.224562</td>\n",
       "    </tr>\n",
       "    <tr>\n",
       "      <th>137</th>\n",
       "      <td>2022-01-16</td>\n",
       "      <td>144234.198910</td>\n",
       "      <td>160754.349387</td>\n",
       "      <td>204713.795243</td>\n",
       "      <td>139159.963232</td>\n",
       "      <td>150290.001903</td>\n",
       "      <td>37098.106811</td>\n",
       "      <td>37098.106811</td>\n",
       "      <td>37098.106811</td>\n",
       "      <td>44903.157925</td>\n",
       "      <td>44903.157925</td>\n",
       "      <td>44903.157925</td>\n",
       "      <td>-7805.051114</td>\n",
       "      <td>-7805.051114</td>\n",
       "      <td>-7805.051114</td>\n",
       "      <td>0.0</td>\n",
       "      <td>0.0</td>\n",
       "      <td>0.0</td>\n",
       "      <td>181332.305721</td>\n",
       "    </tr>\n",
       "    <tr>\n",
       "      <th>138</th>\n",
       "      <td>2022-01-23</td>\n",
       "      <td>145692.957382</td>\n",
       "      <td>158444.240585</td>\n",
       "      <td>205378.135440</td>\n",
       "      <td>140466.889521</td>\n",
       "      <td>152031.810407</td>\n",
       "      <td>34781.969833</td>\n",
       "      <td>34781.969833</td>\n",
       "      <td>34781.969833</td>\n",
       "      <td>44903.157925</td>\n",
       "      <td>44903.157925</td>\n",
       "      <td>44903.157925</td>\n",
       "      <td>-10121.188091</td>\n",
       "      <td>-10121.188091</td>\n",
       "      <td>-10121.188091</td>\n",
       "      <td>0.0</td>\n",
       "      <td>0.0</td>\n",
       "      <td>0.0</td>\n",
       "      <td>180474.927215</td>\n",
       "    </tr>\n",
       "    <tr>\n",
       "      <th>139</th>\n",
       "      <td>2022-01-30</td>\n",
       "      <td>147151.715853</td>\n",
       "      <td>149965.530851</td>\n",
       "      <td>196057.336194</td>\n",
       "      <td>141702.716473</td>\n",
       "      <td>153760.904791</td>\n",
       "      <td>25703.640471</td>\n",
       "      <td>25703.640471</td>\n",
       "      <td>25703.640471</td>\n",
       "      <td>44903.157925</td>\n",
       "      <td>44903.157925</td>\n",
       "      <td>44903.157925</td>\n",
       "      <td>-19199.517454</td>\n",
       "      <td>-19199.517454</td>\n",
       "      <td>-19199.517454</td>\n",
       "      <td>0.0</td>\n",
       "      <td>0.0</td>\n",
       "      <td>0.0</td>\n",
       "      <td>172855.356324</td>\n",
       "    </tr>\n",
       "    <tr>\n",
       "      <th>140</th>\n",
       "      <td>2022-02-06</td>\n",
       "      <td>148610.474325</td>\n",
       "      <td>143144.635481</td>\n",
       "      <td>192292.870754</td>\n",
       "      <td>142928.364764</td>\n",
       "      <td>155430.655214</td>\n",
       "      <td>18629.260094</td>\n",
       "      <td>18629.260094</td>\n",
       "      <td>18629.260094</td>\n",
       "      <td>44903.157925</td>\n",
       "      <td>44903.157925</td>\n",
       "      <td>44903.157925</td>\n",
       "      <td>-26273.897831</td>\n",
       "      <td>-26273.897831</td>\n",
       "      <td>-26273.897831</td>\n",
       "      <td>0.0</td>\n",
       "      <td>0.0</td>\n",
       "      <td>0.0</td>\n",
       "      <td>167239.734418</td>\n",
       "    </tr>\n",
       "  </tbody>\n",
       "</table>\n",
       "<p>141 rows × 19 columns</p>\n",
       "</div>"
      ],
      "text/plain": [
       "            ds          trend     yhat_lower     yhat_upper    trend_lower  \\\n",
       "0   2019-06-02   16219.419495   25350.393582   69047.771814   16219.419495   \n",
       "1   2019-06-09   16451.940012   21123.866491   66507.244123   16451.940012   \n",
       "2   2019-06-16   16684.460529   20850.581608   66112.729652   16684.460529   \n",
       "3   2019-06-23   16916.981047   20587.914320   65912.201158   16916.981047   \n",
       "4   2019-06-30   17149.501591   21341.136020   66113.714135   17149.501591   \n",
       "..         ...            ...            ...            ...            ...   \n",
       "136 2022-01-09  142775.440438  147547.358391  195592.278293  137862.661273   \n",
       "137 2022-01-16  144234.198910  160754.349387  204713.795243  139159.963232   \n",
       "138 2022-01-23  145692.957382  158444.240585  205378.135440  140466.889521   \n",
       "139 2022-01-30  147151.715853  149965.530851  196057.336194  141702.716473   \n",
       "140 2022-02-06  148610.474325  143144.635481  192292.870754  142928.364764   \n",
       "\n",
       "       trend_upper  additive_terms  additive_terms_lower  \\\n",
       "0     16219.419495    31306.176751          31306.176751   \n",
       "1     16451.940012    27724.944510          27724.944510   \n",
       "2     16684.460529    26355.793803          26355.793803   \n",
       "3     16916.981047    26498.430196          26498.430196   \n",
       "4     17149.501591    26762.824161          26762.824161   \n",
       "..             ...             ...                   ...   \n",
       "136  148569.602851    28057.784124          28057.784124   \n",
       "137  150290.001903    37098.106811          37098.106811   \n",
       "138  152031.810407    34781.969833          34781.969833   \n",
       "139  153760.904791    25703.640471          25703.640471   \n",
       "140  155430.655214    18629.260094          18629.260094   \n",
       "\n",
       "     additive_terms_upper        weekly  weekly_lower  weekly_upper  \\\n",
       "0            31306.176751  44903.157925  44903.157925  44903.157925   \n",
       "1            27724.944510  44903.157925  44903.157925  44903.157925   \n",
       "2            26355.793803  44903.157925  44903.157925  44903.157925   \n",
       "3            26498.430196  44903.157925  44903.157925  44903.157925   \n",
       "4            26762.824161  44903.157925  44903.157925  44903.157925   \n",
       "..                    ...           ...           ...           ...   \n",
       "136          28057.784124  44903.157925  44903.157925  44903.157925   \n",
       "137          37098.106811  44903.157925  44903.157925  44903.157925   \n",
       "138          34781.969833  44903.157925  44903.157925  44903.157925   \n",
       "139          25703.640471  44903.157925  44903.157925  44903.157925   \n",
       "140          18629.260094  44903.157925  44903.157925  44903.157925   \n",
       "\n",
       "           yearly  yearly_lower  yearly_upper  multiplicative_terms  \\\n",
       "0   -13596.981173 -13596.981173 -13596.981173                   0.0   \n",
       "1   -17178.213415 -17178.213415 -17178.213415                   0.0   \n",
       "2   -18547.364122 -18547.364122 -18547.364122                   0.0   \n",
       "3   -18404.727728 -18404.727728 -18404.727728                   0.0   \n",
       "4   -18140.333764 -18140.333764 -18140.333764                   0.0   \n",
       "..            ...           ...           ...                   ...   \n",
       "136 -16845.373801 -16845.373801 -16845.373801                   0.0   \n",
       "137  -7805.051114  -7805.051114  -7805.051114                   0.0   \n",
       "138 -10121.188091 -10121.188091 -10121.188091                   0.0   \n",
       "139 -19199.517454 -19199.517454 -19199.517454                   0.0   \n",
       "140 -26273.897831 -26273.897831 -26273.897831                   0.0   \n",
       "\n",
       "     multiplicative_terms_lower  multiplicative_terms_upper           yhat  \n",
       "0                           0.0                         0.0   47525.596246  \n",
       "1                           0.0                         0.0   44176.884523  \n",
       "2                           0.0                         0.0   43040.254332  \n",
       "3                           0.0                         0.0   43415.411243  \n",
       "4                           0.0                         0.0   43912.325751  \n",
       "..                          ...                         ...            ...  \n",
       "136                         0.0                         0.0  170833.224562  \n",
       "137                         0.0                         0.0  181332.305721  \n",
       "138                         0.0                         0.0  180474.927215  \n",
       "139                         0.0                         0.0  172855.356324  \n",
       "140                         0.0                         0.0  167239.734418  \n",
       "\n",
       "[141 rows x 19 columns]"
      ]
     },
     "execution_count": 62,
     "metadata": {},
     "output_type": "execute_result"
    }
   ],
   "source": [
    "future = m.make_future_dataframe(periods= len(test)+3, freq = 'W')\n",
    "forecast = m.predict(future)\n",
    "forecast"
   ]
  },
  {
   "cell_type": "code",
   "execution_count": 63,
   "metadata": {},
   "outputs": [
    {
     "data": {
      "image/png": "[encoded data removed]",
      "text/plain": [
       "<Figure size 720x432 with 1 Axes>"
      ]
     },
     "metadata": {},
     "output_type": "display_data"
    }
   ],
   "source": [
    "#plot the forcaste\n",
    "fig1 = m.plot(forecast)\n"
   ]
  },
  {
   "cell_type": "code",
   "execution_count": 64,
   "metadata": {},
   "outputs": [
    {
     "name": "stderr",
     "output_type": "stream",
     "text": [
      "/opt/anaconda3/lib/python3.8/site-packages/fbprophet/forecaster.py:891: FutureWarning:\n",
      "\n",
      "The frame.append method is deprecated and will be removed from pandas in a future version. Use pandas.concat instead.\n",
      "\n",
      "/opt/anaconda3/lib/python3.8/site-packages/fbprophet/forecaster.py:891: FutureWarning:\n",
      "\n",
      "The frame.append method is deprecated and will be removed from pandas in a future version. Use pandas.concat instead.\n",
      "\n"
     ]
    },
    {
     "data": {
      "image/png": "[encoded data removed]",
      "text/plain": [
       "<Figure size 648x648 with 3 Axes>"
      ]
     },
     "metadata": {},
     "output_type": "display_data"
    }
   ],
   "source": [
    "# plot the component\n",
    "m.plot_components(forecast)\n",
    "plt.show()"
   ]
  },
  {
   "cell_type": "markdown",
   "metadata": {},
   "source": []
  },
  {
   "cell_type": "markdown",
   "metadata": {},
   "source": [
    "Now, predict with unseen data (test data)"
   ]
  },
  {
   "cell_type": "code",
   "execution_count": 65,
   "metadata": {},
   "outputs": [
    {
     "name": "stderr",
     "output_type": "stream",
     "text": [
      "/opt/anaconda3/lib/python3.8/site-packages/fbprophet/forecaster.py:891: FutureWarning:\n",
      "\n",
      "The frame.append method is deprecated and will be removed from pandas in a future version. Use pandas.concat instead.\n",
      "\n",
      "/opt/anaconda3/lib/python3.8/site-packages/fbprophet/forecaster.py:891: FutureWarning:\n",
      "\n",
      "The frame.append method is deprecated and will be removed from pandas in a future version. Use pandas.concat instead.\n",
      "\n"
     ]
    },
    {
     "data": {
      "text/html": [
       "<div>\n",
       "<style scoped>\n",
       "    .dataframe tbody tr th:only-of-type {\n",
       "        vertical-align: middle;\n",
       "    }\n",
       "\n",
       "    .dataframe tbody tr th {\n",
       "        vertical-align: top;\n",
       "    }\n",
       "\n",
       "    .dataframe thead th {\n",
       "        text-align: right;\n",
       "    }\n",
       "</style>\n",
       "<table border=\"1\" class=\"dataframe\">\n",
       "  <thead>\n",
       "    <tr style=\"text-align: right;\">\n",
       "      <th></th>\n",
       "      <th>ds</th>\n",
       "      <th>yhat</th>\n",
       "      <th>yhat_lower</th>\n",
       "      <th>yhat_upper</th>\n",
       "    </tr>\n",
       "  </thead>\n",
       "  <tbody>\n",
       "    <tr>\n",
       "      <th>31</th>\n",
       "      <td>2021-12-05</td>\n",
       "      <td>285255.619754</td>\n",
       "      <td>263724.155543</td>\n",
       "      <td>307464.784856</td>\n",
       "    </tr>\n",
       "    <tr>\n",
       "      <th>32</th>\n",
       "      <td>2021-12-12</td>\n",
       "      <td>233965.904112</td>\n",
       "      <td>212168.414570</td>\n",
       "      <td>256427.068844</td>\n",
       "    </tr>\n",
       "    <tr>\n",
       "      <th>33</th>\n",
       "      <td>2021-12-19</td>\n",
       "      <td>182179.836504</td>\n",
       "      <td>160385.137108</td>\n",
       "      <td>204799.878230</td>\n",
       "    </tr>\n",
       "    <tr>\n",
       "      <th>34</th>\n",
       "      <td>2021-12-26</td>\n",
       "      <td>155014.132202</td>\n",
       "      <td>134359.626340</td>\n",
       "      <td>178960.585439</td>\n",
       "    </tr>\n",
       "    <tr>\n",
       "      <th>35</th>\n",
       "      <td>2022-01-02</td>\n",
       "      <td>156178.356524</td>\n",
       "      <td>133797.990904</td>\n",
       "      <td>178927.088799</td>\n",
       "    </tr>\n",
       "    <tr>\n",
       "      <th>36</th>\n",
       "      <td>2022-01-09</td>\n",
       "      <td>170833.224562</td>\n",
       "      <td>147538.369500</td>\n",
       "      <td>194608.860131</td>\n",
       "    </tr>\n",
       "    <tr>\n",
       "      <th>37</th>\n",
       "      <td>2022-01-16</td>\n",
       "      <td>181332.305721</td>\n",
       "      <td>158857.184173</td>\n",
       "      <td>203631.337117</td>\n",
       "    </tr>\n",
       "  </tbody>\n",
       "</table>\n",
       "</div>"
      ],
      "text/plain": [
       "           ds           yhat     yhat_lower     yhat_upper\n",
       "31 2021-12-05  285255.619754  263724.155543  307464.784856\n",
       "32 2021-12-12  233965.904112  212168.414570  256427.068844\n",
       "33 2021-12-19  182179.836504  160385.137108  204799.878230\n",
       "34 2021-12-26  155014.132202  134359.626340  178960.585439\n",
       "35 2022-01-02  156178.356524  133797.990904  178927.088799\n",
       "36 2022-01-09  170833.224562  147538.369500  194608.860131\n",
       "37 2022-01-16  181332.305721  158857.184173  203631.337117"
      ]
     },
     "execution_count": 65,
     "metadata": {},
     "output_type": "execute_result"
    }
   ],
   "source": [
    "test_forecast=m.predict(test)\n",
    "test_forecast[['ds', 'yhat', 'yhat_lower', 'yhat_upper']].tail(7)"
   ]
  },
  {
   "cell_type": "markdown",
   "metadata": {},
   "source": []
  },
  {
   "cell_type": "markdown",
   "metadata": {},
   "source": [
    "Plot the forecast vs actual values"
   ]
  },
  {
   "cell_type": "code",
   "execution_count": 66,
   "metadata": {},
   "outputs": [
    {
     "data": {
      "text/plain": [
       "Text(0.5, 1.0, 'Forecast VS Actual')"
      ]
     },
     "execution_count": 66,
     "metadata": {},
     "output_type": "execute_result"
    },
    {
     "data": {
      "image/png": "[encoded data removed]",
      "text/plain": [
       "<Figure size 1080x360 with 1 Axes>"
      ]
     },
     "metadata": {
      "needs_background": "light"
     },
     "output_type": "display_data"
    }
   ],
   "source": [
    "# Plot the forecast VS the actuals\n",
    "f, ax = plt.subplots(figsize=(14, 5))\n",
    "f.set_figheight(5)\n",
    "f.set_figwidth(15)\n",
    "test.plot(x='ds', y='y', color='r', label='Test', ax=ax)\n",
    "test_forecast.plot(x='ds', y='yhat', label='Forecast', ax=ax)\n",
    "plt.legend()\n",
    "ax.set_xlabel('Date')\n",
    "ax.set_ylabel('Sales')\n",
    "plt.title('Forecast VS Actual')"
   ]
  },
  {
   "cell_type": "markdown",
   "metadata": {},
   "source": [
    " Evaluate the model performance"
   ]
  },
  {
   "cell_type": "code",
   "execution_count": 67,
   "metadata": {},
   "outputs": [
    {
     "data": {
      "text/html": [
       "<div>\n",
       "<style scoped>\n",
       "    .dataframe tbody tr th:only-of-type {\n",
       "        vertical-align: middle;\n",
       "    }\n",
       "\n",
       "    .dataframe tbody tr th {\n",
       "        vertical-align: top;\n",
       "    }\n",
       "\n",
       "    .dataframe thead th {\n",
       "        text-align: right;\n",
       "    }\n",
       "</style>\n",
       "<table border=\"1\" class=\"dataframe\">\n",
       "  <thead>\n",
       "    <tr style=\"text-align: right;\">\n",
       "      <th></th>\n",
       "      <th>ds</th>\n",
       "      <th>yhat_lower</th>\n",
       "      <th>yhat_upper</th>\n",
       "      <th>yhat</th>\n",
       "      <th>y</th>\n",
       "    </tr>\n",
       "  </thead>\n",
       "  <tbody>\n",
       "    <tr>\n",
       "      <th>0</th>\n",
       "      <td>2021-05-02</td>\n",
       "      <td>125532.934929</td>\n",
       "      <td>170426.590188</td>\n",
       "      <td>147137.869138</td>\n",
       "      <td>119922.343480</td>\n",
       "    </tr>\n",
       "    <tr>\n",
       "      <th>1</th>\n",
       "      <td>2021-05-09</td>\n",
       "      <td>121020.287576</td>\n",
       "      <td>166486.266272</td>\n",
       "      <td>143249.738890</td>\n",
       "      <td>95552.112528</td>\n",
       "    </tr>\n",
       "    <tr>\n",
       "      <th>2</th>\n",
       "      <td>2021-05-16</td>\n",
       "      <td>115870.265425</td>\n",
       "      <td>160387.389390</td>\n",
       "      <td>138159.999146</td>\n",
       "      <td>105017.167924</td>\n",
       "    </tr>\n",
       "    <tr>\n",
       "      <th>3</th>\n",
       "      <td>2021-05-23</td>\n",
       "      <td>110937.686705</td>\n",
       "      <td>156398.604221</td>\n",
       "      <td>133294.946399</td>\n",
       "      <td>90407.080757</td>\n",
       "    </tr>\n",
       "    <tr>\n",
       "      <th>4</th>\n",
       "      <td>2021-05-30</td>\n",
       "      <td>109136.561622</td>\n",
       "      <td>151653.943726</td>\n",
       "      <td>129131.224651</td>\n",
       "      <td>97621.074155</td>\n",
       "    </tr>\n",
       "  </tbody>\n",
       "</table>\n",
       "</div>"
      ],
      "text/plain": [
       "          ds     yhat_lower     yhat_upper           yhat              y\n",
       "0 2021-05-02  125532.934929  170426.590188  147137.869138  119922.343480\n",
       "1 2021-05-09  121020.287576  166486.266272  143249.738890   95552.112528\n",
       "2 2021-05-16  115870.265425  160387.389390  138159.999146  105017.167924\n",
       "3 2021-05-23  110937.686705  156398.604221  133294.946399   90407.080757\n",
       "4 2021-05-30  109136.561622  151653.943726  129131.224651   97621.074155"
      ]
     },
     "execution_count": 67,
     "metadata": {},
     "output_type": "execute_result"
    }
   ],
   "source": [
    "df_merge = pd.merge(test, forecast[['ds','yhat_lower','yhat_upper','yhat']],on='ds')\n",
    "df_merge = df_merge[['ds','yhat_lower','yhat_upper','yhat','y']]\n",
    "df_merge.head()"
   ]
  },
  {
   "cell_type": "code",
   "execution_count": 68,
   "metadata": {},
   "outputs": [
    {
     "name": "stdout",
     "output_type": "stream",
     "text": [
      "MAE: 60846.792183109166 MAPE: 0.6758133340323824\n"
     ]
    }
   ],
   "source": [
    "from sklearn.metrics import mean_absolute_error\n",
    "from sklearn.metrics import mean_absolute_percentage_error\n",
    "\n",
    "y_true = df_merge['y'].values\n",
    "y_pred = df_merge['yhat'].values\n",
    "mae_01 = mean_absolute_error(y_true, y_pred)\n",
    "mape_01 = mean_absolute_percentage_error(y_true, y_pred)\n",
    "\n",
    "print('MAE:', mae_01, 'MAPE:',mape_01)"
   ]
  },
  {
   "cell_type": "markdown",
   "metadata": {},
   "source": []
  },
  {
   "cell_type": "markdown",
   "metadata": {},
   "source": [
    "Hyper parameter tuning"
   ]
  },
  {
   "cell_type": "code",
   "execution_count": 69,
   "metadata": {},
   "outputs": [
    {
     "name": "stderr",
     "output_type": "stream",
     "text": [
      "INFO:fbprophet:Disabling weekly seasonality. Run prophet with weekly_seasonality=True to override this.\n",
      "INFO:fbprophet:Disabling daily seasonality. Run prophet with daily_seasonality=True to override this.\n",
      "/opt/anaconda3/lib/python3.8/site-packages/fbprophet/forecaster.py:891: FutureWarning:\n",
      "\n",
      "The frame.append method is deprecated and will be removed from pandas in a future version. Use pandas.concat instead.\n",
      "\n",
      "WARNING:fbprophet.models:Optimization terminated abnormally. Falling back to Newton.\n",
      "INFO:fbprophet:Making 85 forecasts with cutoffs between 2020-06-06 23:59:59.999999970 and 2022-01-15 23:59:59.999999970\n",
      "INFO:fbprophet:Applying in parallel with <concurrent.futures.process.ProcessPoolExecutor object at 0x7fc0b7952490>\n",
      "INFO:fbprophet:Disabling weekly seasonality. Run prophet with weekly_seasonality=True to override this.\n",
      "INFO:fbprophet:Disabling daily seasonality. Run prophet with daily_seasonality=True to override this.\n",
      "/opt/anaconda3/lib/python3.8/site-packages/fbprophet/forecaster.py:891: FutureWarning:\n",
      "\n",
      "The frame.append method is deprecated and will be removed from pandas in a future version. Use pandas.concat instead.\n",
      "\n",
      "WARNING:fbprophet.models:Optimization terminated abnormally. Falling back to Newton.\n",
      "INFO:fbprophet:Making 85 forecasts with cutoffs between 2020-06-06 23:59:59.999999970 and 2022-01-15 23:59:59.999999970\n",
      "INFO:fbprophet:Applying in parallel with <concurrent.futures.process.ProcessPoolExecutor object at 0x7fc0b7952220>\n"
     ]
    }
   ],
   "source": [
    "# Let's tun the hpyer parameter\n",
    "import itertools\n",
    "\n",
    "param_grid = {  \n",
    "    'changepoint_prior_scale': [0.001, 0.01, 0.1, 0.5],\n",
    "    'seasonality_prior_scale': [0.01, 0.1, 1.0, 10.0],   \n",
    "}\n",
    "\n",
    "# Generate all combinations of parameters\n",
    "all_params = [dict(zip(param_grid.keys(), v)) for v in itertools.product(*param_grid.values())]\n",
    "maes = []  # Store the MAE for each params here\n",
    "mapes = [] # Store the MAPE for each params here\n",
    "\n",
    "# Use cross validation to evaluate all parameters\n",
    "for params in all_params:\n",
    "    m = Prophet(**params).fit(df_w)  # Fit model with given params\n",
    "    df_cv = cross_validation(m, horizon='30', parallel=\"processes\")\n",
    "    df_p = performance_metrics(df_cv, rolling_window=1)\n",
    "    maes.append(df_p['mae'].values[0])\n",
    "    mapes.append(df_p['mape'].values[0])\n",
    "\n",
    "# Find the best parameters\n",
    "tuning_results = pd.DataFrame(all_params)\n",
    "tuning_results['mae'] = maes\n",
    "tuning_results['mape'] = mapes"
   ]
  },
  {
   "cell_type": "markdown",
   "metadata": {},
   "source": []
  },
  {
   "cell_type": "markdown",
   "metadata": {},
   "source": [
    "Find the best  parameters and compare the results"
   ]
  },
  {
   "cell_type": "code",
   "execution_count": null,
   "metadata": {},
   "outputs": [
    {
     "name": "stdout",
     "output_type": "stream",
     "text": [
      "{'changepoint_prior_scale': 0.5, 'seasonality_prior_scale': 10.0}\n"
     ]
    }
   ],
   "source": [
    "best_params = all_params[np.argmin(mapes)]\n",
    "print(best_params)"
   ]
  },
  {
   "cell_type": "markdown",
   "metadata": {},
   "source": []
  },
  {
   "cell_type": "markdown",
   "metadata": {},
   "source": [
    "Train the model with best parameters"
   ]
  },
  {
   "cell_type": "code",
   "execution_count": null,
   "metadata": {},
   "outputs": [
    {
     "name": "stderr",
     "output_type": "stream",
     "text": [
      "INFO:fbprophet:Disabling daily seasonality. Run prophet with daily_seasonality=True to override this.\n",
      "/opt/anaconda3/lib/python3.8/site-packages/fbprophet/forecaster.py:891: FutureWarning:\n",
      "\n",
      "The frame.append method is deprecated and will be removed from pandas in a future version. Use pandas.concat instead.\n",
      "\n"
     ]
    }
   ],
   "source": [
    "\n",
    "m_01 = Prophet(weekly_seasonality=True,yearly_seasonality=True,\n",
    "changepoint_prior_scale = best_params['changepoint_prior_scale'],\n",
    "seasonality_prior_scale = best_params['seasonality_prior_scale'] )\n",
    "m_01.add_seasonality(name='weekly', period=len(train), fourier_order=2)\n",
    "#m.add_country_holidays(country_name='UK')\n",
    "model = m_01.fit(train)"
   ]
  },
  {
   "cell_type": "markdown",
   "metadata": {},
   "source": []
  },
  {
   "cell_type": "code",
   "execution_count": null,
   "metadata": {},
   "outputs": [
    {
     "name": "stderr",
     "output_type": "stream",
     "text": [
      "/opt/anaconda3/lib/python3.8/site-packages/fbprophet/forecaster.py:891: FutureWarning:\n",
      "\n",
      "The frame.append method is deprecated and will be removed from pandas in a future version. Use pandas.concat instead.\n",
      "\n",
      "/opt/anaconda3/lib/python3.8/site-packages/fbprophet/forecaster.py:891: FutureWarning:\n",
      "\n",
      "The frame.append method is deprecated and will be removed from pandas in a future version. Use pandas.concat instead.\n",
      "\n"
     ]
    }
   ],
   "source": [
    "future_01 = model.make_future_dataframe(periods=len(test)+3, freq = 'W')\n",
    "forecast_01 = model.predict(future_01)"
   ]
  },
  {
   "cell_type": "markdown",
   "metadata": {},
   "source": []
  },
  {
   "cell_type": "markdown",
   "metadata": {},
   "source": [
    "Check the model peformance after tunning the parameters"
   ]
  },
  {
   "cell_type": "code",
   "execution_count": null,
   "metadata": {},
   "outputs": [
    {
     "data": {
      "text/html": [
       "<div>\n",
       "<style scoped>\n",
       "    .dataframe tbody tr th:only-of-type {\n",
       "        vertical-align: middle;\n",
       "    }\n",
       "\n",
       "    .dataframe tbody tr th {\n",
       "        vertical-align: top;\n",
       "    }\n",
       "\n",
       "    .dataframe thead th {\n",
       "        text-align: right;\n",
       "    }\n",
       "</style>\n",
       "<table border=\"1\" class=\"dataframe\">\n",
       "  <thead>\n",
       "    <tr style=\"text-align: right;\">\n",
       "      <th></th>\n",
       "      <th>ds</th>\n",
       "      <th>yhat_lower</th>\n",
       "      <th>yhat_upper</th>\n",
       "      <th>yhat</th>\n",
       "      <th>y</th>\n",
       "    </tr>\n",
       "  </thead>\n",
       "  <tbody>\n",
       "    <tr>\n",
       "      <th>0</th>\n",
       "      <td>2021-05-02</td>\n",
       "      <td>138870.158596</td>\n",
       "      <td>183029.854477</td>\n",
       "      <td>161077.518425</td>\n",
       "      <td>119922.343480</td>\n",
       "    </tr>\n",
       "    <tr>\n",
       "      <th>1</th>\n",
       "      <td>2021-05-09</td>\n",
       "      <td>139195.945828</td>\n",
       "      <td>181475.984001</td>\n",
       "      <td>160828.242454</td>\n",
       "      <td>95552.112528</td>\n",
       "    </tr>\n",
       "    <tr>\n",
       "      <th>2</th>\n",
       "      <td>2021-05-16</td>\n",
       "      <td>136582.365178</td>\n",
       "      <td>180383.803604</td>\n",
       "      <td>158000.892542</td>\n",
       "      <td>105017.167924</td>\n",
       "    </tr>\n",
       "    <tr>\n",
       "      <th>3</th>\n",
       "      <td>2021-05-23</td>\n",
       "      <td>131243.484206</td>\n",
       "      <td>175753.759135</td>\n",
       "      <td>154004.490497</td>\n",
       "      <td>90407.080757</td>\n",
       "    </tr>\n",
       "    <tr>\n",
       "      <th>4</th>\n",
       "      <td>2021-05-30</td>\n",
       "      <td>126412.291450</td>\n",
       "      <td>172627.828239</td>\n",
       "      <td>150163.909103</td>\n",
       "      <td>97621.074155</td>\n",
       "    </tr>\n",
       "  </tbody>\n",
       "</table>\n",
       "</div>"
      ],
      "text/plain": [
       "          ds     yhat_lower     yhat_upper           yhat              y\n",
       "0 2021-05-02  138870.158596  183029.854477  161077.518425  119922.343480\n",
       "1 2021-05-09  139195.945828  181475.984001  160828.242454   95552.112528\n",
       "2 2021-05-16  136582.365178  180383.803604  158000.892542  105017.167924\n",
       "3 2021-05-23  131243.484206  175753.759135  154004.490497   90407.080757\n",
       "4 2021-05-30  126412.291450  172627.828239  150163.909103   97621.074155"
      ]
     },
     "execution_count": 45,
     "metadata": {},
     "output_type": "execute_result"
    }
   ],
   "source": [
    "df_merge_1 = pd.merge(test, forecast_01[['ds','yhat_lower','yhat_upper','yhat']],on='ds')\n",
    "df_merge_1 = df_merge_1[['ds','yhat_lower','yhat_upper','yhat','y']]\n",
    "df_merge_1.head()"
   ]
  },
  {
   "cell_type": "markdown",
   "metadata": {},
   "source": []
  },
  {
   "cell_type": "markdown",
   "metadata": {},
   "source": [
    "Check model performance after tuning parameters"
   ]
  },
  {
   "cell_type": "code",
   "execution_count": null,
   "metadata": {},
   "outputs": [
    {
     "name": "stdout",
     "output_type": "stream",
     "text": [
      "mape after tuning prarameters: 0.9637129814950498\n"
     ]
    }
   ],
   "source": [
    "y_true_01 = df_merge_1['y'].values\n",
    "y_pred_01= df_merge_1['yhat'].values\n",
    "#mae_02 = mean_absolute_error(y_true_01, y_pred_01)\n",
    "mape_02 = mean_absolute_percentage_error(y_true_01, y_pred_01)\n",
    "\n",
    "print('mape after tuning prarameters:',mape_02)"
   ]
  },
  {
   "cell_type": "markdown",
   "metadata": {},
   "source": [
    "It seems that parmeter tuning doesn't improved  model performance"
   ]
  }
 ],
 "metadata": {
  "interpreter": {
   "hash": "40d3a090f54c6569ab1632332b64b2c03c39dcf918b08424e98f38b5ae0af88f"
  },
  "kernelspec": {
   "display_name": "Python 3.8.8 64-bit ('base': conda)",
   "language": "python",
   "name": "python3"
  },
  "language_info": {
   "codemirror_mode": {
    "name": "ipython",
    "version": 3
   },
   "file_extension": ".py",
   "mimetype": "text/x-python",
   "name": "python",
   "nbconvert_exporter": "python",
   "pygments_lexer": "ipython3",
   "version": "3.8.8"
  },
  "orig_nbformat": 4
 },
 "nbformat": 4,
 "nbformat_minor": 2
}
