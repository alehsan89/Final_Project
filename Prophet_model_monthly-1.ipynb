{
 "cells": [
  {
   "cell_type": "markdown",
   "metadata": {},
   "source": [
    "## 1- Import libraries"
   ]
  },
  {
   "cell_type": "code",
   "execution_count": 93,
   "metadata": {},
   "outputs": [],
   "source": [
    "import pandas as pd\n",
    "import numpy as np\n",
    "from datetime import datetime\n",
    "import seaborn as sns\n",
    "import matplotlib.pyplot as plt\n",
    "%matplotlib inline\n",
    "pd.set_option('display.max_columns', None)\n",
    "# Right after importing seaborn (could also use 'whitegrid')\n",
    "sns.set_theme(style='darkgrid', context='talk')\n",
    "\n",
    "import warnings\n",
    "warnings.filterwarnings('ignore')\n",
    "\n",
    "from fbprophet import Prophet\n",
    "from fbprophet.diagnostics import performance_metrics\n",
    "from fbprophet.diagnostics import cross_validation\n",
    "from sklearn.metrics import mean_squared_error\n",
    "from numpy import sqrt\n",
    "plt.rcParams['figure.figsize']=(20,10)\n",
    "plt.style.use('ggplot')\n",
    "import chart_studio.plotly as py\n",
    "import plotly.offline as pyoff\n",
    "import plotly.graph_objs as go\n",
    "pd.plotting.register_matplotlib_converters()\n",
    "import copy"
   ]
  },
  {
   "cell_type": "markdown",
   "metadata": {},
   "source": [
    "## 2- Load data"
   ]
  },
  {
   "cell_type": "code",
   "execution_count": 94,
   "metadata": {},
   "outputs": [],
   "source": [
    "\n",
    "df = pd.read_csv('/Users/alijanehsan/Downloads/Final_project/merge.csv', index_col =0)"
   ]
  },
  {
   "cell_type": "code",
   "execution_count": 131,
   "metadata": {},
   "outputs": [
    {
     "data": {
      "text/html": [
       "<div>\n",
       "<style scoped>\n",
       "    .dataframe tbody tr th:only-of-type {\n",
       "        vertical-align: middle;\n",
       "    }\n",
       "\n",
       "    .dataframe tbody tr th {\n",
       "        vertical-align: top;\n",
       "    }\n",
       "\n",
       "    .dataframe thead th {\n",
       "        text-align: right;\n",
       "    }\n",
       "</style>\n",
       "<table border=\"1\" class=\"dataframe\">\n",
       "  <thead>\n",
       "    <tr style=\"text-align: right;\">\n",
       "      <th></th>\n",
       "      <th>date</th>\n",
       "      <th>item_code</th>\n",
       "      <th>quantity</th>\n",
       "      <th>unit_price_vat_excl</th>\n",
       "      <th>unit_cogs</th>\n",
       "      <th>unit_rrp_vat_excl</th>\n",
       "      <th>department</th>\n",
       "      <th>site</th>\n",
       "      <th>sale</th>\n",
       "      <th>country</th>\n",
       "      <th>item_name</th>\n",
       "      <th>style</th>\n",
       "      <th>name</th>\n",
       "      <th>group0</th>\n",
       "      <th>group1</th>\n",
       "      <th>category</th>\n",
       "      <th>gender</th>\n",
       "      <th>age</th>\n",
       "      <th>color</th>\n",
       "      <th>size</th>\n",
       "      <th>kids</th>\n",
       "      <th>men</th>\n",
       "      <th>unisex</th>\n",
       "      <th>women</th>\n",
       "      <th>day</th>\n",
       "      <th>month</th>\n",
       "    </tr>\n",
       "  </thead>\n",
       "  <tbody>\n",
       "    <tr>\n",
       "      <th>0</th>\n",
       "      <td>2022-01-14</td>\n",
       "      <td>ZB00245086</td>\n",
       "      <td>1</td>\n",
       "      <td>107.443868</td>\n",
       "      <td>63.815891</td>\n",
       "      <td>126.367186</td>\n",
       "      <td>E-COMMER</td>\n",
       "      <td>top4running.at</td>\n",
       "      <td>107.443868</td>\n",
       "      <td>Austria</td>\n",
       "      <td>Cloudsurfer</td>\n",
       "      <td>54-99218</td>\n",
       "      <td>On Running</td>\n",
       "      <td>Footwear</td>\n",
       "      <td>Running shoes</td>\n",
       "      <td>running</td>\n",
       "      <td>men</td>\n",
       "      <td>adults</td>\n",
       "      <td>White</td>\n",
       "      <td>44</td>\n",
       "      <td>0</td>\n",
       "      <td>1</td>\n",
       "      <td>0</td>\n",
       "      <td>0</td>\n",
       "      <td>Friday</td>\n",
       "      <td>January</td>\n",
       "    </tr>\n",
       "    <tr>\n",
       "      <th>1</th>\n",
       "      <td>2021-12-09</td>\n",
       "      <td>ZB00245086</td>\n",
       "      <td>1</td>\n",
       "      <td>98.582325</td>\n",
       "      <td>63.816279</td>\n",
       "      <td>129.458420</td>\n",
       "      <td>E-COMMER</td>\n",
       "      <td>top4running.it</td>\n",
       "      <td>98.582325</td>\n",
       "      <td>Italy</td>\n",
       "      <td>Cloudsurfer</td>\n",
       "      <td>54-99218</td>\n",
       "      <td>On Running</td>\n",
       "      <td>Footwear</td>\n",
       "      <td>Running shoes</td>\n",
       "      <td>running</td>\n",
       "      <td>men</td>\n",
       "      <td>adults</td>\n",
       "      <td>White</td>\n",
       "      <td>44</td>\n",
       "      <td>0</td>\n",
       "      <td>1</td>\n",
       "      <td>0</td>\n",
       "      <td>0</td>\n",
       "      <td>Thursday</td>\n",
       "      <td>December</td>\n",
       "    </tr>\n",
       "    <tr>\n",
       "      <th>2</th>\n",
       "      <td>2021-12-08</td>\n",
       "      <td>ZB00245086</td>\n",
       "      <td>1</td>\n",
       "      <td>100.182074</td>\n",
       "      <td>63.815891</td>\n",
       "      <td>131.559296</td>\n",
       "      <td>E-COMMER</td>\n",
       "      <td>top4running.at</td>\n",
       "      <td>100.182074</td>\n",
       "      <td>Austria</td>\n",
       "      <td>Cloudsurfer</td>\n",
       "      <td>54-99218</td>\n",
       "      <td>On Running</td>\n",
       "      <td>Footwear</td>\n",
       "      <td>Running shoes</td>\n",
       "      <td>running</td>\n",
       "      <td>men</td>\n",
       "      <td>adults</td>\n",
       "      <td>White</td>\n",
       "      <td>44</td>\n",
       "      <td>0</td>\n",
       "      <td>1</td>\n",
       "      <td>0</td>\n",
       "      <td>0</td>\n",
       "      <td>Wednesday</td>\n",
       "      <td>December</td>\n",
       "    </tr>\n",
       "    <tr>\n",
       "      <th>3</th>\n",
       "      <td>2021-12-04</td>\n",
       "      <td>ZB00245086</td>\n",
       "      <td>1</td>\n",
       "      <td>98.350139</td>\n",
       "      <td>63.816279</td>\n",
       "      <td>129.153514</td>\n",
       "      <td>E-COMMER</td>\n",
       "      <td>top4running.it</td>\n",
       "      <td>98.350139</td>\n",
       "      <td>Italy</td>\n",
       "      <td>Cloudsurfer</td>\n",
       "      <td>54-99218</td>\n",
       "      <td>On Running</td>\n",
       "      <td>Footwear</td>\n",
       "      <td>Running shoes</td>\n",
       "      <td>running</td>\n",
       "      <td>men</td>\n",
       "      <td>adults</td>\n",
       "      <td>White</td>\n",
       "      <td>44</td>\n",
       "      <td>0</td>\n",
       "      <td>1</td>\n",
       "      <td>0</td>\n",
       "      <td>0</td>\n",
       "      <td>Saturday</td>\n",
       "      <td>December</td>\n",
       "    </tr>\n",
       "    <tr>\n",
       "      <th>4</th>\n",
       "      <td>2021-11-14</td>\n",
       "      <td>ZB00245086</td>\n",
       "      <td>1</td>\n",
       "      <td>99.296899</td>\n",
       "      <td>63.815891</td>\n",
       "      <td>130.396884</td>\n",
       "      <td>E-COMMER</td>\n",
       "      <td>top4running.at</td>\n",
       "      <td>99.296899</td>\n",
       "      <td>Austria</td>\n",
       "      <td>Cloudsurfer</td>\n",
       "      <td>54-99218</td>\n",
       "      <td>On Running</td>\n",
       "      <td>Footwear</td>\n",
       "      <td>Running shoes</td>\n",
       "      <td>running</td>\n",
       "      <td>men</td>\n",
       "      <td>adults</td>\n",
       "      <td>White</td>\n",
       "      <td>44</td>\n",
       "      <td>0</td>\n",
       "      <td>1</td>\n",
       "      <td>0</td>\n",
       "      <td>0</td>\n",
       "      <td>Sunday</td>\n",
       "      <td>November</td>\n",
       "    </tr>\n",
       "  </tbody>\n",
       "</table>\n",
       "</div>"
      ],
      "text/plain": [
       "        date   item_code  quantity  unit_price_vat_excl  unit_cogs  \\\n",
       "0 2022-01-14  ZB00245086         1           107.443868  63.815891   \n",
       "1 2021-12-09  ZB00245086         1            98.582325  63.816279   \n",
       "2 2021-12-08  ZB00245086         1           100.182074  63.815891   \n",
       "3 2021-12-04  ZB00245086         1            98.350139  63.816279   \n",
       "4 2021-11-14  ZB00245086         1            99.296899  63.815891   \n",
       "\n",
       "   unit_rrp_vat_excl department            site        sale  country  \\\n",
       "0         126.367186   E-COMMER  top4running.at  107.443868  Austria   \n",
       "1         129.458420   E-COMMER  top4running.it   98.582325    Italy   \n",
       "2         131.559296   E-COMMER  top4running.at  100.182074  Austria   \n",
       "3         129.153514   E-COMMER  top4running.it   98.350139    Italy   \n",
       "4         130.396884   E-COMMER  top4running.at   99.296899  Austria   \n",
       "\n",
       "     item_name     style        name    group0         group1 category gender  \\\n",
       "0  Cloudsurfer  54-99218  On Running  Footwear  Running shoes  running    men   \n",
       "1  Cloudsurfer  54-99218  On Running  Footwear  Running shoes  running    men   \n",
       "2  Cloudsurfer  54-99218  On Running  Footwear  Running shoes  running    men   \n",
       "3  Cloudsurfer  54-99218  On Running  Footwear  Running shoes  running    men   \n",
       "4  Cloudsurfer  54-99218  On Running  Footwear  Running shoes  running    men   \n",
       "\n",
       "      age  color size  kids  men  unisex  women        day     month  \n",
       "0  adults  White   44     0    1       0      0     Friday   January  \n",
       "1  adults  White   44     0    1       0      0   Thursday  December  \n",
       "2  adults  White   44     0    1       0      0  Wednesday  December  \n",
       "3  adults  White   44     0    1       0      0   Saturday  December  \n",
       "4  adults  White   44     0    1       0      0     Sunday  November  "
      ]
     },
     "execution_count": 131,
     "metadata": {},
     "output_type": "execute_result"
    }
   ],
   "source": [
    "df.head()"
   ]
  },
  {
   "cell_type": "markdown",
   "metadata": {},
   "source": [
    "## 3- Get monthly data\n",
    "For monthly forcasting we need to summarize data for each month"
   ]
  },
  {
   "cell_type": "code",
   "execution_count": 132,
   "metadata": {},
   "outputs": [],
   "source": [
    "def weekly_data(df, time_period='month', sale='net'):\n",
    "    time_periods = {\n",
    "        'day': 'D',\n",
    "        'week': 'W',\n",
    "        'month': 'M'}\n",
    "    \n",
    "    revenue_cat = {\n",
    "        'net':'sale'}\n",
    "    df['date'] = pd.to_datetime(df['date'])\n",
    "    df = df.set_index('date')\n",
    "    df = df[revenue_cat[sale]].resample(time_periods[time_period]).sum()\n",
    "    df = pd.DataFrame(df).reset_index()\n",
    "    return df"
   ]
  },
  {
   "cell_type": "code",
   "execution_count": 134,
   "metadata": {},
   "outputs": [
    {
     "data": {
      "text/html": [
       "<div>\n",
       "<style scoped>\n",
       "    .dataframe tbody tr th:only-of-type {\n",
       "        vertical-align: middle;\n",
       "    }\n",
       "\n",
       "    .dataframe tbody tr th {\n",
       "        vertical-align: top;\n",
       "    }\n",
       "\n",
       "    .dataframe thead th {\n",
       "        text-align: right;\n",
       "    }\n",
       "</style>\n",
       "<table border=\"1\" class=\"dataframe\">\n",
       "  <thead>\n",
       "    <tr style=\"text-align: right;\">\n",
       "      <th></th>\n",
       "      <th>date</th>\n",
       "      <th>sale</th>\n",
       "    </tr>\n",
       "  </thead>\n",
       "  <tbody>\n",
       "    <tr>\n",
       "      <th>0</th>\n",
       "      <td>2019-06-30</td>\n",
       "      <td>458077.500230</td>\n",
       "    </tr>\n",
       "    <tr>\n",
       "      <th>1</th>\n",
       "      <td>2019-07-31</td>\n",
       "      <td>661605.989647</td>\n",
       "    </tr>\n",
       "    <tr>\n",
       "      <th>2</th>\n",
       "      <td>2019-08-31</td>\n",
       "      <td>910477.102034</td>\n",
       "    </tr>\n",
       "    <tr>\n",
       "      <th>3</th>\n",
       "      <td>2019-09-30</td>\n",
       "      <td>860163.234682</td>\n",
       "    </tr>\n",
       "    <tr>\n",
       "      <th>4</th>\n",
       "      <td>2019-10-31</td>\n",
       "      <td>703325.788071</td>\n",
       "    </tr>\n",
       "  </tbody>\n",
       "</table>\n",
       "</div>"
      ],
      "text/plain": [
       "        date           sale\n",
       "0 2019-06-30  458077.500230\n",
       "1 2019-07-31  661605.989647\n",
       "2 2019-08-31  910477.102034\n",
       "3 2019-09-30  860163.234682\n",
       "4 2019-10-31  703325.788071"
      ]
     },
     "execution_count": 134,
     "metadata": {},
     "output_type": "execute_result"
    }
   ],
   "source": [
    "df_m = weekly_data(df)\n",
    "#df_m.columns=['ds', 'y']\n",
    "df_m.ds=pd.to_datetime(df_m['date'])\n",
    "df_m.sort_values('date')\n",
    "df_m.head()"
   ]
  },
  {
   "cell_type": "code",
   "execution_count": null,
   "metadata": {},
   "outputs": [],
   "source": [
    "\n",
    "\"\"\"df_m['date'] = pd.to_datetime(df_m['date'])\n",
    "df_m['date'] = df_m['date'].dt.year.astype('str') + '-' + df_m['date'].dt.month.astype('str') + '-01'\n",
    "df_m['date'] = pd.to_datetime(df_m['date'])\n",
    "df_m = df_m.groupby('date').sale.sum().reset_index().sort_values(by = 'date')\n",
    "df_m\"\"\""
   ]
  },
  {
   "cell_type": "code",
   "execution_count": 99,
   "metadata": {},
   "outputs": [],
   "source": [
    "#df_m['date'] = pd.to_datetime(df_m['date'], errors='coerce')\n",
    "#df_m['date'] = df_m['date'].dt.to_period('M')\n",
    "#df = df[['date']]\n",
    "#df_m['date'] = df_m['date'].dt.strftime('%Y-%b-%d')\n"
   ]
  },
  {
   "cell_type": "markdown",
   "metadata": {},
   "source": [
    "## 4-Check whether the data is stationary or not"
   ]
  },
  {
   "cell_type": "code",
   "execution_count": 190,
   "metadata": {},
   "outputs": [
    {
     "data": {
      "application/vnd.plotly.v1+json": {
       "config": {
        "linkText": "Export to plot.ly",
        "plotlyServerURL": "https://plot.ly",
        "showLink": false
       },
       "data": [
        {
         "type": "scatter",
         "x": [
          "2019-06-30T00:00:00",
          "2019-07-31T00:00:00",
          "2019-08-31T00:00:00",
          "2019-09-30T00:00:00",
          "2019-10-31T00:00:00",
          "2019-11-30T00:00:00",
          "2019-12-31T00:00:00",
          "2020-01-31T00:00:00",
          "2020-02-29T00:00:00",
          "2020-03-31T00:00:00",
          "2020-04-30T00:00:00",
          "2020-05-31T00:00:00",
          "2020-06-30T00:00:00",
          "2020-07-31T00:00:00",
          "2020-08-31T00:00:00",
          "2020-09-30T00:00:00",
          "2020-10-31T00:00:00",
          "2020-11-30T00:00:00",
          "2020-12-31T00:00:00",
          "2021-01-31T00:00:00",
          "2021-02-28T00:00:00",
          "2021-03-31T00:00:00",
          "2021-04-30T00:00:00",
          "2021-05-31T00:00:00",
          "2021-06-30T00:00:00",
          "2021-07-31T00:00:00",
          "2021-08-31T00:00:00",
          "2021-09-30T00:00:00",
          "2021-10-31T00:00:00",
          "2021-11-30T00:00:00",
          "2021-12-31T00:00:00",
          "2022-01-31T00:00:00"
         ],
         "y": [
          458077.5002304,
          661605.9896468,
          910477.1020337,
          860163.234682,
          703325.7880711,
          1312387.1595721,
          1382255.6957493,
          1017721.260615,
          852313.6698407,
          833414.8740163,
          922634.0179198,
          1149092.1192789,
          990746.6707135,
          902507.3849384,
          1058104.112589,
          1245327.6106575,
          1140069.8645736,
          2229964.098096,
          1613987.2818679,
          1726676.1665245,
          1518298.1158653,
          2049198.4293942,
          1993090.0625598,
          1870187.226273,
          1517157.4184256,
          1392864.0445752,
          1652203.7096202,
          1617092.7326161,
          1770132.839529,
          2855353.8243993,
          2847209.9427665,
          900098.0439402
         ]
        }
       ],
       "layout": {
        "template": {
         "data": {
          "bar": [
           {
            "error_x": {
             "color": "#2a3f5f"
            },
            "error_y": {
             "color": "#2a3f5f"
            },
            "marker": {
             "line": {
              "color": "#E5ECF6",
              "width": 0.5
             },
             "pattern": {
              "fillmode": "overlay",
              "size": 10,
              "solidity": 0.2
             }
            },
            "type": "bar"
           }
          ],
          "barpolar": [
           {
            "marker": {
             "line": {
              "color": "#E5ECF6",
              "width": 0.5
             },
             "pattern": {
              "fillmode": "overlay",
              "size": 10,
              "solidity": 0.2
             }
            },
            "type": "barpolar"
           }
          ],
          "carpet": [
           {
            "aaxis": {
             "endlinecolor": "#2a3f5f",
             "gridcolor": "white",
             "linecolor": "white",
             "minorgridcolor": "white",
             "startlinecolor": "#2a3f5f"
            },
            "baxis": {
             "endlinecolor": "#2a3f5f",
             "gridcolor": "white",
             "linecolor": "white",
             "minorgridcolor": "white",
             "startlinecolor": "#2a3f5f"
            },
            "type": "carpet"
           }
          ],
          "choropleth": [
           {
            "colorbar": {
             "outlinewidth": 0,
             "ticks": ""
            },
            "type": "choropleth"
           }
          ],
          "contour": [
           {
            "colorbar": {
             "outlinewidth": 0,
             "ticks": ""
            },
            "colorscale": [
             [
              0,
              "#0d0887"
             ],
             [
              0.1111111111111111,
              "#46039f"
             ],
             [
              0.2222222222222222,
              "#7201a8"
             ],
             [
              0.3333333333333333,
              "#9c179e"
             ],
             [
              0.4444444444444444,
              "#bd3786"
             ],
             [
              0.5555555555555556,
              "#d8576b"
             ],
             [
              0.6666666666666666,
              "#ed7953"
             ],
             [
              0.7777777777777778,
              "#fb9f3a"
             ],
             [
              0.8888888888888888,
              "#fdca26"
             ],
             [
              1,
              "#f0f921"
             ]
            ],
            "type": "contour"
           }
          ],
          "contourcarpet": [
           {
            "colorbar": {
             "outlinewidth": 0,
             "ticks": ""
            },
            "type": "contourcarpet"
           }
          ],
          "heatmap": [
           {
            "colorbar": {
             "outlinewidth": 0,
             "ticks": ""
            },
            "colorscale": [
             [
              0,
              "#0d0887"
             ],
             [
              0.1111111111111111,
              "#46039f"
             ],
             [
              0.2222222222222222,
              "#7201a8"
             ],
             [
              0.3333333333333333,
              "#9c179e"
             ],
             [
              0.4444444444444444,
              "#bd3786"
             ],
             [
              0.5555555555555556,
              "#d8576b"
             ],
             [
              0.6666666666666666,
              "#ed7953"
             ],
             [
              0.7777777777777778,
              "#fb9f3a"
             ],
             [
              0.8888888888888888,
              "#fdca26"
             ],
             [
              1,
              "#f0f921"
             ]
            ],
            "type": "heatmap"
           }
          ],
          "heatmapgl": [
           {
            "colorbar": {
             "outlinewidth": 0,
             "ticks": ""
            },
            "colorscale": [
             [
              0,
              "#0d0887"
             ],
             [
              0.1111111111111111,
              "#46039f"
             ],
             [
              0.2222222222222222,
              "#7201a8"
             ],
             [
              0.3333333333333333,
              "#9c179e"
             ],
             [
              0.4444444444444444,
              "#bd3786"
             ],
             [
              0.5555555555555556,
              "#d8576b"
             ],
             [
              0.6666666666666666,
              "#ed7953"
             ],
             [
              0.7777777777777778,
              "#fb9f3a"
             ],
             [
              0.8888888888888888,
              "#fdca26"
             ],
             [
              1,
              "#f0f921"
             ]
            ],
            "type": "heatmapgl"
           }
          ],
          "histogram": [
           {
            "marker": {
             "pattern": {
              "fillmode": "overlay",
              "size": 10,
              "solidity": 0.2
             }
            },
            "type": "histogram"
           }
          ],
          "histogram2d": [
           {
            "colorbar": {
             "outlinewidth": 0,
             "ticks": ""
            },
            "colorscale": [
             [
              0,
              "#0d0887"
             ],
             [
              0.1111111111111111,
              "#46039f"
             ],
             [
              0.2222222222222222,
              "#7201a8"
             ],
             [
              0.3333333333333333,
              "#9c179e"
             ],
             [
              0.4444444444444444,
              "#bd3786"
             ],
             [
              0.5555555555555556,
              "#d8576b"
             ],
             [
              0.6666666666666666,
              "#ed7953"
             ],
             [
              0.7777777777777778,
              "#fb9f3a"
             ],
             [
              0.8888888888888888,
              "#fdca26"
             ],
             [
              1,
              "#f0f921"
             ]
            ],
            "type": "histogram2d"
           }
          ],
          "histogram2dcontour": [
           {
            "colorbar": {
             "outlinewidth": 0,
             "ticks": ""
            },
            "colorscale": [
             [
              0,
              "#0d0887"
             ],
             [
              0.1111111111111111,
              "#46039f"
             ],
             [
              0.2222222222222222,
              "#7201a8"
             ],
             [
              0.3333333333333333,
              "#9c179e"
             ],
             [
              0.4444444444444444,
              "#bd3786"
             ],
             [
              0.5555555555555556,
              "#d8576b"
             ],
             [
              0.6666666666666666,
              "#ed7953"
             ],
             [
              0.7777777777777778,
              "#fb9f3a"
             ],
             [
              0.8888888888888888,
              "#fdca26"
             ],
             [
              1,
              "#f0f921"
             ]
            ],
            "type": "histogram2dcontour"
           }
          ],
          "mesh3d": [
           {
            "colorbar": {
             "outlinewidth": 0,
             "ticks": ""
            },
            "type": "mesh3d"
           }
          ],
          "parcoords": [
           {
            "line": {
             "colorbar": {
              "outlinewidth": 0,
              "ticks": ""
             }
            },
            "type": "parcoords"
           }
          ],
          "pie": [
           {
            "automargin": true,
            "type": "pie"
           }
          ],
          "scatter": [
           {
            "marker": {
             "colorbar": {
              "outlinewidth": 0,
              "ticks": ""
             }
            },
            "type": "scatter"
           }
          ],
          "scatter3d": [
           {
            "line": {
             "colorbar": {
              "outlinewidth": 0,
              "ticks": ""
             }
            },
            "marker": {
             "colorbar": {
              "outlinewidth": 0,
              "ticks": ""
             }
            },
            "type": "scatter3d"
           }
          ],
          "scattercarpet": [
           {
            "marker": {
             "colorbar": {
              "outlinewidth": 0,
              "ticks": ""
             }
            },
            "type": "scattercarpet"
           }
          ],
          "scattergeo": [
           {
            "marker": {
             "colorbar": {
              "outlinewidth": 0,
              "ticks": ""
             }
            },
            "type": "scattergeo"
           }
          ],
          "scattergl": [
           {
            "marker": {
             "colorbar": {
              "outlinewidth": 0,
              "ticks": ""
             }
            },
            "type": "scattergl"
           }
          ],
          "scattermapbox": [
           {
            "marker": {
             "colorbar": {
              "outlinewidth": 0,
              "ticks": ""
             }
            },
            "type": "scattermapbox"
           }
          ],
          "scatterpolar": [
           {
            "marker": {
             "colorbar": {
              "outlinewidth": 0,
              "ticks": ""
             }
            },
            "type": "scatterpolar"
           }
          ],
          "scatterpolargl": [
           {
            "marker": {
             "colorbar": {
              "outlinewidth": 0,
              "ticks": ""
             }
            },
            "type": "scatterpolargl"
           }
          ],
          "scatterternary": [
           {
            "marker": {
             "colorbar": {
              "outlinewidth": 0,
              "ticks": ""
             }
            },
            "type": "scatterternary"
           }
          ],
          "surface": [
           {
            "colorbar": {
             "outlinewidth": 0,
             "ticks": ""
            },
            "colorscale": [
             [
              0,
              "#0d0887"
             ],
             [
              0.1111111111111111,
              "#46039f"
             ],
             [
              0.2222222222222222,
              "#7201a8"
             ],
             [
              0.3333333333333333,
              "#9c179e"
             ],
             [
              0.4444444444444444,
              "#bd3786"
             ],
             [
              0.5555555555555556,
              "#d8576b"
             ],
             [
              0.6666666666666666,
              "#ed7953"
             ],
             [
              0.7777777777777778,
              "#fb9f3a"
             ],
             [
              0.8888888888888888,
              "#fdca26"
             ],
             [
              1,
              "#f0f921"
             ]
            ],
            "type": "surface"
           }
          ],
          "table": [
           {
            "cells": {
             "fill": {
              "color": "#EBF0F8"
             },
             "line": {
              "color": "white"
             }
            },
            "header": {
             "fill": {
              "color": "#C8D4E3"
             },
             "line": {
              "color": "white"
             }
            },
            "type": "table"
           }
          ]
         },
         "layout": {
          "annotationdefaults": {
           "arrowcolor": "#2a3f5f",
           "arrowhead": 0,
           "arrowwidth": 1
          },
          "autotypenumbers": "strict",
          "coloraxis": {
           "colorbar": {
            "outlinewidth": 0,
            "ticks": ""
           }
          },
          "colorscale": {
           "diverging": [
            [
             0,
             "#8e0152"
            ],
            [
             0.1,
             "#c51b7d"
            ],
            [
             0.2,
             "#de77ae"
            ],
            [
             0.3,
             "#f1b6da"
            ],
            [
             0.4,
             "#fde0ef"
            ],
            [
             0.5,
             "#f7f7f7"
            ],
            [
             0.6,
             "#e6f5d0"
            ],
            [
             0.7,
             "#b8e186"
            ],
            [
             0.8,
             "#7fbc41"
            ],
            [
             0.9,
             "#4d9221"
            ],
            [
             1,
             "#276419"
            ]
           ],
           "sequential": [
            [
             0,
             "#0d0887"
            ],
            [
             0.1111111111111111,
             "#46039f"
            ],
            [
             0.2222222222222222,
             "#7201a8"
            ],
            [
             0.3333333333333333,
             "#9c179e"
            ],
            [
             0.4444444444444444,
             "#bd3786"
            ],
            [
             0.5555555555555556,
             "#d8576b"
            ],
            [
             0.6666666666666666,
             "#ed7953"
            ],
            [
             0.7777777777777778,
             "#fb9f3a"
            ],
            [
             0.8888888888888888,
             "#fdca26"
            ],
            [
             1,
             "#f0f921"
            ]
           ],
           "sequentialminus": [
            [
             0,
             "#0d0887"
            ],
            [
             0.1111111111111111,
             "#46039f"
            ],
            [
             0.2222222222222222,
             "#7201a8"
            ],
            [
             0.3333333333333333,
             "#9c179e"
            ],
            [
             0.4444444444444444,
             "#bd3786"
            ],
            [
             0.5555555555555556,
             "#d8576b"
            ],
            [
             0.6666666666666666,
             "#ed7953"
            ],
            [
             0.7777777777777778,
             "#fb9f3a"
            ],
            [
             0.8888888888888888,
             "#fdca26"
            ],
            [
             1,
             "#f0f921"
            ]
           ]
          },
          "colorway": [
           "#636efa",
           "#EF553B",
           "#00cc96",
           "#ab63fa",
           "#FFA15A",
           "#19d3f3",
           "#FF6692",
           "#B6E880",
           "#FF97FF",
           "#FECB52"
          ],
          "font": {
           "color": "#2a3f5f"
          },
          "geo": {
           "bgcolor": "white",
           "lakecolor": "white",
           "landcolor": "#E5ECF6",
           "showlakes": true,
           "showland": true,
           "subunitcolor": "white"
          },
          "hoverlabel": {
           "align": "left"
          },
          "hovermode": "closest",
          "mapbox": {
           "style": "light"
          },
          "paper_bgcolor": "white",
          "plot_bgcolor": "#E5ECF6",
          "polar": {
           "angularaxis": {
            "gridcolor": "white",
            "linecolor": "white",
            "ticks": ""
           },
           "bgcolor": "#E5ECF6",
           "radialaxis": {
            "gridcolor": "white",
            "linecolor": "white",
            "ticks": ""
           }
          },
          "scene": {
           "xaxis": {
            "backgroundcolor": "#E5ECF6",
            "gridcolor": "white",
            "gridwidth": 2,
            "linecolor": "white",
            "showbackground": true,
            "ticks": "",
            "zerolinecolor": "white"
           },
           "yaxis": {
            "backgroundcolor": "#E5ECF6",
            "gridcolor": "white",
            "gridwidth": 2,
            "linecolor": "white",
            "showbackground": true,
            "ticks": "",
            "zerolinecolor": "white"
           },
           "zaxis": {
            "backgroundcolor": "#E5ECF6",
            "gridcolor": "white",
            "gridwidth": 2,
            "linecolor": "white",
            "showbackground": true,
            "ticks": "",
            "zerolinecolor": "white"
           }
          },
          "shapedefaults": {
           "line": {
            "color": "#2a3f5f"
           }
          },
          "ternary": {
           "aaxis": {
            "gridcolor": "white",
            "linecolor": "white",
            "ticks": ""
           },
           "baxis": {
            "gridcolor": "white",
            "linecolor": "white",
            "ticks": ""
           },
           "bgcolor": "#E5ECF6",
           "caxis": {
            "gridcolor": "white",
            "linecolor": "white",
            "ticks": ""
           }
          },
          "title": {
           "x": 0.05
          },
          "xaxis": {
           "automargin": true,
           "gridcolor": "white",
           "linecolor": "white",
           "ticks": "",
           "title": {
            "standoff": 15
           },
           "zerolinecolor": "white",
           "zerolinewidth": 2
          },
          "yaxis": {
           "automargin": true,
           "gridcolor": "white",
           "linecolor": "white",
           "ticks": "",
           "title": {
            "standoff": 15
           },
           "zerolinecolor": "white",
           "zerolinewidth": 2
          }
         }
        },
        "title": {
         "text": "Montly Sales"
        }
       }
      }
     },
     "metadata": {},
     "output_type": "display_data"
    }
   ],
   "source": [
    "plot_data = [\n",
    "    go.Scatter(\n",
    "        x=df_m['date'],\n",
    "        y=df_m['sale'],\n",
    "    )\n",
    "]\n",
    "plot_layout = go.Layout(\n",
    "        title='Montly Sales'\n",
    "    )\n",
    "fig = go.Figure(data=plot_data, layout=plot_layout)\n",
    "pyoff.iplot(fig)"
   ]
  },
  {
   "cell_type": "markdown",
   "metadata": {},
   "source": [
    "Check with Dicky Fuller test"
   ]
  },
  {
   "cell_type": "markdown",
   "metadata": {},
   "source": [
    "The plot  showS that  the data is not stationary.  So we need to make our data stationary"
   ]
  },
  {
   "cell_type": "code",
   "execution_count": 192,
   "metadata": {},
   "outputs": [
    {
     "data": {
      "text/html": [
       "<div>\n",
       "<style scoped>\n",
       "    .dataframe tbody tr th:only-of-type {\n",
       "        vertical-align: middle;\n",
       "    }\n",
       "\n",
       "    .dataframe tbody tr th {\n",
       "        vertical-align: top;\n",
       "    }\n",
       "\n",
       "    .dataframe thead th {\n",
       "        text-align: right;\n",
       "    }\n",
       "</style>\n",
       "<table border=\"1\" class=\"dataframe\">\n",
       "  <thead>\n",
       "    <tr style=\"text-align: right;\">\n",
       "      <th></th>\n",
       "      <th>date</th>\n",
       "      <th>sale</th>\n",
       "      <th>prev_sales</th>\n",
       "      <th>diff</th>\n",
       "    </tr>\n",
       "  </thead>\n",
       "  <tbody>\n",
       "    <tr>\n",
       "      <th>1</th>\n",
       "      <td>2019-07-31</td>\n",
       "      <td>6.616060e+05</td>\n",
       "      <td>4.580775e+05</td>\n",
       "      <td>203528.489416</td>\n",
       "    </tr>\n",
       "    <tr>\n",
       "      <th>2</th>\n",
       "      <td>2019-08-31</td>\n",
       "      <td>9.104771e+05</td>\n",
       "      <td>6.616060e+05</td>\n",
       "      <td>248871.112387</td>\n",
       "    </tr>\n",
       "    <tr>\n",
       "      <th>3</th>\n",
       "      <td>2019-09-30</td>\n",
       "      <td>8.601632e+05</td>\n",
       "      <td>9.104771e+05</td>\n",
       "      <td>-50313.867352</td>\n",
       "    </tr>\n",
       "    <tr>\n",
       "      <th>4</th>\n",
       "      <td>2019-10-31</td>\n",
       "      <td>7.033258e+05</td>\n",
       "      <td>8.601632e+05</td>\n",
       "      <td>-156837.446611</td>\n",
       "    </tr>\n",
       "    <tr>\n",
       "      <th>5</th>\n",
       "      <td>2019-11-30</td>\n",
       "      <td>1.312387e+06</td>\n",
       "      <td>7.033258e+05</td>\n",
       "      <td>609061.371501</td>\n",
       "    </tr>\n",
       "    <tr>\n",
       "      <th>6</th>\n",
       "      <td>2019-12-31</td>\n",
       "      <td>1.382256e+06</td>\n",
       "      <td>1.312387e+06</td>\n",
       "      <td>69868.536177</td>\n",
       "    </tr>\n",
       "    <tr>\n",
       "      <th>7</th>\n",
       "      <td>2020-01-31</td>\n",
       "      <td>1.017721e+06</td>\n",
       "      <td>1.382256e+06</td>\n",
       "      <td>-364534.435134</td>\n",
       "    </tr>\n",
       "    <tr>\n",
       "      <th>8</th>\n",
       "      <td>2020-02-29</td>\n",
       "      <td>8.523137e+05</td>\n",
       "      <td>1.017721e+06</td>\n",
       "      <td>-165407.590774</td>\n",
       "    </tr>\n",
       "    <tr>\n",
       "      <th>9</th>\n",
       "      <td>2020-03-31</td>\n",
       "      <td>8.334149e+05</td>\n",
       "      <td>8.523137e+05</td>\n",
       "      <td>-18898.795824</td>\n",
       "    </tr>\n",
       "    <tr>\n",
       "      <th>10</th>\n",
       "      <td>2020-04-30</td>\n",
       "      <td>9.226340e+05</td>\n",
       "      <td>8.334149e+05</td>\n",
       "      <td>89219.143904</td>\n",
       "    </tr>\n",
       "  </tbody>\n",
       "</table>\n",
       "</div>"
      ],
      "text/plain": [
       "         date          sale    prev_sales           diff\n",
       "1  2019-07-31  6.616060e+05  4.580775e+05  203528.489416\n",
       "2  2019-08-31  9.104771e+05  6.616060e+05  248871.112387\n",
       "3  2019-09-30  8.601632e+05  9.104771e+05  -50313.867352\n",
       "4  2019-10-31  7.033258e+05  8.601632e+05 -156837.446611\n",
       "5  2019-11-30  1.312387e+06  7.033258e+05  609061.371501\n",
       "6  2019-12-31  1.382256e+06  1.312387e+06   69868.536177\n",
       "7  2020-01-31  1.017721e+06  1.382256e+06 -364534.435134\n",
       "8  2020-02-29  8.523137e+05  1.017721e+06 -165407.590774\n",
       "9  2020-03-31  8.334149e+05  8.523137e+05  -18898.795824\n",
       "10 2020-04-30  9.226340e+05  8.334149e+05   89219.143904"
      ]
     },
     "execution_count": 192,
     "metadata": {},
     "output_type": "execute_result"
    }
   ],
   "source": [
    "df_diff = df_m.copy()\n",
    "#add previous sales to the next row\n",
    "df_diff['prev_sales'] = df_diff['sale'].shift(1)\n",
    "#drop the null values and calculate the difference\n",
    "df_diff = df_diff.dropna()\n",
    "df_diff['diff'] = (df_diff['sale'] - df_diff['prev_sales'])\n",
    "df_diff.head(10)"
   ]
  },
  {
   "cell_type": "code",
   "execution_count": 193,
   "metadata": {},
   "outputs": [
    {
     "data": {
      "application/vnd.plotly.v1+json": {
       "config": {
        "linkText": "Export to plot.ly",
        "plotlyServerURL": "https://plot.ly",
        "showLink": false
       },
       "data": [
        {
         "type": "scatter",
         "x": [
          "2019-07-31T00:00:00",
          "2019-08-31T00:00:00",
          "2019-09-30T00:00:00",
          "2019-10-31T00:00:00",
          "2019-11-30T00:00:00",
          "2019-12-31T00:00:00",
          "2020-01-31T00:00:00",
          "2020-02-29T00:00:00",
          "2020-03-31T00:00:00",
          "2020-04-30T00:00:00",
          "2020-05-31T00:00:00",
          "2020-06-30T00:00:00",
          "2020-07-31T00:00:00",
          "2020-08-31T00:00:00",
          "2020-09-30T00:00:00",
          "2020-10-31T00:00:00",
          "2020-11-30T00:00:00",
          "2020-12-31T00:00:00",
          "2021-01-31T00:00:00",
          "2021-02-28T00:00:00",
          "2021-03-31T00:00:00",
          "2021-04-30T00:00:00",
          "2021-05-31T00:00:00",
          "2021-06-30T00:00:00",
          "2021-07-31T00:00:00",
          "2021-08-31T00:00:00",
          "2021-09-30T00:00:00",
          "2021-10-31T00:00:00",
          "2021-11-30T00:00:00",
          "2021-12-31T00:00:00",
          "2022-01-31T00:00:00"
         ],
         "y": [
          203528.48941639997,
          248871.1123869,
          -50313.86735169997,
          -156837.4466109,
          609061.371501,
          69868.53617720003,
          -364534.43513430003,
          -165407.59077430004,
          -18898.795824400033,
          89219.14390350005,
          226458.10135910008,
          -158345.4485654001,
          -88239.2857751,
          155596.72765060002,
          187223.49806850008,
          -105257.7460839001,
          1089894.2335224,
          -615976.8162281001,
          112688.88465659996,
          -208378.05065919994,
          530900.3135289,
          -56108.36683439999,
          -122902.83628679998,
          -353029.80784739996,
          -124293.3738504001,
          259339.66504500015,
          -35110.9770041001,
          153040.1069129,
          1085220.9848703,
          -8143.881632799748,
          -1947111.8988263002
         ]
        }
       ],
       "layout": {
        "template": {
         "data": {
          "bar": [
           {
            "error_x": {
             "color": "#2a3f5f"
            },
            "error_y": {
             "color": "#2a3f5f"
            },
            "marker": {
             "line": {
              "color": "#E5ECF6",
              "width": 0.5
             },
             "pattern": {
              "fillmode": "overlay",
              "size": 10,
              "solidity": 0.2
             }
            },
            "type": "bar"
           }
          ],
          "barpolar": [
           {
            "marker": {
             "line": {
              "color": "#E5ECF6",
              "width": 0.5
             },
             "pattern": {
              "fillmode": "overlay",
              "size": 10,
              "solidity": 0.2
             }
            },
            "type": "barpolar"
           }
          ],
          "carpet": [
           {
            "aaxis": {
             "endlinecolor": "#2a3f5f",
             "gridcolor": "white",
             "linecolor": "white",
             "minorgridcolor": "white",
             "startlinecolor": "#2a3f5f"
            },
            "baxis": {
             "endlinecolor": "#2a3f5f",
             "gridcolor": "white",
             "linecolor": "white",
             "minorgridcolor": "white",
             "startlinecolor": "#2a3f5f"
            },
            "type": "carpet"
           }
          ],
          "choropleth": [
           {
            "colorbar": {
             "outlinewidth": 0,
             "ticks": ""
            },
            "type": "choropleth"
           }
          ],
          "contour": [
           {
            "colorbar": {
             "outlinewidth": 0,
             "ticks": ""
            },
            "colorscale": [
             [
              0,
              "#0d0887"
             ],
             [
              0.1111111111111111,
              "#46039f"
             ],
             [
              0.2222222222222222,
              "#7201a8"
             ],
             [
              0.3333333333333333,
              "#9c179e"
             ],
             [
              0.4444444444444444,
              "#bd3786"
             ],
             [
              0.5555555555555556,
              "#d8576b"
             ],
             [
              0.6666666666666666,
              "#ed7953"
             ],
             [
              0.7777777777777778,
              "#fb9f3a"
             ],
             [
              0.8888888888888888,
              "#fdca26"
             ],
             [
              1,
              "#f0f921"
             ]
            ],
            "type": "contour"
           }
          ],
          "contourcarpet": [
           {
            "colorbar": {
             "outlinewidth": 0,
             "ticks": ""
            },
            "type": "contourcarpet"
           }
          ],
          "heatmap": [
           {
            "colorbar": {
             "outlinewidth": 0,
             "ticks": ""
            },
            "colorscale": [
             [
              0,
              "#0d0887"
             ],
             [
              0.1111111111111111,
              "#46039f"
             ],
             [
              0.2222222222222222,
              "#7201a8"
             ],
             [
              0.3333333333333333,
              "#9c179e"
             ],
             [
              0.4444444444444444,
              "#bd3786"
             ],
             [
              0.5555555555555556,
              "#d8576b"
             ],
             [
              0.6666666666666666,
              "#ed7953"
             ],
             [
              0.7777777777777778,
              "#fb9f3a"
             ],
             [
              0.8888888888888888,
              "#fdca26"
             ],
             [
              1,
              "#f0f921"
             ]
            ],
            "type": "heatmap"
           }
          ],
          "heatmapgl": [
           {
            "colorbar": {
             "outlinewidth": 0,
             "ticks": ""
            },
            "colorscale": [
             [
              0,
              "#0d0887"
             ],
             [
              0.1111111111111111,
              "#46039f"
             ],
             [
              0.2222222222222222,
              "#7201a8"
             ],
             [
              0.3333333333333333,
              "#9c179e"
             ],
             [
              0.4444444444444444,
              "#bd3786"
             ],
             [
              0.5555555555555556,
              "#d8576b"
             ],
             [
              0.6666666666666666,
              "#ed7953"
             ],
             [
              0.7777777777777778,
              "#fb9f3a"
             ],
             [
              0.8888888888888888,
              "#fdca26"
             ],
             [
              1,
              "#f0f921"
             ]
            ],
            "type": "heatmapgl"
           }
          ],
          "histogram": [
           {
            "marker": {
             "pattern": {
              "fillmode": "overlay",
              "size": 10,
              "solidity": 0.2
             }
            },
            "type": "histogram"
           }
          ],
          "histogram2d": [
           {
            "colorbar": {
             "outlinewidth": 0,
             "ticks": ""
            },
            "colorscale": [
             [
              0,
              "#0d0887"
             ],
             [
              0.1111111111111111,
              "#46039f"
             ],
             [
              0.2222222222222222,
              "#7201a8"
             ],
             [
              0.3333333333333333,
              "#9c179e"
             ],
             [
              0.4444444444444444,
              "#bd3786"
             ],
             [
              0.5555555555555556,
              "#d8576b"
             ],
             [
              0.6666666666666666,
              "#ed7953"
             ],
             [
              0.7777777777777778,
              "#fb9f3a"
             ],
             [
              0.8888888888888888,
              "#fdca26"
             ],
             [
              1,
              "#f0f921"
             ]
            ],
            "type": "histogram2d"
           }
          ],
          "histogram2dcontour": [
           {
            "colorbar": {
             "outlinewidth": 0,
             "ticks": ""
            },
            "colorscale": [
             [
              0,
              "#0d0887"
             ],
             [
              0.1111111111111111,
              "#46039f"
             ],
             [
              0.2222222222222222,
              "#7201a8"
             ],
             [
              0.3333333333333333,
              "#9c179e"
             ],
             [
              0.4444444444444444,
              "#bd3786"
             ],
             [
              0.5555555555555556,
              "#d8576b"
             ],
             [
              0.6666666666666666,
              "#ed7953"
             ],
             [
              0.7777777777777778,
              "#fb9f3a"
             ],
             [
              0.8888888888888888,
              "#fdca26"
             ],
             [
              1,
              "#f0f921"
             ]
            ],
            "type": "histogram2dcontour"
           }
          ],
          "mesh3d": [
           {
            "colorbar": {
             "outlinewidth": 0,
             "ticks": ""
            },
            "type": "mesh3d"
           }
          ],
          "parcoords": [
           {
            "line": {
             "colorbar": {
              "outlinewidth": 0,
              "ticks": ""
             }
            },
            "type": "parcoords"
           }
          ],
          "pie": [
           {
            "automargin": true,
            "type": "pie"
           }
          ],
          "scatter": [
           {
            "marker": {
             "colorbar": {
              "outlinewidth": 0,
              "ticks": ""
             }
            },
            "type": "scatter"
           }
          ],
          "scatter3d": [
           {
            "line": {
             "colorbar": {
              "outlinewidth": 0,
              "ticks": ""
             }
            },
            "marker": {
             "colorbar": {
              "outlinewidth": 0,
              "ticks": ""
             }
            },
            "type": "scatter3d"
           }
          ],
          "scattercarpet": [
           {
            "marker": {
             "colorbar": {
              "outlinewidth": 0,
              "ticks": ""
             }
            },
            "type": "scattercarpet"
           }
          ],
          "scattergeo": [
           {
            "marker": {
             "colorbar": {
              "outlinewidth": 0,
              "ticks": ""
             }
            },
            "type": "scattergeo"
           }
          ],
          "scattergl": [
           {
            "marker": {
             "colorbar": {
              "outlinewidth": 0,
              "ticks": ""
             }
            },
            "type": "scattergl"
           }
          ],
          "scattermapbox": [
           {
            "marker": {
             "colorbar": {
              "outlinewidth": 0,
              "ticks": ""
             }
            },
            "type": "scattermapbox"
           }
          ],
          "scatterpolar": [
           {
            "marker": {
             "colorbar": {
              "outlinewidth": 0,
              "ticks": ""
             }
            },
            "type": "scatterpolar"
           }
          ],
          "scatterpolargl": [
           {
            "marker": {
             "colorbar": {
              "outlinewidth": 0,
              "ticks": ""
             }
            },
            "type": "scatterpolargl"
           }
          ],
          "scatterternary": [
           {
            "marker": {
             "colorbar": {
              "outlinewidth": 0,
              "ticks": ""
             }
            },
            "type": "scatterternary"
           }
          ],
          "surface": [
           {
            "colorbar": {
             "outlinewidth": 0,
             "ticks": ""
            },
            "colorscale": [
             [
              0,
              "#0d0887"
             ],
             [
              0.1111111111111111,
              "#46039f"
             ],
             [
              0.2222222222222222,
              "#7201a8"
             ],
             [
              0.3333333333333333,
              "#9c179e"
             ],
             [
              0.4444444444444444,
              "#bd3786"
             ],
             [
              0.5555555555555556,
              "#d8576b"
             ],
             [
              0.6666666666666666,
              "#ed7953"
             ],
             [
              0.7777777777777778,
              "#fb9f3a"
             ],
             [
              0.8888888888888888,
              "#fdca26"
             ],
             [
              1,
              "#f0f921"
             ]
            ],
            "type": "surface"
           }
          ],
          "table": [
           {
            "cells": {
             "fill": {
              "color": "#EBF0F8"
             },
             "line": {
              "color": "white"
             }
            },
            "header": {
             "fill": {
              "color": "#C8D4E3"
             },
             "line": {
              "color": "white"
             }
            },
            "type": "table"
           }
          ]
         },
         "layout": {
          "annotationdefaults": {
           "arrowcolor": "#2a3f5f",
           "arrowhead": 0,
           "arrowwidth": 1
          },
          "autotypenumbers": "strict",
          "coloraxis": {
           "colorbar": {
            "outlinewidth": 0,
            "ticks": ""
           }
          },
          "colorscale": {
           "diverging": [
            [
             0,
             "#8e0152"
            ],
            [
             0.1,
             "#c51b7d"
            ],
            [
             0.2,
             "#de77ae"
            ],
            [
             0.3,
             "#f1b6da"
            ],
            [
             0.4,
             "#fde0ef"
            ],
            [
             0.5,
             "#f7f7f7"
            ],
            [
             0.6,
             "#e6f5d0"
            ],
            [
             0.7,
             "#b8e186"
            ],
            [
             0.8,
             "#7fbc41"
            ],
            [
             0.9,
             "#4d9221"
            ],
            [
             1,
             "#276419"
            ]
           ],
           "sequential": [
            [
             0,
             "#0d0887"
            ],
            [
             0.1111111111111111,
             "#46039f"
            ],
            [
             0.2222222222222222,
             "#7201a8"
            ],
            [
             0.3333333333333333,
             "#9c179e"
            ],
            [
             0.4444444444444444,
             "#bd3786"
            ],
            [
             0.5555555555555556,
             "#d8576b"
            ],
            [
             0.6666666666666666,
             "#ed7953"
            ],
            [
             0.7777777777777778,
             "#fb9f3a"
            ],
            [
             0.8888888888888888,
             "#fdca26"
            ],
            [
             1,
             "#f0f921"
            ]
           ],
           "sequentialminus": [
            [
             0,
             "#0d0887"
            ],
            [
             0.1111111111111111,
             "#46039f"
            ],
            [
             0.2222222222222222,
             "#7201a8"
            ],
            [
             0.3333333333333333,
             "#9c179e"
            ],
            [
             0.4444444444444444,
             "#bd3786"
            ],
            [
             0.5555555555555556,
             "#d8576b"
            ],
            [
             0.6666666666666666,
             "#ed7953"
            ],
            [
             0.7777777777777778,
             "#fb9f3a"
            ],
            [
             0.8888888888888888,
             "#fdca26"
            ],
            [
             1,
             "#f0f921"
            ]
           ]
          },
          "colorway": [
           "#636efa",
           "#EF553B",
           "#00cc96",
           "#ab63fa",
           "#FFA15A",
           "#19d3f3",
           "#FF6692",
           "#B6E880",
           "#FF97FF",
           "#FECB52"
          ],
          "font": {
           "color": "#2a3f5f"
          },
          "geo": {
           "bgcolor": "white",
           "lakecolor": "white",
           "landcolor": "#E5ECF6",
           "showlakes": true,
           "showland": true,
           "subunitcolor": "white"
          },
          "hoverlabel": {
           "align": "left"
          },
          "hovermode": "closest",
          "mapbox": {
           "style": "light"
          },
          "paper_bgcolor": "white",
          "plot_bgcolor": "#E5ECF6",
          "polar": {
           "angularaxis": {
            "gridcolor": "white",
            "linecolor": "white",
            "ticks": ""
           },
           "bgcolor": "#E5ECF6",
           "radialaxis": {
            "gridcolor": "white",
            "linecolor": "white",
            "ticks": ""
           }
          },
          "scene": {
           "xaxis": {
            "backgroundcolor": "#E5ECF6",
            "gridcolor": "white",
            "gridwidth": 2,
            "linecolor": "white",
            "showbackground": true,
            "ticks": "",
            "zerolinecolor": "white"
           },
           "yaxis": {
            "backgroundcolor": "#E5ECF6",
            "gridcolor": "white",
            "gridwidth": 2,
            "linecolor": "white",
            "showbackground": true,
            "ticks": "",
            "zerolinecolor": "white"
           },
           "zaxis": {
            "backgroundcolor": "#E5ECF6",
            "gridcolor": "white",
            "gridwidth": 2,
            "linecolor": "white",
            "showbackground": true,
            "ticks": "",
            "zerolinecolor": "white"
           }
          },
          "shapedefaults": {
           "line": {
            "color": "#2a3f5f"
           }
          },
          "ternary": {
           "aaxis": {
            "gridcolor": "white",
            "linecolor": "white",
            "ticks": ""
           },
           "baxis": {
            "gridcolor": "white",
            "linecolor": "white",
            "ticks": ""
           },
           "bgcolor": "#E5ECF6",
           "caxis": {
            "gridcolor": "white",
            "linecolor": "white",
            "ticks": ""
           }
          },
          "title": {
           "x": 0.05
          },
          "xaxis": {
           "automargin": true,
           "gridcolor": "white",
           "linecolor": "white",
           "ticks": "",
           "title": {
            "standoff": 15
           },
           "zerolinecolor": "white",
           "zerolinewidth": 2
          },
          "yaxis": {
           "automargin": true,
           "gridcolor": "white",
           "linecolor": "white",
           "ticks": "",
           "title": {
            "standoff": 15
           },
           "zerolinecolor": "white",
           "zerolinewidth": 2
          }
         }
        },
        "title": {
         "text": "Montly Sales"
        }
       }
      }
     },
     "metadata": {},
     "output_type": "display_data"
    }
   ],
   "source": [
    "plot_data = [\n",
    "    go.Scatter(\n",
    "        x=df_diff['date'],\n",
    "        y=df_diff['diff'],\n",
    "    )\n",
    "]\n",
    "plot_layout = go.Layout(\n",
    "        title='Montly Sales'\n",
    "    )\n",
    "fig = go.Figure(data=plot_data, layout=plot_layout)\n",
    "pyoff.iplot(fig)"
   ]
  },
  {
   "cell_type": "code",
   "execution_count": 194,
   "metadata": {},
   "outputs": [
    {
     "name": "stdout",
     "output_type": "stream",
     "text": [
      "Observations of Dickey-fuller test\n",
      "Test Statistic                 -4.645564\n",
      "p-value                         0.000106\n",
      "#lags used                      2.000000\n",
      "number of observations used    28.000000\n",
      "critical value (1%)            -3.688926\n",
      "critical value (5%)            -2.971989\n",
      "critical value (10%)           -2.625296\n",
      "dtype: float64\n"
     ]
    }
   ],
   "source": [
    "# Check agian and see the Dicky Fuller test result\n",
    "from statsmodels.tsa.stattools import adfuller\n",
    "print(\"Observations of Dickey-fuller test\")\n",
    "dftest = adfuller(df_diff['diff'],autolag='AIC')\n",
    "dfoutput=pd.Series(dftest[0:4],index=['Test Statistic','p-value','#lags used','number of observations used'])\n",
    "for key,value in dftest[4].items():\n",
    "    dfoutput['critical value (%s)'%key]= value\n",
    "print(dfoutput)"
   ]
  },
  {
   "cell_type": "markdown",
   "metadata": {},
   "source": [
    "Perfect, Now we can see that our data is stationary"
   ]
  },
  {
   "cell_type": "markdown",
   "metadata": {},
   "source": [
    "## 5-Make the data ready for fb prophet modeling"
   ]
  },
  {
   "cell_type": "code",
   "execution_count": 196,
   "metadata": {},
   "outputs": [
    {
     "data": {
      "text/html": [
       "<div>\n",
       "<style scoped>\n",
       "    .dataframe tbody tr th:only-of-type {\n",
       "        vertical-align: middle;\n",
       "    }\n",
       "\n",
       "    .dataframe tbody tr th {\n",
       "        vertical-align: top;\n",
       "    }\n",
       "\n",
       "    .dataframe thead th {\n",
       "        text-align: right;\n",
       "    }\n",
       "</style>\n",
       "<table border=\"1\" class=\"dataframe\">\n",
       "  <thead>\n",
       "    <tr style=\"text-align: right;\">\n",
       "      <th></th>\n",
       "      <th>ds</th>\n",
       "      <th>sale</th>\n",
       "      <th>prev_sales</th>\n",
       "      <th>y</th>\n",
       "    </tr>\n",
       "  </thead>\n",
       "  <tbody>\n",
       "    <tr>\n",
       "      <th>1</th>\n",
       "      <td>2019-07-31</td>\n",
       "      <td>6.616060e+05</td>\n",
       "      <td>4.580775e+05</td>\n",
       "      <td>2.035285e+05</td>\n",
       "    </tr>\n",
       "    <tr>\n",
       "      <th>2</th>\n",
       "      <td>2019-08-31</td>\n",
       "      <td>9.104771e+05</td>\n",
       "      <td>6.616060e+05</td>\n",
       "      <td>2.488711e+05</td>\n",
       "    </tr>\n",
       "    <tr>\n",
       "      <th>3</th>\n",
       "      <td>2019-09-30</td>\n",
       "      <td>8.601632e+05</td>\n",
       "      <td>9.104771e+05</td>\n",
       "      <td>-5.031387e+04</td>\n",
       "    </tr>\n",
       "    <tr>\n",
       "      <th>4</th>\n",
       "      <td>2019-10-31</td>\n",
       "      <td>7.033258e+05</td>\n",
       "      <td>8.601632e+05</td>\n",
       "      <td>-1.568374e+05</td>\n",
       "    </tr>\n",
       "    <tr>\n",
       "      <th>5</th>\n",
       "      <td>2019-11-30</td>\n",
       "      <td>1.312387e+06</td>\n",
       "      <td>7.033258e+05</td>\n",
       "      <td>6.090614e+05</td>\n",
       "    </tr>\n",
       "    <tr>\n",
       "      <th>6</th>\n",
       "      <td>2019-12-31</td>\n",
       "      <td>1.382256e+06</td>\n",
       "      <td>1.312387e+06</td>\n",
       "      <td>6.986854e+04</td>\n",
       "    </tr>\n",
       "    <tr>\n",
       "      <th>7</th>\n",
       "      <td>2020-01-31</td>\n",
       "      <td>1.017721e+06</td>\n",
       "      <td>1.382256e+06</td>\n",
       "      <td>-3.645344e+05</td>\n",
       "    </tr>\n",
       "    <tr>\n",
       "      <th>8</th>\n",
       "      <td>2020-02-29</td>\n",
       "      <td>8.523137e+05</td>\n",
       "      <td>1.017721e+06</td>\n",
       "      <td>-1.654076e+05</td>\n",
       "    </tr>\n",
       "    <tr>\n",
       "      <th>9</th>\n",
       "      <td>2020-03-31</td>\n",
       "      <td>8.334149e+05</td>\n",
       "      <td>8.523137e+05</td>\n",
       "      <td>-1.889880e+04</td>\n",
       "    </tr>\n",
       "    <tr>\n",
       "      <th>10</th>\n",
       "      <td>2020-04-30</td>\n",
       "      <td>9.226340e+05</td>\n",
       "      <td>8.334149e+05</td>\n",
       "      <td>8.921914e+04</td>\n",
       "    </tr>\n",
       "    <tr>\n",
       "      <th>11</th>\n",
       "      <td>2020-05-31</td>\n",
       "      <td>1.149092e+06</td>\n",
       "      <td>9.226340e+05</td>\n",
       "      <td>2.264581e+05</td>\n",
       "    </tr>\n",
       "    <tr>\n",
       "      <th>12</th>\n",
       "      <td>2020-06-30</td>\n",
       "      <td>9.907467e+05</td>\n",
       "      <td>1.149092e+06</td>\n",
       "      <td>-1.583454e+05</td>\n",
       "    </tr>\n",
       "    <tr>\n",
       "      <th>13</th>\n",
       "      <td>2020-07-31</td>\n",
       "      <td>9.025074e+05</td>\n",
       "      <td>9.907467e+05</td>\n",
       "      <td>-8.823929e+04</td>\n",
       "    </tr>\n",
       "    <tr>\n",
       "      <th>14</th>\n",
       "      <td>2020-08-31</td>\n",
       "      <td>1.058104e+06</td>\n",
       "      <td>9.025074e+05</td>\n",
       "      <td>1.555967e+05</td>\n",
       "    </tr>\n",
       "    <tr>\n",
       "      <th>15</th>\n",
       "      <td>2020-09-30</td>\n",
       "      <td>1.245328e+06</td>\n",
       "      <td>1.058104e+06</td>\n",
       "      <td>1.872235e+05</td>\n",
       "    </tr>\n",
       "    <tr>\n",
       "      <th>16</th>\n",
       "      <td>2020-10-31</td>\n",
       "      <td>1.140070e+06</td>\n",
       "      <td>1.245328e+06</td>\n",
       "      <td>-1.052577e+05</td>\n",
       "    </tr>\n",
       "    <tr>\n",
       "      <th>17</th>\n",
       "      <td>2020-11-30</td>\n",
       "      <td>2.229964e+06</td>\n",
       "      <td>1.140070e+06</td>\n",
       "      <td>1.089894e+06</td>\n",
       "    </tr>\n",
       "    <tr>\n",
       "      <th>18</th>\n",
       "      <td>2020-12-31</td>\n",
       "      <td>1.613987e+06</td>\n",
       "      <td>2.229964e+06</td>\n",
       "      <td>-6.159768e+05</td>\n",
       "    </tr>\n",
       "    <tr>\n",
       "      <th>19</th>\n",
       "      <td>2021-01-31</td>\n",
       "      <td>1.726676e+06</td>\n",
       "      <td>1.613987e+06</td>\n",
       "      <td>1.126889e+05</td>\n",
       "    </tr>\n",
       "    <tr>\n",
       "      <th>20</th>\n",
       "      <td>2021-02-28</td>\n",
       "      <td>1.518298e+06</td>\n",
       "      <td>1.726676e+06</td>\n",
       "      <td>-2.083781e+05</td>\n",
       "    </tr>\n",
       "    <tr>\n",
       "      <th>21</th>\n",
       "      <td>2021-03-31</td>\n",
       "      <td>2.049198e+06</td>\n",
       "      <td>1.518298e+06</td>\n",
       "      <td>5.309003e+05</td>\n",
       "    </tr>\n",
       "    <tr>\n",
       "      <th>22</th>\n",
       "      <td>2021-04-30</td>\n",
       "      <td>1.993090e+06</td>\n",
       "      <td>2.049198e+06</td>\n",
       "      <td>-5.610837e+04</td>\n",
       "    </tr>\n",
       "    <tr>\n",
       "      <th>23</th>\n",
       "      <td>2021-05-31</td>\n",
       "      <td>1.870187e+06</td>\n",
       "      <td>1.993090e+06</td>\n",
       "      <td>-1.229028e+05</td>\n",
       "    </tr>\n",
       "    <tr>\n",
       "      <th>24</th>\n",
       "      <td>2021-06-30</td>\n",
       "      <td>1.517157e+06</td>\n",
       "      <td>1.870187e+06</td>\n",
       "      <td>-3.530298e+05</td>\n",
       "    </tr>\n",
       "    <tr>\n",
       "      <th>25</th>\n",
       "      <td>2021-07-31</td>\n",
       "      <td>1.392864e+06</td>\n",
       "      <td>1.517157e+06</td>\n",
       "      <td>-1.242934e+05</td>\n",
       "    </tr>\n",
       "    <tr>\n",
       "      <th>26</th>\n",
       "      <td>2021-08-31</td>\n",
       "      <td>1.652204e+06</td>\n",
       "      <td>1.392864e+06</td>\n",
       "      <td>2.593397e+05</td>\n",
       "    </tr>\n",
       "    <tr>\n",
       "      <th>27</th>\n",
       "      <td>2021-09-30</td>\n",
       "      <td>1.617093e+06</td>\n",
       "      <td>1.652204e+06</td>\n",
       "      <td>-3.511098e+04</td>\n",
       "    </tr>\n",
       "    <tr>\n",
       "      <th>28</th>\n",
       "      <td>2021-10-31</td>\n",
       "      <td>1.770133e+06</td>\n",
       "      <td>1.617093e+06</td>\n",
       "      <td>1.530401e+05</td>\n",
       "    </tr>\n",
       "    <tr>\n",
       "      <th>29</th>\n",
       "      <td>2021-11-30</td>\n",
       "      <td>2.855354e+06</td>\n",
       "      <td>1.770133e+06</td>\n",
       "      <td>1.085221e+06</td>\n",
       "    </tr>\n",
       "    <tr>\n",
       "      <th>30</th>\n",
       "      <td>2021-12-31</td>\n",
       "      <td>2.847210e+06</td>\n",
       "      <td>2.855354e+06</td>\n",
       "      <td>-8.143882e+03</td>\n",
       "    </tr>\n",
       "    <tr>\n",
       "      <th>31</th>\n",
       "      <td>2022-01-31</td>\n",
       "      <td>9.000980e+05</td>\n",
       "      <td>2.847210e+06</td>\n",
       "      <td>-1.947112e+06</td>\n",
       "    </tr>\n",
       "  </tbody>\n",
       "</table>\n",
       "</div>"
      ],
      "text/plain": [
       "           ds          sale    prev_sales             y\n",
       "1  2019-07-31  6.616060e+05  4.580775e+05  2.035285e+05\n",
       "2  2019-08-31  9.104771e+05  6.616060e+05  2.488711e+05\n",
       "3  2019-09-30  8.601632e+05  9.104771e+05 -5.031387e+04\n",
       "4  2019-10-31  7.033258e+05  8.601632e+05 -1.568374e+05\n",
       "5  2019-11-30  1.312387e+06  7.033258e+05  6.090614e+05\n",
       "6  2019-12-31  1.382256e+06  1.312387e+06  6.986854e+04\n",
       "7  2020-01-31  1.017721e+06  1.382256e+06 -3.645344e+05\n",
       "8  2020-02-29  8.523137e+05  1.017721e+06 -1.654076e+05\n",
       "9  2020-03-31  8.334149e+05  8.523137e+05 -1.889880e+04\n",
       "10 2020-04-30  9.226340e+05  8.334149e+05  8.921914e+04\n",
       "11 2020-05-31  1.149092e+06  9.226340e+05  2.264581e+05\n",
       "12 2020-06-30  9.907467e+05  1.149092e+06 -1.583454e+05\n",
       "13 2020-07-31  9.025074e+05  9.907467e+05 -8.823929e+04\n",
       "14 2020-08-31  1.058104e+06  9.025074e+05  1.555967e+05\n",
       "15 2020-09-30  1.245328e+06  1.058104e+06  1.872235e+05\n",
       "16 2020-10-31  1.140070e+06  1.245328e+06 -1.052577e+05\n",
       "17 2020-11-30  2.229964e+06  1.140070e+06  1.089894e+06\n",
       "18 2020-12-31  1.613987e+06  2.229964e+06 -6.159768e+05\n",
       "19 2021-01-31  1.726676e+06  1.613987e+06  1.126889e+05\n",
       "20 2021-02-28  1.518298e+06  1.726676e+06 -2.083781e+05\n",
       "21 2021-03-31  2.049198e+06  1.518298e+06  5.309003e+05\n",
       "22 2021-04-30  1.993090e+06  2.049198e+06 -5.610837e+04\n",
       "23 2021-05-31  1.870187e+06  1.993090e+06 -1.229028e+05\n",
       "24 2021-06-30  1.517157e+06  1.870187e+06 -3.530298e+05\n",
       "25 2021-07-31  1.392864e+06  1.517157e+06 -1.242934e+05\n",
       "26 2021-08-31  1.652204e+06  1.392864e+06  2.593397e+05\n",
       "27 2021-09-30  1.617093e+06  1.652204e+06 -3.511098e+04\n",
       "28 2021-10-31  1.770133e+06  1.617093e+06  1.530401e+05\n",
       "29 2021-11-30  2.855354e+06  1.770133e+06  1.085221e+06\n",
       "30 2021-12-31  2.847210e+06  2.855354e+06 -8.143882e+03\n",
       "31 2022-01-31  9.000980e+05  2.847210e+06 -1.947112e+06"
      ]
     },
     "execution_count": 196,
     "metadata": {},
     "output_type": "execute_result"
    }
   ],
   "source": [
    "\n",
    "# Rename the date and sales columns based the fb prophet requirement\n",
    "df_diff = df_diff.rename(columns={'date':'ds', 'diff':'y'})\n",
    "df_diff"
   ]
  },
  {
   "cell_type": "code",
   "execution_count": 197,
   "metadata": {},
   "outputs": [
    {
     "data": {
      "text/html": [
       "<div>\n",
       "<style scoped>\n",
       "    .dataframe tbody tr th:only-of-type {\n",
       "        vertical-align: middle;\n",
       "    }\n",
       "\n",
       "    .dataframe tbody tr th {\n",
       "        vertical-align: top;\n",
       "    }\n",
       "\n",
       "    .dataframe thead th {\n",
       "        text-align: right;\n",
       "    }\n",
       "</style>\n",
       "<table border=\"1\" class=\"dataframe\">\n",
       "  <thead>\n",
       "    <tr style=\"text-align: right;\">\n",
       "      <th></th>\n",
       "      <th>ds</th>\n",
       "      <th>y</th>\n",
       "    </tr>\n",
       "  </thead>\n",
       "  <tbody>\n",
       "    <tr>\n",
       "      <th>1</th>\n",
       "      <td>2019-07-31</td>\n",
       "      <td>2.035285e+05</td>\n",
       "    </tr>\n",
       "    <tr>\n",
       "      <th>2</th>\n",
       "      <td>2019-08-31</td>\n",
       "      <td>2.488711e+05</td>\n",
       "    </tr>\n",
       "    <tr>\n",
       "      <th>3</th>\n",
       "      <td>2019-09-30</td>\n",
       "      <td>-5.031387e+04</td>\n",
       "    </tr>\n",
       "    <tr>\n",
       "      <th>4</th>\n",
       "      <td>2019-10-31</td>\n",
       "      <td>-1.568374e+05</td>\n",
       "    </tr>\n",
       "    <tr>\n",
       "      <th>5</th>\n",
       "      <td>2019-11-30</td>\n",
       "      <td>6.090614e+05</td>\n",
       "    </tr>\n",
       "    <tr>\n",
       "      <th>6</th>\n",
       "      <td>2019-12-31</td>\n",
       "      <td>6.986854e+04</td>\n",
       "    </tr>\n",
       "    <tr>\n",
       "      <th>7</th>\n",
       "      <td>2020-01-31</td>\n",
       "      <td>-3.645344e+05</td>\n",
       "    </tr>\n",
       "    <tr>\n",
       "      <th>8</th>\n",
       "      <td>2020-02-29</td>\n",
       "      <td>-1.654076e+05</td>\n",
       "    </tr>\n",
       "    <tr>\n",
       "      <th>9</th>\n",
       "      <td>2020-03-31</td>\n",
       "      <td>-1.889880e+04</td>\n",
       "    </tr>\n",
       "    <tr>\n",
       "      <th>10</th>\n",
       "      <td>2020-04-30</td>\n",
       "      <td>8.921914e+04</td>\n",
       "    </tr>\n",
       "    <tr>\n",
       "      <th>11</th>\n",
       "      <td>2020-05-31</td>\n",
       "      <td>2.264581e+05</td>\n",
       "    </tr>\n",
       "    <tr>\n",
       "      <th>12</th>\n",
       "      <td>2020-06-30</td>\n",
       "      <td>-1.583454e+05</td>\n",
       "    </tr>\n",
       "    <tr>\n",
       "      <th>13</th>\n",
       "      <td>2020-07-31</td>\n",
       "      <td>-8.823929e+04</td>\n",
       "    </tr>\n",
       "    <tr>\n",
       "      <th>14</th>\n",
       "      <td>2020-08-31</td>\n",
       "      <td>1.555967e+05</td>\n",
       "    </tr>\n",
       "    <tr>\n",
       "      <th>15</th>\n",
       "      <td>2020-09-30</td>\n",
       "      <td>1.872235e+05</td>\n",
       "    </tr>\n",
       "    <tr>\n",
       "      <th>16</th>\n",
       "      <td>2020-10-31</td>\n",
       "      <td>-1.052577e+05</td>\n",
       "    </tr>\n",
       "    <tr>\n",
       "      <th>17</th>\n",
       "      <td>2020-11-30</td>\n",
       "      <td>1.089894e+06</td>\n",
       "    </tr>\n",
       "    <tr>\n",
       "      <th>18</th>\n",
       "      <td>2020-12-31</td>\n",
       "      <td>-6.159768e+05</td>\n",
       "    </tr>\n",
       "    <tr>\n",
       "      <th>19</th>\n",
       "      <td>2021-01-31</td>\n",
       "      <td>1.126889e+05</td>\n",
       "    </tr>\n",
       "    <tr>\n",
       "      <th>20</th>\n",
       "      <td>2021-02-28</td>\n",
       "      <td>-2.083781e+05</td>\n",
       "    </tr>\n",
       "    <tr>\n",
       "      <th>21</th>\n",
       "      <td>2021-03-31</td>\n",
       "      <td>5.309003e+05</td>\n",
       "    </tr>\n",
       "    <tr>\n",
       "      <th>22</th>\n",
       "      <td>2021-04-30</td>\n",
       "      <td>-5.610837e+04</td>\n",
       "    </tr>\n",
       "    <tr>\n",
       "      <th>23</th>\n",
       "      <td>2021-05-31</td>\n",
       "      <td>-1.229028e+05</td>\n",
       "    </tr>\n",
       "    <tr>\n",
       "      <th>24</th>\n",
       "      <td>2021-06-30</td>\n",
       "      <td>-3.530298e+05</td>\n",
       "    </tr>\n",
       "    <tr>\n",
       "      <th>25</th>\n",
       "      <td>2021-07-31</td>\n",
       "      <td>-1.242934e+05</td>\n",
       "    </tr>\n",
       "    <tr>\n",
       "      <th>26</th>\n",
       "      <td>2021-08-31</td>\n",
       "      <td>2.593397e+05</td>\n",
       "    </tr>\n",
       "    <tr>\n",
       "      <th>27</th>\n",
       "      <td>2021-09-30</td>\n",
       "      <td>-3.511098e+04</td>\n",
       "    </tr>\n",
       "    <tr>\n",
       "      <th>28</th>\n",
       "      <td>2021-10-31</td>\n",
       "      <td>1.530401e+05</td>\n",
       "    </tr>\n",
       "    <tr>\n",
       "      <th>29</th>\n",
       "      <td>2021-11-30</td>\n",
       "      <td>1.085221e+06</td>\n",
       "    </tr>\n",
       "    <tr>\n",
       "      <th>30</th>\n",
       "      <td>2021-12-31</td>\n",
       "      <td>-8.143882e+03</td>\n",
       "    </tr>\n",
       "    <tr>\n",
       "      <th>31</th>\n",
       "      <td>2022-01-31</td>\n",
       "      <td>-1.947112e+06</td>\n",
       "    </tr>\n",
       "  </tbody>\n",
       "</table>\n",
       "</div>"
      ],
      "text/plain": [
       "           ds             y\n",
       "1  2019-07-31  2.035285e+05\n",
       "2  2019-08-31  2.488711e+05\n",
       "3  2019-09-30 -5.031387e+04\n",
       "4  2019-10-31 -1.568374e+05\n",
       "5  2019-11-30  6.090614e+05\n",
       "6  2019-12-31  6.986854e+04\n",
       "7  2020-01-31 -3.645344e+05\n",
       "8  2020-02-29 -1.654076e+05\n",
       "9  2020-03-31 -1.889880e+04\n",
       "10 2020-04-30  8.921914e+04\n",
       "11 2020-05-31  2.264581e+05\n",
       "12 2020-06-30 -1.583454e+05\n",
       "13 2020-07-31 -8.823929e+04\n",
       "14 2020-08-31  1.555967e+05\n",
       "15 2020-09-30  1.872235e+05\n",
       "16 2020-10-31 -1.052577e+05\n",
       "17 2020-11-30  1.089894e+06\n",
       "18 2020-12-31 -6.159768e+05\n",
       "19 2021-01-31  1.126889e+05\n",
       "20 2021-02-28 -2.083781e+05\n",
       "21 2021-03-31  5.309003e+05\n",
       "22 2021-04-30 -5.610837e+04\n",
       "23 2021-05-31 -1.229028e+05\n",
       "24 2021-06-30 -3.530298e+05\n",
       "25 2021-07-31 -1.242934e+05\n",
       "26 2021-08-31  2.593397e+05\n",
       "27 2021-09-30 -3.511098e+04\n",
       "28 2021-10-31  1.530401e+05\n",
       "29 2021-11-30  1.085221e+06\n",
       "30 2021-12-31 -8.143882e+03\n",
       "31 2022-01-31 -1.947112e+06"
      ]
     },
     "execution_count": 197,
     "metadata": {},
     "output_type": "execute_result"
    }
   ],
   "source": [
    "df_fb = df_diff[['ds','y']]\n",
    "df_fb"
   ]
  },
  {
   "cell_type": "markdown",
   "metadata": {},
   "source": [
    "## 6-Split our data into test and training set"
   ]
  },
  {
   "cell_type": "code",
   "execution_count": 198,
   "metadata": {},
   "outputs": [],
   "source": [
    "# Divide our data into test and train set\n",
    "train=df_fb[:26]\n",
    "test=df_fb[26:]"
   ]
  },
  {
   "cell_type": "markdown",
   "metadata": {},
   "source": [
    "This code plot both the test and train set in case that we want. I skip it"
   ]
  },
  {
   "cell_type": "code",
   "execution_count": null,
   "metadata": {},
   "outputs": [],
   "source": [
    "# Lets plot the both data\n",
    "\"\"\"fig, ax = plt.subplots(figsize=(16, 8))\n",
    "sns.lineplot(x='ds', y='y', label='train', data=train, ax=ax)\n",
    "sns.lineplot(x='ds', y='y', label='test', data=test, ax=ax)\n",
    "plt.ticklabel_format(style='plain', axis='y')\n",
    "ax.legend(loc='upper left')\n",
    "ax.set(title='Dependent Variable', ylabel='Sales');\n",
    "plt.ticklabel_format(style='plain', axis='y')\"\"\""
   ]
  },
  {
   "cell_type": "markdown",
   "metadata": {},
   "source": [
    "## 7- Modeling"
   ]
  },
  {
   "cell_type": "code",
   "execution_count": null,
   "metadata": {},
   "outputs": [],
   "source": [
    "m = Prophet(weekly_seasonality=True,yearly_seasonality=True)\n",
    "m.add_seasonality(name='monthly', period=24, fourier_order=1)\n",
    "#m.add_country_holidays(country_name='UK')\n",
    "m.fit(train)"
   ]
  },
  {
   "cell_type": "code",
   "execution_count": 145,
   "metadata": {},
   "outputs": [],
   "source": [
    "\n",
    "#future = m.make_future_dataframe(periods=7, #include_history=True)\n",
    "future = m.make_future_dataframe(periods=7, freq = 'M')\n",
    "forecast = m.predict(future)\n",
    "#print(m.make_future_dataframe(periods=5, freq='M'))"
   ]
  },
  {
   "cell_type": "code",
   "execution_count": 112,
   "metadata": {},
   "outputs": [
    {
     "data": {
      "text/html": [
       "<div>\n",
       "<style scoped>\n",
       "    .dataframe tbody tr th:only-of-type {\n",
       "        vertical-align: middle;\n",
       "    }\n",
       "\n",
       "    .dataframe tbody tr th {\n",
       "        vertical-align: top;\n",
       "    }\n",
       "\n",
       "    .dataframe thead th {\n",
       "        text-align: right;\n",
       "    }\n",
       "</style>\n",
       "<table border=\"1\" class=\"dataframe\">\n",
       "  <thead>\n",
       "    <tr style=\"text-align: right;\">\n",
       "      <th></th>\n",
       "      <th>ds</th>\n",
       "      <th>trend</th>\n",
       "      <th>yhat_lower</th>\n",
       "      <th>yhat_upper</th>\n",
       "      <th>trend_lower</th>\n",
       "      <th>trend_upper</th>\n",
       "      <th>additive_terms</th>\n",
       "      <th>additive_terms_lower</th>\n",
       "      <th>additive_terms_upper</th>\n",
       "      <th>monthly</th>\n",
       "      <th>monthly_lower</th>\n",
       "      <th>monthly_upper</th>\n",
       "      <th>weekly</th>\n",
       "      <th>weekly_lower</th>\n",
       "      <th>weekly_upper</th>\n",
       "      <th>yearly</th>\n",
       "      <th>yearly_lower</th>\n",
       "      <th>yearly_upper</th>\n",
       "      <th>multiplicative_terms</th>\n",
       "      <th>multiplicative_terms_lower</th>\n",
       "      <th>multiplicative_terms_upper</th>\n",
       "      <th>yhat</th>\n",
       "    </tr>\n",
       "  </thead>\n",
       "  <tbody>\n",
       "    <tr>\n",
       "      <th>0</th>\n",
       "      <td>2019-07-01</td>\n",
       "      <td>24413.267984</td>\n",
       "      <td>2.035285e+05</td>\n",
       "      <td>2.035285e+05</td>\n",
       "      <td>24413.267984</td>\n",
       "      <td>24413.267984</td>\n",
       "      <td>179115.221432</td>\n",
       "      <td>179115.221432</td>\n",
       "      <td>179115.221432</td>\n",
       "      <td>-67369.609363</td>\n",
       "      <td>-67369.609363</td>\n",
       "      <td>-67369.609363</td>\n",
       "      <td>353915.995331</td>\n",
       "      <td>353915.995331</td>\n",
       "      <td>353915.995331</td>\n",
       "      <td>-1.074312e+05</td>\n",
       "      <td>-1.074312e+05</td>\n",
       "      <td>-1.074312e+05</td>\n",
       "      <td>0.0</td>\n",
       "      <td>0.0</td>\n",
       "      <td>0.0</td>\n",
       "      <td>2.035285e+05</td>\n",
       "    </tr>\n",
       "    <tr>\n",
       "      <th>1</th>\n",
       "      <td>2019-08-01</td>\n",
       "      <td>29805.781886</td>\n",
       "      <td>2.488711e+05</td>\n",
       "      <td>2.488711e+05</td>\n",
       "      <td>29805.781886</td>\n",
       "      <td>29805.781886</td>\n",
       "      <td>219065.330501</td>\n",
       "      <td>219065.330501</td>\n",
       "      <td>219065.330501</td>\n",
       "      <td>-50695.536131</td>\n",
       "      <td>-50695.536131</td>\n",
       "      <td>-50695.536131</td>\n",
       "      <td>-408068.287595</td>\n",
       "      <td>-408068.287595</td>\n",
       "      <td>-408068.287595</td>\n",
       "      <td>6.778292e+05</td>\n",
       "      <td>6.778292e+05</td>\n",
       "      <td>6.778292e+05</td>\n",
       "      <td>0.0</td>\n",
       "      <td>0.0</td>\n",
       "      <td>0.0</td>\n",
       "      <td>2.488711e+05</td>\n",
       "    </tr>\n",
       "    <tr>\n",
       "      <th>2</th>\n",
       "      <td>2019-09-01</td>\n",
       "      <td>35198.262390</td>\n",
       "      <td>-5.031387e+04</td>\n",
       "      <td>-5.031387e+04</td>\n",
       "      <td>35198.262390</td>\n",
       "      <td>35198.262390</td>\n",
       "      <td>-85512.129742</td>\n",
       "      <td>-85512.129742</td>\n",
       "      <td>-85512.129742</td>\n",
       "      <td>93611.549868</td>\n",
       "      <td>93611.549868</td>\n",
       "      <td>93611.549868</td>\n",
       "      <td>-77488.495566</td>\n",
       "      <td>-77488.495566</td>\n",
       "      <td>-77488.495566</td>\n",
       "      <td>-1.016352e+05</td>\n",
       "      <td>-1.016352e+05</td>\n",
       "      <td>-1.016352e+05</td>\n",
       "      <td>0.0</td>\n",
       "      <td>0.0</td>\n",
       "      <td>0.0</td>\n",
       "      <td>-5.031387e+04</td>\n",
       "    </tr>\n",
       "    <tr>\n",
       "      <th>3</th>\n",
       "      <td>2019-10-01</td>\n",
       "      <td>40417.324583</td>\n",
       "      <td>-1.568374e+05</td>\n",
       "      <td>-1.568374e+05</td>\n",
       "      <td>40417.324583</td>\n",
       "      <td>40417.324583</td>\n",
       "      <td>-197254.771194</td>\n",
       "      <td>-197254.771194</td>\n",
       "      <td>-197254.771194</td>\n",
       "      <td>27400.741820</td>\n",
       "      <td>27400.741820</td>\n",
       "      <td>27400.741820</td>\n",
       "      <td>-88686.962795</td>\n",
       "      <td>-88686.962795</td>\n",
       "      <td>-88686.962795</td>\n",
       "      <td>-1.359686e+05</td>\n",
       "      <td>-1.359686e+05</td>\n",
       "      <td>-1.359686e+05</td>\n",
       "      <td>0.0</td>\n",
       "      <td>0.0</td>\n",
       "      <td>0.0</td>\n",
       "      <td>-1.568374e+05</td>\n",
       "    </tr>\n",
       "    <tr>\n",
       "      <th>4</th>\n",
       "      <td>2019-11-01</td>\n",
       "      <td>45810.935169</td>\n",
       "      <td>6.090614e+05</td>\n",
       "      <td>6.090614e+05</td>\n",
       "      <td>45810.935169</td>\n",
       "      <td>45810.935169</td>\n",
       "      <td>563250.436332</td>\n",
       "      <td>563250.436332</td>\n",
       "      <td>563250.436332</td>\n",
       "      <td>-97513.647489</td>\n",
       "      <td>-97513.647489</td>\n",
       "      <td>-97513.647489</td>\n",
       "      <td>341856.566841</td>\n",
       "      <td>341856.566841</td>\n",
       "      <td>341856.566841</td>\n",
       "      <td>3.189075e+05</td>\n",
       "      <td>3.189075e+05</td>\n",
       "      <td>3.189075e+05</td>\n",
       "      <td>0.0</td>\n",
       "      <td>0.0</td>\n",
       "      <td>0.0</td>\n",
       "      <td>6.090614e+05</td>\n",
       "    </tr>\n",
       "    <tr>\n",
       "      <th>5</th>\n",
       "      <td>2019-12-01</td>\n",
       "      <td>51030.477440</td>\n",
       "      <td>6.986854e+04</td>\n",
       "      <td>6.986854e+04</td>\n",
       "      <td>51030.477440</td>\n",
       "      <td>51030.477440</td>\n",
       "      <td>18838.058737</td>\n",
       "      <td>18838.058737</td>\n",
       "      <td>18838.058737</td>\n",
       "      <td>-2238.632236</td>\n",
       "      <td>-2238.632236</td>\n",
       "      <td>-2238.632236</td>\n",
       "      <td>-77488.495566</td>\n",
       "      <td>-77488.495566</td>\n",
       "      <td>-77488.495566</td>\n",
       "      <td>9.856519e+04</td>\n",
       "      <td>9.856519e+04</td>\n",
       "      <td>9.856519e+04</td>\n",
       "      <td>0.0</td>\n",
       "      <td>0.0</td>\n",
       "      <td>0.0</td>\n",
       "      <td>6.986854e+04</td>\n",
       "    </tr>\n",
       "    <tr>\n",
       "      <th>6</th>\n",
       "      <td>2020-01-01</td>\n",
       "      <td>56424.247772</td>\n",
       "      <td>-3.645344e+05</td>\n",
       "      <td>-3.645344e+05</td>\n",
       "      <td>56424.247772</td>\n",
       "      <td>56424.247772</td>\n",
       "      <td>-420958.682906</td>\n",
       "      <td>-420958.682906</td>\n",
       "      <td>-420958.682906</td>\n",
       "      <td>94770.351183</td>\n",
       "      <td>94770.351183</td>\n",
       "      <td>94770.351183</td>\n",
       "      <td>-283987.246692</td>\n",
       "      <td>-283987.246692</td>\n",
       "      <td>-283987.246692</td>\n",
       "      <td>-2.317418e+05</td>\n",
       "      <td>-2.317418e+05</td>\n",
       "      <td>-2.317418e+05</td>\n",
       "      <td>0.0</td>\n",
       "      <td>0.0</td>\n",
       "      <td>0.0</td>\n",
       "      <td>-3.645344e+05</td>\n",
       "    </tr>\n",
       "    <tr>\n",
       "      <th>7</th>\n",
       "      <td>2020-02-01</td>\n",
       "      <td>61817.620475</td>\n",
       "      <td>-1.654076e+05</td>\n",
       "      <td>-1.654076e+05</td>\n",
       "      <td>61817.620475</td>\n",
       "      <td>61817.620475</td>\n",
       "      <td>-227225.211249</td>\n",
       "      <td>-227225.211249</td>\n",
       "      <td>-227225.211249</td>\n",
       "      <td>-46818.111359</td>\n",
       "      <td>-46818.111359</td>\n",
       "      <td>-46818.111359</td>\n",
       "      <td>162458.430475</td>\n",
       "      <td>162458.430475</td>\n",
       "      <td>162458.430475</td>\n",
       "      <td>-3.428655e+05</td>\n",
       "      <td>-3.428655e+05</td>\n",
       "      <td>-3.428655e+05</td>\n",
       "      <td>0.0</td>\n",
       "      <td>0.0</td>\n",
       "      <td>0.0</td>\n",
       "      <td>-1.654076e+05</td>\n",
       "    </tr>\n",
       "    <tr>\n",
       "      <th>8</th>\n",
       "      <td>2020-03-01</td>\n",
       "      <td>66863.551969</td>\n",
       "      <td>-1.889880e+04</td>\n",
       "      <td>-1.889880e+04</td>\n",
       "      <td>66863.551969</td>\n",
       "      <td>66863.551969</td>\n",
       "      <td>-85762.347793</td>\n",
       "      <td>-85762.347793</td>\n",
       "      <td>-85762.347793</td>\n",
       "      <td>-94770.351183</td>\n",
       "      <td>-94770.351183</td>\n",
       "      <td>-94770.351183</td>\n",
       "      <td>-77488.495566</td>\n",
       "      <td>-77488.495566</td>\n",
       "      <td>-77488.495566</td>\n",
       "      <td>8.649650e+04</td>\n",
       "      <td>8.649650e+04</td>\n",
       "      <td>8.649650e+04</td>\n",
       "      <td>0.0</td>\n",
       "      <td>0.0</td>\n",
       "      <td>0.0</td>\n",
       "      <td>-1.889880e+04</td>\n",
       "    </tr>\n",
       "    <tr>\n",
       "      <th>9</th>\n",
       "      <td>2020-04-01</td>\n",
       "      <td>72258.069086</td>\n",
       "      <td>8.921914e+04</td>\n",
       "      <td>8.921914e+04</td>\n",
       "      <td>72258.069086</td>\n",
       "      <td>72258.069086</td>\n",
       "      <td>16961.074817</td>\n",
       "      <td>16961.074817</td>\n",
       "      <td>16961.074817</td>\n",
       "      <td>46818.111359</td>\n",
       "      <td>46818.111359</td>\n",
       "      <td>46818.111359</td>\n",
       "      <td>-283987.246691</td>\n",
       "      <td>-283987.246691</td>\n",
       "      <td>-283987.246691</td>\n",
       "      <td>2.541302e+05</td>\n",
       "      <td>2.541302e+05</td>\n",
       "      <td>2.541302e+05</td>\n",
       "      <td>0.0</td>\n",
       "      <td>0.0</td>\n",
       "      <td>0.0</td>\n",
       "      <td>8.921914e+04</td>\n",
       "    </tr>\n",
       "    <tr>\n",
       "      <th>10</th>\n",
       "      <td>2020-05-01</td>\n",
       "      <td>77484.456584</td>\n",
       "      <td>2.264581e+05</td>\n",
       "      <td>2.264581e+05</td>\n",
       "      <td>77484.456584</td>\n",
       "      <td>77484.456584</td>\n",
       "      <td>148973.644775</td>\n",
       "      <td>148973.644775</td>\n",
       "      <td>148973.644775</td>\n",
       "      <td>85568.612059</td>\n",
       "      <td>85568.612059</td>\n",
       "      <td>85568.612059</td>\n",
       "      <td>341856.566840</td>\n",
       "      <td>341856.566840</td>\n",
       "      <td>341856.566840</td>\n",
       "      <td>-2.784515e+05</td>\n",
       "      <td>-2.784515e+05</td>\n",
       "      <td>-2.784515e+05</td>\n",
       "      <td>0.0</td>\n",
       "      <td>0.0</td>\n",
       "      <td>0.0</td>\n",
       "      <td>2.264581e+05</td>\n",
       "    </tr>\n",
       "    <tr>\n",
       "      <th>11</th>\n",
       "      <td>2020-06-01</td>\n",
       "      <td>82886.991257</td>\n",
       "      <td>-1.583454e+05</td>\n",
       "      <td>-1.583454e+05</td>\n",
       "      <td>82886.991257</td>\n",
       "      <td>82886.991257</td>\n",
       "      <td>-241232.439823</td>\n",
       "      <td>-241232.439823</td>\n",
       "      <td>-241232.439823</td>\n",
       "      <td>-67369.609363</td>\n",
       "      <td>-67369.609363</td>\n",
       "      <td>-67369.609363</td>\n",
       "      <td>353915.995330</td>\n",
       "      <td>353915.995330</td>\n",
       "      <td>353915.995330</td>\n",
       "      <td>-5.277788e+05</td>\n",
       "      <td>-5.277788e+05</td>\n",
       "      <td>-5.277788e+05</td>\n",
       "      <td>0.0</td>\n",
       "      <td>0.0</td>\n",
       "      <td>0.0</td>\n",
       "      <td>-1.583454e+05</td>\n",
       "    </tr>\n",
       "    <tr>\n",
       "      <th>12</th>\n",
       "      <td>2020-07-01</td>\n",
       "      <td>88124.373170</td>\n",
       "      <td>-8.823929e+04</td>\n",
       "      <td>-8.823929e+04</td>\n",
       "      <td>88124.373170</td>\n",
       "      <td>88124.373170</td>\n",
       "      <td>-176363.658945</td>\n",
       "      <td>-176363.658945</td>\n",
       "      <td>-176363.658945</td>\n",
       "      <td>-70535.513432</td>\n",
       "      <td>-70535.513432</td>\n",
       "      <td>-70535.513432</td>\n",
       "      <td>-283987.246691</td>\n",
       "      <td>-283987.246691</td>\n",
       "      <td>-283987.246691</td>\n",
       "      <td>1.781591e+05</td>\n",
       "      <td>1.781591e+05</td>\n",
       "      <td>1.781591e+05</td>\n",
       "      <td>0.0</td>\n",
       "      <td>0.0</td>\n",
       "      <td>0.0</td>\n",
       "      <td>-8.823929e+04</td>\n",
       "    </tr>\n",
       "    <tr>\n",
       "      <th>13</th>\n",
       "      <td>2020-08-01</td>\n",
       "      <td>93567.131244</td>\n",
       "      <td>1.555967e+05</td>\n",
       "      <td>1.555967e+05</td>\n",
       "      <td>93567.131244</td>\n",
       "      <td>93567.131244</td>\n",
       "      <td>62029.596406</td>\n",
       "      <td>62029.596406</td>\n",
       "      <td>62029.596406</td>\n",
       "      <td>83329.979823</td>\n",
       "      <td>83329.979823</td>\n",
       "      <td>83329.979823</td>\n",
       "      <td>162458.430477</td>\n",
       "      <td>162458.430477</td>\n",
       "      <td>162458.430477</td>\n",
       "      <td>-1.837588e+05</td>\n",
       "      <td>-1.837588e+05</td>\n",
       "      <td>-1.837588e+05</td>\n",
       "      <td>0.0</td>\n",
       "      <td>0.0</td>\n",
       "      <td>0.0</td>\n",
       "      <td>1.555967e+05</td>\n",
       "    </tr>\n",
       "    <tr>\n",
       "      <th>14</th>\n",
       "      <td>2020-09-01</td>\n",
       "      <td>99126.641571</td>\n",
       "      <td>1.872235e+05</td>\n",
       "      <td>1.872235e+05</td>\n",
       "      <td>99126.641571</td>\n",
       "      <td>99126.641571</td>\n",
       "      <td>88096.856497</td>\n",
       "      <td>88096.856497</td>\n",
       "      <td>88096.856497</td>\n",
       "      <td>27400.741820</td>\n",
       "      <td>27400.741820</td>\n",
       "      <td>27400.741820</td>\n",
       "      <td>-88686.962796</td>\n",
       "      <td>-88686.962796</td>\n",
       "      <td>-88686.962796</td>\n",
       "      <td>1.493831e+05</td>\n",
       "      <td>1.493831e+05</td>\n",
       "      <td>1.493831e+05</td>\n",
       "      <td>0.0</td>\n",
       "      <td>0.0</td>\n",
       "      <td>0.0</td>\n",
       "      <td>1.872235e+05</td>\n",
       "    </tr>\n",
       "    <tr>\n",
       "      <th>15</th>\n",
       "      <td>2020-10-01</td>\n",
       "      <td>104619.079248</td>\n",
       "      <td>-1.052577e+05</td>\n",
       "      <td>-1.052577e+05</td>\n",
       "      <td>104619.079248</td>\n",
       "      <td>104619.079248</td>\n",
       "      <td>-209876.825332</td>\n",
       "      <td>-209876.825332</td>\n",
       "      <td>-209876.825332</td>\n",
       "      <td>-93611.549868</td>\n",
       "      <td>-93611.549868</td>\n",
       "      <td>-93611.549868</td>\n",
       "      <td>-408068.287594</td>\n",
       "      <td>-408068.287594</td>\n",
       "      <td>-408068.287594</td>\n",
       "      <td>2.918030e+05</td>\n",
       "      <td>2.918030e+05</td>\n",
       "      <td>2.918030e+05</td>\n",
       "      <td>0.0</td>\n",
       "      <td>0.0</td>\n",
       "      <td>0.0</td>\n",
       "      <td>-1.052577e+05</td>\n",
       "    </tr>\n",
       "    <tr>\n",
       "      <th>16</th>\n",
       "      <td>2020-11-01</td>\n",
       "      <td>110303.930798</td>\n",
       "      <td>1.089894e+06</td>\n",
       "      <td>1.089894e+06</td>\n",
       "      <td>110303.930798</td>\n",
       "      <td>110303.930798</td>\n",
       "      <td>979590.302724</td>\n",
       "      <td>979590.302724</td>\n",
       "      <td>979590.302724</td>\n",
       "      <td>-2238.632236</td>\n",
       "      <td>-2238.632236</td>\n",
       "      <td>-2238.632236</td>\n",
       "      <td>-77488.495564</td>\n",
       "      <td>-77488.495564</td>\n",
       "      <td>-77488.495564</td>\n",
       "      <td>1.059317e+06</td>\n",
       "      <td>1.059317e+06</td>\n",
       "      <td>1.059317e+06</td>\n",
       "      <td>0.0</td>\n",
       "      <td>0.0</td>\n",
       "      <td>0.0</td>\n",
       "      <td>1.089894e+06</td>\n",
       "    </tr>\n",
       "    <tr>\n",
       "      <th>17</th>\n",
       "      <td>2020-12-01</td>\n",
       "      <td>115862.753577</td>\n",
       "      <td>-6.159768e+05</td>\n",
       "      <td>-6.159768e+05</td>\n",
       "      <td>115862.753577</td>\n",
       "      <td>115862.753577</td>\n",
       "      <td>-731839.569805</td>\n",
       "      <td>-731839.569805</td>\n",
       "      <td>-731839.569805</td>\n",
       "      <td>97513.647489</td>\n",
       "      <td>97513.647489</td>\n",
       "      <td>97513.647489</td>\n",
       "      <td>-88686.962797</td>\n",
       "      <td>-88686.962797</td>\n",
       "      <td>-88686.962797</td>\n",
       "      <td>-7.406663e+05</td>\n",
       "      <td>-7.406663e+05</td>\n",
       "      <td>-7.406663e+05</td>\n",
       "      <td>0.0</td>\n",
       "      <td>0.0</td>\n",
       "      <td>0.0</td>\n",
       "      <td>-6.159768e+05</td>\n",
       "    </tr>\n",
       "    <tr>\n",
       "      <th>18</th>\n",
       "      <td>2021-01-01</td>\n",
       "      <td>121608.536438</td>\n",
       "      <td>1.126889e+05</td>\n",
       "      <td>1.126889e+05</td>\n",
       "      <td>121608.536438</td>\n",
       "      <td>121608.536438</td>\n",
       "      <td>-8919.651782</td>\n",
       "      <td>-8919.651782</td>\n",
       "      <td>-8919.651782</td>\n",
       "      <td>-23076.036435</td>\n",
       "      <td>-23076.036435</td>\n",
       "      <td>-23076.036435</td>\n",
       "      <td>341856.566842</td>\n",
       "      <td>341856.566842</td>\n",
       "      <td>341856.566842</td>\n",
       "      <td>-3.277002e+05</td>\n",
       "      <td>-3.277002e+05</td>\n",
       "      <td>-3.277002e+05</td>\n",
       "      <td>0.0</td>\n",
       "      <td>0.0</td>\n",
       "      <td>0.0</td>\n",
       "      <td>1.126889e+05</td>\n",
       "    </tr>\n",
       "    <tr>\n",
       "      <th>19</th>\n",
       "      <td>2021-02-01</td>\n",
       "      <td>127355.606216</td>\n",
       "      <td>-2.083781e+05</td>\n",
       "      <td>-2.083781e+05</td>\n",
       "      <td>127355.606216</td>\n",
       "      <td>127355.606216</td>\n",
       "      <td>-335733.656875</td>\n",
       "      <td>-335733.656875</td>\n",
       "      <td>-335733.656875</td>\n",
       "      <td>-85568.612059</td>\n",
       "      <td>-85568.612059</td>\n",
       "      <td>-85568.612059</td>\n",
       "      <td>353915.995330</td>\n",
       "      <td>353915.995330</td>\n",
       "      <td>353915.995330</td>\n",
       "      <td>-6.040810e+05</td>\n",
       "      <td>-6.040810e+05</td>\n",
       "      <td>-6.040810e+05</td>\n",
       "      <td>0.0</td>\n",
       "      <td>0.0</td>\n",
       "      <td>0.0</td>\n",
       "      <td>-2.083781e+05</td>\n",
       "    </tr>\n",
       "    <tr>\n",
       "      <th>20</th>\n",
       "      <td>2021-03-01</td>\n",
       "      <td>132547.591365</td>\n",
       "      <td>5.309003e+05</td>\n",
       "      <td>5.309003e+05</td>\n",
       "      <td>132547.591365</td>\n",
       "      <td>132547.591365</td>\n",
       "      <td>398352.722164</td>\n",
       "      <td>398352.722164</td>\n",
       "      <td>398352.722164</td>\n",
       "      <td>-2238.632236</td>\n",
       "      <td>-2238.632236</td>\n",
       "      <td>-2238.632236</td>\n",
       "      <td>353915.995330</td>\n",
       "      <td>353915.995330</td>\n",
       "      <td>353915.995330</td>\n",
       "      <td>4.667536e+04</td>\n",
       "      <td>4.667536e+04</td>\n",
       "      <td>4.667536e+04</td>\n",
       "      <td>0.0</td>\n",
       "      <td>0.0</td>\n",
       "      <td>0.0</td>\n",
       "      <td>5.309003e+05</td>\n",
       "    </tr>\n",
       "    <tr>\n",
       "      <th>21</th>\n",
       "      <td>2021-04-01</td>\n",
       "      <td>138295.860636</td>\n",
       "      <td>-5.610837e+04</td>\n",
       "      <td>-5.610837e+04</td>\n",
       "      <td>138295.860636</td>\n",
       "      <td>138295.860636</td>\n",
       "      <td>-194404.227471</td>\n",
       "      <td>-194404.227471</td>\n",
       "      <td>-194404.227471</td>\n",
       "      <td>94770.351183</td>\n",
       "      <td>94770.351183</td>\n",
       "      <td>94770.351183</td>\n",
       "      <td>-408068.287593</td>\n",
       "      <td>-408068.287593</td>\n",
       "      <td>-408068.287593</td>\n",
       "      <td>1.188937e+05</td>\n",
       "      <td>1.188937e+05</td>\n",
       "      <td>1.188937e+05</td>\n",
       "      <td>0.0</td>\n",
       "      <td>0.0</td>\n",
       "      <td>0.0</td>\n",
       "      <td>-5.610837e+04</td>\n",
       "    </tr>\n",
       "    <tr>\n",
       "      <th>22</th>\n",
       "      <td>2021-05-01</td>\n",
       "      <td>143858.701867</td>\n",
       "      <td>-1.229028e+05</td>\n",
       "      <td>-1.229028e+05</td>\n",
       "      <td>143858.701867</td>\n",
       "      <td>143858.701867</td>\n",
       "      <td>-266761.538153</td>\n",
       "      <td>-266761.538153</td>\n",
       "      <td>-266761.538153</td>\n",
       "      <td>-23076.036436</td>\n",
       "      <td>-23076.036436</td>\n",
       "      <td>-23076.036436</td>\n",
       "      <td>162458.430477</td>\n",
       "      <td>162458.430477</td>\n",
       "      <td>162458.430477</td>\n",
       "      <td>-4.061439e+05</td>\n",
       "      <td>-4.061439e+05</td>\n",
       "      <td>-4.061439e+05</td>\n",
       "      <td>0.0</td>\n",
       "      <td>0.0</td>\n",
       "      <td>0.0</td>\n",
       "      <td>-1.229028e+05</td>\n",
       "    </tr>\n",
       "    <tr>\n",
       "      <th>23</th>\n",
       "      <td>2021-06-01</td>\n",
       "      <td>149606.971138</td>\n",
       "      <td>-3.530298e+05</td>\n",
       "      <td>-3.530298e+05</td>\n",
       "      <td>149606.971138</td>\n",
       "      <td>149606.971138</td>\n",
       "      <td>-502636.778985</td>\n",
       "      <td>-502636.778985</td>\n",
       "      <td>-502636.778985</td>\n",
       "      <td>-85568.612059</td>\n",
       "      <td>-85568.612059</td>\n",
       "      <td>-85568.612059</td>\n",
       "      <td>-88686.962796</td>\n",
       "      <td>-88686.962796</td>\n",
       "      <td>-88686.962796</td>\n",
       "      <td>-3.283812e+05</td>\n",
       "      <td>-3.283812e+05</td>\n",
       "      <td>-3.283812e+05</td>\n",
       "      <td>0.0</td>\n",
       "      <td>0.0</td>\n",
       "      <td>0.0</td>\n",
       "      <td>-3.530298e+05</td>\n",
       "    </tr>\n",
       "    <tr>\n",
       "      <th>24</th>\n",
       "      <td>2021-07-01</td>\n",
       "      <td>155169.812369</td>\n",
       "      <td>-1.242934e+05</td>\n",
       "      <td>-1.242934e+05</td>\n",
       "      <td>155169.812369</td>\n",
       "      <td>155169.812369</td>\n",
       "      <td>-279463.186219</td>\n",
       "      <td>-279463.186219</td>\n",
       "      <td>-279463.186219</td>\n",
       "      <td>46818.111359</td>\n",
       "      <td>46818.111359</td>\n",
       "      <td>46818.111359</td>\n",
       "      <td>-408068.287594</td>\n",
       "      <td>-408068.287594</td>\n",
       "      <td>-408068.287594</td>\n",
       "      <td>8.178699e+04</td>\n",
       "      <td>8.178699e+04</td>\n",
       "      <td>8.178699e+04</td>\n",
       "      <td>0.0</td>\n",
       "      <td>0.0</td>\n",
       "      <td>0.0</td>\n",
       "      <td>-1.242934e+05</td>\n",
       "    </tr>\n",
       "    <tr>\n",
       "      <th>25</th>\n",
       "      <td>2021-08-01</td>\n",
       "      <td>160918.081640</td>\n",
       "      <td>2.593397e+05</td>\n",
       "      <td>2.593397e+05</td>\n",
       "      <td>160918.081640</td>\n",
       "      <td>160918.081640</td>\n",
       "      <td>98421.583405</td>\n",
       "      <td>98421.583405</td>\n",
       "      <td>98421.583405</td>\n",
       "      <td>70535.513432</td>\n",
       "      <td>70535.513432</td>\n",
       "      <td>70535.513432</td>\n",
       "      <td>-77488.495565</td>\n",
       "      <td>-77488.495565</td>\n",
       "      <td>-77488.495565</td>\n",
       "      <td>1.053746e+05</td>\n",
       "      <td>1.053746e+05</td>\n",
       "      <td>1.053746e+05</td>\n",
       "      <td>0.0</td>\n",
       "      <td>0.0</td>\n",
       "      <td>0.0</td>\n",
       "      <td>2.593397e+05</td>\n",
       "    </tr>\n",
       "    <tr>\n",
       "      <th>26</th>\n",
       "      <td>2021-08-31</td>\n",
       "      <td>166480.922871</td>\n",
       "      <td>-2.928646e+05</td>\n",
       "      <td>-2.928476e+05</td>\n",
       "      <td>166473.114100</td>\n",
       "      <td>166490.074542</td>\n",
       "      <td>-459337.667554</td>\n",
       "      <td>-459337.667554</td>\n",
       "      <td>-459337.667554</td>\n",
       "      <td>-67369.609363</td>\n",
       "      <td>-67369.609363</td>\n",
       "      <td>-67369.609363</td>\n",
       "      <td>-88686.962797</td>\n",
       "      <td>-88686.962797</td>\n",
       "      <td>-88686.962797</td>\n",
       "      <td>-3.032811e+05</td>\n",
       "      <td>-3.032811e+05</td>\n",
       "      <td>-3.032811e+05</td>\n",
       "      <td>0.0</td>\n",
       "      <td>0.0</td>\n",
       "      <td>0.0</td>\n",
       "      <td>-2.928567e+05</td>\n",
       "    </tr>\n",
       "    <tr>\n",
       "      <th>27</th>\n",
       "      <td>2021-09-30</td>\n",
       "      <td>172043.764101</td>\n",
       "      <td>-7.357819e+05</td>\n",
       "      <td>-7.357177e+05</td>\n",
       "      <td>172013.826759</td>\n",
       "      <td>172078.040365</td>\n",
       "      <td>-907795.759687</td>\n",
       "      <td>-907795.759687</td>\n",
       "      <td>-907795.759687</td>\n",
       "      <td>-70535.513432</td>\n",
       "      <td>-70535.513432</td>\n",
       "      <td>-70535.513432</td>\n",
       "      <td>-408068.287594</td>\n",
       "      <td>-408068.287594</td>\n",
       "      <td>-408068.287594</td>\n",
       "      <td>-4.291920e+05</td>\n",
       "      <td>-4.291920e+05</td>\n",
       "      <td>-4.291920e+05</td>\n",
       "      <td>0.0</td>\n",
       "      <td>0.0</td>\n",
       "      <td>0.0</td>\n",
       "      <td>-7.357520e+05</td>\n",
       "    </tr>\n",
       "    <tr>\n",
       "      <th>28</th>\n",
       "      <td>2021-10-31</td>\n",
       "      <td>177792.033373</td>\n",
       "      <td>4.008044e+04</td>\n",
       "      <td>4.021389e+04</td>\n",
       "      <td>177728.536667</td>\n",
       "      <td>177861.981355</td>\n",
       "      <td>-137648.096250</td>\n",
       "      <td>-137648.096250</td>\n",
       "      <td>-137648.096250</td>\n",
       "      <td>83329.979823</td>\n",
       "      <td>83329.979823</td>\n",
       "      <td>83329.979823</td>\n",
       "      <td>-77488.495565</td>\n",
       "      <td>-77488.495565</td>\n",
       "      <td>-77488.495565</td>\n",
       "      <td>-1.434896e+05</td>\n",
       "      <td>-1.434896e+05</td>\n",
       "      <td>-1.434896e+05</td>\n",
       "      <td>0.0</td>\n",
       "      <td>0.0</td>\n",
       "      <td>0.0</td>\n",
       "      <td>4.014394e+04</td>\n",
       "    </tr>\n",
       "    <tr>\n",
       "      <th>29</th>\n",
       "      <td>2021-11-30</td>\n",
       "      <td>183354.874603</td>\n",
       "      <td>8.276819e+05</td>\n",
       "      <td>8.279011e+05</td>\n",
       "      <td>183252.477090</td>\n",
       "      <td>183471.660205</td>\n",
       "      <td>644429.406238</td>\n",
       "      <td>644429.406238</td>\n",
       "      <td>644429.406238</td>\n",
       "      <td>50695.536131</td>\n",
       "      <td>50695.536131</td>\n",
       "      <td>50695.536131</td>\n",
       "      <td>-88686.962797</td>\n",
       "      <td>-88686.962797</td>\n",
       "      <td>-88686.962797</td>\n",
       "      <td>6.824208e+05</td>\n",
       "      <td>6.824208e+05</td>\n",
       "      <td>6.824208e+05</td>\n",
       "      <td>0.0</td>\n",
       "      <td>0.0</td>\n",
       "      <td>0.0</td>\n",
       "      <td>8.277843e+05</td>\n",
       "    </tr>\n",
       "    <tr>\n",
       "      <th>30</th>\n",
       "      <td>2021-12-31</td>\n",
       "      <td>189103.143875</td>\n",
       "      <td>2.610006e+05</td>\n",
       "      <td>2.613214e+05</td>\n",
       "      <td>188951.774789</td>\n",
       "      <td>189272.551658</td>\n",
       "      <td>72048.860369</td>\n",
       "      <td>72048.860369</td>\n",
       "      <td>72048.860369</td>\n",
       "      <td>-93611.549868</td>\n",
       "      <td>-93611.549868</td>\n",
       "      <td>-93611.549868</td>\n",
       "      <td>341856.566842</td>\n",
       "      <td>341856.566842</td>\n",
       "      <td>341856.566842</td>\n",
       "      <td>-1.761962e+05</td>\n",
       "      <td>-1.761962e+05</td>\n",
       "      <td>-1.761962e+05</td>\n",
       "      <td>0.0</td>\n",
       "      <td>0.0</td>\n",
       "      <td>0.0</td>\n",
       "      <td>2.611520e+05</td>\n",
       "    </tr>\n",
       "    <tr>\n",
       "      <th>31</th>\n",
       "      <td>2022-01-31</td>\n",
       "      <td>194851.413146</td>\n",
       "      <td>3.661565e+05</td>\n",
       "      <td>3.665921e+05</td>\n",
       "      <td>194648.686520</td>\n",
       "      <td>195084.248855</td>\n",
       "      <td>171507.854018</td>\n",
       "      <td>171507.854018</td>\n",
       "      <td>171507.854018</td>\n",
       "      <td>-2238.632236</td>\n",
       "      <td>-2238.632236</td>\n",
       "      <td>-2238.632236</td>\n",
       "      <td>353915.995330</td>\n",
       "      <td>353915.995330</td>\n",
       "      <td>353915.995330</td>\n",
       "      <td>-1.801695e+05</td>\n",
       "      <td>-1.801695e+05</td>\n",
       "      <td>-1.801695e+05</td>\n",
       "      <td>0.0</td>\n",
       "      <td>0.0</td>\n",
       "      <td>0.0</td>\n",
       "      <td>3.663593e+05</td>\n",
       "    </tr>\n",
       "    <tr>\n",
       "      <th>32</th>\n",
       "      <td>2022-02-28</td>\n",
       "      <td>200043.398295</td>\n",
       "      <td>4.270170e+05</td>\n",
       "      <td>4.275682e+05</td>\n",
       "      <td>199785.288325</td>\n",
       "      <td>200336.536306</td>\n",
       "      <td>227231.692877</td>\n",
       "      <td>227231.692877</td>\n",
       "      <td>227231.692877</td>\n",
       "      <td>83329.979823</td>\n",
       "      <td>83329.979823</td>\n",
       "      <td>83329.979823</td>\n",
       "      <td>353915.995331</td>\n",
       "      <td>353915.995331</td>\n",
       "      <td>353915.995331</td>\n",
       "      <td>-2.100143e+05</td>\n",
       "      <td>-2.100143e+05</td>\n",
       "      <td>-2.100143e+05</td>\n",
       "      <td>0.0</td>\n",
       "      <td>0.0</td>\n",
       "      <td>0.0</td>\n",
       "      <td>4.272751e+05</td>\n",
       "    </tr>\n",
       "  </tbody>\n",
       "</table>\n",
       "</div>"
      ],
      "text/plain": [
       "           ds          trend    yhat_lower    yhat_upper    trend_lower  \\\n",
       "0  2019-07-01   24413.267984  2.035285e+05  2.035285e+05   24413.267984   \n",
       "1  2019-08-01   29805.781886  2.488711e+05  2.488711e+05   29805.781886   \n",
       "2  2019-09-01   35198.262390 -5.031387e+04 -5.031387e+04   35198.262390   \n",
       "3  2019-10-01   40417.324583 -1.568374e+05 -1.568374e+05   40417.324583   \n",
       "4  2019-11-01   45810.935169  6.090614e+05  6.090614e+05   45810.935169   \n",
       "5  2019-12-01   51030.477440  6.986854e+04  6.986854e+04   51030.477440   \n",
       "6  2020-01-01   56424.247772 -3.645344e+05 -3.645344e+05   56424.247772   \n",
       "7  2020-02-01   61817.620475 -1.654076e+05 -1.654076e+05   61817.620475   \n",
       "8  2020-03-01   66863.551969 -1.889880e+04 -1.889880e+04   66863.551969   \n",
       "9  2020-04-01   72258.069086  8.921914e+04  8.921914e+04   72258.069086   \n",
       "10 2020-05-01   77484.456584  2.264581e+05  2.264581e+05   77484.456584   \n",
       "11 2020-06-01   82886.991257 -1.583454e+05 -1.583454e+05   82886.991257   \n",
       "12 2020-07-01   88124.373170 -8.823929e+04 -8.823929e+04   88124.373170   \n",
       "13 2020-08-01   93567.131244  1.555967e+05  1.555967e+05   93567.131244   \n",
       "14 2020-09-01   99126.641571  1.872235e+05  1.872235e+05   99126.641571   \n",
       "15 2020-10-01  104619.079248 -1.052577e+05 -1.052577e+05  104619.079248   \n",
       "16 2020-11-01  110303.930798  1.089894e+06  1.089894e+06  110303.930798   \n",
       "17 2020-12-01  115862.753577 -6.159768e+05 -6.159768e+05  115862.753577   \n",
       "18 2021-01-01  121608.536438  1.126889e+05  1.126889e+05  121608.536438   \n",
       "19 2021-02-01  127355.606216 -2.083781e+05 -2.083781e+05  127355.606216   \n",
       "20 2021-03-01  132547.591365  5.309003e+05  5.309003e+05  132547.591365   \n",
       "21 2021-04-01  138295.860636 -5.610837e+04 -5.610837e+04  138295.860636   \n",
       "22 2021-05-01  143858.701867 -1.229028e+05 -1.229028e+05  143858.701867   \n",
       "23 2021-06-01  149606.971138 -3.530298e+05 -3.530298e+05  149606.971138   \n",
       "24 2021-07-01  155169.812369 -1.242934e+05 -1.242934e+05  155169.812369   \n",
       "25 2021-08-01  160918.081640  2.593397e+05  2.593397e+05  160918.081640   \n",
       "26 2021-08-31  166480.922871 -2.928646e+05 -2.928476e+05  166473.114100   \n",
       "27 2021-09-30  172043.764101 -7.357819e+05 -7.357177e+05  172013.826759   \n",
       "28 2021-10-31  177792.033373  4.008044e+04  4.021389e+04  177728.536667   \n",
       "29 2021-11-30  183354.874603  8.276819e+05  8.279011e+05  183252.477090   \n",
       "30 2021-12-31  189103.143875  2.610006e+05  2.613214e+05  188951.774789   \n",
       "31 2022-01-31  194851.413146  3.661565e+05  3.665921e+05  194648.686520   \n",
       "32 2022-02-28  200043.398295  4.270170e+05  4.275682e+05  199785.288325   \n",
       "\n",
       "      trend_upper  additive_terms  additive_terms_lower  additive_terms_upper  \\\n",
       "0    24413.267984   179115.221432         179115.221432         179115.221432   \n",
       "1    29805.781886   219065.330501         219065.330501         219065.330501   \n",
       "2    35198.262390   -85512.129742         -85512.129742         -85512.129742   \n",
       "3    40417.324583  -197254.771194        -197254.771194        -197254.771194   \n",
       "4    45810.935169   563250.436332         563250.436332         563250.436332   \n",
       "5    51030.477440    18838.058737          18838.058737          18838.058737   \n",
       "6    56424.247772  -420958.682906        -420958.682906        -420958.682906   \n",
       "7    61817.620475  -227225.211249        -227225.211249        -227225.211249   \n",
       "8    66863.551969   -85762.347793         -85762.347793         -85762.347793   \n",
       "9    72258.069086    16961.074817          16961.074817          16961.074817   \n",
       "10   77484.456584   148973.644775         148973.644775         148973.644775   \n",
       "11   82886.991257  -241232.439823        -241232.439823        -241232.439823   \n",
       "12   88124.373170  -176363.658945        -176363.658945        -176363.658945   \n",
       "13   93567.131244    62029.596406          62029.596406          62029.596406   \n",
       "14   99126.641571    88096.856497          88096.856497          88096.856497   \n",
       "15  104619.079248  -209876.825332        -209876.825332        -209876.825332   \n",
       "16  110303.930798   979590.302724         979590.302724         979590.302724   \n",
       "17  115862.753577  -731839.569805        -731839.569805        -731839.569805   \n",
       "18  121608.536438    -8919.651782          -8919.651782          -8919.651782   \n",
       "19  127355.606216  -335733.656875        -335733.656875        -335733.656875   \n",
       "20  132547.591365   398352.722164         398352.722164         398352.722164   \n",
       "21  138295.860636  -194404.227471        -194404.227471        -194404.227471   \n",
       "22  143858.701867  -266761.538153        -266761.538153        -266761.538153   \n",
       "23  149606.971138  -502636.778985        -502636.778985        -502636.778985   \n",
       "24  155169.812369  -279463.186219        -279463.186219        -279463.186219   \n",
       "25  160918.081640    98421.583405          98421.583405          98421.583405   \n",
       "26  166490.074542  -459337.667554        -459337.667554        -459337.667554   \n",
       "27  172078.040365  -907795.759687        -907795.759687        -907795.759687   \n",
       "28  177861.981355  -137648.096250        -137648.096250        -137648.096250   \n",
       "29  183471.660205   644429.406238         644429.406238         644429.406238   \n",
       "30  189272.551658    72048.860369          72048.860369          72048.860369   \n",
       "31  195084.248855   171507.854018         171507.854018         171507.854018   \n",
       "32  200336.536306   227231.692877         227231.692877         227231.692877   \n",
       "\n",
       "         monthly  monthly_lower  monthly_upper         weekly   weekly_lower  \\\n",
       "0  -67369.609363  -67369.609363  -67369.609363  353915.995331  353915.995331   \n",
       "1  -50695.536131  -50695.536131  -50695.536131 -408068.287595 -408068.287595   \n",
       "2   93611.549868   93611.549868   93611.549868  -77488.495566  -77488.495566   \n",
       "3   27400.741820   27400.741820   27400.741820  -88686.962795  -88686.962795   \n",
       "4  -97513.647489  -97513.647489  -97513.647489  341856.566841  341856.566841   \n",
       "5   -2238.632236   -2238.632236   -2238.632236  -77488.495566  -77488.495566   \n",
       "6   94770.351183   94770.351183   94770.351183 -283987.246692 -283987.246692   \n",
       "7  -46818.111359  -46818.111359  -46818.111359  162458.430475  162458.430475   \n",
       "8  -94770.351183  -94770.351183  -94770.351183  -77488.495566  -77488.495566   \n",
       "9   46818.111359   46818.111359   46818.111359 -283987.246691 -283987.246691   \n",
       "10  85568.612059   85568.612059   85568.612059  341856.566840  341856.566840   \n",
       "11 -67369.609363  -67369.609363  -67369.609363  353915.995330  353915.995330   \n",
       "12 -70535.513432  -70535.513432  -70535.513432 -283987.246691 -283987.246691   \n",
       "13  83329.979823   83329.979823   83329.979823  162458.430477  162458.430477   \n",
       "14  27400.741820   27400.741820   27400.741820  -88686.962796  -88686.962796   \n",
       "15 -93611.549868  -93611.549868  -93611.549868 -408068.287594 -408068.287594   \n",
       "16  -2238.632236   -2238.632236   -2238.632236  -77488.495564  -77488.495564   \n",
       "17  97513.647489   97513.647489   97513.647489  -88686.962797  -88686.962797   \n",
       "18 -23076.036435  -23076.036435  -23076.036435  341856.566842  341856.566842   \n",
       "19 -85568.612059  -85568.612059  -85568.612059  353915.995330  353915.995330   \n",
       "20  -2238.632236   -2238.632236   -2238.632236  353915.995330  353915.995330   \n",
       "21  94770.351183   94770.351183   94770.351183 -408068.287593 -408068.287593   \n",
       "22 -23076.036436  -23076.036436  -23076.036436  162458.430477  162458.430477   \n",
       "23 -85568.612059  -85568.612059  -85568.612059  -88686.962796  -88686.962796   \n",
       "24  46818.111359   46818.111359   46818.111359 -408068.287594 -408068.287594   \n",
       "25  70535.513432   70535.513432   70535.513432  -77488.495565  -77488.495565   \n",
       "26 -67369.609363  -67369.609363  -67369.609363  -88686.962797  -88686.962797   \n",
       "27 -70535.513432  -70535.513432  -70535.513432 -408068.287594 -408068.287594   \n",
       "28  83329.979823   83329.979823   83329.979823  -77488.495565  -77488.495565   \n",
       "29  50695.536131   50695.536131   50695.536131  -88686.962797  -88686.962797   \n",
       "30 -93611.549868  -93611.549868  -93611.549868  341856.566842  341856.566842   \n",
       "31  -2238.632236   -2238.632236   -2238.632236  353915.995330  353915.995330   \n",
       "32  83329.979823   83329.979823   83329.979823  353915.995331  353915.995331   \n",
       "\n",
       "     weekly_upper        yearly  yearly_lower  yearly_upper  \\\n",
       "0   353915.995331 -1.074312e+05 -1.074312e+05 -1.074312e+05   \n",
       "1  -408068.287595  6.778292e+05  6.778292e+05  6.778292e+05   \n",
       "2   -77488.495566 -1.016352e+05 -1.016352e+05 -1.016352e+05   \n",
       "3   -88686.962795 -1.359686e+05 -1.359686e+05 -1.359686e+05   \n",
       "4   341856.566841  3.189075e+05  3.189075e+05  3.189075e+05   \n",
       "5   -77488.495566  9.856519e+04  9.856519e+04  9.856519e+04   \n",
       "6  -283987.246692 -2.317418e+05 -2.317418e+05 -2.317418e+05   \n",
       "7   162458.430475 -3.428655e+05 -3.428655e+05 -3.428655e+05   \n",
       "8   -77488.495566  8.649650e+04  8.649650e+04  8.649650e+04   \n",
       "9  -283987.246691  2.541302e+05  2.541302e+05  2.541302e+05   \n",
       "10  341856.566840 -2.784515e+05 -2.784515e+05 -2.784515e+05   \n",
       "11  353915.995330 -5.277788e+05 -5.277788e+05 -5.277788e+05   \n",
       "12 -283987.246691  1.781591e+05  1.781591e+05  1.781591e+05   \n",
       "13  162458.430477 -1.837588e+05 -1.837588e+05 -1.837588e+05   \n",
       "14  -88686.962796  1.493831e+05  1.493831e+05  1.493831e+05   \n",
       "15 -408068.287594  2.918030e+05  2.918030e+05  2.918030e+05   \n",
       "16  -77488.495564  1.059317e+06  1.059317e+06  1.059317e+06   \n",
       "17  -88686.962797 -7.406663e+05 -7.406663e+05 -7.406663e+05   \n",
       "18  341856.566842 -3.277002e+05 -3.277002e+05 -3.277002e+05   \n",
       "19  353915.995330 -6.040810e+05 -6.040810e+05 -6.040810e+05   \n",
       "20  353915.995330  4.667536e+04  4.667536e+04  4.667536e+04   \n",
       "21 -408068.287593  1.188937e+05  1.188937e+05  1.188937e+05   \n",
       "22  162458.430477 -4.061439e+05 -4.061439e+05 -4.061439e+05   \n",
       "23  -88686.962796 -3.283812e+05 -3.283812e+05 -3.283812e+05   \n",
       "24 -408068.287594  8.178699e+04  8.178699e+04  8.178699e+04   \n",
       "25  -77488.495565  1.053746e+05  1.053746e+05  1.053746e+05   \n",
       "26  -88686.962797 -3.032811e+05 -3.032811e+05 -3.032811e+05   \n",
       "27 -408068.287594 -4.291920e+05 -4.291920e+05 -4.291920e+05   \n",
       "28  -77488.495565 -1.434896e+05 -1.434896e+05 -1.434896e+05   \n",
       "29  -88686.962797  6.824208e+05  6.824208e+05  6.824208e+05   \n",
       "30  341856.566842 -1.761962e+05 -1.761962e+05 -1.761962e+05   \n",
       "31  353915.995330 -1.801695e+05 -1.801695e+05 -1.801695e+05   \n",
       "32  353915.995331 -2.100143e+05 -2.100143e+05 -2.100143e+05   \n",
       "\n",
       "    multiplicative_terms  multiplicative_terms_lower  \\\n",
       "0                    0.0                         0.0   \n",
       "1                    0.0                         0.0   \n",
       "2                    0.0                         0.0   \n",
       "3                    0.0                         0.0   \n",
       "4                    0.0                         0.0   \n",
       "5                    0.0                         0.0   \n",
       "6                    0.0                         0.0   \n",
       "7                    0.0                         0.0   \n",
       "8                    0.0                         0.0   \n",
       "9                    0.0                         0.0   \n",
       "10                   0.0                         0.0   \n",
       "11                   0.0                         0.0   \n",
       "12                   0.0                         0.0   \n",
       "13                   0.0                         0.0   \n",
       "14                   0.0                         0.0   \n",
       "15                   0.0                         0.0   \n",
       "16                   0.0                         0.0   \n",
       "17                   0.0                         0.0   \n",
       "18                   0.0                         0.0   \n",
       "19                   0.0                         0.0   \n",
       "20                   0.0                         0.0   \n",
       "21                   0.0                         0.0   \n",
       "22                   0.0                         0.0   \n",
       "23                   0.0                         0.0   \n",
       "24                   0.0                         0.0   \n",
       "25                   0.0                         0.0   \n",
       "26                   0.0                         0.0   \n",
       "27                   0.0                         0.0   \n",
       "28                   0.0                         0.0   \n",
       "29                   0.0                         0.0   \n",
       "30                   0.0                         0.0   \n",
       "31                   0.0                         0.0   \n",
       "32                   0.0                         0.0   \n",
       "\n",
       "    multiplicative_terms_upper          yhat  \n",
       "0                          0.0  2.035285e+05  \n",
       "1                          0.0  2.488711e+05  \n",
       "2                          0.0 -5.031387e+04  \n",
       "3                          0.0 -1.568374e+05  \n",
       "4                          0.0  6.090614e+05  \n",
       "5                          0.0  6.986854e+04  \n",
       "6                          0.0 -3.645344e+05  \n",
       "7                          0.0 -1.654076e+05  \n",
       "8                          0.0 -1.889880e+04  \n",
       "9                          0.0  8.921914e+04  \n",
       "10                         0.0  2.264581e+05  \n",
       "11                         0.0 -1.583454e+05  \n",
       "12                         0.0 -8.823929e+04  \n",
       "13                         0.0  1.555967e+05  \n",
       "14                         0.0  1.872235e+05  \n",
       "15                         0.0 -1.052577e+05  \n",
       "16                         0.0  1.089894e+06  \n",
       "17                         0.0 -6.159768e+05  \n",
       "18                         0.0  1.126889e+05  \n",
       "19                         0.0 -2.083781e+05  \n",
       "20                         0.0  5.309003e+05  \n",
       "21                         0.0 -5.610837e+04  \n",
       "22                         0.0 -1.229028e+05  \n",
       "23                         0.0 -3.530298e+05  \n",
       "24                         0.0 -1.242934e+05  \n",
       "25                         0.0  2.593397e+05  \n",
       "26                         0.0 -2.928567e+05  \n",
       "27                         0.0 -7.357520e+05  \n",
       "28                         0.0  4.014394e+04  \n",
       "29                         0.0  8.277843e+05  \n",
       "30                         0.0  2.611520e+05  \n",
       "31                         0.0  3.663593e+05  \n",
       "32                         0.0  4.272751e+05  "
      ]
     },
     "execution_count": 112,
     "metadata": {},
     "output_type": "execute_result"
    }
   ],
   "source": [
    "forecast"
   ]
  },
  {
   "cell_type": "markdown",
   "metadata": {},
   "source": [
    "Plot the forecast"
   ]
  },
  {
   "cell_type": "code",
   "execution_count": 146,
   "metadata": {},
   "outputs": [
    {
     "data": {
      "image/png": "[encoded data removed]",
      "text/plain": [
       "<Figure size 720x432 with 1 Axes>"
      ]
     },
     "metadata": {},
     "output_type": "display_data"
    }
   ],
   "source": [
    "fig1 = m.plot(forecast)"
   ]
  },
  {
   "cell_type": "markdown",
   "metadata": {},
   "source": [
    " Plot the components "
   ]
  },
  {
   "cell_type": "code",
   "execution_count": 147,
   "metadata": {},
   "outputs": [
    {
     "data": {
      "image/png": "[encoded data removed]",
      "text/plain": [
       "<Figure size 648x864 with 4 Axes>"
      ]
     },
     "metadata": {},
     "output_type": "display_data"
    }
   ],
   "source": [
    "fig2 = m.plot_components(forecast)"
   ]
  },
  {
   "cell_type": "code",
   "execution_count": 199,
   "metadata": {},
   "outputs": [
    {
     "data": {
      "text/plain": [
       "<function matplotlib.pyplot.show(close=None, block=None)>"
      ]
     },
     "execution_count": 199,
     "metadata": {},
     "output_type": "execute_result"
    },
    {
     "data": {
      "image/png": "[encoded data removed]",
      "text/plain": [
       "<Figure size 1080x576 with 1 Axes>"
      ]
     },
     "metadata": {},
     "output_type": "display_data"
    }
   ],
   "source": [
    "# Let's coampare the prediction with actual\n",
    "\n",
    "f, ax=plt.subplots(1)\n",
    "f.set_figheight(8)\n",
    "f.set_figwidth(15)\n",
    "\n",
    "\n",
    "fig=m.plot(forecast, ax=ax)\n",
    "ax.plot(test.ds, test.y, color='r', label='Test')\n",
    "ax.plot(train.ds, train.y, color='black', label='Train')\n",
    "plt.ticklabel_format(style='plain', axis='y')\n",
    "plt.legend()\n",
    "plt.show\n"
   ]
  },
  {
   "cell_type": "markdown",
   "metadata": {},
   "source": [
    "## 8-Evaluate our model performance"
   ]
  },
  {
   "cell_type": "code",
   "execution_count": 200,
   "metadata": {},
   "outputs": [
    {
     "data": {
      "text/html": [
       "<div>\n",
       "<style scoped>\n",
       "    .dataframe tbody tr th:only-of-type {\n",
       "        vertical-align: middle;\n",
       "    }\n",
       "\n",
       "    .dataframe tbody tr th {\n",
       "        vertical-align: top;\n",
       "    }\n",
       "\n",
       "    .dataframe thead th {\n",
       "        text-align: right;\n",
       "    }\n",
       "</style>\n",
       "<table border=\"1\" class=\"dataframe\">\n",
       "  <thead>\n",
       "    <tr style=\"text-align: right;\">\n",
       "      <th></th>\n",
       "      <th>ds</th>\n",
       "      <th>yhat_lower</th>\n",
       "      <th>yhat_upper</th>\n",
       "      <th>yhat</th>\n",
       "      <th>y</th>\n",
       "    </tr>\n",
       "  </thead>\n",
       "  <tbody>\n",
       "    <tr>\n",
       "      <th>0</th>\n",
       "      <td>2021-09-30</td>\n",
       "      <td>-417149.736005</td>\n",
       "      <td>373328.913355</td>\n",
       "      <td>-9671.177694</td>\n",
       "      <td>-3.511098e+04</td>\n",
       "    </tr>\n",
       "    <tr>\n",
       "      <th>1</th>\n",
       "      <td>2021-10-31</td>\n",
       "      <td>-481691.009775</td>\n",
       "      <td>380312.362854</td>\n",
       "      <td>-12764.878165</td>\n",
       "      <td>1.530401e+05</td>\n",
       "    </tr>\n",
       "    <tr>\n",
       "      <th>2</th>\n",
       "      <td>2021-11-30</td>\n",
       "      <td>-401717.547255</td>\n",
       "      <td>427187.964376</td>\n",
       "      <td>7689.647714</td>\n",
       "      <td>1.085221e+06</td>\n",
       "    </tr>\n",
       "    <tr>\n",
       "      <th>3</th>\n",
       "      <td>2021-12-31</td>\n",
       "      <td>-457477.794414</td>\n",
       "      <td>396550.065583</td>\n",
       "      <td>-29191.721506</td>\n",
       "      <td>-8.143882e+03</td>\n",
       "    </tr>\n",
       "    <tr>\n",
       "      <th>4</th>\n",
       "      <td>2022-01-31</td>\n",
       "      <td>-413817.715855</td>\n",
       "      <td>393148.398109</td>\n",
       "      <td>-19679.559128</td>\n",
       "      <td>-1.947112e+06</td>\n",
       "    </tr>\n",
       "  </tbody>\n",
       "</table>\n",
       "</div>"
      ],
      "text/plain": [
       "          ds     yhat_lower     yhat_upper          yhat             y\n",
       "0 2021-09-30 -417149.736005  373328.913355  -9671.177694 -3.511098e+04\n",
       "1 2021-10-31 -481691.009775  380312.362854 -12764.878165  1.530401e+05\n",
       "2 2021-11-30 -401717.547255  427187.964376   7689.647714  1.085221e+06\n",
       "3 2021-12-31 -457477.794414  396550.065583 -29191.721506 -8.143882e+03\n",
       "4 2022-01-31 -413817.715855  393148.398109 -19679.559128 -1.947112e+06"
      ]
     },
     "execution_count": 200,
     "metadata": {},
     "output_type": "execute_result"
    }
   ],
   "source": [
    "df_merge = pd.merge(test, forecast[['ds','yhat_lower','yhat_upper','yhat']],on='ds')\n",
    "df_merge = df_merge[['ds','yhat_lower','yhat_upper','yhat','y']]\n",
    "df_merge.head()"
   ]
  },
  {
   "cell_type": "code",
   "execution_count": 204,
   "metadata": {},
   "outputs": [],
   "source": [
    "from sklearn.metrics import mean_absolute_error\n",
    "from sklearn.metrics import mean_absolute_percentage_error\n",
    "\n",
    "y_true = df_merge['y'].values\n",
    "y_pred = df_merge['yhat'].values\n",
    "#mae_01 = mean_absolute_error(y_true, y_pred)\n",
    "mape_01 = mean_absolute_percentage_error(y_true, y_pred)\n",
    "\n",
    "#print( 'MAPE:',mape_01)"
   ]
  },
  {
   "cell_type": "markdown",
   "metadata": {},
   "source": [
    "## 9- Cross Validation"
   ]
  },
  {
   "cell_type": "code",
   "execution_count": 207,
   "metadata": {},
   "outputs": [
    {
     "name": "stderr",
     "output_type": "stream",
     "text": [
      "INFO:fbprophet:Making 13 forecasts with cutoffs between 2020-08-06 00:00:00 and 2021-08-01 00:00:00\n",
      "  0%|          | 0/13 [00:00<?, ?it/s]INFO:fbprophet:n_changepoints greater than number of observations. Using 9.\n",
      "  8%|▊         | 1/13 [00:04<00:51,  4.30s/it]INFO:fbprophet:n_changepoints greater than number of observations. Using 10.\n",
      " 15%|█▌        | 2/13 [00:07<00:40,  3.71s/it]INFO:fbprophet:n_changepoints greater than number of observations. Using 11.\n",
      " 23%|██▎       | 3/13 [00:12<00:42,  4.27s/it]INFO:fbprophet:n_changepoints greater than number of observations. Using 11.\n",
      " 31%|███       | 4/13 [00:16<00:36,  4.06s/it]INFO:fbprophet:n_changepoints greater than number of observations. Using 12.\n",
      " 38%|███▊      | 5/13 [00:20<00:31,  4.00s/it]INFO:fbprophet:n_changepoints greater than number of observations. Using 13.\n",
      " 46%|████▌     | 6/13 [00:24<00:27,  3.95s/it]INFO:fbprophet:n_changepoints greater than number of observations. Using 14.\n",
      " 54%|█████▍    | 7/13 [00:28<00:24,  4.08s/it]INFO:fbprophet:n_changepoints greater than number of observations. Using 15.\n",
      " 62%|██████▏   | 8/13 [00:32<00:21,  4.21s/it]INFO:fbprophet:n_changepoints greater than number of observations. Using 15.\n",
      " 69%|██████▉   | 9/13 [00:37<00:17,  4.45s/it]INFO:fbprophet:n_changepoints greater than number of observations. Using 16.\n",
      " 77%|███████▋  | 10/13 [00:42<00:13,  4.36s/it]INFO:fbprophet:n_changepoints greater than number of observations. Using 17.\n",
      " 85%|████████▍ | 11/13 [00:46<00:08,  4.46s/it]INFO:fbprophet:n_changepoints greater than number of observations. Using 18.\n",
      "100%|██████████| 13/13 [00:55<00:00,  4.27s/it]"
     ]
    },
    {
     "name": "stdout",
     "output_type": "stream",
     "text": [
      "MAPE:  1.286413990468104\n"
     ]
    },
    {
     "name": "stderr",
     "output_type": "stream",
     "text": [
      "\n"
     ]
    }
   ],
   "source": [
    "from fbprophet.diagnostics import cross_validation\n",
    "df_cv=cross_validation(model=m, horizon='30 days', period='30 days')\n",
    "mape=mean_absolute_percentage_error(df_cv.y, df_cv.yhat)\n",
    "print('MAPE: ', mape)"
   ]
  },
  {
   "cell_type": "markdown",
   "metadata": {},
   "source": [
    "# Performance metrics"
   ]
  },
  {
   "cell_type": "code",
   "execution_count": 152,
   "metadata": {},
   "outputs": [
    {
     "data": {
      "text/html": [
       "<div>\n",
       "<style scoped>\n",
       "    .dataframe tbody tr th:only-of-type {\n",
       "        vertical-align: middle;\n",
       "    }\n",
       "\n",
       "    .dataframe tbody tr th {\n",
       "        vertical-align: top;\n",
       "    }\n",
       "\n",
       "    .dataframe thead th {\n",
       "        text-align: right;\n",
       "    }\n",
       "</style>\n",
       "<table border=\"1\" class=\"dataframe\">\n",
       "  <thead>\n",
       "    <tr style=\"text-align: right;\">\n",
       "      <th></th>\n",
       "      <th>horizon</th>\n",
       "      <th>mse</th>\n",
       "      <th>rmse</th>\n",
       "      <th>mae</th>\n",
       "      <th>mape</th>\n",
       "      <th>mdape</th>\n",
       "      <th>coverage</th>\n",
       "    </tr>\n",
       "  </thead>\n",
       "  <tbody>\n",
       "    <tr>\n",
       "      <th>0</th>\n",
       "      <td>25 days</td>\n",
       "      <td>5.590309e+11</td>\n",
       "      <td>7.476837e+05</td>\n",
       "      <td>6.112595e+05</td>\n",
       "      <td>3.362947</td>\n",
       "      <td>3.362947</td>\n",
       "      <td>0.0</td>\n",
       "    </tr>\n",
       "    <tr>\n",
       "      <th>1</th>\n",
       "      <td>26 days</td>\n",
       "      <td>5.990607e+12</td>\n",
       "      <td>2.447572e+06</td>\n",
       "      <td>2.095868e+06</td>\n",
       "      <td>14.911136</td>\n",
       "      <td>11.853074</td>\n",
       "      <td>0.0</td>\n",
       "    </tr>\n",
       "    <tr>\n",
       "      <th>2</th>\n",
       "      <td>27 days</td>\n",
       "      <td>1.376248e+13</td>\n",
       "      <td>3.709782e+06</td>\n",
       "      <td>2.972878e+06</td>\n",
       "      <td>7.280406</td>\n",
       "      <td>7.332170</td>\n",
       "      <td>0.0</td>\n",
       "    </tr>\n",
       "    <tr>\n",
       "      <th>3</th>\n",
       "      <td>28 days</td>\n",
       "      <td>1.474456e+13</td>\n",
       "      <td>3.839864e+06</td>\n",
       "      <td>2.479730e+06</td>\n",
       "      <td>21.004034</td>\n",
       "      <td>2.933247</td>\n",
       "      <td>0.0</td>\n",
       "    </tr>\n",
       "    <tr>\n",
       "      <th>4</th>\n",
       "      <td>29 days</td>\n",
       "      <td>7.978799e+12</td>\n",
       "      <td>2.824677e+06</td>\n",
       "      <td>2.824677e+06</td>\n",
       "      <td>22.725884</td>\n",
       "      <td>22.725884</td>\n",
       "      <td>0.0</td>\n",
       "    </tr>\n",
       "  </tbody>\n",
       "</table>\n",
       "</div>"
      ],
      "text/plain": [
       "  horizon           mse          rmse           mae       mape      mdape  \\\n",
       "0 25 days  5.590309e+11  7.476837e+05  6.112595e+05   3.362947   3.362947   \n",
       "1 26 days  5.990607e+12  2.447572e+06  2.095868e+06  14.911136  11.853074   \n",
       "2 27 days  1.376248e+13  3.709782e+06  2.972878e+06   7.280406   7.332170   \n",
       "3 28 days  1.474456e+13  3.839864e+06  2.479730e+06  21.004034   2.933247   \n",
       "4 29 days  7.978799e+12  2.824677e+06  2.824677e+06  22.725884  22.725884   \n",
       "\n",
       "   coverage  \n",
       "0       0.0  \n",
       "1       0.0  \n",
       "2       0.0  \n",
       "3       0.0  \n",
       "4       0.0  "
      ]
     },
     "execution_count": 152,
     "metadata": {},
     "output_type": "execute_result"
    }
   ],
   "source": [
    "from fbprophet.diagnostics import performance_metrics\n",
    "per_df = performance_metrics(df_cv)\n",
    "per_df.head()"
   ]
  },
  {
   "cell_type": "code",
   "execution_count": 155,
   "metadata": {},
   "outputs": [
    {
     "data": {
      "text/plain": [
       "559030939852.4863"
      ]
     },
     "execution_count": 155,
     "metadata": {},
     "output_type": "execute_result"
    }
   ],
   "source": [
    "per_df['mse'].min()"
   ]
  },
  {
   "cell_type": "markdown",
   "metadata": {},
   "source": [
    "Compare actual and forecasted values after crossvalidation"
   ]
  },
  {
   "cell_type": "code",
   "execution_count": 208,
   "metadata": {},
   "outputs": [
    {
     "data": {
      "text/plain": [
       "Text(0.5, 1.0, 'Forecast Vs Actual')"
      ]
     },
     "execution_count": 208,
     "metadata": {},
     "output_type": "execute_result"
    },
    {
     "data": {
      "image/png": "[encoded data removed]",
      "text/plain": [
       "<Figure size 1080x360 with 1 Axes>"
      ]
     },
     "metadata": {},
     "output_type": "display_data"
    }
   ],
   "source": [
    "f, ax = plt.subplots(1)\n",
    "f.set_figheight(5)\n",
    "f.set_figwidth(15)\n",
    "ax.plot(df_cv['ds'], df_cv['y'], color='r', label='Actual Sales')\n",
    "ax.plot(df_cv['ds'], df_cv['yhat'], color='b', label='Forecast Sales')\n",
    "plt.legend()\n",
    "\n",
    "plt.title('Forecast Vs Actual')"
   ]
  },
  {
   "cell_type": "markdown",
   "metadata": {},
   "source": [
    "## 11- Tunning parameters"
   ]
  },
  {
   "cell_type": "code",
   "execution_count": 157,
   "metadata": {},
   "outputs": [
    {
     "name": "stderr",
     "output_type": "stream",
     "text": [
      "INFO:fbprophet:Disabling weekly seasonality. Run prophet with weekly_seasonality=True to override this.\n",
      "INFO:fbprophet:Disabling daily seasonality. Run prophet with daily_seasonality=True to override this.\n",
      "INFO:fbprophet:n_changepoints greater than number of observations. Using 19.\n",
      "INFO:fbprophet:Making 7 forecasts with cutoffs between 2020-09-05 00:00:00 and 2021-06-02 00:00:00\n",
      "INFO:fbprophet:Applying in parallel with <concurrent.futures.process.ProcessPoolExecutor object at 0x7fb076f86850>\n",
      "INFO:fbprophet:Disabling weekly seasonality. Run prophet with weekly_seasonality=True to override this.\n",
      "INFO:fbprophet:Disabling daily seasonality. Run prophet with daily_seasonality=True to override this.\n",
      "INFO:fbprophet:n_changepoints greater than number of observations. Using 19.\n",
      "INFO:fbprophet:Making 7 forecasts with cutoffs between 2020-09-05 00:00:00 and 2021-06-02 00:00:00\n",
      "INFO:fbprophet:Applying in parallel with <concurrent.futures.process.ProcessPoolExecutor object at 0x7fb07584ae50>\n",
      "INFO:fbprophet:Disabling weekly seasonality. Run prophet with weekly_seasonality=True to override this.\n",
      "INFO:fbprophet:Disabling daily seasonality. Run prophet with daily_seasonality=True to override this.\n",
      "INFO:fbprophet:n_changepoints greater than number of observations. Using 19.\n",
      "INFO:fbprophet:Making 7 forecasts with cutoffs between 2020-09-05 00:00:00 and 2021-06-02 00:00:00\n",
      "INFO:fbprophet:Applying in parallel with <concurrent.futures.process.ProcessPoolExecutor object at 0x7fb076f76040>\n",
      "INFO:fbprophet:Disabling weekly seasonality. Run prophet with weekly_seasonality=True to override this.\n",
      "INFO:fbprophet:Disabling daily seasonality. Run prophet with daily_seasonality=True to override this.\n",
      "INFO:fbprophet:n_changepoints greater than number of observations. Using 19.\n",
      "INFO:fbprophet:Making 7 forecasts with cutoffs between 2020-09-05 00:00:00 and 2021-06-02 00:00:00\n",
      "INFO:fbprophet:Applying in parallel with <concurrent.futures.process.ProcessPoolExecutor object at 0x7fb076f2cc10>\n",
      "INFO:fbprophet:Disabling weekly seasonality. Run prophet with weekly_seasonality=True to override this.\n",
      "INFO:fbprophet:Disabling daily seasonality. Run prophet with daily_seasonality=True to override this.\n",
      "INFO:fbprophet:n_changepoints greater than number of observations. Using 19.\n",
      "INFO:fbprophet:Making 7 forecasts with cutoffs between 2020-09-05 00:00:00 and 2021-06-02 00:00:00\n",
      "INFO:fbprophet:Applying in parallel with <concurrent.futures.process.ProcessPoolExecutor object at 0x7fb076d9f880>\n",
      "INFO:fbprophet:Disabling weekly seasonality. Run prophet with weekly_seasonality=True to override this.\n",
      "INFO:fbprophet:Disabling daily seasonality. Run prophet with daily_seasonality=True to override this.\n",
      "INFO:fbprophet:n_changepoints greater than number of observations. Using 19.\n",
      "INFO:fbprophet:Making 7 forecasts with cutoffs between 2020-09-05 00:00:00 and 2021-06-02 00:00:00\n",
      "INFO:fbprophet:Applying in parallel with <concurrent.futures.process.ProcessPoolExecutor object at 0x7fb075ffb790>\n",
      "INFO:fbprophet:Disabling weekly seasonality. Run prophet with weekly_seasonality=True to override this.\n",
      "INFO:fbprophet:Disabling daily seasonality. Run prophet with daily_seasonality=True to override this.\n",
      "INFO:fbprophet:n_changepoints greater than number of observations. Using 19.\n",
      "INFO:fbprophet:Making 7 forecasts with cutoffs between 2020-09-05 00:00:00 and 2021-06-02 00:00:00\n",
      "INFO:fbprophet:Applying in parallel with <concurrent.futures.process.ProcessPoolExecutor object at 0x7fb075c9a0d0>\n",
      "INFO:fbprophet:Disabling weekly seasonality. Run prophet with weekly_seasonality=True to override this.\n",
      "INFO:fbprophet:Disabling daily seasonality. Run prophet with daily_seasonality=True to override this.\n",
      "INFO:fbprophet:n_changepoints greater than number of observations. Using 19.\n",
      "INFO:fbprophet:Making 7 forecasts with cutoffs between 2020-09-05 00:00:00 and 2021-06-02 00:00:00\n",
      "INFO:fbprophet:Applying in parallel with <concurrent.futures.process.ProcessPoolExecutor object at 0x7fb076f86040>\n",
      "INFO:fbprophet:Disabling weekly seasonality. Run prophet with weekly_seasonality=True to override this.\n",
      "INFO:fbprophet:Disabling daily seasonality. Run prophet with daily_seasonality=True to override this.\n",
      "INFO:fbprophet:n_changepoints greater than number of observations. Using 19.\n",
      "INFO:fbprophet:Making 7 forecasts with cutoffs between 2020-09-05 00:00:00 and 2021-06-02 00:00:00\n",
      "INFO:fbprophet:Applying in parallel with <concurrent.futures.process.ProcessPoolExecutor object at 0x7fb07916f520>\n",
      "INFO:fbprophet:Disabling weekly seasonality. Run prophet with weekly_seasonality=True to override this.\n",
      "INFO:fbprophet:Disabling daily seasonality. Run prophet with daily_seasonality=True to override this.\n",
      "INFO:fbprophet:n_changepoints greater than number of observations. Using 19.\n",
      "INFO:fbprophet:Making 7 forecasts with cutoffs between 2020-09-05 00:00:00 and 2021-06-02 00:00:00\n",
      "INFO:fbprophet:Applying in parallel with <concurrent.futures.process.ProcessPoolExecutor object at 0x7fb07916f550>\n",
      "INFO:fbprophet:Disabling weekly seasonality. Run prophet with weekly_seasonality=True to override this.\n",
      "INFO:fbprophet:Disabling daily seasonality. Run prophet with daily_seasonality=True to override this.\n",
      "INFO:fbprophet:n_changepoints greater than number of observations. Using 19.\n",
      "INFO:fbprophet:Making 7 forecasts with cutoffs between 2020-09-05 00:00:00 and 2021-06-02 00:00:00\n",
      "INFO:fbprophet:Applying in parallel with <concurrent.futures.process.ProcessPoolExecutor object at 0x7fb07616fc10>\n",
      "INFO:fbprophet:Disabling weekly seasonality. Run prophet with weekly_seasonality=True to override this.\n",
      "INFO:fbprophet:Disabling daily seasonality. Run prophet with daily_seasonality=True to override this.\n",
      "INFO:fbprophet:n_changepoints greater than number of observations. Using 19.\n",
      "INFO:fbprophet:Making 7 forecasts with cutoffs between 2020-09-05 00:00:00 and 2021-06-02 00:00:00\n",
      "INFO:fbprophet:Applying in parallel with <concurrent.futures.process.ProcessPoolExecutor object at 0x7fb076f2caf0>\n",
      "INFO:fbprophet:Disabling weekly seasonality. Run prophet with weekly_seasonality=True to override this.\n",
      "INFO:fbprophet:Disabling daily seasonality. Run prophet with daily_seasonality=True to override this.\n",
      "INFO:fbprophet:n_changepoints greater than number of observations. Using 19.\n",
      "INFO:fbprophet:Making 7 forecasts with cutoffs between 2020-09-05 00:00:00 and 2021-06-02 00:00:00\n",
      "INFO:fbprophet:Applying in parallel with <concurrent.futures.process.ProcessPoolExecutor object at 0x7fb07604c0d0>\n",
      "INFO:fbprophet:Disabling weekly seasonality. Run prophet with weekly_seasonality=True to override this.\n",
      "INFO:fbprophet:Disabling daily seasonality. Run prophet with daily_seasonality=True to override this.\n",
      "INFO:fbprophet:n_changepoints greater than number of observations. Using 19.\n",
      "INFO:fbprophet:Making 7 forecasts with cutoffs between 2020-09-05 00:00:00 and 2021-06-02 00:00:00\n",
      "INFO:fbprophet:Applying in parallel with <concurrent.futures.process.ProcessPoolExecutor object at 0x7fb075ffb370>\n",
      "INFO:fbprophet:Disabling weekly seasonality. Run prophet with weekly_seasonality=True to override this.\n",
      "INFO:fbprophet:Disabling daily seasonality. Run prophet with daily_seasonality=True to override this.\n",
      "INFO:fbprophet:n_changepoints greater than number of observations. Using 19.\n",
      "INFO:fbprophet:Making 7 forecasts with cutoffs between 2020-09-05 00:00:00 and 2021-06-02 00:00:00\n",
      "INFO:fbprophet:Applying in parallel with <concurrent.futures.process.ProcessPoolExecutor object at 0x7fb0e0cedd00>\n",
      "INFO:fbprophet:Disabling weekly seasonality. Run prophet with weekly_seasonality=True to override this.\n",
      "INFO:fbprophet:Disabling daily seasonality. Run prophet with daily_seasonality=True to override this.\n",
      "INFO:fbprophet:n_changepoints greater than number of observations. Using 19.\n",
      "INFO:fbprophet:Making 7 forecasts with cutoffs between 2020-09-05 00:00:00 and 2021-06-02 00:00:00\n",
      "INFO:fbprophet:Applying in parallel with <concurrent.futures.process.ProcessPoolExecutor object at 0x7fb0e0cedbe0>\n"
     ]
    }
   ],
   "source": [
    "import itertools\n",
    "\n",
    "param_grid = {  \n",
    "    'changepoint_prior_scale': [0.001, 0.01, 0.1, 0.5],\n",
    "    'seasonality_prior_scale': [0.01, 0.1, 1.0, 10.0],   \n",
    "}\n",
    "\n",
    "# Generate all combinations of parameters\n",
    "all_params = [dict(zip(param_grid.keys(), v)) for v in itertools.product(*param_grid.values())]\n",
    "maes = []  # Store the MAE for each params here\n",
    "mapes = [] # Store the MAPE for each params here\n",
    "\n",
    "# Use cross validation to evaluate all parameters\n",
    "for params in all_params:\n",
    "    m = Prophet(**params).fit(train)  # Fit model with given params\n",
    "    df_cv = cross_validation(m, horizon='30 days', parallel=\"processes\")\n",
    "    df_p = performance_metrics(df_cv, rolling_window=1)\n",
    "    maes.append(df_p['mae'].values[0])\n",
    "    mapes.append(df_p['mape'].values[0])\n",
    "\n",
    "# Find the best parameters\n",
    "tuning_results = pd.DataFrame(all_params)\n",
    "tuning_results['mae'] = maes\n",
    "tuning_results['mape'] = mapes"
   ]
  },
  {
   "cell_type": "code",
   "execution_count": 159,
   "metadata": {},
   "outputs": [
    {
     "data": {
      "text/html": [
       "<div>\n",
       "<style scoped>\n",
       "    .dataframe tbody tr th:only-of-type {\n",
       "        vertical-align: middle;\n",
       "    }\n",
       "\n",
       "    .dataframe tbody tr th {\n",
       "        vertical-align: top;\n",
       "    }\n",
       "\n",
       "    .dataframe thead th {\n",
       "        text-align: right;\n",
       "    }\n",
       "</style>\n",
       "<table border=\"1\" class=\"dataframe\">\n",
       "  <thead>\n",
       "    <tr style=\"text-align: right;\">\n",
       "      <th></th>\n",
       "      <th>changepoint_prior_scale</th>\n",
       "      <th>seasonality_prior_scale</th>\n",
       "      <th>mae</th>\n",
       "      <th>mape</th>\n",
       "    </tr>\n",
       "  </thead>\n",
       "  <tbody>\n",
       "    <tr>\n",
       "      <th>10</th>\n",
       "      <td>0.100</td>\n",
       "      <td>1.00</td>\n",
       "      <td>346278.849019</td>\n",
       "      <td>1.699713</td>\n",
       "    </tr>\n",
       "    <tr>\n",
       "      <th>5</th>\n",
       "      <td>0.010</td>\n",
       "      <td>0.10</td>\n",
       "      <td>355703.699778</td>\n",
       "      <td>1.672011</td>\n",
       "    </tr>\n",
       "    <tr>\n",
       "      <th>9</th>\n",
       "      <td>0.100</td>\n",
       "      <td>0.10</td>\n",
       "      <td>355794.537753</td>\n",
       "      <td>1.673858</td>\n",
       "    </tr>\n",
       "    <tr>\n",
       "      <th>1</th>\n",
       "      <td>0.001</td>\n",
       "      <td>0.10</td>\n",
       "      <td>356547.859536</td>\n",
       "      <td>1.674379</td>\n",
       "    </tr>\n",
       "    <tr>\n",
       "      <th>8</th>\n",
       "      <td>0.100</td>\n",
       "      <td>0.01</td>\n",
       "      <td>370980.174030</td>\n",
       "      <td>1.217382</td>\n",
       "    </tr>\n",
       "    <tr>\n",
       "      <th>4</th>\n",
       "      <td>0.010</td>\n",
       "      <td>0.01</td>\n",
       "      <td>371201.062840</td>\n",
       "      <td>1.218609</td>\n",
       "    </tr>\n",
       "    <tr>\n",
       "      <th>12</th>\n",
       "      <td>0.500</td>\n",
       "      <td>0.01</td>\n",
       "      <td>371481.323994</td>\n",
       "      <td>1.220211</td>\n",
       "    </tr>\n",
       "    <tr>\n",
       "      <th>6</th>\n",
       "      <td>0.010</td>\n",
       "      <td>1.00</td>\n",
       "      <td>380347.381270</td>\n",
       "      <td>1.959212</td>\n",
       "    </tr>\n",
       "    <tr>\n",
       "      <th>0</th>\n",
       "      <td>0.001</td>\n",
       "      <td>0.01</td>\n",
       "      <td>382378.078336</td>\n",
       "      <td>1.397539</td>\n",
       "    </tr>\n",
       "    <tr>\n",
       "      <th>13</th>\n",
       "      <td>0.500</td>\n",
       "      <td>0.10</td>\n",
       "      <td>390236.665370</td>\n",
       "      <td>1.840449</td>\n",
       "    </tr>\n",
       "    <tr>\n",
       "      <th>2</th>\n",
       "      <td>0.001</td>\n",
       "      <td>1.00</td>\n",
       "      <td>392410.994317</td>\n",
       "      <td>2.358304</td>\n",
       "    </tr>\n",
       "    <tr>\n",
       "      <th>14</th>\n",
       "      <td>0.500</td>\n",
       "      <td>1.00</td>\n",
       "      <td>422400.410022</td>\n",
       "      <td>2.302982</td>\n",
       "    </tr>\n",
       "    <tr>\n",
       "      <th>7</th>\n",
       "      <td>0.010</td>\n",
       "      <td>10.00</td>\n",
       "      <td>478625.502098</td>\n",
       "      <td>2.674607</td>\n",
       "    </tr>\n",
       "    <tr>\n",
       "      <th>11</th>\n",
       "      <td>0.100</td>\n",
       "      <td>10.00</td>\n",
       "      <td>532758.240573</td>\n",
       "      <td>3.040497</td>\n",
       "    </tr>\n",
       "    <tr>\n",
       "      <th>3</th>\n",
       "      <td>0.001</td>\n",
       "      <td>10.00</td>\n",
       "      <td>548421.329105</td>\n",
       "      <td>2.796724</td>\n",
       "    </tr>\n",
       "    <tr>\n",
       "      <th>15</th>\n",
       "      <td>0.500</td>\n",
       "      <td>10.00</td>\n",
       "      <td>895606.859879</td>\n",
       "      <td>5.581264</td>\n",
       "    </tr>\n",
       "  </tbody>\n",
       "</table>\n",
       "</div>"
      ],
      "text/plain": [
       "    changepoint_prior_scale  seasonality_prior_scale            mae      mape\n",
       "10                    0.100                     1.00  346278.849019  1.699713\n",
       "5                     0.010                     0.10  355703.699778  1.672011\n",
       "9                     0.100                     0.10  355794.537753  1.673858\n",
       "1                     0.001                     0.10  356547.859536  1.674379\n",
       "8                     0.100                     0.01  370980.174030  1.217382\n",
       "4                     0.010                     0.01  371201.062840  1.218609\n",
       "12                    0.500                     0.01  371481.323994  1.220211\n",
       "6                     0.010                     1.00  380347.381270  1.959212\n",
       "0                     0.001                     0.01  382378.078336  1.397539\n",
       "13                    0.500                     0.10  390236.665370  1.840449\n",
       "2                     0.001                     1.00  392410.994317  2.358304\n",
       "14                    0.500                     1.00  422400.410022  2.302982\n",
       "7                     0.010                    10.00  478625.502098  2.674607\n",
       "11                    0.100                    10.00  532758.240573  3.040497\n",
       "3                     0.001                    10.00  548421.329105  2.796724\n",
       "15                    0.500                    10.00  895606.859879  5.581264"
      ]
     },
     "execution_count": 159,
     "metadata": {},
     "output_type": "execute_result"
    }
   ],
   "source": [
    "tuning_results.sort_values(['mae','mape'])\n",
    "\n"
   ]
  },
  {
   "cell_type": "markdown",
   "metadata": {},
   "source": [
    "We can see that MAE and MAPE for different values of changepoint_prior_scale and seasonality_prior_scale hyperparameters."
   ]
  },
  {
   "cell_type": "markdown",
   "metadata": {},
   "source": [
    "## 12-  Finding the best  parameters and compare the results"
   ]
  },
  {
   "cell_type": "code",
   "execution_count": 163,
   "metadata": {},
   "outputs": [
    {
     "name": "stdout",
     "output_type": "stream",
     "text": [
      "{'changepoint_prior_scale': 0.1, 'seasonality_prior_scale': 0.01}\n"
     ]
    }
   ],
   "source": [
    "best_params = all_params[np.argmin(mapes)]\n",
    "print(best_params)"
   ]
  },
  {
   "cell_type": "code",
   "execution_count": 173,
   "metadata": {},
   "outputs": [
    {
     "name": "stderr",
     "output_type": "stream",
     "text": [
      "INFO:fbprophet:Disabling daily seasonality. Run prophet with daily_seasonality=True to override this.\n",
      "INFO:fbprophet:n_changepoints greater than number of observations. Using 19.\n"
     ]
    }
   ],
   "source": [
    "# Train the model with best parameters\n",
    "m_01 = Prophet(weekly_seasonality=True,yearly_seasonality=True,\n",
    "changepoint_prior_scale = best_params['changepoint_prior_scale'],\n",
    "seasonality_prior_scale = best_params['seasonality_prior_scale'] )\n",
    "m_01.add_seasonality(name='monthly', period=24, fourier_order=1)\n",
    "#m.add_country_holidays(country_name='UK')\n",
    "model = m_01.fit(train)"
   ]
  },
  {
   "cell_type": "code",
   "execution_count": 180,
   "metadata": {},
   "outputs": [],
   "source": [
    "future_01 = model.make_future_dataframe(periods=7, freq = 'M')\n",
    "forecast_01 = model.predict(future_01)"
   ]
  },
  {
   "cell_type": "markdown",
   "metadata": {},
   "source": [
    "## Check what happened after tunning the parameters"
   ]
  },
  {
   "cell_type": "code",
   "execution_count": 181,
   "metadata": {},
   "outputs": [
    {
     "data": {
      "text/html": [
       "<div>\n",
       "<style scoped>\n",
       "    .dataframe tbody tr th:only-of-type {\n",
       "        vertical-align: middle;\n",
       "    }\n",
       "\n",
       "    .dataframe tbody tr th {\n",
       "        vertical-align: top;\n",
       "    }\n",
       "\n",
       "    .dataframe thead th {\n",
       "        text-align: right;\n",
       "    }\n",
       "</style>\n",
       "<table border=\"1\" class=\"dataframe\">\n",
       "  <thead>\n",
       "    <tr style=\"text-align: right;\">\n",
       "      <th></th>\n",
       "      <th>ds</th>\n",
       "      <th>yhat_lower</th>\n",
       "      <th>yhat_upper</th>\n",
       "      <th>yhat</th>\n",
       "      <th>y</th>\n",
       "    </tr>\n",
       "  </thead>\n",
       "  <tbody>\n",
       "    <tr>\n",
       "      <th>0</th>\n",
       "      <td>2021-09-30</td>\n",
       "      <td>-459354.709319</td>\n",
       "      <td>415079.551341</td>\n",
       "      <td>-9671.177694</td>\n",
       "      <td>-3.511098e+04</td>\n",
       "    </tr>\n",
       "    <tr>\n",
       "      <th>1</th>\n",
       "      <td>2021-10-31</td>\n",
       "      <td>-435891.582274</td>\n",
       "      <td>434819.952783</td>\n",
       "      <td>-12764.878165</td>\n",
       "      <td>1.530401e+05</td>\n",
       "    </tr>\n",
       "    <tr>\n",
       "      <th>2</th>\n",
       "      <td>2021-11-30</td>\n",
       "      <td>-390097.121260</td>\n",
       "      <td>419057.928632</td>\n",
       "      <td>7689.647714</td>\n",
       "      <td>1.085221e+06</td>\n",
       "    </tr>\n",
       "    <tr>\n",
       "      <th>3</th>\n",
       "      <td>2021-12-31</td>\n",
       "      <td>-422427.864857</td>\n",
       "      <td>378278.186687</td>\n",
       "      <td>-29191.721506</td>\n",
       "      <td>-8.143882e+03</td>\n",
       "    </tr>\n",
       "    <tr>\n",
       "      <th>4</th>\n",
       "      <td>2022-01-31</td>\n",
       "      <td>-437534.469684</td>\n",
       "      <td>375999.409875</td>\n",
       "      <td>-19679.559128</td>\n",
       "      <td>-1.947112e+06</td>\n",
       "    </tr>\n",
       "  </tbody>\n",
       "</table>\n",
       "</div>"
      ],
      "text/plain": [
       "          ds     yhat_lower     yhat_upper          yhat             y\n",
       "0 2021-09-30 -459354.709319  415079.551341  -9671.177694 -3.511098e+04\n",
       "1 2021-10-31 -435891.582274  434819.952783 -12764.878165  1.530401e+05\n",
       "2 2021-11-30 -390097.121260  419057.928632   7689.647714  1.085221e+06\n",
       "3 2021-12-31 -422427.864857  378278.186687 -29191.721506 -8.143882e+03\n",
       "4 2022-01-31 -437534.469684  375999.409875 -19679.559128 -1.947112e+06"
      ]
     },
     "execution_count": 181,
     "metadata": {},
     "output_type": "execute_result"
    }
   ],
   "source": [
    "df_merge_1 = pd.merge(test, forecast_01[['ds','yhat_lower','yhat_upper','yhat']],on='ds')\n",
    "df_merge_1 = df_merge_1[['ds','yhat_lower','yhat_upper','yhat','y']]\n",
    "df_merge_1.head()"
   ]
  },
  {
   "cell_type": "markdown",
   "metadata": {},
   "source": [
    "## Before tuning parameters"
   ]
  },
  {
   "cell_type": "code",
   "execution_count": 186,
   "metadata": {},
   "outputs": [
    {
     "name": "stdout",
     "output_type": "stream",
     "text": [
      "mape before tuning parameters: 11.856456839493248\n"
     ]
    }
   ],
   "source": [
    "y_true = df_merge['y'].values\n",
    "y_pred = df_merge['yhat'].values\n",
    "#mae_01 = mean_absolute_error(y_true, y_pred)\n",
    "mape_01 = mean_absolute_percentage_error(y_true, y_pred)\n",
    "\n",
    "print('mape before tuning parameters:',mape_01)"
   ]
  },
  {
   "cell_type": "markdown",
   "metadata": {},
   "source": [
    "## After tuning parameters"
   ]
  },
  {
   "cell_type": "code",
   "execution_count": 189,
   "metadata": {},
   "outputs": [
    {
     "name": "stdout",
     "output_type": "stream",
     "text": [
      "mape after tuning prarameters: 1.275053431587634\n"
     ]
    }
   ],
   "source": [
    "y_true_01 = df_merge_1['y'].values\n",
    "y_pred_01= df_merge_1['yhat'].values\n",
    "#mae_02 = mean_absolute_error(y_true_01, y_pred_01)\n",
    "mape_02 = mean_absolute_percentage_error(y_true_01, y_pred_01)\n",
    "\n",
    "print('mape after tuning prarameters:',mape_02)"
   ]
  },
  {
   "cell_type": "markdown",
   "metadata": {},
   "source": [
    " We can see that after fine-parameter tuning mape decreased from 11.856456839493248 to 1.275053431587634 which is a good sign of improvement"
   ]
  }
 ],
 "metadata": {
  "interpreter": {
   "hash": "40d3a090f54c6569ab1632332b64b2c03c39dcf918b08424e98f38b5ae0af88f"
  },
  "kernelspec": {
   "display_name": "Python 3.8.8 64-bit ('base': conda)",
   "language": "python",
   "name": "python3"
  },
  "language_info": {
   "codemirror_mode": {
    "name": "ipython",
    "version": 3
   },
   "file_extension": ".py",
   "mimetype": "text/x-python",
   "name": "python",
   "nbconvert_exporter": "python",
   "pygments_lexer": "ipython3",
   "version": "3.8.8"
  },
  "orig_nbformat": 4
 },
 "nbformat": 4,
 "nbformat_minor": 2
}
