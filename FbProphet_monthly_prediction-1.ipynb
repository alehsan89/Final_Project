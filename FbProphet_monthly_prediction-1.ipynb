{
 "cells": [
  {
   "cell_type": "markdown",
   "metadata": {},
   "source": [
    "## 1- Import libraries"
   ]
  },
  {
   "cell_type": "code",
   "execution_count": 1,
   "metadata": {},
   "outputs": [],
   "source": [
    "import pandas as pd\n",
    "import numpy as np\n",
    "from datetime import datetime\n",
    "import seaborn as sns\n",
    "import matplotlib.pyplot as plt\n",
    "%matplotlib inline\n",
    "pd.set_option('display.max_columns', None)\n",
    "# Right after importing seaborn (could also use 'whitegrid')\n",
    "sns.set_theme(style='darkgrid', context='talk')\n",
    "\n",
    "import warnings\n",
    "warnings.filterwarnings('ignore')\n",
    "\n",
    "from fbprophet import Prophet\n",
    "from fbprophet.diagnostics import performance_metrics\n",
    "from fbprophet.diagnostics import cross_validation\n",
    "from sklearn.metrics import mean_squared_error\n",
    "from numpy import sqrt\n",
    "plt.rcParams['figure.figsize']=(20,10)\n",
    "plt.style.use('ggplot')\n",
    "import chart_studio.plotly as py\n",
    "import plotly.offline as pyoff\n",
    "import plotly.graph_objs as go\n",
    "pd.plotting.register_matplotlib_converters()\n",
    "import copy"
   ]
  },
  {
   "cell_type": "markdown",
   "metadata": {},
   "source": [
    "## 2- Load data"
   ]
  },
  {
   "cell_type": "code",
   "execution_count": 2,
   "metadata": {},
   "outputs": [],
   "source": [
    "\n",
    "df = pd.read_csv('/Users/alijanehsan/Downloads/Final_project/merge.csv', index_col =0)"
   ]
  },
  {
   "cell_type": "code",
   "execution_count": 131,
   "metadata": {},
   "outputs": [
    {
     "data": {
      "text/html": [
       "<div>\n",
       "<style scoped>\n",
       "    .dataframe tbody tr th:only-of-type {\n",
       "        vertical-align: middle;\n",
       "    }\n",
       "\n",
       "    .dataframe tbody tr th {\n",
       "        vertical-align: top;\n",
       "    }\n",
       "\n",
       "    .dataframe thead th {\n",
       "        text-align: right;\n",
       "    }\n",
       "</style>\n",
       "<table border=\"1\" class=\"dataframe\">\n",
       "  <thead>\n",
       "    <tr style=\"text-align: right;\">\n",
       "      <th></th>\n",
       "      <th>date</th>\n",
       "      <th>item_code</th>\n",
       "      <th>quantity</th>\n",
       "      <th>unit_price_vat_excl</th>\n",
       "      <th>unit_cogs</th>\n",
       "      <th>unit_rrp_vat_excl</th>\n",
       "      <th>department</th>\n",
       "      <th>site</th>\n",
       "      <th>sale</th>\n",
       "      <th>country</th>\n",
       "      <th>item_name</th>\n",
       "      <th>style</th>\n",
       "      <th>name</th>\n",
       "      <th>group0</th>\n",
       "      <th>group1</th>\n",
       "      <th>category</th>\n",
       "      <th>gender</th>\n",
       "      <th>age</th>\n",
       "      <th>color</th>\n",
       "      <th>size</th>\n",
       "      <th>kids</th>\n",
       "      <th>men</th>\n",
       "      <th>unisex</th>\n",
       "      <th>women</th>\n",
       "      <th>day</th>\n",
       "      <th>month</th>\n",
       "    </tr>\n",
       "  </thead>\n",
       "  <tbody>\n",
       "    <tr>\n",
       "      <th>0</th>\n",
       "      <td>2022-01-14</td>\n",
       "      <td>ZB00245086</td>\n",
       "      <td>1</td>\n",
       "      <td>107.443868</td>\n",
       "      <td>63.815891</td>\n",
       "      <td>126.367186</td>\n",
       "      <td>E-COMMER</td>\n",
       "      <td>top4running.at</td>\n",
       "      <td>107.443868</td>\n",
       "      <td>Austria</td>\n",
       "      <td>Cloudsurfer</td>\n",
       "      <td>54-99218</td>\n",
       "      <td>On Running</td>\n",
       "      <td>Footwear</td>\n",
       "      <td>Running shoes</td>\n",
       "      <td>running</td>\n",
       "      <td>men</td>\n",
       "      <td>adults</td>\n",
       "      <td>White</td>\n",
       "      <td>44</td>\n",
       "      <td>0</td>\n",
       "      <td>1</td>\n",
       "      <td>0</td>\n",
       "      <td>0</td>\n",
       "      <td>Friday</td>\n",
       "      <td>January</td>\n",
       "    </tr>\n",
       "    <tr>\n",
       "      <th>1</th>\n",
       "      <td>2021-12-09</td>\n",
       "      <td>ZB00245086</td>\n",
       "      <td>1</td>\n",
       "      <td>98.582325</td>\n",
       "      <td>63.816279</td>\n",
       "      <td>129.458420</td>\n",
       "      <td>E-COMMER</td>\n",
       "      <td>top4running.it</td>\n",
       "      <td>98.582325</td>\n",
       "      <td>Italy</td>\n",
       "      <td>Cloudsurfer</td>\n",
       "      <td>54-99218</td>\n",
       "      <td>On Running</td>\n",
       "      <td>Footwear</td>\n",
       "      <td>Running shoes</td>\n",
       "      <td>running</td>\n",
       "      <td>men</td>\n",
       "      <td>adults</td>\n",
       "      <td>White</td>\n",
       "      <td>44</td>\n",
       "      <td>0</td>\n",
       "      <td>1</td>\n",
       "      <td>0</td>\n",
       "      <td>0</td>\n",
       "      <td>Thursday</td>\n",
       "      <td>December</td>\n",
       "    </tr>\n",
       "    <tr>\n",
       "      <th>2</th>\n",
       "      <td>2021-12-08</td>\n",
       "      <td>ZB00245086</td>\n",
       "      <td>1</td>\n",
       "      <td>100.182074</td>\n",
       "      <td>63.815891</td>\n",
       "      <td>131.559296</td>\n",
       "      <td>E-COMMER</td>\n",
       "      <td>top4running.at</td>\n",
       "      <td>100.182074</td>\n",
       "      <td>Austria</td>\n",
       "      <td>Cloudsurfer</td>\n",
       "      <td>54-99218</td>\n",
       "      <td>On Running</td>\n",
       "      <td>Footwear</td>\n",
       "      <td>Running shoes</td>\n",
       "      <td>running</td>\n",
       "      <td>men</td>\n",
       "      <td>adults</td>\n",
       "      <td>White</td>\n",
       "      <td>44</td>\n",
       "      <td>0</td>\n",
       "      <td>1</td>\n",
       "      <td>0</td>\n",
       "      <td>0</td>\n",
       "      <td>Wednesday</td>\n",
       "      <td>December</td>\n",
       "    </tr>\n",
       "    <tr>\n",
       "      <th>3</th>\n",
       "      <td>2021-12-04</td>\n",
       "      <td>ZB00245086</td>\n",
       "      <td>1</td>\n",
       "      <td>98.350139</td>\n",
       "      <td>63.816279</td>\n",
       "      <td>129.153514</td>\n",
       "      <td>E-COMMER</td>\n",
       "      <td>top4running.it</td>\n",
       "      <td>98.350139</td>\n",
       "      <td>Italy</td>\n",
       "      <td>Cloudsurfer</td>\n",
       "      <td>54-99218</td>\n",
       "      <td>On Running</td>\n",
       "      <td>Footwear</td>\n",
       "      <td>Running shoes</td>\n",
       "      <td>running</td>\n",
       "      <td>men</td>\n",
       "      <td>adults</td>\n",
       "      <td>White</td>\n",
       "      <td>44</td>\n",
       "      <td>0</td>\n",
       "      <td>1</td>\n",
       "      <td>0</td>\n",
       "      <td>0</td>\n",
       "      <td>Saturday</td>\n",
       "      <td>December</td>\n",
       "    </tr>\n",
       "    <tr>\n",
       "      <th>4</th>\n",
       "      <td>2021-11-14</td>\n",
       "      <td>ZB00245086</td>\n",
       "      <td>1</td>\n",
       "      <td>99.296899</td>\n",
       "      <td>63.815891</td>\n",
       "      <td>130.396884</td>\n",
       "      <td>E-COMMER</td>\n",
       "      <td>top4running.at</td>\n",
       "      <td>99.296899</td>\n",
       "      <td>Austria</td>\n",
       "      <td>Cloudsurfer</td>\n",
       "      <td>54-99218</td>\n",
       "      <td>On Running</td>\n",
       "      <td>Footwear</td>\n",
       "      <td>Running shoes</td>\n",
       "      <td>running</td>\n",
       "      <td>men</td>\n",
       "      <td>adults</td>\n",
       "      <td>White</td>\n",
       "      <td>44</td>\n",
       "      <td>0</td>\n",
       "      <td>1</td>\n",
       "      <td>0</td>\n",
       "      <td>0</td>\n",
       "      <td>Sunday</td>\n",
       "      <td>November</td>\n",
       "    </tr>\n",
       "  </tbody>\n",
       "</table>\n",
       "</div>"
      ],
      "text/plain": [
       "        date   item_code  quantity  unit_price_vat_excl  unit_cogs  \\\n",
       "0 2022-01-14  ZB00245086         1           107.443868  63.815891   \n",
       "1 2021-12-09  ZB00245086         1            98.582325  63.816279   \n",
       "2 2021-12-08  ZB00245086         1           100.182074  63.815891   \n",
       "3 2021-12-04  ZB00245086         1            98.350139  63.816279   \n",
       "4 2021-11-14  ZB00245086         1            99.296899  63.815891   \n",
       "\n",
       "   unit_rrp_vat_excl department            site        sale  country  \\\n",
       "0         126.367186   E-COMMER  top4running.at  107.443868  Austria   \n",
       "1         129.458420   E-COMMER  top4running.it   98.582325    Italy   \n",
       "2         131.559296   E-COMMER  top4running.at  100.182074  Austria   \n",
       "3         129.153514   E-COMMER  top4running.it   98.350139    Italy   \n",
       "4         130.396884   E-COMMER  top4running.at   99.296899  Austria   \n",
       "\n",
       "     item_name     style        name    group0         group1 category gender  \\\n",
       "0  Cloudsurfer  54-99218  On Running  Footwear  Running shoes  running    men   \n",
       "1  Cloudsurfer  54-99218  On Running  Footwear  Running shoes  running    men   \n",
       "2  Cloudsurfer  54-99218  On Running  Footwear  Running shoes  running    men   \n",
       "3  Cloudsurfer  54-99218  On Running  Footwear  Running shoes  running    men   \n",
       "4  Cloudsurfer  54-99218  On Running  Footwear  Running shoes  running    men   \n",
       "\n",
       "      age  color size  kids  men  unisex  women        day     month  \n",
       "0  adults  White   44     0    1       0      0     Friday   January  \n",
       "1  adults  White   44     0    1       0      0   Thursday  December  \n",
       "2  adults  White   44     0    1       0      0  Wednesday  December  \n",
       "3  adults  White   44     0    1       0      0   Saturday  December  \n",
       "4  adults  White   44     0    1       0      0     Sunday  November  "
      ]
     },
     "execution_count": 131,
     "metadata": {},
     "output_type": "execute_result"
    }
   ],
   "source": [
    "df.head()"
   ]
  },
  {
   "cell_type": "markdown",
   "metadata": {},
   "source": [
    "## 3- Get monthly data\n",
    "For monthly forcasting we need to summarize data for each month"
   ]
  },
  {
   "cell_type": "code",
   "execution_count": 12,
   "metadata": {},
   "outputs": [],
   "source": [
    "def monthly_data(df, time_period='month', sale='net'):\n",
    "    time_periods = {\n",
    "        'day': 'D',\n",
    "        'week': 'W',\n",
    "        'month': 'M'}\n",
    "    \n",
    "    revenue_cat = {\n",
    "        'net':'Revenue'}\n",
    "    df['date'] = pd.to_datetime(df['date'])\n",
    "    df = df.set_index('date')\n",
    "    df = df[revenue_cat[sale]].resample(time_periods[time_period]).sum()\n",
    "    df = pd.DataFrame(df).reset_index()\n",
    "    return df"
   ]
  },
  {
   "cell_type": "code",
   "execution_count": 23,
   "metadata": {},
   "outputs": [
    {
     "data": {
      "text/html": [
       "<div>\n",
       "<style scoped>\n",
       "    .dataframe tbody tr th:only-of-type {\n",
       "        vertical-align: middle;\n",
       "    }\n",
       "\n",
       "    .dataframe tbody tr th {\n",
       "        vertical-align: top;\n",
       "    }\n",
       "\n",
       "    .dataframe thead th {\n",
       "        text-align: right;\n",
       "    }\n",
       "</style>\n",
       "<table border=\"1\" class=\"dataframe\">\n",
       "  <thead>\n",
       "    <tr style=\"text-align: right;\">\n",
       "      <th></th>\n",
       "      <th>date</th>\n",
       "      <th>Revenue</th>\n",
       "    </tr>\n",
       "  </thead>\n",
       "  <tbody>\n",
       "    <tr>\n",
       "      <th>0</th>\n",
       "      <td>2019-06-30</td>\n",
       "      <td>458077.500230</td>\n",
       "    </tr>\n",
       "    <tr>\n",
       "      <th>1</th>\n",
       "      <td>2019-07-31</td>\n",
       "      <td>661605.989647</td>\n",
       "    </tr>\n",
       "    <tr>\n",
       "      <th>2</th>\n",
       "      <td>2019-08-31</td>\n",
       "      <td>910477.102034</td>\n",
       "    </tr>\n",
       "    <tr>\n",
       "      <th>3</th>\n",
       "      <td>2019-09-30</td>\n",
       "      <td>860163.234682</td>\n",
       "    </tr>\n",
       "    <tr>\n",
       "      <th>4</th>\n",
       "      <td>2019-10-31</td>\n",
       "      <td>703325.788071</td>\n",
       "    </tr>\n",
       "  </tbody>\n",
       "</table>\n",
       "</div>"
      ],
      "text/plain": [
       "        date        Revenue\n",
       "0 2019-06-30  458077.500230\n",
       "1 2019-07-31  661605.989647\n",
       "2 2019-08-31  910477.102034\n",
       "3 2019-09-30  860163.234682\n",
       "4 2019-10-31  703325.788071"
      ]
     },
     "execution_count": 23,
     "metadata": {},
     "output_type": "execute_result"
    }
   ],
   "source": [
    "df_m = monthly_data(df)\n",
    "#df_m.columns=['ds', 'y']\n",
    "df_m.ds=pd.to_datetime(df_m['date'])\n",
    "df_m.sort_values('date')\n",
    "df_m.head()"
   ]
  },
  {
   "cell_type": "markdown",
   "metadata": {},
   "source": [
    "## 4-Check whether the data is stationary or not"
   ]
  },
  {
   "cell_type": "code",
   "execution_count": 24,
   "metadata": {},
   "outputs": [
    {
     "data": {
      "application/vnd.plotly.v1+json": {
       "config": {
        "linkText": "Export to plot.ly",
        "plotlyServerURL": "https://plot.ly",
        "showLink": false
       },
       "data": [
        {
         "type": "scatter",
         "x": [
          "2019-06-30T00:00:00",
          "2019-07-31T00:00:00",
          "2019-08-31T00:00:00",
          "2019-09-30T00:00:00",
          "2019-10-31T00:00:00",
          "2019-11-30T00:00:00",
          "2019-12-31T00:00:00",
          "2020-01-31T00:00:00",
          "2020-02-29T00:00:00",
          "2020-03-31T00:00:00",
          "2020-04-30T00:00:00",
          "2020-05-31T00:00:00",
          "2020-06-30T00:00:00",
          "2020-07-31T00:00:00",
          "2020-08-31T00:00:00",
          "2020-09-30T00:00:00",
          "2020-10-31T00:00:00",
          "2020-11-30T00:00:00",
          "2020-12-31T00:00:00",
          "2021-01-31T00:00:00",
          "2021-02-28T00:00:00",
          "2021-03-31T00:00:00",
          "2021-04-30T00:00:00",
          "2021-05-31T00:00:00",
          "2021-06-30T00:00:00",
          "2021-07-31T00:00:00",
          "2021-08-31T00:00:00",
          "2021-09-30T00:00:00",
          "2021-10-31T00:00:00",
          "2021-11-30T00:00:00",
          "2021-12-31T00:00:00",
          "2022-01-31T00:00:00"
         ],
         "y": [
          458077.5002304,
          661605.9896468,
          910477.1020337,
          860163.234682,
          703325.7880711,
          1312387.1595721,
          1382255.6957493,
          1017721.260615,
          852313.6698407,
          833414.8740163,
          922634.0179198,
          1149092.1192789,
          990746.6707135,
          902507.3849384,
          1058104.112589,
          1245327.6106575,
          1140069.8645736,
          2229964.098096,
          1613987.2818679,
          1726676.1665245,
          1518298.1158653,
          2049198.4293942,
          1993090.0625598,
          1870187.226273,
          1517157.4184256,
          1392864.0445752,
          1652203.7096202,
          1617092.7326161,
          1770132.839529,
          2855353.8243993,
          2847209.9427665,
          900098.0439402
         ]
        }
       ],
       "layout": {
        "template": {
         "data": {
          "bar": [
           {
            "error_x": {
             "color": "#2a3f5f"
            },
            "error_y": {
             "color": "#2a3f5f"
            },
            "marker": {
             "line": {
              "color": "#E5ECF6",
              "width": 0.5
             },
             "pattern": {
              "fillmode": "overlay",
              "size": 10,
              "solidity": 0.2
             }
            },
            "type": "bar"
           }
          ],
          "barpolar": [
           {
            "marker": {
             "line": {
              "color": "#E5ECF6",
              "width": 0.5
             },
             "pattern": {
              "fillmode": "overlay",
              "size": 10,
              "solidity": 0.2
             }
            },
            "type": "barpolar"
           }
          ],
          "carpet": [
           {
            "aaxis": {
             "endlinecolor": "#2a3f5f",
             "gridcolor": "white",
             "linecolor": "white",
             "minorgridcolor": "white",
             "startlinecolor": "#2a3f5f"
            },
            "baxis": {
             "endlinecolor": "#2a3f5f",
             "gridcolor": "white",
             "linecolor": "white",
             "minorgridcolor": "white",
             "startlinecolor": "#2a3f5f"
            },
            "type": "carpet"
           }
          ],
          "choropleth": [
           {
            "colorbar": {
             "outlinewidth": 0,
             "ticks": ""
            },
            "type": "choropleth"
           }
          ],
          "contour": [
           {
            "colorbar": {
             "outlinewidth": 0,
             "ticks": ""
            },
            "colorscale": [
             [
              0,
              "#0d0887"
             ],
             [
              0.1111111111111111,
              "#46039f"
             ],
             [
              0.2222222222222222,
              "#7201a8"
             ],
             [
              0.3333333333333333,
              "#9c179e"
             ],
             [
              0.4444444444444444,
              "#bd3786"
             ],
             [
              0.5555555555555556,
              "#d8576b"
             ],
             [
              0.6666666666666666,
              "#ed7953"
             ],
             [
              0.7777777777777778,
              "#fb9f3a"
             ],
             [
              0.8888888888888888,
              "#fdca26"
             ],
             [
              1,
              "#f0f921"
             ]
            ],
            "type": "contour"
           }
          ],
          "contourcarpet": [
           {
            "colorbar": {
             "outlinewidth": 0,
             "ticks": ""
            },
            "type": "contourcarpet"
           }
          ],
          "heatmap": [
           {
            "colorbar": {
             "outlinewidth": 0,
             "ticks": ""
            },
            "colorscale": [
             [
              0,
              "#0d0887"
             ],
             [
              0.1111111111111111,
              "#46039f"
             ],
             [
              0.2222222222222222,
              "#7201a8"
             ],
             [
              0.3333333333333333,
              "#9c179e"
             ],
             [
              0.4444444444444444,
              "#bd3786"
             ],
             [
              0.5555555555555556,
              "#d8576b"
             ],
             [
              0.6666666666666666,
              "#ed7953"
             ],
             [
              0.7777777777777778,
              "#fb9f3a"
             ],
             [
              0.8888888888888888,
              "#fdca26"
             ],
             [
              1,
              "#f0f921"
             ]
            ],
            "type": "heatmap"
           }
          ],
          "heatmapgl": [
           {
            "colorbar": {
             "outlinewidth": 0,
             "ticks": ""
            },
            "colorscale": [
             [
              0,
              "#0d0887"
             ],
             [
              0.1111111111111111,
              "#46039f"
             ],
             [
              0.2222222222222222,
              "#7201a8"
             ],
             [
              0.3333333333333333,
              "#9c179e"
             ],
             [
              0.4444444444444444,
              "#bd3786"
             ],
             [
              0.5555555555555556,
              "#d8576b"
             ],
             [
              0.6666666666666666,
              "#ed7953"
             ],
             [
              0.7777777777777778,
              "#fb9f3a"
             ],
             [
              0.8888888888888888,
              "#fdca26"
             ],
             [
              1,
              "#f0f921"
             ]
            ],
            "type": "heatmapgl"
           }
          ],
          "histogram": [
           {
            "marker": {
             "pattern": {
              "fillmode": "overlay",
              "size": 10,
              "solidity": 0.2
             }
            },
            "type": "histogram"
           }
          ],
          "histogram2d": [
           {
            "colorbar": {
             "outlinewidth": 0,
             "ticks": ""
            },
            "colorscale": [
             [
              0,
              "#0d0887"
             ],
             [
              0.1111111111111111,
              "#46039f"
             ],
             [
              0.2222222222222222,
              "#7201a8"
             ],
             [
              0.3333333333333333,
              "#9c179e"
             ],
             [
              0.4444444444444444,
              "#bd3786"
             ],
             [
              0.5555555555555556,
              "#d8576b"
             ],
             [
              0.6666666666666666,
              "#ed7953"
             ],
             [
              0.7777777777777778,
              "#fb9f3a"
             ],
             [
              0.8888888888888888,
              "#fdca26"
             ],
             [
              1,
              "#f0f921"
             ]
            ],
            "type": "histogram2d"
           }
          ],
          "histogram2dcontour": [
           {
            "colorbar": {
             "outlinewidth": 0,
             "ticks": ""
            },
            "colorscale": [
             [
              0,
              "#0d0887"
             ],
             [
              0.1111111111111111,
              "#46039f"
             ],
             [
              0.2222222222222222,
              "#7201a8"
             ],
             [
              0.3333333333333333,
              "#9c179e"
             ],
             [
              0.4444444444444444,
              "#bd3786"
             ],
             [
              0.5555555555555556,
              "#d8576b"
             ],
             [
              0.6666666666666666,
              "#ed7953"
             ],
             [
              0.7777777777777778,
              "#fb9f3a"
             ],
             [
              0.8888888888888888,
              "#fdca26"
             ],
             [
              1,
              "#f0f921"
             ]
            ],
            "type": "histogram2dcontour"
           }
          ],
          "mesh3d": [
           {
            "colorbar": {
             "outlinewidth": 0,
             "ticks": ""
            },
            "type": "mesh3d"
           }
          ],
          "parcoords": [
           {
            "line": {
             "colorbar": {
              "outlinewidth": 0,
              "ticks": ""
             }
            },
            "type": "parcoords"
           }
          ],
          "pie": [
           {
            "automargin": true,
            "type": "pie"
           }
          ],
          "scatter": [
           {
            "marker": {
             "colorbar": {
              "outlinewidth": 0,
              "ticks": ""
             }
            },
            "type": "scatter"
           }
          ],
          "scatter3d": [
           {
            "line": {
             "colorbar": {
              "outlinewidth": 0,
              "ticks": ""
             }
            },
            "marker": {
             "colorbar": {
              "outlinewidth": 0,
              "ticks": ""
             }
            },
            "type": "scatter3d"
           }
          ],
          "scattercarpet": [
           {
            "marker": {
             "colorbar": {
              "outlinewidth": 0,
              "ticks": ""
             }
            },
            "type": "scattercarpet"
           }
          ],
          "scattergeo": [
           {
            "marker": {
             "colorbar": {
              "outlinewidth": 0,
              "ticks": ""
             }
            },
            "type": "scattergeo"
           }
          ],
          "scattergl": [
           {
            "marker": {
             "colorbar": {
              "outlinewidth": 0,
              "ticks": ""
             }
            },
            "type": "scattergl"
           }
          ],
          "scattermapbox": [
           {
            "marker": {
             "colorbar": {
              "outlinewidth": 0,
              "ticks": ""
             }
            },
            "type": "scattermapbox"
           }
          ],
          "scatterpolar": [
           {
            "marker": {
             "colorbar": {
              "outlinewidth": 0,
              "ticks": ""
             }
            },
            "type": "scatterpolar"
           }
          ],
          "scatterpolargl": [
           {
            "marker": {
             "colorbar": {
              "outlinewidth": 0,
              "ticks": ""
             }
            },
            "type": "scatterpolargl"
           }
          ],
          "scatterternary": [
           {
            "marker": {
             "colorbar": {
              "outlinewidth": 0,
              "ticks": ""
             }
            },
            "type": "scatterternary"
           }
          ],
          "surface": [
           {
            "colorbar": {
             "outlinewidth": 0,
             "ticks": ""
            },
            "colorscale": [
             [
              0,
              "#0d0887"
             ],
             [
              0.1111111111111111,
              "#46039f"
             ],
             [
              0.2222222222222222,
              "#7201a8"
             ],
             [
              0.3333333333333333,
              "#9c179e"
             ],
             [
              0.4444444444444444,
              "#bd3786"
             ],
             [
              0.5555555555555556,
              "#d8576b"
             ],
             [
              0.6666666666666666,
              "#ed7953"
             ],
             [
              0.7777777777777778,
              "#fb9f3a"
             ],
             [
              0.8888888888888888,
              "#fdca26"
             ],
             [
              1,
              "#f0f921"
             ]
            ],
            "type": "surface"
           }
          ],
          "table": [
           {
            "cells": {
             "fill": {
              "color": "#EBF0F8"
             },
             "line": {
              "color": "white"
             }
            },
            "header": {
             "fill": {
              "color": "#C8D4E3"
             },
             "line": {
              "color": "white"
             }
            },
            "type": "table"
           }
          ]
         },
         "layout": {
          "annotationdefaults": {
           "arrowcolor": "#2a3f5f",
           "arrowhead": 0,
           "arrowwidth": 1
          },
          "autotypenumbers": "strict",
          "coloraxis": {
           "colorbar": {
            "outlinewidth": 0,
            "ticks": ""
           }
          },
          "colorscale": {
           "diverging": [
            [
             0,
             "#8e0152"
            ],
            [
             0.1,
             "#c51b7d"
            ],
            [
             0.2,
             "#de77ae"
            ],
            [
             0.3,
             "#f1b6da"
            ],
            [
             0.4,
             "#fde0ef"
            ],
            [
             0.5,
             "#f7f7f7"
            ],
            [
             0.6,
             "#e6f5d0"
            ],
            [
             0.7,
             "#b8e186"
            ],
            [
             0.8,
             "#7fbc41"
            ],
            [
             0.9,
             "#4d9221"
            ],
            [
             1,
             "#276419"
            ]
           ],
           "sequential": [
            [
             0,
             "#0d0887"
            ],
            [
             0.1111111111111111,
             "#46039f"
            ],
            [
             0.2222222222222222,
             "#7201a8"
            ],
            [
             0.3333333333333333,
             "#9c179e"
            ],
            [
             0.4444444444444444,
             "#bd3786"
            ],
            [
             0.5555555555555556,
             "#d8576b"
            ],
            [
             0.6666666666666666,
             "#ed7953"
            ],
            [
             0.7777777777777778,
             "#fb9f3a"
            ],
            [
             0.8888888888888888,
             "#fdca26"
            ],
            [
             1,
             "#f0f921"
            ]
           ],
           "sequentialminus": [
            [
             0,
             "#0d0887"
            ],
            [
             0.1111111111111111,
             "#46039f"
            ],
            [
             0.2222222222222222,
             "#7201a8"
            ],
            [
             0.3333333333333333,
             "#9c179e"
            ],
            [
             0.4444444444444444,
             "#bd3786"
            ],
            [
             0.5555555555555556,
             "#d8576b"
            ],
            [
             0.6666666666666666,
             "#ed7953"
            ],
            [
             0.7777777777777778,
             "#fb9f3a"
            ],
            [
             0.8888888888888888,
             "#fdca26"
            ],
            [
             1,
             "#f0f921"
            ]
           ]
          },
          "colorway": [
           "#636efa",
           "#EF553B",
           "#00cc96",
           "#ab63fa",
           "#FFA15A",
           "#19d3f3",
           "#FF6692",
           "#B6E880",
           "#FF97FF",
           "#FECB52"
          ],
          "font": {
           "color": "#2a3f5f"
          },
          "geo": {
           "bgcolor": "white",
           "lakecolor": "white",
           "landcolor": "#E5ECF6",
           "showlakes": true,
           "showland": true,
           "subunitcolor": "white"
          },
          "hoverlabel": {
           "align": "left"
          },
          "hovermode": "closest",
          "mapbox": {
           "style": "light"
          },
          "paper_bgcolor": "white",
          "plot_bgcolor": "#E5ECF6",
          "polar": {
           "angularaxis": {
            "gridcolor": "white",
            "linecolor": "white",
            "ticks": ""
           },
           "bgcolor": "#E5ECF6",
           "radialaxis": {
            "gridcolor": "white",
            "linecolor": "white",
            "ticks": ""
           }
          },
          "scene": {
           "xaxis": {
            "backgroundcolor": "#E5ECF6",
            "gridcolor": "white",
            "gridwidth": 2,
            "linecolor": "white",
            "showbackground": true,
            "ticks": "",
            "zerolinecolor": "white"
           },
           "yaxis": {
            "backgroundcolor": "#E5ECF6",
            "gridcolor": "white",
            "gridwidth": 2,
            "linecolor": "white",
            "showbackground": true,
            "ticks": "",
            "zerolinecolor": "white"
           },
           "zaxis": {
            "backgroundcolor": "#E5ECF6",
            "gridcolor": "white",
            "gridwidth": 2,
            "linecolor": "white",
            "showbackground": true,
            "ticks": "",
            "zerolinecolor": "white"
           }
          },
          "shapedefaults": {
           "line": {
            "color": "#2a3f5f"
           }
          },
          "ternary": {
           "aaxis": {
            "gridcolor": "white",
            "linecolor": "white",
            "ticks": ""
           },
           "baxis": {
            "gridcolor": "white",
            "linecolor": "white",
            "ticks": ""
           },
           "bgcolor": "#E5ECF6",
           "caxis": {
            "gridcolor": "white",
            "linecolor": "white",
            "ticks": ""
           }
          },
          "title": {
           "x": 0.05
          },
          "xaxis": {
           "automargin": true,
           "gridcolor": "white",
           "linecolor": "white",
           "ticks": "",
           "title": {
            "standoff": 15
           },
           "zerolinecolor": "white",
           "zerolinewidth": 2
          },
          "yaxis": {
           "automargin": true,
           "gridcolor": "white",
           "linecolor": "white",
           "ticks": "",
           "title": {
            "standoff": 15
           },
           "zerolinecolor": "white",
           "zerolinewidth": 2
          }
         }
        },
        "title": {
         "text": "Montly Sales"
        }
       }
      }
     },
     "metadata": {},
     "output_type": "display_data"
    }
   ],
   "source": [
    "plot_data = [\n",
    "    go.Scatter(\n",
    "        x=df_m['date'],\n",
    "        y=df_m['Revenue'],\n",
    "    )\n",
    "]\n",
    "plot_layout = go.Layout(\n",
    "        title='Montly Sales'\n",
    "    )\n",
    "fig = go.Figure(data=plot_data, layout=plot_layout)\n",
    "pyoff.iplot(fig)"
   ]
  },
  {
   "cell_type": "markdown",
   "metadata": {},
   "source": [
    "Check with Dicky Fuller test"
   ]
  },
  {
   "cell_type": "markdown",
   "metadata": {},
   "source": [
    "The plot  showS that  the data is not stationary.  So we need to make our data stationary"
   ]
  },
  {
   "cell_type": "code",
   "execution_count": 25,
   "metadata": {},
   "outputs": [
    {
     "data": {
      "text/html": [
       "<div>\n",
       "<style scoped>\n",
       "    .dataframe tbody tr th:only-of-type {\n",
       "        vertical-align: middle;\n",
       "    }\n",
       "\n",
       "    .dataframe tbody tr th {\n",
       "        vertical-align: top;\n",
       "    }\n",
       "\n",
       "    .dataframe thead th {\n",
       "        text-align: right;\n",
       "    }\n",
       "</style>\n",
       "<table border=\"1\" class=\"dataframe\">\n",
       "  <thead>\n",
       "    <tr style=\"text-align: right;\">\n",
       "      <th></th>\n",
       "      <th>date</th>\n",
       "      <th>Revenue</th>\n",
       "      <th>prev_sales</th>\n",
       "      <th>diff</th>\n",
       "    </tr>\n",
       "  </thead>\n",
       "  <tbody>\n",
       "    <tr>\n",
       "      <th>1</th>\n",
       "      <td>2019-07-31</td>\n",
       "      <td>6.616060e+05</td>\n",
       "      <td>4.580775e+05</td>\n",
       "      <td>203528.489416</td>\n",
       "    </tr>\n",
       "    <tr>\n",
       "      <th>2</th>\n",
       "      <td>2019-08-31</td>\n",
       "      <td>9.104771e+05</td>\n",
       "      <td>6.616060e+05</td>\n",
       "      <td>248871.112387</td>\n",
       "    </tr>\n",
       "    <tr>\n",
       "      <th>3</th>\n",
       "      <td>2019-09-30</td>\n",
       "      <td>8.601632e+05</td>\n",
       "      <td>9.104771e+05</td>\n",
       "      <td>-50313.867352</td>\n",
       "    </tr>\n",
       "    <tr>\n",
       "      <th>4</th>\n",
       "      <td>2019-10-31</td>\n",
       "      <td>7.033258e+05</td>\n",
       "      <td>8.601632e+05</td>\n",
       "      <td>-156837.446611</td>\n",
       "    </tr>\n",
       "    <tr>\n",
       "      <th>5</th>\n",
       "      <td>2019-11-30</td>\n",
       "      <td>1.312387e+06</td>\n",
       "      <td>7.033258e+05</td>\n",
       "      <td>609061.371501</td>\n",
       "    </tr>\n",
       "    <tr>\n",
       "      <th>6</th>\n",
       "      <td>2019-12-31</td>\n",
       "      <td>1.382256e+06</td>\n",
       "      <td>1.312387e+06</td>\n",
       "      <td>69868.536177</td>\n",
       "    </tr>\n",
       "    <tr>\n",
       "      <th>7</th>\n",
       "      <td>2020-01-31</td>\n",
       "      <td>1.017721e+06</td>\n",
       "      <td>1.382256e+06</td>\n",
       "      <td>-364534.435134</td>\n",
       "    </tr>\n",
       "    <tr>\n",
       "      <th>8</th>\n",
       "      <td>2020-02-29</td>\n",
       "      <td>8.523137e+05</td>\n",
       "      <td>1.017721e+06</td>\n",
       "      <td>-165407.590774</td>\n",
       "    </tr>\n",
       "    <tr>\n",
       "      <th>9</th>\n",
       "      <td>2020-03-31</td>\n",
       "      <td>8.334149e+05</td>\n",
       "      <td>8.523137e+05</td>\n",
       "      <td>-18898.795824</td>\n",
       "    </tr>\n",
       "    <tr>\n",
       "      <th>10</th>\n",
       "      <td>2020-04-30</td>\n",
       "      <td>9.226340e+05</td>\n",
       "      <td>8.334149e+05</td>\n",
       "      <td>89219.143904</td>\n",
       "    </tr>\n",
       "  </tbody>\n",
       "</table>\n",
       "</div>"
      ],
      "text/plain": [
       "         date       Revenue    prev_sales           diff\n",
       "1  2019-07-31  6.616060e+05  4.580775e+05  203528.489416\n",
       "2  2019-08-31  9.104771e+05  6.616060e+05  248871.112387\n",
       "3  2019-09-30  8.601632e+05  9.104771e+05  -50313.867352\n",
       "4  2019-10-31  7.033258e+05  8.601632e+05 -156837.446611\n",
       "5  2019-11-30  1.312387e+06  7.033258e+05  609061.371501\n",
       "6  2019-12-31  1.382256e+06  1.312387e+06   69868.536177\n",
       "7  2020-01-31  1.017721e+06  1.382256e+06 -364534.435134\n",
       "8  2020-02-29  8.523137e+05  1.017721e+06 -165407.590774\n",
       "9  2020-03-31  8.334149e+05  8.523137e+05  -18898.795824\n",
       "10 2020-04-30  9.226340e+05  8.334149e+05   89219.143904"
      ]
     },
     "execution_count": 25,
     "metadata": {},
     "output_type": "execute_result"
    }
   ],
   "source": [
    "df_diff = df_m.copy()\n",
    "#add previous sales to the next row\n",
    "df_diff['prev_sales'] = df_diff['Revenue'].shift(1)\n",
    "#drop the null values and calculate the difference\n",
    "df_diff = df_diff.dropna()\n",
    "df_diff['diff'] = (df_diff['Revenue'] - df_diff['prev_sales'])\n",
    "df_diff.head(10)"
   ]
  },
  {
   "cell_type": "code",
   "execution_count": 27,
   "metadata": {},
   "outputs": [
    {
     "data": {
      "application/vnd.plotly.v1+json": {
       "config": {
        "linkText": "Export to plot.ly",
        "plotlyServerURL": "https://plot.ly",
        "showLink": false
       },
       "data": [
        {
         "type": "scatter",
         "x": [
          "2019-07-31T00:00:00",
          "2019-08-31T00:00:00",
          "2019-09-30T00:00:00",
          "2019-10-31T00:00:00",
          "2019-11-30T00:00:00",
          "2019-12-31T00:00:00",
          "2020-01-31T00:00:00",
          "2020-02-29T00:00:00",
          "2020-03-31T00:00:00",
          "2020-04-30T00:00:00",
          "2020-05-31T00:00:00",
          "2020-06-30T00:00:00",
          "2020-07-31T00:00:00",
          "2020-08-31T00:00:00",
          "2020-09-30T00:00:00",
          "2020-10-31T00:00:00",
          "2020-11-30T00:00:00",
          "2020-12-31T00:00:00",
          "2021-01-31T00:00:00",
          "2021-02-28T00:00:00",
          "2021-03-31T00:00:00",
          "2021-04-30T00:00:00",
          "2021-05-31T00:00:00",
          "2021-06-30T00:00:00",
          "2021-07-31T00:00:00",
          "2021-08-31T00:00:00",
          "2021-09-30T00:00:00",
          "2021-10-31T00:00:00",
          "2021-11-30T00:00:00",
          "2021-12-31T00:00:00",
          "2022-01-31T00:00:00"
         ],
         "y": [
          203528.48941639997,
          248871.1123869,
          -50313.86735169997,
          -156837.4466109,
          609061.371501,
          69868.53617720003,
          -364534.43513430003,
          -165407.59077430004,
          -18898.795824400033,
          89219.14390350005,
          226458.10135910008,
          -158345.4485654001,
          -88239.2857751,
          155596.72765060002,
          187223.49806850008,
          -105257.7460839001,
          1089894.2335224,
          -615976.8162281001,
          112688.88465659996,
          -208378.05065919994,
          530900.3135289,
          -56108.36683439999,
          -122902.83628679998,
          -353029.80784739996,
          -124293.3738504001,
          259339.66504500015,
          -35110.9770041001,
          153040.1069129,
          1085220.9848703,
          -8143.881632799748,
          -1947111.8988263002
         ]
        }
       ],
       "layout": {
        "template": {
         "data": {
          "bar": [
           {
            "error_x": {
             "color": "#2a3f5f"
            },
            "error_y": {
             "color": "#2a3f5f"
            },
            "marker": {
             "line": {
              "color": "#E5ECF6",
              "width": 0.5
             },
             "pattern": {
              "fillmode": "overlay",
              "size": 10,
              "solidity": 0.2
             }
            },
            "type": "bar"
           }
          ],
          "barpolar": [
           {
            "marker": {
             "line": {
              "color": "#E5ECF6",
              "width": 0.5
             },
             "pattern": {
              "fillmode": "overlay",
              "size": 10,
              "solidity": 0.2
             }
            },
            "type": "barpolar"
           }
          ],
          "carpet": [
           {
            "aaxis": {
             "endlinecolor": "#2a3f5f",
             "gridcolor": "white",
             "linecolor": "white",
             "minorgridcolor": "white",
             "startlinecolor": "#2a3f5f"
            },
            "baxis": {
             "endlinecolor": "#2a3f5f",
             "gridcolor": "white",
             "linecolor": "white",
             "minorgridcolor": "white",
             "startlinecolor": "#2a3f5f"
            },
            "type": "carpet"
           }
          ],
          "choropleth": [
           {
            "colorbar": {
             "outlinewidth": 0,
             "ticks": ""
            },
            "type": "choropleth"
           }
          ],
          "contour": [
           {
            "colorbar": {
             "outlinewidth": 0,
             "ticks": ""
            },
            "colorscale": [
             [
              0,
              "#0d0887"
             ],
             [
              0.1111111111111111,
              "#46039f"
             ],
             [
              0.2222222222222222,
              "#7201a8"
             ],
             [
              0.3333333333333333,
              "#9c179e"
             ],
             [
              0.4444444444444444,
              "#bd3786"
             ],
             [
              0.5555555555555556,
              "#d8576b"
             ],
             [
              0.6666666666666666,
              "#ed7953"
             ],
             [
              0.7777777777777778,
              "#fb9f3a"
             ],
             [
              0.8888888888888888,
              "#fdca26"
             ],
             [
              1,
              "#f0f921"
             ]
            ],
            "type": "contour"
           }
          ],
          "contourcarpet": [
           {
            "colorbar": {
             "outlinewidth": 0,
             "ticks": ""
            },
            "type": "contourcarpet"
           }
          ],
          "heatmap": [
           {
            "colorbar": {
             "outlinewidth": 0,
             "ticks": ""
            },
            "colorscale": [
             [
              0,
              "#0d0887"
             ],
             [
              0.1111111111111111,
              "#46039f"
             ],
             [
              0.2222222222222222,
              "#7201a8"
             ],
             [
              0.3333333333333333,
              "#9c179e"
             ],
             [
              0.4444444444444444,
              "#bd3786"
             ],
             [
              0.5555555555555556,
              "#d8576b"
             ],
             [
              0.6666666666666666,
              "#ed7953"
             ],
             [
              0.7777777777777778,
              "#fb9f3a"
             ],
             [
              0.8888888888888888,
              "#fdca26"
             ],
             [
              1,
              "#f0f921"
             ]
            ],
            "type": "heatmap"
           }
          ],
          "heatmapgl": [
           {
            "colorbar": {
             "outlinewidth": 0,
             "ticks": ""
            },
            "colorscale": [
             [
              0,
              "#0d0887"
             ],
             [
              0.1111111111111111,
              "#46039f"
             ],
             [
              0.2222222222222222,
              "#7201a8"
             ],
             [
              0.3333333333333333,
              "#9c179e"
             ],
             [
              0.4444444444444444,
              "#bd3786"
             ],
             [
              0.5555555555555556,
              "#d8576b"
             ],
             [
              0.6666666666666666,
              "#ed7953"
             ],
             [
              0.7777777777777778,
              "#fb9f3a"
             ],
             [
              0.8888888888888888,
              "#fdca26"
             ],
             [
              1,
              "#f0f921"
             ]
            ],
            "type": "heatmapgl"
           }
          ],
          "histogram": [
           {
            "marker": {
             "pattern": {
              "fillmode": "overlay",
              "size": 10,
              "solidity": 0.2
             }
            },
            "type": "histogram"
           }
          ],
          "histogram2d": [
           {
            "colorbar": {
             "outlinewidth": 0,
             "ticks": ""
            },
            "colorscale": [
             [
              0,
              "#0d0887"
             ],
             [
              0.1111111111111111,
              "#46039f"
             ],
             [
              0.2222222222222222,
              "#7201a8"
             ],
             [
              0.3333333333333333,
              "#9c179e"
             ],
             [
              0.4444444444444444,
              "#bd3786"
             ],
             [
              0.5555555555555556,
              "#d8576b"
             ],
             [
              0.6666666666666666,
              "#ed7953"
             ],
             [
              0.7777777777777778,
              "#fb9f3a"
             ],
             [
              0.8888888888888888,
              "#fdca26"
             ],
             [
              1,
              "#f0f921"
             ]
            ],
            "type": "histogram2d"
           }
          ],
          "histogram2dcontour": [
           {
            "colorbar": {
             "outlinewidth": 0,
             "ticks": ""
            },
            "colorscale": [
             [
              0,
              "#0d0887"
             ],
             [
              0.1111111111111111,
              "#46039f"
             ],
             [
              0.2222222222222222,
              "#7201a8"
             ],
             [
              0.3333333333333333,
              "#9c179e"
             ],
             [
              0.4444444444444444,
              "#bd3786"
             ],
             [
              0.5555555555555556,
              "#d8576b"
             ],
             [
              0.6666666666666666,
              "#ed7953"
             ],
             [
              0.7777777777777778,
              "#fb9f3a"
             ],
             [
              0.8888888888888888,
              "#fdca26"
             ],
             [
              1,
              "#f0f921"
             ]
            ],
            "type": "histogram2dcontour"
           }
          ],
          "mesh3d": [
           {
            "colorbar": {
             "outlinewidth": 0,
             "ticks": ""
            },
            "type": "mesh3d"
           }
          ],
          "parcoords": [
           {
            "line": {
             "colorbar": {
              "outlinewidth": 0,
              "ticks": ""
             }
            },
            "type": "parcoords"
           }
          ],
          "pie": [
           {
            "automargin": true,
            "type": "pie"
           }
          ],
          "scatter": [
           {
            "marker": {
             "colorbar": {
              "outlinewidth": 0,
              "ticks": ""
             }
            },
            "type": "scatter"
           }
          ],
          "scatter3d": [
           {
            "line": {
             "colorbar": {
              "outlinewidth": 0,
              "ticks": ""
             }
            },
            "marker": {
             "colorbar": {
              "outlinewidth": 0,
              "ticks": ""
             }
            },
            "type": "scatter3d"
           }
          ],
          "scattercarpet": [
           {
            "marker": {
             "colorbar": {
              "outlinewidth": 0,
              "ticks": ""
             }
            },
            "type": "scattercarpet"
           }
          ],
          "scattergeo": [
           {
            "marker": {
             "colorbar": {
              "outlinewidth": 0,
              "ticks": ""
             }
            },
            "type": "scattergeo"
           }
          ],
          "scattergl": [
           {
            "marker": {
             "colorbar": {
              "outlinewidth": 0,
              "ticks": ""
             }
            },
            "type": "scattergl"
           }
          ],
          "scattermapbox": [
           {
            "marker": {
             "colorbar": {
              "outlinewidth": 0,
              "ticks": ""
             }
            },
            "type": "scattermapbox"
           }
          ],
          "scatterpolar": [
           {
            "marker": {
             "colorbar": {
              "outlinewidth": 0,
              "ticks": ""
             }
            },
            "type": "scatterpolar"
           }
          ],
          "scatterpolargl": [
           {
            "marker": {
             "colorbar": {
              "outlinewidth": 0,
              "ticks": ""
             }
            },
            "type": "scatterpolargl"
           }
          ],
          "scatterternary": [
           {
            "marker": {
             "colorbar": {
              "outlinewidth": 0,
              "ticks": ""
             }
            },
            "type": "scatterternary"
           }
          ],
          "surface": [
           {
            "colorbar": {
             "outlinewidth": 0,
             "ticks": ""
            },
            "colorscale": [
             [
              0,
              "#0d0887"
             ],
             [
              0.1111111111111111,
              "#46039f"
             ],
             [
              0.2222222222222222,
              "#7201a8"
             ],
             [
              0.3333333333333333,
              "#9c179e"
             ],
             [
              0.4444444444444444,
              "#bd3786"
             ],
             [
              0.5555555555555556,
              "#d8576b"
             ],
             [
              0.6666666666666666,
              "#ed7953"
             ],
             [
              0.7777777777777778,
              "#fb9f3a"
             ],
             [
              0.8888888888888888,
              "#fdca26"
             ],
             [
              1,
              "#f0f921"
             ]
            ],
            "type": "surface"
           }
          ],
          "table": [
           {
            "cells": {
             "fill": {
              "color": "#EBF0F8"
             },
             "line": {
              "color": "white"
             }
            },
            "header": {
             "fill": {
              "color": "#C8D4E3"
             },
             "line": {
              "color": "white"
             }
            },
            "type": "table"
           }
          ]
         },
         "layout": {
          "annotationdefaults": {
           "arrowcolor": "#2a3f5f",
           "arrowhead": 0,
           "arrowwidth": 1
          },
          "autotypenumbers": "strict",
          "coloraxis": {
           "colorbar": {
            "outlinewidth": 0,
            "ticks": ""
           }
          },
          "colorscale": {
           "diverging": [
            [
             0,
             "#8e0152"
            ],
            [
             0.1,
             "#c51b7d"
            ],
            [
             0.2,
             "#de77ae"
            ],
            [
             0.3,
             "#f1b6da"
            ],
            [
             0.4,
             "#fde0ef"
            ],
            [
             0.5,
             "#f7f7f7"
            ],
            [
             0.6,
             "#e6f5d0"
            ],
            [
             0.7,
             "#b8e186"
            ],
            [
             0.8,
             "#7fbc41"
            ],
            [
             0.9,
             "#4d9221"
            ],
            [
             1,
             "#276419"
            ]
           ],
           "sequential": [
            [
             0,
             "#0d0887"
            ],
            [
             0.1111111111111111,
             "#46039f"
            ],
            [
             0.2222222222222222,
             "#7201a8"
            ],
            [
             0.3333333333333333,
             "#9c179e"
            ],
            [
             0.4444444444444444,
             "#bd3786"
            ],
            [
             0.5555555555555556,
             "#d8576b"
            ],
            [
             0.6666666666666666,
             "#ed7953"
            ],
            [
             0.7777777777777778,
             "#fb9f3a"
            ],
            [
             0.8888888888888888,
             "#fdca26"
            ],
            [
             1,
             "#f0f921"
            ]
           ],
           "sequentialminus": [
            [
             0,
             "#0d0887"
            ],
            [
             0.1111111111111111,
             "#46039f"
            ],
            [
             0.2222222222222222,
             "#7201a8"
            ],
            [
             0.3333333333333333,
             "#9c179e"
            ],
            [
             0.4444444444444444,
             "#bd3786"
            ],
            [
             0.5555555555555556,
             "#d8576b"
            ],
            [
             0.6666666666666666,
             "#ed7953"
            ],
            [
             0.7777777777777778,
             "#fb9f3a"
            ],
            [
             0.8888888888888888,
             "#fdca26"
            ],
            [
             1,
             "#f0f921"
            ]
           ]
          },
          "colorway": [
           "#636efa",
           "#EF553B",
           "#00cc96",
           "#ab63fa",
           "#FFA15A",
           "#19d3f3",
           "#FF6692",
           "#B6E880",
           "#FF97FF",
           "#FECB52"
          ],
          "font": {
           "color": "#2a3f5f"
          },
          "geo": {
           "bgcolor": "white",
           "lakecolor": "white",
           "landcolor": "#E5ECF6",
           "showlakes": true,
           "showland": true,
           "subunitcolor": "white"
          },
          "hoverlabel": {
           "align": "left"
          },
          "hovermode": "closest",
          "mapbox": {
           "style": "light"
          },
          "paper_bgcolor": "white",
          "plot_bgcolor": "#E5ECF6",
          "polar": {
           "angularaxis": {
            "gridcolor": "white",
            "linecolor": "white",
            "ticks": ""
           },
           "bgcolor": "#E5ECF6",
           "radialaxis": {
            "gridcolor": "white",
            "linecolor": "white",
            "ticks": ""
           }
          },
          "scene": {
           "xaxis": {
            "backgroundcolor": "#E5ECF6",
            "gridcolor": "white",
            "gridwidth": 2,
            "linecolor": "white",
            "showbackground": true,
            "ticks": "",
            "zerolinecolor": "white"
           },
           "yaxis": {
            "backgroundcolor": "#E5ECF6",
            "gridcolor": "white",
            "gridwidth": 2,
            "linecolor": "white",
            "showbackground": true,
            "ticks": "",
            "zerolinecolor": "white"
           },
           "zaxis": {
            "backgroundcolor": "#E5ECF6",
            "gridcolor": "white",
            "gridwidth": 2,
            "linecolor": "white",
            "showbackground": true,
            "ticks": "",
            "zerolinecolor": "white"
           }
          },
          "shapedefaults": {
           "line": {
            "color": "#2a3f5f"
           }
          },
          "ternary": {
           "aaxis": {
            "gridcolor": "white",
            "linecolor": "white",
            "ticks": ""
           },
           "baxis": {
            "gridcolor": "white",
            "linecolor": "white",
            "ticks": ""
           },
           "bgcolor": "#E5ECF6",
           "caxis": {
            "gridcolor": "white",
            "linecolor": "white",
            "ticks": ""
           }
          },
          "title": {
           "x": 0.05
          },
          "xaxis": {
           "automargin": true,
           "gridcolor": "white",
           "linecolor": "white",
           "ticks": "",
           "title": {
            "standoff": 15
           },
           "zerolinecolor": "white",
           "zerolinewidth": 2
          },
          "yaxis": {
           "automargin": true,
           "gridcolor": "white",
           "linecolor": "white",
           "ticks": "",
           "title": {
            "standoff": 15
           },
           "zerolinecolor": "white",
           "zerolinewidth": 2
          }
         }
        },
        "title": {
         "text": "Montly Sales"
        }
       }
      }
     },
     "metadata": {},
     "output_type": "display_data"
    }
   ],
   "source": [
    "plot_data = [\n",
    "    go.Scatter(\n",
    "        x=df_diff['date'],\n",
    "        y=df_diff['diff'],\n",
    "    )\n",
    "]\n",
    "plot_layout = go.Layout(\n",
    "        title='Montly Sales'\n",
    "    )\n",
    "fig = go.Figure(data=plot_data, layout=plot_layout)\n",
    "pyoff.iplot(fig)"
   ]
  },
  {
   "cell_type": "code",
   "execution_count": 28,
   "metadata": {},
   "outputs": [
    {
     "name": "stdout",
     "output_type": "stream",
     "text": [
      "Observations of Dickey-fuller test\n",
      "Test Statistic                 -4.645564\n",
      "p-value                         0.000106\n",
      "#lags used                      2.000000\n",
      "number of observations used    28.000000\n",
      "critical value (1%)            -3.688926\n",
      "critical value (5%)            -2.971989\n",
      "critical value (10%)           -2.625296\n",
      "dtype: float64\n"
     ]
    }
   ],
   "source": [
    "# Check agian and see the Dicky Fuller test result\n",
    "from statsmodels.tsa.stattools import adfuller\n",
    "print(\"Observations of Dickey-fuller test\")\n",
    "dftest = adfuller(df_diff['diff'],autolag='AIC')\n",
    "dfoutput=pd.Series(dftest[0:4],index=['Test Statistic','p-value','#lags used','number of observations used'])\n",
    "for key,value in dftest[4].items():\n",
    "    dfoutput['critical value (%s)'%key]= value\n",
    "print(dfoutput)"
   ]
  },
  {
   "cell_type": "markdown",
   "metadata": {},
   "source": [
    "Perfect, Now we can see that our data is stationary"
   ]
  },
  {
   "cell_type": "markdown",
   "metadata": {},
   "source": [
    "## 5-Make the data ready for fb prophet modeling"
   ]
  },
  {
   "cell_type": "code",
   "execution_count": 29,
   "metadata": {},
   "outputs": [
    {
     "data": {
      "text/html": [
       "<div>\n",
       "<style scoped>\n",
       "    .dataframe tbody tr th:only-of-type {\n",
       "        vertical-align: middle;\n",
       "    }\n",
       "\n",
       "    .dataframe tbody tr th {\n",
       "        vertical-align: top;\n",
       "    }\n",
       "\n",
       "    .dataframe thead th {\n",
       "        text-align: right;\n",
       "    }\n",
       "</style>\n",
       "<table border=\"1\" class=\"dataframe\">\n",
       "  <thead>\n",
       "    <tr style=\"text-align: right;\">\n",
       "      <th></th>\n",
       "      <th>ds</th>\n",
       "      <th>Revenue</th>\n",
       "      <th>prev_sales</th>\n",
       "      <th>y</th>\n",
       "    </tr>\n",
       "  </thead>\n",
       "  <tbody>\n",
       "    <tr>\n",
       "      <th>1</th>\n",
       "      <td>2019-07-31</td>\n",
       "      <td>6.616060e+05</td>\n",
       "      <td>4.580775e+05</td>\n",
       "      <td>2.035285e+05</td>\n",
       "    </tr>\n",
       "    <tr>\n",
       "      <th>2</th>\n",
       "      <td>2019-08-31</td>\n",
       "      <td>9.104771e+05</td>\n",
       "      <td>6.616060e+05</td>\n",
       "      <td>2.488711e+05</td>\n",
       "    </tr>\n",
       "    <tr>\n",
       "      <th>3</th>\n",
       "      <td>2019-09-30</td>\n",
       "      <td>8.601632e+05</td>\n",
       "      <td>9.104771e+05</td>\n",
       "      <td>-5.031387e+04</td>\n",
       "    </tr>\n",
       "    <tr>\n",
       "      <th>4</th>\n",
       "      <td>2019-10-31</td>\n",
       "      <td>7.033258e+05</td>\n",
       "      <td>8.601632e+05</td>\n",
       "      <td>-1.568374e+05</td>\n",
       "    </tr>\n",
       "    <tr>\n",
       "      <th>5</th>\n",
       "      <td>2019-11-30</td>\n",
       "      <td>1.312387e+06</td>\n",
       "      <td>7.033258e+05</td>\n",
       "      <td>6.090614e+05</td>\n",
       "    </tr>\n",
       "    <tr>\n",
       "      <th>6</th>\n",
       "      <td>2019-12-31</td>\n",
       "      <td>1.382256e+06</td>\n",
       "      <td>1.312387e+06</td>\n",
       "      <td>6.986854e+04</td>\n",
       "    </tr>\n",
       "    <tr>\n",
       "      <th>7</th>\n",
       "      <td>2020-01-31</td>\n",
       "      <td>1.017721e+06</td>\n",
       "      <td>1.382256e+06</td>\n",
       "      <td>-3.645344e+05</td>\n",
       "    </tr>\n",
       "    <tr>\n",
       "      <th>8</th>\n",
       "      <td>2020-02-29</td>\n",
       "      <td>8.523137e+05</td>\n",
       "      <td>1.017721e+06</td>\n",
       "      <td>-1.654076e+05</td>\n",
       "    </tr>\n",
       "    <tr>\n",
       "      <th>9</th>\n",
       "      <td>2020-03-31</td>\n",
       "      <td>8.334149e+05</td>\n",
       "      <td>8.523137e+05</td>\n",
       "      <td>-1.889880e+04</td>\n",
       "    </tr>\n",
       "    <tr>\n",
       "      <th>10</th>\n",
       "      <td>2020-04-30</td>\n",
       "      <td>9.226340e+05</td>\n",
       "      <td>8.334149e+05</td>\n",
       "      <td>8.921914e+04</td>\n",
       "    </tr>\n",
       "    <tr>\n",
       "      <th>11</th>\n",
       "      <td>2020-05-31</td>\n",
       "      <td>1.149092e+06</td>\n",
       "      <td>9.226340e+05</td>\n",
       "      <td>2.264581e+05</td>\n",
       "    </tr>\n",
       "    <tr>\n",
       "      <th>12</th>\n",
       "      <td>2020-06-30</td>\n",
       "      <td>9.907467e+05</td>\n",
       "      <td>1.149092e+06</td>\n",
       "      <td>-1.583454e+05</td>\n",
       "    </tr>\n",
       "    <tr>\n",
       "      <th>13</th>\n",
       "      <td>2020-07-31</td>\n",
       "      <td>9.025074e+05</td>\n",
       "      <td>9.907467e+05</td>\n",
       "      <td>-8.823929e+04</td>\n",
       "    </tr>\n",
       "    <tr>\n",
       "      <th>14</th>\n",
       "      <td>2020-08-31</td>\n",
       "      <td>1.058104e+06</td>\n",
       "      <td>9.025074e+05</td>\n",
       "      <td>1.555967e+05</td>\n",
       "    </tr>\n",
       "    <tr>\n",
       "      <th>15</th>\n",
       "      <td>2020-09-30</td>\n",
       "      <td>1.245328e+06</td>\n",
       "      <td>1.058104e+06</td>\n",
       "      <td>1.872235e+05</td>\n",
       "    </tr>\n",
       "    <tr>\n",
       "      <th>16</th>\n",
       "      <td>2020-10-31</td>\n",
       "      <td>1.140070e+06</td>\n",
       "      <td>1.245328e+06</td>\n",
       "      <td>-1.052577e+05</td>\n",
       "    </tr>\n",
       "    <tr>\n",
       "      <th>17</th>\n",
       "      <td>2020-11-30</td>\n",
       "      <td>2.229964e+06</td>\n",
       "      <td>1.140070e+06</td>\n",
       "      <td>1.089894e+06</td>\n",
       "    </tr>\n",
       "    <tr>\n",
       "      <th>18</th>\n",
       "      <td>2020-12-31</td>\n",
       "      <td>1.613987e+06</td>\n",
       "      <td>2.229964e+06</td>\n",
       "      <td>-6.159768e+05</td>\n",
       "    </tr>\n",
       "    <tr>\n",
       "      <th>19</th>\n",
       "      <td>2021-01-31</td>\n",
       "      <td>1.726676e+06</td>\n",
       "      <td>1.613987e+06</td>\n",
       "      <td>1.126889e+05</td>\n",
       "    </tr>\n",
       "    <tr>\n",
       "      <th>20</th>\n",
       "      <td>2021-02-28</td>\n",
       "      <td>1.518298e+06</td>\n",
       "      <td>1.726676e+06</td>\n",
       "      <td>-2.083781e+05</td>\n",
       "    </tr>\n",
       "    <tr>\n",
       "      <th>21</th>\n",
       "      <td>2021-03-31</td>\n",
       "      <td>2.049198e+06</td>\n",
       "      <td>1.518298e+06</td>\n",
       "      <td>5.309003e+05</td>\n",
       "    </tr>\n",
       "    <tr>\n",
       "      <th>22</th>\n",
       "      <td>2021-04-30</td>\n",
       "      <td>1.993090e+06</td>\n",
       "      <td>2.049198e+06</td>\n",
       "      <td>-5.610837e+04</td>\n",
       "    </tr>\n",
       "    <tr>\n",
       "      <th>23</th>\n",
       "      <td>2021-05-31</td>\n",
       "      <td>1.870187e+06</td>\n",
       "      <td>1.993090e+06</td>\n",
       "      <td>-1.229028e+05</td>\n",
       "    </tr>\n",
       "    <tr>\n",
       "      <th>24</th>\n",
       "      <td>2021-06-30</td>\n",
       "      <td>1.517157e+06</td>\n",
       "      <td>1.870187e+06</td>\n",
       "      <td>-3.530298e+05</td>\n",
       "    </tr>\n",
       "    <tr>\n",
       "      <th>25</th>\n",
       "      <td>2021-07-31</td>\n",
       "      <td>1.392864e+06</td>\n",
       "      <td>1.517157e+06</td>\n",
       "      <td>-1.242934e+05</td>\n",
       "    </tr>\n",
       "    <tr>\n",
       "      <th>26</th>\n",
       "      <td>2021-08-31</td>\n",
       "      <td>1.652204e+06</td>\n",
       "      <td>1.392864e+06</td>\n",
       "      <td>2.593397e+05</td>\n",
       "    </tr>\n",
       "    <tr>\n",
       "      <th>27</th>\n",
       "      <td>2021-09-30</td>\n",
       "      <td>1.617093e+06</td>\n",
       "      <td>1.652204e+06</td>\n",
       "      <td>-3.511098e+04</td>\n",
       "    </tr>\n",
       "    <tr>\n",
       "      <th>28</th>\n",
       "      <td>2021-10-31</td>\n",
       "      <td>1.770133e+06</td>\n",
       "      <td>1.617093e+06</td>\n",
       "      <td>1.530401e+05</td>\n",
       "    </tr>\n",
       "    <tr>\n",
       "      <th>29</th>\n",
       "      <td>2021-11-30</td>\n",
       "      <td>2.855354e+06</td>\n",
       "      <td>1.770133e+06</td>\n",
       "      <td>1.085221e+06</td>\n",
       "    </tr>\n",
       "    <tr>\n",
       "      <th>30</th>\n",
       "      <td>2021-12-31</td>\n",
       "      <td>2.847210e+06</td>\n",
       "      <td>2.855354e+06</td>\n",
       "      <td>-8.143882e+03</td>\n",
       "    </tr>\n",
       "    <tr>\n",
       "      <th>31</th>\n",
       "      <td>2022-01-31</td>\n",
       "      <td>9.000980e+05</td>\n",
       "      <td>2.847210e+06</td>\n",
       "      <td>-1.947112e+06</td>\n",
       "    </tr>\n",
       "  </tbody>\n",
       "</table>\n",
       "</div>"
      ],
      "text/plain": [
       "           ds       Revenue    prev_sales             y\n",
       "1  2019-07-31  6.616060e+05  4.580775e+05  2.035285e+05\n",
       "2  2019-08-31  9.104771e+05  6.616060e+05  2.488711e+05\n",
       "3  2019-09-30  8.601632e+05  9.104771e+05 -5.031387e+04\n",
       "4  2019-10-31  7.033258e+05  8.601632e+05 -1.568374e+05\n",
       "5  2019-11-30  1.312387e+06  7.033258e+05  6.090614e+05\n",
       "6  2019-12-31  1.382256e+06  1.312387e+06  6.986854e+04\n",
       "7  2020-01-31  1.017721e+06  1.382256e+06 -3.645344e+05\n",
       "8  2020-02-29  8.523137e+05  1.017721e+06 -1.654076e+05\n",
       "9  2020-03-31  8.334149e+05  8.523137e+05 -1.889880e+04\n",
       "10 2020-04-30  9.226340e+05  8.334149e+05  8.921914e+04\n",
       "11 2020-05-31  1.149092e+06  9.226340e+05  2.264581e+05\n",
       "12 2020-06-30  9.907467e+05  1.149092e+06 -1.583454e+05\n",
       "13 2020-07-31  9.025074e+05  9.907467e+05 -8.823929e+04\n",
       "14 2020-08-31  1.058104e+06  9.025074e+05  1.555967e+05\n",
       "15 2020-09-30  1.245328e+06  1.058104e+06  1.872235e+05\n",
       "16 2020-10-31  1.140070e+06  1.245328e+06 -1.052577e+05\n",
       "17 2020-11-30  2.229964e+06  1.140070e+06  1.089894e+06\n",
       "18 2020-12-31  1.613987e+06  2.229964e+06 -6.159768e+05\n",
       "19 2021-01-31  1.726676e+06  1.613987e+06  1.126889e+05\n",
       "20 2021-02-28  1.518298e+06  1.726676e+06 -2.083781e+05\n",
       "21 2021-03-31  2.049198e+06  1.518298e+06  5.309003e+05\n",
       "22 2021-04-30  1.993090e+06  2.049198e+06 -5.610837e+04\n",
       "23 2021-05-31  1.870187e+06  1.993090e+06 -1.229028e+05\n",
       "24 2021-06-30  1.517157e+06  1.870187e+06 -3.530298e+05\n",
       "25 2021-07-31  1.392864e+06  1.517157e+06 -1.242934e+05\n",
       "26 2021-08-31  1.652204e+06  1.392864e+06  2.593397e+05\n",
       "27 2021-09-30  1.617093e+06  1.652204e+06 -3.511098e+04\n",
       "28 2021-10-31  1.770133e+06  1.617093e+06  1.530401e+05\n",
       "29 2021-11-30  2.855354e+06  1.770133e+06  1.085221e+06\n",
       "30 2021-12-31  2.847210e+06  2.855354e+06 -8.143882e+03\n",
       "31 2022-01-31  9.000980e+05  2.847210e+06 -1.947112e+06"
      ]
     },
     "execution_count": 29,
     "metadata": {},
     "output_type": "execute_result"
    }
   ],
   "source": [
    "\n",
    "# Rename the date and sales columns based the fb prophet requirement\n",
    "df_diff = df_diff.rename(columns={'date':'ds', 'diff':'y'})\n",
    "df_diff"
   ]
  },
  {
   "cell_type": "code",
   "execution_count": 30,
   "metadata": {},
   "outputs": [
    {
     "data": {
      "text/html": [
       "<div>\n",
       "<style scoped>\n",
       "    .dataframe tbody tr th:only-of-type {\n",
       "        vertical-align: middle;\n",
       "    }\n",
       "\n",
       "    .dataframe tbody tr th {\n",
       "        vertical-align: top;\n",
       "    }\n",
       "\n",
       "    .dataframe thead th {\n",
       "        text-align: right;\n",
       "    }\n",
       "</style>\n",
       "<table border=\"1\" class=\"dataframe\">\n",
       "  <thead>\n",
       "    <tr style=\"text-align: right;\">\n",
       "      <th></th>\n",
       "      <th>ds</th>\n",
       "      <th>y</th>\n",
       "    </tr>\n",
       "  </thead>\n",
       "  <tbody>\n",
       "    <tr>\n",
       "      <th>1</th>\n",
       "      <td>2019-07-31</td>\n",
       "      <td>2.035285e+05</td>\n",
       "    </tr>\n",
       "    <tr>\n",
       "      <th>2</th>\n",
       "      <td>2019-08-31</td>\n",
       "      <td>2.488711e+05</td>\n",
       "    </tr>\n",
       "    <tr>\n",
       "      <th>3</th>\n",
       "      <td>2019-09-30</td>\n",
       "      <td>-5.031387e+04</td>\n",
       "    </tr>\n",
       "    <tr>\n",
       "      <th>4</th>\n",
       "      <td>2019-10-31</td>\n",
       "      <td>-1.568374e+05</td>\n",
       "    </tr>\n",
       "    <tr>\n",
       "      <th>5</th>\n",
       "      <td>2019-11-30</td>\n",
       "      <td>6.090614e+05</td>\n",
       "    </tr>\n",
       "    <tr>\n",
       "      <th>6</th>\n",
       "      <td>2019-12-31</td>\n",
       "      <td>6.986854e+04</td>\n",
       "    </tr>\n",
       "    <tr>\n",
       "      <th>7</th>\n",
       "      <td>2020-01-31</td>\n",
       "      <td>-3.645344e+05</td>\n",
       "    </tr>\n",
       "    <tr>\n",
       "      <th>8</th>\n",
       "      <td>2020-02-29</td>\n",
       "      <td>-1.654076e+05</td>\n",
       "    </tr>\n",
       "    <tr>\n",
       "      <th>9</th>\n",
       "      <td>2020-03-31</td>\n",
       "      <td>-1.889880e+04</td>\n",
       "    </tr>\n",
       "    <tr>\n",
       "      <th>10</th>\n",
       "      <td>2020-04-30</td>\n",
       "      <td>8.921914e+04</td>\n",
       "    </tr>\n",
       "    <tr>\n",
       "      <th>11</th>\n",
       "      <td>2020-05-31</td>\n",
       "      <td>2.264581e+05</td>\n",
       "    </tr>\n",
       "    <tr>\n",
       "      <th>12</th>\n",
       "      <td>2020-06-30</td>\n",
       "      <td>-1.583454e+05</td>\n",
       "    </tr>\n",
       "    <tr>\n",
       "      <th>13</th>\n",
       "      <td>2020-07-31</td>\n",
       "      <td>-8.823929e+04</td>\n",
       "    </tr>\n",
       "    <tr>\n",
       "      <th>14</th>\n",
       "      <td>2020-08-31</td>\n",
       "      <td>1.555967e+05</td>\n",
       "    </tr>\n",
       "    <tr>\n",
       "      <th>15</th>\n",
       "      <td>2020-09-30</td>\n",
       "      <td>1.872235e+05</td>\n",
       "    </tr>\n",
       "    <tr>\n",
       "      <th>16</th>\n",
       "      <td>2020-10-31</td>\n",
       "      <td>-1.052577e+05</td>\n",
       "    </tr>\n",
       "    <tr>\n",
       "      <th>17</th>\n",
       "      <td>2020-11-30</td>\n",
       "      <td>1.089894e+06</td>\n",
       "    </tr>\n",
       "    <tr>\n",
       "      <th>18</th>\n",
       "      <td>2020-12-31</td>\n",
       "      <td>-6.159768e+05</td>\n",
       "    </tr>\n",
       "    <tr>\n",
       "      <th>19</th>\n",
       "      <td>2021-01-31</td>\n",
       "      <td>1.126889e+05</td>\n",
       "    </tr>\n",
       "    <tr>\n",
       "      <th>20</th>\n",
       "      <td>2021-02-28</td>\n",
       "      <td>-2.083781e+05</td>\n",
       "    </tr>\n",
       "    <tr>\n",
       "      <th>21</th>\n",
       "      <td>2021-03-31</td>\n",
       "      <td>5.309003e+05</td>\n",
       "    </tr>\n",
       "    <tr>\n",
       "      <th>22</th>\n",
       "      <td>2021-04-30</td>\n",
       "      <td>-5.610837e+04</td>\n",
       "    </tr>\n",
       "    <tr>\n",
       "      <th>23</th>\n",
       "      <td>2021-05-31</td>\n",
       "      <td>-1.229028e+05</td>\n",
       "    </tr>\n",
       "    <tr>\n",
       "      <th>24</th>\n",
       "      <td>2021-06-30</td>\n",
       "      <td>-3.530298e+05</td>\n",
       "    </tr>\n",
       "    <tr>\n",
       "      <th>25</th>\n",
       "      <td>2021-07-31</td>\n",
       "      <td>-1.242934e+05</td>\n",
       "    </tr>\n",
       "    <tr>\n",
       "      <th>26</th>\n",
       "      <td>2021-08-31</td>\n",
       "      <td>2.593397e+05</td>\n",
       "    </tr>\n",
       "    <tr>\n",
       "      <th>27</th>\n",
       "      <td>2021-09-30</td>\n",
       "      <td>-3.511098e+04</td>\n",
       "    </tr>\n",
       "    <tr>\n",
       "      <th>28</th>\n",
       "      <td>2021-10-31</td>\n",
       "      <td>1.530401e+05</td>\n",
       "    </tr>\n",
       "    <tr>\n",
       "      <th>29</th>\n",
       "      <td>2021-11-30</td>\n",
       "      <td>1.085221e+06</td>\n",
       "    </tr>\n",
       "    <tr>\n",
       "      <th>30</th>\n",
       "      <td>2021-12-31</td>\n",
       "      <td>-8.143882e+03</td>\n",
       "    </tr>\n",
       "    <tr>\n",
       "      <th>31</th>\n",
       "      <td>2022-01-31</td>\n",
       "      <td>-1.947112e+06</td>\n",
       "    </tr>\n",
       "  </tbody>\n",
       "</table>\n",
       "</div>"
      ],
      "text/plain": [
       "           ds             y\n",
       "1  2019-07-31  2.035285e+05\n",
       "2  2019-08-31  2.488711e+05\n",
       "3  2019-09-30 -5.031387e+04\n",
       "4  2019-10-31 -1.568374e+05\n",
       "5  2019-11-30  6.090614e+05\n",
       "6  2019-12-31  6.986854e+04\n",
       "7  2020-01-31 -3.645344e+05\n",
       "8  2020-02-29 -1.654076e+05\n",
       "9  2020-03-31 -1.889880e+04\n",
       "10 2020-04-30  8.921914e+04\n",
       "11 2020-05-31  2.264581e+05\n",
       "12 2020-06-30 -1.583454e+05\n",
       "13 2020-07-31 -8.823929e+04\n",
       "14 2020-08-31  1.555967e+05\n",
       "15 2020-09-30  1.872235e+05\n",
       "16 2020-10-31 -1.052577e+05\n",
       "17 2020-11-30  1.089894e+06\n",
       "18 2020-12-31 -6.159768e+05\n",
       "19 2021-01-31  1.126889e+05\n",
       "20 2021-02-28 -2.083781e+05\n",
       "21 2021-03-31  5.309003e+05\n",
       "22 2021-04-30 -5.610837e+04\n",
       "23 2021-05-31 -1.229028e+05\n",
       "24 2021-06-30 -3.530298e+05\n",
       "25 2021-07-31 -1.242934e+05\n",
       "26 2021-08-31  2.593397e+05\n",
       "27 2021-09-30 -3.511098e+04\n",
       "28 2021-10-31  1.530401e+05\n",
       "29 2021-11-30  1.085221e+06\n",
       "30 2021-12-31 -8.143882e+03\n",
       "31 2022-01-31 -1.947112e+06"
      ]
     },
     "execution_count": 30,
     "metadata": {},
     "output_type": "execute_result"
    }
   ],
   "source": [
    "df_fb = df_diff[['ds','y']]\n",
    "df_fb"
   ]
  },
  {
   "cell_type": "markdown",
   "metadata": {},
   "source": [
    "## 6-Split our data into test and training set"
   ]
  },
  {
   "cell_type": "code",
   "execution_count": 31,
   "metadata": {},
   "outputs": [],
   "source": [
    "# Divide our data into test and train set\n",
    "train=df_fb[:26]\n",
    "test=df_fb[26:]"
   ]
  },
  {
   "cell_type": "markdown",
   "metadata": {},
   "source": [
    "This code plot both the test and train set in case that we want. I skip it"
   ]
  },
  {
   "cell_type": "code",
   "execution_count": 32,
   "metadata": {},
   "outputs": [
    {
     "data": {
      "image/png": "[encoded data removed]",
      "text/plain": [
       "<Figure size 1152x576 with 1 Axes>"
      ]
     },
     "metadata": {},
     "output_type": "display_data"
    }
   ],
   "source": [
    "# Lets plot the both data\n",
    "fig, ax = plt.subplots(figsize=(16, 8))\n",
    "sns.lineplot(x='ds', y='y', label='train', data=train, ax=ax)\n",
    "sns.lineplot(x='ds', y='y', label='test', data=test, ax=ax)\n",
    "plt.ticklabel_format(style='plain', axis='y')\n",
    "ax.legend(loc='upper left')\n",
    "ax.set(title='Dependent Variable', ylabel='Sales');\n",
    "plt.ticklabel_format(style='plain', axis='y')"
   ]
  },
  {
   "cell_type": "markdown",
   "metadata": {},
   "source": [
    "## 7- Modeling"
   ]
  },
  {
   "cell_type": "code",
   "execution_count": 33,
   "metadata": {},
   "outputs": [
    {
     "name": "stderr",
     "output_type": "stream",
     "text": [
      "INFO:fbprophet:Disabling daily seasonality. Run prophet with daily_seasonality=True to override this.\n",
      "INFO:fbprophet:n_changepoints greater than number of observations. Using 19.\n"
     ]
    },
    {
     "data": {
      "text/plain": [
       "<fbprophet.forecaster.Prophet at 0x7f83d0c45850>"
      ]
     },
     "execution_count": 33,
     "metadata": {},
     "output_type": "execute_result"
    }
   ],
   "source": [
    "# Instantiate and train the model\n",
    "m = Prophet(weekly_seasonality=True,yearly_seasonality=True)\n",
    "m.add_seasonality(name='monthly', period=24, fourier_order=1)\n",
    "#m.add_country_holidays(country_name='UK')\n",
    "m.fit(train)"
   ]
  },
  {
   "cell_type": "code",
   "execution_count": 34,
   "metadata": {},
   "outputs": [],
   "source": [
    "\n",
    "#future = m.make_future_dataframe(periods=7, #include_history=True)\n",
    "future = m.make_future_dataframe(periods=7, freq = 'M')\n",
    "forecast = m.predict(future)\n",
    "#print(m.make_future_dataframe(periods=5, freq='M'))"
   ]
  },
  {
   "cell_type": "code",
   "execution_count": 35,
   "metadata": {},
   "outputs": [
    {
     "data": {
      "text/html": [
       "<div>\n",
       "<style scoped>\n",
       "    .dataframe tbody tr th:only-of-type {\n",
       "        vertical-align: middle;\n",
       "    }\n",
       "\n",
       "    .dataframe tbody tr th {\n",
       "        vertical-align: top;\n",
       "    }\n",
       "\n",
       "    .dataframe thead th {\n",
       "        text-align: right;\n",
       "    }\n",
       "</style>\n",
       "<table border=\"1\" class=\"dataframe\">\n",
       "  <thead>\n",
       "    <tr style=\"text-align: right;\">\n",
       "      <th></th>\n",
       "      <th>ds</th>\n",
       "      <th>trend</th>\n",
       "      <th>yhat_lower</th>\n",
       "      <th>yhat_upper</th>\n",
       "      <th>trend_lower</th>\n",
       "      <th>trend_upper</th>\n",
       "      <th>additive_terms</th>\n",
       "      <th>additive_terms_lower</th>\n",
       "      <th>additive_terms_upper</th>\n",
       "      <th>monthly</th>\n",
       "      <th>monthly_lower</th>\n",
       "      <th>monthly_upper</th>\n",
       "      <th>weekly</th>\n",
       "      <th>weekly_lower</th>\n",
       "      <th>weekly_upper</th>\n",
       "      <th>yearly</th>\n",
       "      <th>yearly_lower</th>\n",
       "      <th>yearly_upper</th>\n",
       "      <th>multiplicative_terms</th>\n",
       "      <th>multiplicative_terms_lower</th>\n",
       "      <th>multiplicative_terms_upper</th>\n",
       "      <th>yhat</th>\n",
       "    </tr>\n",
       "  </thead>\n",
       "  <tbody>\n",
       "    <tr>\n",
       "      <th>0</th>\n",
       "      <td>2019-07-31</td>\n",
       "      <td>226085.343036</td>\n",
       "      <td>2.035285e+05</td>\n",
       "      <td>2.035285e+05</td>\n",
       "      <td>226085.343036</td>\n",
       "      <td>226085.343036</td>\n",
       "      <td>-2.255685e+04</td>\n",
       "      <td>-2.255685e+04</td>\n",
       "      <td>-2.255685e+04</td>\n",
       "      <td>-60416.594465</td>\n",
       "      <td>-60416.594465</td>\n",
       "      <td>-60416.594465</td>\n",
       "      <td>9882.904643</td>\n",
       "      <td>9882.904643</td>\n",
       "      <td>9882.904643</td>\n",
       "      <td>2.797684e+04</td>\n",
       "      <td>2.797684e+04</td>\n",
       "      <td>2.797684e+04</td>\n",
       "      <td>0.0</td>\n",
       "      <td>0.0</td>\n",
       "      <td>0.0</td>\n",
       "      <td>2.035285e+05</td>\n",
       "    </tr>\n",
       "    <tr>\n",
       "      <th>1</th>\n",
       "      <td>2019-08-31</td>\n",
       "      <td>219275.237223</td>\n",
       "      <td>2.488711e+05</td>\n",
       "      <td>2.488711e+05</td>\n",
       "      <td>219275.237223</td>\n",
       "      <td>219275.237223</td>\n",
       "      <td>2.959588e+04</td>\n",
       "      <td>2.959588e+04</td>\n",
       "      <td>2.959588e+04</td>\n",
       "      <td>-290784.367174</td>\n",
       "      <td>-290784.367174</td>\n",
       "      <td>-290784.367174</td>\n",
       "      <td>-298767.423154</td>\n",
       "      <td>-298767.423154</td>\n",
       "      <td>-298767.423154</td>\n",
       "      <td>6.191477e+05</td>\n",
       "      <td>6.191477e+05</td>\n",
       "      <td>6.191477e+05</td>\n",
       "      <td>0.0</td>\n",
       "      <td>0.0</td>\n",
       "      <td>0.0</td>\n",
       "      <td>2.488711e+05</td>\n",
       "    </tr>\n",
       "    <tr>\n",
       "      <th>2</th>\n",
       "      <td>2019-09-30</td>\n",
       "      <td>212684.202629</td>\n",
       "      <td>-5.031387e+04</td>\n",
       "      <td>-5.031387e+04</td>\n",
       "      <td>212684.202629</td>\n",
       "      <td>212684.202629</td>\n",
       "      <td>-2.629981e+05</td>\n",
       "      <td>-2.629981e+05</td>\n",
       "      <td>-2.629981e+05</td>\n",
       "      <td>140463.297507</td>\n",
       "      <td>140463.297507</td>\n",
       "      <td>140463.297507</td>\n",
       "      <td>210685.590328</td>\n",
       "      <td>210685.590328</td>\n",
       "      <td>210685.590328</td>\n",
       "      <td>-6.141470e+05</td>\n",
       "      <td>-6.141470e+05</td>\n",
       "      <td>-6.141470e+05</td>\n",
       "      <td>0.0</td>\n",
       "      <td>0.0</td>\n",
       "      <td>0.0</td>\n",
       "      <td>-5.031387e+04</td>\n",
       "    </tr>\n",
       "    <tr>\n",
       "      <th>3</th>\n",
       "      <td>2019-10-31</td>\n",
       "      <td>205874.385406</td>\n",
       "      <td>-1.568374e+05</td>\n",
       "      <td>-1.568374e+05</td>\n",
       "      <td>205874.385406</td>\n",
       "      <td>205874.385406</td>\n",
       "      <td>-3.627118e+05</td>\n",
       "      <td>-3.627118e+05</td>\n",
       "      <td>-3.627118e+05</td>\n",
       "      <td>244521.553602</td>\n",
       "      <td>244521.553602</td>\n",
       "      <td>244521.553602</td>\n",
       "      <td>11702.614499</td>\n",
       "      <td>11702.614499</td>\n",
       "      <td>11702.614499</td>\n",
       "      <td>-6.189360e+05</td>\n",
       "      <td>-6.189360e+05</td>\n",
       "      <td>-6.189360e+05</td>\n",
       "      <td>0.0</td>\n",
       "      <td>0.0</td>\n",
       "      <td>0.0</td>\n",
       "      <td>-1.568374e+05</td>\n",
       "    </tr>\n",
       "    <tr>\n",
       "      <th>4</th>\n",
       "      <td>2019-11-30</td>\n",
       "      <td>199283.515301</td>\n",
       "      <td>6.090614e+05</td>\n",
       "      <td>6.090614e+05</td>\n",
       "      <td>199283.515301</td>\n",
       "      <td>199283.515301</td>\n",
       "      <td>4.097779e+05</td>\n",
       "      <td>4.097779e+05</td>\n",
       "      <td>4.097779e+05</td>\n",
       "      <td>-210937.658950</td>\n",
       "      <td>-210937.658950</td>\n",
       "      <td>-210937.658950</td>\n",
       "      <td>-298767.423154</td>\n",
       "      <td>-298767.423154</td>\n",
       "      <td>-298767.423154</td>\n",
       "      <td>9.194829e+05</td>\n",
       "      <td>9.194829e+05</td>\n",
       "      <td>9.194829e+05</td>\n",
       "      <td>0.0</td>\n",
       "      <td>0.0</td>\n",
       "      <td>0.0</td>\n",
       "      <td>6.090614e+05</td>\n",
       "    </tr>\n",
       "    <tr>\n",
       "      <th>5</th>\n",
       "      <td>2019-12-31</td>\n",
       "      <td>192473.521964</td>\n",
       "      <td>6.986854e+04</td>\n",
       "      <td>6.986854e+04</td>\n",
       "      <td>192473.521964</td>\n",
       "      <td>192473.521964</td>\n",
       "      <td>-1.226050e+05</td>\n",
       "      <td>-1.226050e+05</td>\n",
       "      <td>-1.226050e+05</td>\n",
       "      <td>-181595.000243</td>\n",
       "      <td>-181595.000243</td>\n",
       "      <td>-181595.000243</td>\n",
       "      <td>-116918.631076</td>\n",
       "      <td>-116918.631076</td>\n",
       "      <td>-116918.631076</td>\n",
       "      <td>1.759086e+05</td>\n",
       "      <td>1.759086e+05</td>\n",
       "      <td>1.759086e+05</td>\n",
       "      <td>0.0</td>\n",
       "      <td>0.0</td>\n",
       "      <td>0.0</td>\n",
       "      <td>6.986854e+04</td>\n",
       "    </tr>\n",
       "    <tr>\n",
       "      <th>6</th>\n",
       "      <td>2020-01-31</td>\n",
       "      <td>185663.700132</td>\n",
       "      <td>-3.645344e+05</td>\n",
       "      <td>-3.645344e+05</td>\n",
       "      <td>185663.700132</td>\n",
       "      <td>185663.700132</td>\n",
       "      <td>-5.501981e+05</td>\n",
       "      <td>-5.501981e+05</td>\n",
       "      <td>-5.501981e+05</td>\n",
       "      <td>304938.148066</td>\n",
       "      <td>304938.148066</td>\n",
       "      <td>304938.148066</td>\n",
       "      <td>-86009.474307</td>\n",
       "      <td>-86009.474307</td>\n",
       "      <td>-86009.474307</td>\n",
       "      <td>-7.691268e+05</td>\n",
       "      <td>-7.691268e+05</td>\n",
       "      <td>-7.691268e+05</td>\n",
       "      <td>0.0</td>\n",
       "      <td>0.0</td>\n",
       "      <td>0.0</td>\n",
       "      <td>-3.645344e+05</td>\n",
       "    </tr>\n",
       "    <tr>\n",
       "      <th>7</th>\n",
       "      <td>2020-02-29</td>\n",
       "      <td>179293.210965</td>\n",
       "      <td>-1.654076e+05</td>\n",
       "      <td>-1.654076e+05</td>\n",
       "      <td>179293.210965</td>\n",
       "      <td>179293.210965</td>\n",
       "      <td>-3.447008e+05</td>\n",
       "      <td>-3.447008e+05</td>\n",
       "      <td>-3.447008e+05</td>\n",
       "      <td>181595.000243</td>\n",
       "      <td>181595.000243</td>\n",
       "      <td>181595.000243</td>\n",
       "      <td>-298767.423155</td>\n",
       "      <td>-298767.423155</td>\n",
       "      <td>-298767.423155</td>\n",
       "      <td>-2.275284e+05</td>\n",
       "      <td>-2.275284e+05</td>\n",
       "      <td>-2.275284e+05</td>\n",
       "      <td>0.0</td>\n",
       "      <td>0.0</td>\n",
       "      <td>0.0</td>\n",
       "      <td>-1.654076e+05</td>\n",
       "    </tr>\n",
       "    <tr>\n",
       "      <th>8</th>\n",
       "      <td>2020-03-31</td>\n",
       "      <td>172485.569623</td>\n",
       "      <td>-1.889880e+04</td>\n",
       "      <td>-1.889880e+04</td>\n",
       "      <td>172485.569623</td>\n",
       "      <td>172485.569623</td>\n",
       "      <td>-1.913844e+05</td>\n",
       "      <td>-1.913844e+05</td>\n",
       "      <td>-1.913844e+05</td>\n",
       "      <td>-304938.148066</td>\n",
       "      <td>-304938.148066</td>\n",
       "      <td>-304938.148066</td>\n",
       "      <td>-116918.631076</td>\n",
       "      <td>-116918.631076</td>\n",
       "      <td>-116918.631076</td>\n",
       "      <td>2.304724e+05</td>\n",
       "      <td>2.304724e+05</td>\n",
       "      <td>2.304724e+05</td>\n",
       "      <td>0.0</td>\n",
       "      <td>0.0</td>\n",
       "      <td>0.0</td>\n",
       "      <td>-1.889880e+04</td>\n",
       "    </tr>\n",
       "    <tr>\n",
       "      <th>9</th>\n",
       "      <td>2020-04-30</td>\n",
       "      <td>165903.430968</td>\n",
       "      <td>8.921914e+04</td>\n",
       "      <td>8.921914e+04</td>\n",
       "      <td>165903.430968</td>\n",
       "      <td>165903.430968</td>\n",
       "      <td>-7.668429e+04</td>\n",
       "      <td>-7.668429e+04</td>\n",
       "      <td>-7.668429e+04</td>\n",
       "      <td>-106293.047717</td>\n",
       "      <td>-106293.047717</td>\n",
       "      <td>-106293.047717</td>\n",
       "      <td>11702.614500</td>\n",
       "      <td>11702.614500</td>\n",
       "      <td>11702.614500</td>\n",
       "      <td>1.790615e+04</td>\n",
       "      <td>1.790615e+04</td>\n",
       "      <td>1.790615e+04</td>\n",
       "      <td>0.0</td>\n",
       "      <td>0.0</td>\n",
       "      <td>0.0</td>\n",
       "      <td>8.921914e+04</td>\n",
       "    </tr>\n",
       "    <tr>\n",
       "      <th>10</th>\n",
       "      <td>2020-05-31</td>\n",
       "      <td>159110.826643</td>\n",
       "      <td>2.264581e+05</td>\n",
       "      <td>2.264581e+05</td>\n",
       "      <td>159110.826643</td>\n",
       "      <td>159110.826643</td>\n",
       "      <td>6.734727e+04</td>\n",
       "      <td>6.734727e+04</td>\n",
       "      <td>6.734727e+04</td>\n",
       "      <td>322058.297749</td>\n",
       "      <td>322058.297749</td>\n",
       "      <td>322058.297749</td>\n",
       "      <td>269424.419067</td>\n",
       "      <td>269424.419067</td>\n",
       "      <td>269424.419067</td>\n",
       "      <td>-5.241354e+05</td>\n",
       "      <td>-5.241354e+05</td>\n",
       "      <td>-5.241354e+05</td>\n",
       "      <td>0.0</td>\n",
       "      <td>0.0</td>\n",
       "      <td>0.0</td>\n",
       "      <td>2.264581e+05</td>\n",
       "    </tr>\n",
       "    <tr>\n",
       "      <th>11</th>\n",
       "      <td>2020-06-30</td>\n",
       "      <td>152559.533524</td>\n",
       "      <td>-1.583454e+05</td>\n",
       "      <td>-1.583454e+05</td>\n",
       "      <td>152559.533524</td>\n",
       "      <td>152559.533524</td>\n",
       "      <td>-3.109050e+05</td>\n",
       "      <td>-3.109050e+05</td>\n",
       "      <td>-3.109050e+05</td>\n",
       "      <td>23747.399647</td>\n",
       "      <td>23747.399647</td>\n",
       "      <td>23747.399647</td>\n",
       "      <td>-116918.631076</td>\n",
       "      <td>-116918.631076</td>\n",
       "      <td>-116918.631076</td>\n",
       "      <td>-2.177338e+05</td>\n",
       "      <td>-2.177338e+05</td>\n",
       "      <td>-2.177338e+05</td>\n",
       "      <td>0.0</td>\n",
       "      <td>0.0</td>\n",
       "      <td>0.0</td>\n",
       "      <td>-1.583454e+05</td>\n",
       "    </tr>\n",
       "    <tr>\n",
       "      <th>12</th>\n",
       "      <td>2020-07-31</td>\n",
       "      <td>145989.319916</td>\n",
       "      <td>-8.823929e+04</td>\n",
       "      <td>-8.823929e+04</td>\n",
       "      <td>145989.319916</td>\n",
       "      <td>145989.319916</td>\n",
       "      <td>-2.342286e+05</td>\n",
       "      <td>-2.342286e+05</td>\n",
       "      <td>-2.342286e+05</td>\n",
       "      <td>-317230.706667</td>\n",
       "      <td>-317230.706667</td>\n",
       "      <td>-317230.706667</td>\n",
       "      <td>-86009.474308</td>\n",
       "      <td>-86009.474308</td>\n",
       "      <td>-86009.474308</td>\n",
       "      <td>1.690116e+05</td>\n",
       "      <td>1.690116e+05</td>\n",
       "      <td>1.690116e+05</td>\n",
       "      <td>0.0</td>\n",
       "      <td>0.0</td>\n",
       "      <td>0.0</td>\n",
       "      <td>-8.823929e+04</td>\n",
       "    </tr>\n",
       "    <tr>\n",
       "      <th>13</th>\n",
       "      <td>2020-08-31</td>\n",
       "      <td>139428.760793</td>\n",
       "      <td>1.555967e+05</td>\n",
       "      <td>1.555967e+05</td>\n",
       "      <td>139428.760793</td>\n",
       "      <td>139428.760793</td>\n",
       "      <td>1.616797e+04</td>\n",
       "      <td>1.616797e+04</td>\n",
       "      <td>1.616797e+04</td>\n",
       "      <td>140463.297506</td>\n",
       "      <td>140463.297506</td>\n",
       "      <td>140463.297506</td>\n",
       "      <td>210685.590328</td>\n",
       "      <td>210685.590328</td>\n",
       "      <td>210685.590328</td>\n",
       "      <td>-3.349809e+05</td>\n",
       "      <td>-3.349809e+05</td>\n",
       "      <td>-3.349809e+05</td>\n",
       "      <td>0.0</td>\n",
       "      <td>0.0</td>\n",
       "      <td>0.0</td>\n",
       "      <td>1.555967e+05</td>\n",
       "    </tr>\n",
       "    <tr>\n",
       "      <th>14</th>\n",
       "      <td>2020-09-30</td>\n",
       "      <td>133855.025331</td>\n",
       "      <td>1.872235e+05</td>\n",
       "      <td>1.872235e+05</td>\n",
       "      <td>133855.025331</td>\n",
       "      <td>133855.025331</td>\n",
       "      <td>5.336847e+04</td>\n",
       "      <td>5.336847e+04</td>\n",
       "      <td>5.336847e+04</td>\n",
       "      <td>290784.367174</td>\n",
       "      <td>290784.367174</td>\n",
       "      <td>290784.367174</td>\n",
       "      <td>9882.904643</td>\n",
       "      <td>9882.904643</td>\n",
       "      <td>9882.904643</td>\n",
       "      <td>-2.472988e+05</td>\n",
       "      <td>-2.472988e+05</td>\n",
       "      <td>-2.472988e+05</td>\n",
       "      <td>0.0</td>\n",
       "      <td>0.0</td>\n",
       "      <td>0.0</td>\n",
       "      <td>1.872235e+05</td>\n",
       "    </tr>\n",
       "    <tr>\n",
       "      <th>15</th>\n",
       "      <td>2020-10-31</td>\n",
       "      <td>128257.308904</td>\n",
       "      <td>-1.052577e+05</td>\n",
       "      <td>-1.052577e+05</td>\n",
       "      <td>128257.308904</td>\n",
       "      <td>128257.308904</td>\n",
       "      <td>-2.335151e+05</td>\n",
       "      <td>-2.335151e+05</td>\n",
       "      <td>-2.335151e+05</td>\n",
       "      <td>-210937.658950</td>\n",
       "      <td>-210937.658950</td>\n",
       "      <td>-210937.658950</td>\n",
       "      <td>-298767.423154</td>\n",
       "      <td>-298767.423154</td>\n",
       "      <td>-298767.423154</td>\n",
       "      <td>2.761900e+05</td>\n",
       "      <td>2.761900e+05</td>\n",
       "      <td>2.761900e+05</td>\n",
       "      <td>0.0</td>\n",
       "      <td>0.0</td>\n",
       "      <td>0.0</td>\n",
       "      <td>-1.052577e+05</td>\n",
       "    </tr>\n",
       "    <tr>\n",
       "      <th>16</th>\n",
       "      <td>2020-11-30</td>\n",
       "      <td>122840.762535</td>\n",
       "      <td>1.089894e+06</td>\n",
       "      <td>1.089894e+06</td>\n",
       "      <td>122840.762535</td>\n",
       "      <td>122840.762535</td>\n",
       "      <td>9.670535e+05</td>\n",
       "      <td>9.670535e+05</td>\n",
       "      <td>9.670535e+05</td>\n",
       "      <td>-244521.553602</td>\n",
       "      <td>-244521.553602</td>\n",
       "      <td>-244521.553602</td>\n",
       "      <td>210685.590327</td>\n",
       "      <td>210685.590327</td>\n",
       "      <td>210685.590327</td>\n",
       "      <td>1.000889e+06</td>\n",
       "      <td>1.000889e+06</td>\n",
       "      <td>1.000889e+06</td>\n",
       "      <td>0.0</td>\n",
       "      <td>0.0</td>\n",
       "      <td>0.0</td>\n",
       "      <td>1.089894e+06</td>\n",
       "    </tr>\n",
       "    <tr>\n",
       "      <th>17</th>\n",
       "      <td>2020-12-31</td>\n",
       "      <td>117243.239879</td>\n",
       "      <td>-6.159768e+05</td>\n",
       "      <td>-6.159768e+05</td>\n",
       "      <td>117243.239879</td>\n",
       "      <td>117243.239879</td>\n",
       "      <td>-7.332201e+05</td>\n",
       "      <td>-7.332201e+05</td>\n",
       "      <td>-7.332201e+05</td>\n",
       "      <td>267036.967527</td>\n",
       "      <td>267036.967527</td>\n",
       "      <td>267036.967527</td>\n",
       "      <td>11702.614499</td>\n",
       "      <td>11702.614499</td>\n",
       "      <td>11702.614499</td>\n",
       "      <td>-1.011960e+06</td>\n",
       "      <td>-1.011960e+06</td>\n",
       "      <td>-1.011960e+06</td>\n",
       "      <td>0.0</td>\n",
       "      <td>0.0</td>\n",
       "      <td>0.0</td>\n",
       "      <td>-6.159768e+05</td>\n",
       "    </tr>\n",
       "    <tr>\n",
       "      <th>18</th>\n",
       "      <td>2021-01-31</td>\n",
       "      <td>111654.817968</td>\n",
       "      <td>1.126889e+05</td>\n",
       "      <td>1.126889e+05</td>\n",
       "      <td>111654.817968</td>\n",
       "      <td>111654.817968</td>\n",
       "      <td>1.034067e+03</td>\n",
       "      <td>1.034067e+03</td>\n",
       "      <td>1.034067e+03</td>\n",
       "      <td>106293.047717</td>\n",
       "      <td>106293.047717</td>\n",
       "      <td>106293.047717</td>\n",
       "      <td>269424.419068</td>\n",
       "      <td>269424.419068</td>\n",
       "      <td>269424.419068</td>\n",
       "      <td>-3.746834e+05</td>\n",
       "      <td>-3.746834e+05</td>\n",
       "      <td>-3.746834e+05</td>\n",
       "      <td>0.0</td>\n",
       "      <td>0.0</td>\n",
       "      <td>0.0</td>\n",
       "      <td>1.126889e+05</td>\n",
       "    </tr>\n",
       "    <tr>\n",
       "      <th>19</th>\n",
       "      <td>2021-02-28</td>\n",
       "      <td>106607.284436</td>\n",
       "      <td>-2.083781e+05</td>\n",
       "      <td>-2.083781e+05</td>\n",
       "      <td>106607.284436</td>\n",
       "      <td>106607.284436</td>\n",
       "      <td>-3.149853e+05</td>\n",
       "      <td>-3.149853e+05</td>\n",
       "      <td>-3.149853e+05</td>\n",
       "      <td>-210937.658950</td>\n",
       "      <td>-210937.658950</td>\n",
       "      <td>-210937.658950</td>\n",
       "      <td>269424.419067</td>\n",
       "      <td>269424.419067</td>\n",
       "      <td>269424.419067</td>\n",
       "      <td>-3.734721e+05</td>\n",
       "      <td>-3.734721e+05</td>\n",
       "      <td>-3.734721e+05</td>\n",
       "      <td>0.0</td>\n",
       "      <td>0.0</td>\n",
       "      <td>0.0</td>\n",
       "      <td>-2.083781e+05</td>\n",
       "    </tr>\n",
       "    <tr>\n",
       "      <th>20</th>\n",
       "      <td>2021-03-31</td>\n",
       "      <td>101019.899161</td>\n",
       "      <td>5.309003e+05</td>\n",
       "      <td>5.309003e+05</td>\n",
       "      <td>101019.899161</td>\n",
       "      <td>101019.899161</td>\n",
       "      <td>4.298804e+05</td>\n",
       "      <td>4.298804e+05</td>\n",
       "      <td>4.298804e+05</td>\n",
       "      <td>-181595.000243</td>\n",
       "      <td>-181595.000243</td>\n",
       "      <td>-181595.000243</td>\n",
       "      <td>9882.904643</td>\n",
       "      <td>9882.904643</td>\n",
       "      <td>9882.904643</td>\n",
       "      <td>6.015925e+05</td>\n",
       "      <td>6.015925e+05</td>\n",
       "      <td>6.015925e+05</td>\n",
       "      <td>0.0</td>\n",
       "      <td>0.0</td>\n",
       "      <td>0.0</td>\n",
       "      <td>5.309003e+05</td>\n",
       "    </tr>\n",
       "    <tr>\n",
       "      <th>21</th>\n",
       "      <td>2021-04-30</td>\n",
       "      <td>95612.752121</td>\n",
       "      <td>-5.610837e+04</td>\n",
       "      <td>-5.610837e+04</td>\n",
       "      <td>95612.752121</td>\n",
       "      <td>95612.752121</td>\n",
       "      <td>-1.517211e+05</td>\n",
       "      <td>-1.517211e+05</td>\n",
       "      <td>-1.517211e+05</td>\n",
       "      <td>267036.967527</td>\n",
       "      <td>267036.967527</td>\n",
       "      <td>267036.967527</td>\n",
       "      <td>-86009.474308</td>\n",
       "      <td>-86009.474308</td>\n",
       "      <td>-86009.474308</td>\n",
       "      <td>-3.327486e+05</td>\n",
       "      <td>-3.327486e+05</td>\n",
       "      <td>-3.327486e+05</td>\n",
       "      <td>0.0</td>\n",
       "      <td>0.0</td>\n",
       "      <td>0.0</td>\n",
       "      <td>-5.610837e+04</td>\n",
       "    </tr>\n",
       "    <tr>\n",
       "      <th>22</th>\n",
       "      <td>2021-05-31</td>\n",
       "      <td>90025.366846</td>\n",
       "      <td>-1.229028e+05</td>\n",
       "      <td>-1.229028e+05</td>\n",
       "      <td>90025.366846</td>\n",
       "      <td>90025.366846</td>\n",
       "      <td>-2.129282e+05</td>\n",
       "      <td>-2.129282e+05</td>\n",
       "      <td>-2.129282e+05</td>\n",
       "      <td>106293.047717</td>\n",
       "      <td>106293.047717</td>\n",
       "      <td>106293.047717</td>\n",
       "      <td>210685.590328</td>\n",
       "      <td>210685.590328</td>\n",
       "      <td>210685.590328</td>\n",
       "      <td>-5.299068e+05</td>\n",
       "      <td>-5.299068e+05</td>\n",
       "      <td>-5.299068e+05</td>\n",
       "      <td>0.0</td>\n",
       "      <td>0.0</td>\n",
       "      <td>0.0</td>\n",
       "      <td>-1.229028e+05</td>\n",
       "    </tr>\n",
       "    <tr>\n",
       "      <th>23</th>\n",
       "      <td>2021-06-30</td>\n",
       "      <td>84618.219806</td>\n",
       "      <td>-3.530298e+05</td>\n",
       "      <td>-3.530298e+05</td>\n",
       "      <td>84618.219806</td>\n",
       "      <td>84618.219806</td>\n",
       "      <td>-4.376480e+05</td>\n",
       "      <td>-4.376480e+05</td>\n",
       "      <td>-4.376480e+05</td>\n",
       "      <td>-304938.148066</td>\n",
       "      <td>-304938.148066</td>\n",
       "      <td>-304938.148066</td>\n",
       "      <td>9882.904643</td>\n",
       "      <td>9882.904643</td>\n",
       "      <td>9882.904643</td>\n",
       "      <td>-1.425928e+05</td>\n",
       "      <td>-1.425928e+05</td>\n",
       "      <td>-1.425928e+05</td>\n",
       "      <td>0.0</td>\n",
       "      <td>0.0</td>\n",
       "      <td>0.0</td>\n",
       "      <td>-3.530298e+05</td>\n",
       "    </tr>\n",
       "    <tr>\n",
       "      <th>24</th>\n",
       "      <td>2021-07-31</td>\n",
       "      <td>79030.834531</td>\n",
       "      <td>-1.242934e+05</td>\n",
       "      <td>-1.242934e+05</td>\n",
       "      <td>79030.834531</td>\n",
       "      <td>79030.834531</td>\n",
       "      <td>-2.033242e+05</td>\n",
       "      <td>-2.033242e+05</td>\n",
       "      <td>-2.033242e+05</td>\n",
       "      <td>-23747.399647</td>\n",
       "      <td>-23747.399647</td>\n",
       "      <td>-23747.399647</td>\n",
       "      <td>-298767.423154</td>\n",
       "      <td>-298767.423154</td>\n",
       "      <td>-298767.423154</td>\n",
       "      <td>1.191906e+05</td>\n",
       "      <td>1.191906e+05</td>\n",
       "      <td>1.191906e+05</td>\n",
       "      <td>0.0</td>\n",
       "      <td>0.0</td>\n",
       "      <td>0.0</td>\n",
       "      <td>-1.242934e+05</td>\n",
       "    </tr>\n",
       "    <tr>\n",
       "      <th>25</th>\n",
       "      <td>2021-08-31</td>\n",
       "      <td>73443.449256</td>\n",
       "      <td>2.593397e+05</td>\n",
       "      <td>2.593397e+05</td>\n",
       "      <td>73443.449256</td>\n",
       "      <td>73443.449256</td>\n",
       "      <td>1.858962e+05</td>\n",
       "      <td>1.858962e+05</td>\n",
       "      <td>1.858962e+05</td>\n",
       "      <td>317230.706667</td>\n",
       "      <td>317230.706667</td>\n",
       "      <td>317230.706667</td>\n",
       "      <td>-116918.631076</td>\n",
       "      <td>-116918.631076</td>\n",
       "      <td>-116918.631076</td>\n",
       "      <td>-1.441586e+04</td>\n",
       "      <td>-1.441586e+04</td>\n",
       "      <td>-1.441586e+04</td>\n",
       "      <td>0.0</td>\n",
       "      <td>0.0</td>\n",
       "      <td>0.0</td>\n",
       "      <td>2.593397e+05</td>\n",
       "    </tr>\n",
       "    <tr>\n",
       "      <th>26</th>\n",
       "      <td>2021-09-30</td>\n",
       "      <td>68036.302216</td>\n",
       "      <td>-3.421190e+05</td>\n",
       "      <td>-3.420579e+05</td>\n",
       "      <td>68004.535156</td>\n",
       "      <td>68065.626758</td>\n",
       "      <td>-4.101235e+05</td>\n",
       "      <td>-4.101235e+05</td>\n",
       "      <td>-4.101235e+05</td>\n",
       "      <td>-60416.594465</td>\n",
       "      <td>-60416.594465</td>\n",
       "      <td>-60416.594465</td>\n",
       "      <td>11702.614499</td>\n",
       "      <td>11702.614499</td>\n",
       "      <td>11702.614499</td>\n",
       "      <td>-3.614095e+05</td>\n",
       "      <td>-3.614095e+05</td>\n",
       "      <td>-3.614095e+05</td>\n",
       "      <td>0.0</td>\n",
       "      <td>0.0</td>\n",
       "      <td>0.0</td>\n",
       "      <td>-3.420872e+05</td>\n",
       "    </tr>\n",
       "    <tr>\n",
       "      <th>27</th>\n",
       "      <td>2021-10-31</td>\n",
       "      <td>62448.916941</td>\n",
       "      <td>1.763611e+04</td>\n",
       "      <td>1.788640e+04</td>\n",
       "      <td>62318.867718</td>\n",
       "      <td>62569.160473</td>\n",
       "      <td>-4.468276e+04</td>\n",
       "      <td>-4.468276e+04</td>\n",
       "      <td>-4.468276e+04</td>\n",
       "      <td>-290784.367174</td>\n",
       "      <td>-290784.367174</td>\n",
       "      <td>-290784.367174</td>\n",
       "      <td>269424.419068</td>\n",
       "      <td>269424.419068</td>\n",
       "      <td>269424.419068</td>\n",
       "      <td>-2.332281e+04</td>\n",
       "      <td>-2.332281e+04</td>\n",
       "      <td>-2.332281e+04</td>\n",
       "      <td>0.0</td>\n",
       "      <td>0.0</td>\n",
       "      <td>0.0</td>\n",
       "      <td>1.776616e+04</td>\n",
       "    </tr>\n",
       "    <tr>\n",
       "      <th>28</th>\n",
       "      <td>2021-11-30</td>\n",
       "      <td>57041.769901</td>\n",
       "      <td>1.045237e+06</td>\n",
       "      <td>1.045724e+06</td>\n",
       "      <td>56788.664689</td>\n",
       "      <td>57275.051117</td>\n",
       "      <td>9.884485e+05</td>\n",
       "      <td>9.884485e+05</td>\n",
       "      <td>9.884485e+05</td>\n",
       "      <td>140463.297507</td>\n",
       "      <td>140463.297507</td>\n",
       "      <td>140463.297507</td>\n",
       "      <td>-116918.631076</td>\n",
       "      <td>-116918.631076</td>\n",
       "      <td>-116918.631076</td>\n",
       "      <td>9.649039e+05</td>\n",
       "      <td>9.649039e+05</td>\n",
       "      <td>9.649039e+05</td>\n",
       "      <td>0.0</td>\n",
       "      <td>0.0</td>\n",
       "      <td>0.0</td>\n",
       "      <td>1.045490e+06</td>\n",
       "    </tr>\n",
       "    <tr>\n",
       "      <th>29</th>\n",
       "      <td>2021-12-31</td>\n",
       "      <td>51454.384626</td>\n",
       "      <td>-4.066440e+05</td>\n",
       "      <td>-4.058393e+05</td>\n",
       "      <td>51035.914477</td>\n",
       "      <td>51840.617457</td>\n",
       "      <td>-4.576799e+05</td>\n",
       "      <td>-4.576799e+05</td>\n",
       "      <td>-4.576799e+05</td>\n",
       "      <td>244521.553602</td>\n",
       "      <td>244521.553602</td>\n",
       "      <td>244521.553602</td>\n",
       "      <td>-86009.474308</td>\n",
       "      <td>-86009.474308</td>\n",
       "      <td>-86009.474308</td>\n",
       "      <td>-6.161920e+05</td>\n",
       "      <td>-6.161920e+05</td>\n",
       "      <td>-6.161920e+05</td>\n",
       "      <td>0.0</td>\n",
       "      <td>0.0</td>\n",
       "      <td>0.0</td>\n",
       "      <td>-4.062256e+05</td>\n",
       "    </tr>\n",
       "    <tr>\n",
       "      <th>30</th>\n",
       "      <td>2022-01-31</td>\n",
       "      <td>45866.999351</td>\n",
       "      <td>-5.114125e+05</td>\n",
       "      <td>-5.102439e+05</td>\n",
       "      <td>45255.732113</td>\n",
       "      <td>46424.314956</td>\n",
       "      <td>-5.566683e+05</td>\n",
       "      <td>-5.566683e+05</td>\n",
       "      <td>-5.566683e+05</td>\n",
       "      <td>-267036.967527</td>\n",
       "      <td>-267036.967527</td>\n",
       "      <td>-267036.967527</td>\n",
       "      <td>210685.590329</td>\n",
       "      <td>210685.590329</td>\n",
       "      <td>210685.590329</td>\n",
       "      <td>-5.003169e+05</td>\n",
       "      <td>-5.003169e+05</td>\n",
       "      <td>-5.003169e+05</td>\n",
       "      <td>0.0</td>\n",
       "      <td>0.0</td>\n",
       "      <td>0.0</td>\n",
       "      <td>-5.108013e+05</td>\n",
       "    </tr>\n",
       "    <tr>\n",
       "      <th>31</th>\n",
       "      <td>2022-02-28</td>\n",
       "      <td>40820.328780</td>\n",
       "      <td>-5.551746e+05</td>\n",
       "      <td>-5.536651e+05</td>\n",
       "      <td>40027.271198</td>\n",
       "      <td>41536.813982</td>\n",
       "      <td>-5.952019e+05</td>\n",
       "      <td>-5.952019e+05</td>\n",
       "      <td>-5.952019e+05</td>\n",
       "      <td>-290784.367174</td>\n",
       "      <td>-290784.367174</td>\n",
       "      <td>-290784.367174</td>\n",
       "      <td>210685.590328</td>\n",
       "      <td>210685.590328</td>\n",
       "      <td>210685.590328</td>\n",
       "      <td>-5.151031e+05</td>\n",
       "      <td>-5.151031e+05</td>\n",
       "      <td>-5.151031e+05</td>\n",
       "      <td>0.0</td>\n",
       "      <td>0.0</td>\n",
       "      <td>0.0</td>\n",
       "      <td>-5.543815e+05</td>\n",
       "    </tr>\n",
       "    <tr>\n",
       "      <th>32</th>\n",
       "      <td>2022-03-31</td>\n",
       "      <td>35232.943505</td>\n",
       "      <td>1.226636e+06</td>\n",
       "      <td>1.228580e+06</td>\n",
       "      <td>34191.308741</td>\n",
       "      <td>36135.001191</td>\n",
       "      <td>1.192445e+06</td>\n",
       "      <td>1.192445e+06</td>\n",
       "      <td>1.192445e+06</td>\n",
       "      <td>210937.658950</td>\n",
       "      <td>210937.658950</td>\n",
       "      <td>210937.658950</td>\n",
       "      <td>11702.614500</td>\n",
       "      <td>11702.614500</td>\n",
       "      <td>11702.614500</td>\n",
       "      <td>9.698042e+05</td>\n",
       "      <td>9.698042e+05</td>\n",
       "      <td>9.698042e+05</td>\n",
       "      <td>0.0</td>\n",
       "      <td>0.0</td>\n",
       "      <td>0.0</td>\n",
       "      <td>1.227677e+06</td>\n",
       "    </tr>\n",
       "  </tbody>\n",
       "</table>\n",
       "</div>"
      ],
      "text/plain": [
       "           ds          trend    yhat_lower    yhat_upper    trend_lower  \\\n",
       "0  2019-07-31  226085.343036  2.035285e+05  2.035285e+05  226085.343036   \n",
       "1  2019-08-31  219275.237223  2.488711e+05  2.488711e+05  219275.237223   \n",
       "2  2019-09-30  212684.202629 -5.031387e+04 -5.031387e+04  212684.202629   \n",
       "3  2019-10-31  205874.385406 -1.568374e+05 -1.568374e+05  205874.385406   \n",
       "4  2019-11-30  199283.515301  6.090614e+05  6.090614e+05  199283.515301   \n",
       "5  2019-12-31  192473.521964  6.986854e+04  6.986854e+04  192473.521964   \n",
       "6  2020-01-31  185663.700132 -3.645344e+05 -3.645344e+05  185663.700132   \n",
       "7  2020-02-29  179293.210965 -1.654076e+05 -1.654076e+05  179293.210965   \n",
       "8  2020-03-31  172485.569623 -1.889880e+04 -1.889880e+04  172485.569623   \n",
       "9  2020-04-30  165903.430968  8.921914e+04  8.921914e+04  165903.430968   \n",
       "10 2020-05-31  159110.826643  2.264581e+05  2.264581e+05  159110.826643   \n",
       "11 2020-06-30  152559.533524 -1.583454e+05 -1.583454e+05  152559.533524   \n",
       "12 2020-07-31  145989.319916 -8.823929e+04 -8.823929e+04  145989.319916   \n",
       "13 2020-08-31  139428.760793  1.555967e+05  1.555967e+05  139428.760793   \n",
       "14 2020-09-30  133855.025331  1.872235e+05  1.872235e+05  133855.025331   \n",
       "15 2020-10-31  128257.308904 -1.052577e+05 -1.052577e+05  128257.308904   \n",
       "16 2020-11-30  122840.762535  1.089894e+06  1.089894e+06  122840.762535   \n",
       "17 2020-12-31  117243.239879 -6.159768e+05 -6.159768e+05  117243.239879   \n",
       "18 2021-01-31  111654.817968  1.126889e+05  1.126889e+05  111654.817968   \n",
       "19 2021-02-28  106607.284436 -2.083781e+05 -2.083781e+05  106607.284436   \n",
       "20 2021-03-31  101019.899161  5.309003e+05  5.309003e+05  101019.899161   \n",
       "21 2021-04-30   95612.752121 -5.610837e+04 -5.610837e+04   95612.752121   \n",
       "22 2021-05-31   90025.366846 -1.229028e+05 -1.229028e+05   90025.366846   \n",
       "23 2021-06-30   84618.219806 -3.530298e+05 -3.530298e+05   84618.219806   \n",
       "24 2021-07-31   79030.834531 -1.242934e+05 -1.242934e+05   79030.834531   \n",
       "25 2021-08-31   73443.449256  2.593397e+05  2.593397e+05   73443.449256   \n",
       "26 2021-09-30   68036.302216 -3.421190e+05 -3.420579e+05   68004.535156   \n",
       "27 2021-10-31   62448.916941  1.763611e+04  1.788640e+04   62318.867718   \n",
       "28 2021-11-30   57041.769901  1.045237e+06  1.045724e+06   56788.664689   \n",
       "29 2021-12-31   51454.384626 -4.066440e+05 -4.058393e+05   51035.914477   \n",
       "30 2022-01-31   45866.999351 -5.114125e+05 -5.102439e+05   45255.732113   \n",
       "31 2022-02-28   40820.328780 -5.551746e+05 -5.536651e+05   40027.271198   \n",
       "32 2022-03-31   35232.943505  1.226636e+06  1.228580e+06   34191.308741   \n",
       "\n",
       "      trend_upper  additive_terms  additive_terms_lower  additive_terms_upper  \\\n",
       "0   226085.343036   -2.255685e+04         -2.255685e+04         -2.255685e+04   \n",
       "1   219275.237223    2.959588e+04          2.959588e+04          2.959588e+04   \n",
       "2   212684.202629   -2.629981e+05         -2.629981e+05         -2.629981e+05   \n",
       "3   205874.385406   -3.627118e+05         -3.627118e+05         -3.627118e+05   \n",
       "4   199283.515301    4.097779e+05          4.097779e+05          4.097779e+05   \n",
       "5   192473.521964   -1.226050e+05         -1.226050e+05         -1.226050e+05   \n",
       "6   185663.700132   -5.501981e+05         -5.501981e+05         -5.501981e+05   \n",
       "7   179293.210965   -3.447008e+05         -3.447008e+05         -3.447008e+05   \n",
       "8   172485.569623   -1.913844e+05         -1.913844e+05         -1.913844e+05   \n",
       "9   165903.430968   -7.668429e+04         -7.668429e+04         -7.668429e+04   \n",
       "10  159110.826643    6.734727e+04          6.734727e+04          6.734727e+04   \n",
       "11  152559.533524   -3.109050e+05         -3.109050e+05         -3.109050e+05   \n",
       "12  145989.319916   -2.342286e+05         -2.342286e+05         -2.342286e+05   \n",
       "13  139428.760793    1.616797e+04          1.616797e+04          1.616797e+04   \n",
       "14  133855.025331    5.336847e+04          5.336847e+04          5.336847e+04   \n",
       "15  128257.308904   -2.335151e+05         -2.335151e+05         -2.335151e+05   \n",
       "16  122840.762535    9.670535e+05          9.670535e+05          9.670535e+05   \n",
       "17  117243.239879   -7.332201e+05         -7.332201e+05         -7.332201e+05   \n",
       "18  111654.817968    1.034067e+03          1.034067e+03          1.034067e+03   \n",
       "19  106607.284436   -3.149853e+05         -3.149853e+05         -3.149853e+05   \n",
       "20  101019.899161    4.298804e+05          4.298804e+05          4.298804e+05   \n",
       "21   95612.752121   -1.517211e+05         -1.517211e+05         -1.517211e+05   \n",
       "22   90025.366846   -2.129282e+05         -2.129282e+05         -2.129282e+05   \n",
       "23   84618.219806   -4.376480e+05         -4.376480e+05         -4.376480e+05   \n",
       "24   79030.834531   -2.033242e+05         -2.033242e+05         -2.033242e+05   \n",
       "25   73443.449256    1.858962e+05          1.858962e+05          1.858962e+05   \n",
       "26   68065.626758   -4.101235e+05         -4.101235e+05         -4.101235e+05   \n",
       "27   62569.160473   -4.468276e+04         -4.468276e+04         -4.468276e+04   \n",
       "28   57275.051117    9.884485e+05          9.884485e+05          9.884485e+05   \n",
       "29   51840.617457   -4.576799e+05         -4.576799e+05         -4.576799e+05   \n",
       "30   46424.314956   -5.566683e+05         -5.566683e+05         -5.566683e+05   \n",
       "31   41536.813982   -5.952019e+05         -5.952019e+05         -5.952019e+05   \n",
       "32   36135.001191    1.192445e+06          1.192445e+06          1.192445e+06   \n",
       "\n",
       "          monthly  monthly_lower  monthly_upper         weekly   weekly_lower  \\\n",
       "0   -60416.594465  -60416.594465  -60416.594465    9882.904643    9882.904643   \n",
       "1  -290784.367174 -290784.367174 -290784.367174 -298767.423154 -298767.423154   \n",
       "2   140463.297507  140463.297507  140463.297507  210685.590328  210685.590328   \n",
       "3   244521.553602  244521.553602  244521.553602   11702.614499   11702.614499   \n",
       "4  -210937.658950 -210937.658950 -210937.658950 -298767.423154 -298767.423154   \n",
       "5  -181595.000243 -181595.000243 -181595.000243 -116918.631076 -116918.631076   \n",
       "6   304938.148066  304938.148066  304938.148066  -86009.474307  -86009.474307   \n",
       "7   181595.000243  181595.000243  181595.000243 -298767.423155 -298767.423155   \n",
       "8  -304938.148066 -304938.148066 -304938.148066 -116918.631076 -116918.631076   \n",
       "9  -106293.047717 -106293.047717 -106293.047717   11702.614500   11702.614500   \n",
       "10  322058.297749  322058.297749  322058.297749  269424.419067  269424.419067   \n",
       "11   23747.399647   23747.399647   23747.399647 -116918.631076 -116918.631076   \n",
       "12 -317230.706667 -317230.706667 -317230.706667  -86009.474308  -86009.474308   \n",
       "13  140463.297506  140463.297506  140463.297506  210685.590328  210685.590328   \n",
       "14  290784.367174  290784.367174  290784.367174    9882.904643    9882.904643   \n",
       "15 -210937.658950 -210937.658950 -210937.658950 -298767.423154 -298767.423154   \n",
       "16 -244521.553602 -244521.553602 -244521.553602  210685.590327  210685.590327   \n",
       "17  267036.967527  267036.967527  267036.967527   11702.614499   11702.614499   \n",
       "18  106293.047717  106293.047717  106293.047717  269424.419068  269424.419068   \n",
       "19 -210937.658950 -210937.658950 -210937.658950  269424.419067  269424.419067   \n",
       "20 -181595.000243 -181595.000243 -181595.000243    9882.904643    9882.904643   \n",
       "21  267036.967527  267036.967527  267036.967527  -86009.474308  -86009.474308   \n",
       "22  106293.047717  106293.047717  106293.047717  210685.590328  210685.590328   \n",
       "23 -304938.148066 -304938.148066 -304938.148066    9882.904643    9882.904643   \n",
       "24  -23747.399647  -23747.399647  -23747.399647 -298767.423154 -298767.423154   \n",
       "25  317230.706667  317230.706667  317230.706667 -116918.631076 -116918.631076   \n",
       "26  -60416.594465  -60416.594465  -60416.594465   11702.614499   11702.614499   \n",
       "27 -290784.367174 -290784.367174 -290784.367174  269424.419068  269424.419068   \n",
       "28  140463.297507  140463.297507  140463.297507 -116918.631076 -116918.631076   \n",
       "29  244521.553602  244521.553602  244521.553602  -86009.474308  -86009.474308   \n",
       "30 -267036.967527 -267036.967527 -267036.967527  210685.590329  210685.590329   \n",
       "31 -290784.367174 -290784.367174 -290784.367174  210685.590328  210685.590328   \n",
       "32  210937.658950  210937.658950  210937.658950   11702.614500   11702.614500   \n",
       "\n",
       "     weekly_upper        yearly  yearly_lower  yearly_upper  \\\n",
       "0     9882.904643  2.797684e+04  2.797684e+04  2.797684e+04   \n",
       "1  -298767.423154  6.191477e+05  6.191477e+05  6.191477e+05   \n",
       "2   210685.590328 -6.141470e+05 -6.141470e+05 -6.141470e+05   \n",
       "3    11702.614499 -6.189360e+05 -6.189360e+05 -6.189360e+05   \n",
       "4  -298767.423154  9.194829e+05  9.194829e+05  9.194829e+05   \n",
       "5  -116918.631076  1.759086e+05  1.759086e+05  1.759086e+05   \n",
       "6   -86009.474307 -7.691268e+05 -7.691268e+05 -7.691268e+05   \n",
       "7  -298767.423155 -2.275284e+05 -2.275284e+05 -2.275284e+05   \n",
       "8  -116918.631076  2.304724e+05  2.304724e+05  2.304724e+05   \n",
       "9    11702.614500  1.790615e+04  1.790615e+04  1.790615e+04   \n",
       "10  269424.419067 -5.241354e+05 -5.241354e+05 -5.241354e+05   \n",
       "11 -116918.631076 -2.177338e+05 -2.177338e+05 -2.177338e+05   \n",
       "12  -86009.474308  1.690116e+05  1.690116e+05  1.690116e+05   \n",
       "13  210685.590328 -3.349809e+05 -3.349809e+05 -3.349809e+05   \n",
       "14    9882.904643 -2.472988e+05 -2.472988e+05 -2.472988e+05   \n",
       "15 -298767.423154  2.761900e+05  2.761900e+05  2.761900e+05   \n",
       "16  210685.590327  1.000889e+06  1.000889e+06  1.000889e+06   \n",
       "17   11702.614499 -1.011960e+06 -1.011960e+06 -1.011960e+06   \n",
       "18  269424.419068 -3.746834e+05 -3.746834e+05 -3.746834e+05   \n",
       "19  269424.419067 -3.734721e+05 -3.734721e+05 -3.734721e+05   \n",
       "20    9882.904643  6.015925e+05  6.015925e+05  6.015925e+05   \n",
       "21  -86009.474308 -3.327486e+05 -3.327486e+05 -3.327486e+05   \n",
       "22  210685.590328 -5.299068e+05 -5.299068e+05 -5.299068e+05   \n",
       "23    9882.904643 -1.425928e+05 -1.425928e+05 -1.425928e+05   \n",
       "24 -298767.423154  1.191906e+05  1.191906e+05  1.191906e+05   \n",
       "25 -116918.631076 -1.441586e+04 -1.441586e+04 -1.441586e+04   \n",
       "26   11702.614499 -3.614095e+05 -3.614095e+05 -3.614095e+05   \n",
       "27  269424.419068 -2.332281e+04 -2.332281e+04 -2.332281e+04   \n",
       "28 -116918.631076  9.649039e+05  9.649039e+05  9.649039e+05   \n",
       "29  -86009.474308 -6.161920e+05 -6.161920e+05 -6.161920e+05   \n",
       "30  210685.590329 -5.003169e+05 -5.003169e+05 -5.003169e+05   \n",
       "31  210685.590328 -5.151031e+05 -5.151031e+05 -5.151031e+05   \n",
       "32   11702.614500  9.698042e+05  9.698042e+05  9.698042e+05   \n",
       "\n",
       "    multiplicative_terms  multiplicative_terms_lower  \\\n",
       "0                    0.0                         0.0   \n",
       "1                    0.0                         0.0   \n",
       "2                    0.0                         0.0   \n",
       "3                    0.0                         0.0   \n",
       "4                    0.0                         0.0   \n",
       "5                    0.0                         0.0   \n",
       "6                    0.0                         0.0   \n",
       "7                    0.0                         0.0   \n",
       "8                    0.0                         0.0   \n",
       "9                    0.0                         0.0   \n",
       "10                   0.0                         0.0   \n",
       "11                   0.0                         0.0   \n",
       "12                   0.0                         0.0   \n",
       "13                   0.0                         0.0   \n",
       "14                   0.0                         0.0   \n",
       "15                   0.0                         0.0   \n",
       "16                   0.0                         0.0   \n",
       "17                   0.0                         0.0   \n",
       "18                   0.0                         0.0   \n",
       "19                   0.0                         0.0   \n",
       "20                   0.0                         0.0   \n",
       "21                   0.0                         0.0   \n",
       "22                   0.0                         0.0   \n",
       "23                   0.0                         0.0   \n",
       "24                   0.0                         0.0   \n",
       "25                   0.0                         0.0   \n",
       "26                   0.0                         0.0   \n",
       "27                   0.0                         0.0   \n",
       "28                   0.0                         0.0   \n",
       "29                   0.0                         0.0   \n",
       "30                   0.0                         0.0   \n",
       "31                   0.0                         0.0   \n",
       "32                   0.0                         0.0   \n",
       "\n",
       "    multiplicative_terms_upper          yhat  \n",
       "0                          0.0  2.035285e+05  \n",
       "1                          0.0  2.488711e+05  \n",
       "2                          0.0 -5.031387e+04  \n",
       "3                          0.0 -1.568374e+05  \n",
       "4                          0.0  6.090614e+05  \n",
       "5                          0.0  6.986854e+04  \n",
       "6                          0.0 -3.645344e+05  \n",
       "7                          0.0 -1.654076e+05  \n",
       "8                          0.0 -1.889880e+04  \n",
       "9                          0.0  8.921914e+04  \n",
       "10                         0.0  2.264581e+05  \n",
       "11                         0.0 -1.583454e+05  \n",
       "12                         0.0 -8.823929e+04  \n",
       "13                         0.0  1.555967e+05  \n",
       "14                         0.0  1.872235e+05  \n",
       "15                         0.0 -1.052577e+05  \n",
       "16                         0.0  1.089894e+06  \n",
       "17                         0.0 -6.159768e+05  \n",
       "18                         0.0  1.126889e+05  \n",
       "19                         0.0 -2.083781e+05  \n",
       "20                         0.0  5.309003e+05  \n",
       "21                         0.0 -5.610837e+04  \n",
       "22                         0.0 -1.229028e+05  \n",
       "23                         0.0 -3.530298e+05  \n",
       "24                         0.0 -1.242934e+05  \n",
       "25                         0.0  2.593397e+05  \n",
       "26                         0.0 -3.420872e+05  \n",
       "27                         0.0  1.776616e+04  \n",
       "28                         0.0  1.045490e+06  \n",
       "29                         0.0 -4.062256e+05  \n",
       "30                         0.0 -5.108013e+05  \n",
       "31                         0.0 -5.543815e+05  \n",
       "32                         0.0  1.227677e+06  "
      ]
     },
     "execution_count": 35,
     "metadata": {},
     "output_type": "execute_result"
    }
   ],
   "source": [
    "forecast"
   ]
  },
  {
   "cell_type": "markdown",
   "metadata": {},
   "source": [
    "Plot the forecast"
   ]
  },
  {
   "cell_type": "code",
   "execution_count": 36,
   "metadata": {},
   "outputs": [
    {
     "data": {
      "image/png": "[encoded data removed]",
      "text/plain": [
       "<Figure size 720x432 with 1 Axes>"
      ]
     },
     "metadata": {},
     "output_type": "display_data"
    }
   ],
   "source": [
    "fig1 = m.plot(forecast)"
   ]
  },
  {
   "cell_type": "markdown",
   "metadata": {},
   "source": [
    " Plot the components "
   ]
  },
  {
   "cell_type": "code",
   "execution_count": 37,
   "metadata": {},
   "outputs": [
    {
     "data": {
      "image/png": "[encoded data removed]",
      "text/plain": [
       "<Figure size 648x864 with 4 Axes>"
      ]
     },
     "metadata": {},
     "output_type": "display_data"
    }
   ],
   "source": [
    "fig2 = m.plot_components(forecast)"
   ]
  },
  {
   "cell_type": "code",
   "execution_count": 39,
   "metadata": {},
   "outputs": [
    {
     "data": {
      "text/plain": [
       "<function matplotlib.pyplot.show(close=None, block=None)>"
      ]
     },
     "execution_count": 39,
     "metadata": {},
     "output_type": "execute_result"
    },
    {
     "data": {
      "image/png": "[encoded data removed]",
      "text/plain": [
       "<Figure size 1080x576 with 1 Axes>"
      ]
     },
     "metadata": {},
     "output_type": "display_data"
    }
   ],
   "source": [
    "# Let's coampare the prediction with actual\n",
    "\n",
    "f, ax=plt.subplots(1)\n",
    "f.set_figheight(8)\n",
    "f.set_figwidth(15)\n",
    "\n",
    "\n",
    "fig=m.plot(forecast, ax=ax)\n",
    "ax.plot(test.ds, test.y, color='r', label='Test')\n",
    "ax.plot(train.ds, train.y, color='black', label='Train')\n",
    "plt.ticklabel_format(style='plain', axis='y')\n",
    "plt.legend()\n",
    "plt.show\n"
   ]
  },
  {
   "cell_type": "markdown",
   "metadata": {},
   "source": [
    "## 8-Evaluate our model performance"
   ]
  },
  {
   "cell_type": "code",
   "execution_count": 40,
   "metadata": {},
   "outputs": [
    {
     "data": {
      "text/html": [
       "<div>\n",
       "<style scoped>\n",
       "    .dataframe tbody tr th:only-of-type {\n",
       "        vertical-align: middle;\n",
       "    }\n",
       "\n",
       "    .dataframe tbody tr th {\n",
       "        vertical-align: top;\n",
       "    }\n",
       "\n",
       "    .dataframe thead th {\n",
       "        text-align: right;\n",
       "    }\n",
       "</style>\n",
       "<table border=\"1\" class=\"dataframe\">\n",
       "  <thead>\n",
       "    <tr style=\"text-align: right;\">\n",
       "      <th></th>\n",
       "      <th>ds</th>\n",
       "      <th>yhat_lower</th>\n",
       "      <th>yhat_upper</th>\n",
       "      <th>yhat</th>\n",
       "      <th>y</th>\n",
       "    </tr>\n",
       "  </thead>\n",
       "  <tbody>\n",
       "    <tr>\n",
       "      <th>0</th>\n",
       "      <td>2021-09-30</td>\n",
       "      <td>-3.421190e+05</td>\n",
       "      <td>-3.420579e+05</td>\n",
       "      <td>-3.420872e+05</td>\n",
       "      <td>-3.511098e+04</td>\n",
       "    </tr>\n",
       "    <tr>\n",
       "      <th>1</th>\n",
       "      <td>2021-10-31</td>\n",
       "      <td>1.763611e+04</td>\n",
       "      <td>1.788640e+04</td>\n",
       "      <td>1.776616e+04</td>\n",
       "      <td>1.530401e+05</td>\n",
       "    </tr>\n",
       "    <tr>\n",
       "      <th>2</th>\n",
       "      <td>2021-11-30</td>\n",
       "      <td>1.045237e+06</td>\n",
       "      <td>1.045724e+06</td>\n",
       "      <td>1.045490e+06</td>\n",
       "      <td>1.085221e+06</td>\n",
       "    </tr>\n",
       "    <tr>\n",
       "      <th>3</th>\n",
       "      <td>2021-12-31</td>\n",
       "      <td>-4.066440e+05</td>\n",
       "      <td>-4.058393e+05</td>\n",
       "      <td>-4.062256e+05</td>\n",
       "      <td>-8.143882e+03</td>\n",
       "    </tr>\n",
       "    <tr>\n",
       "      <th>4</th>\n",
       "      <td>2022-01-31</td>\n",
       "      <td>-5.114125e+05</td>\n",
       "      <td>-5.102439e+05</td>\n",
       "      <td>-5.108013e+05</td>\n",
       "      <td>-1.947112e+06</td>\n",
       "    </tr>\n",
       "  </tbody>\n",
       "</table>\n",
       "</div>"
      ],
      "text/plain": [
       "          ds    yhat_lower    yhat_upper          yhat             y\n",
       "0 2021-09-30 -3.421190e+05 -3.420579e+05 -3.420872e+05 -3.511098e+04\n",
       "1 2021-10-31  1.763611e+04  1.788640e+04  1.776616e+04  1.530401e+05\n",
       "2 2021-11-30  1.045237e+06  1.045724e+06  1.045490e+06  1.085221e+06\n",
       "3 2021-12-31 -4.066440e+05 -4.058393e+05 -4.062256e+05 -8.143882e+03\n",
       "4 2022-01-31 -5.114125e+05 -5.102439e+05 -5.108013e+05 -1.947112e+06"
      ]
     },
     "execution_count": 40,
     "metadata": {},
     "output_type": "execute_result"
    }
   ],
   "source": [
    "df_merge = pd.merge(test, forecast[['ds','yhat_lower','yhat_upper','yhat']],on='ds')\n",
    "df_merge = df_merge[['ds','yhat_lower','yhat_upper','yhat','y']]\n",
    "df_merge.head()"
   ]
  },
  {
   "cell_type": "code",
   "execution_count": 41,
   "metadata": {},
   "outputs": [],
   "source": [
    "from sklearn.metrics import mean_absolute_error\n",
    "from sklearn.metrics import mean_absolute_percentage_error\n",
    "\n",
    "y_true = df_merge['y'].values\n",
    "y_pred = df_merge['yhat'].values\n",
    "#mae_01 = mean_absolute_error(y_true, y_pred)\n",
    "mape_01 = mean_absolute_percentage_error(y_true, y_pred)\n",
    "\n",
    "print( 'MAPE:',mape_01)"
   ]
  },
  {
   "cell_type": "markdown",
   "metadata": {},
   "source": [
    "## 9- Cross Validation"
   ]
  },
  {
   "cell_type": "code",
   "execution_count": 42,
   "metadata": {},
   "outputs": [
    {
     "name": "stderr",
     "output_type": "stream",
     "text": [
      "INFO:fbprophet:Making 13 forecasts with cutoffs between 2020-08-06 00:00:00 and 2021-08-01 00:00:00\n",
      "  0%|          | 0/13 [00:00<?, ?it/s]INFO:fbprophet:n_changepoints greater than number of observations. Using 9.\n",
      "  8%|▊         | 1/13 [00:05<01:04,  5.37s/it]INFO:fbprophet:n_changepoints greater than number of observations. Using 10.\n",
      " 15%|█▌        | 2/13 [00:13<01:19,  7.22s/it]INFO:fbprophet:n_changepoints greater than number of observations. Using 11.\n",
      " 23%|██▎       | 3/13 [00:35<02:15, 13.59s/it]INFO:fbprophet:n_changepoints greater than number of observations. Using 11.\n",
      " 31%|███       | 4/13 [00:39<01:28,  9.85s/it]INFO:fbprophet:n_changepoints greater than number of observations. Using 12.\n",
      " 38%|███▊      | 5/13 [01:38<03:42, 27.83s/it]INFO:fbprophet:n_changepoints greater than number of observations. Using 13.\n",
      " 46%|████▌     | 6/13 [01:44<02:22, 20.30s/it]INFO:fbprophet:n_changepoints greater than number of observations. Using 14.\n",
      " 54%|█████▍    | 7/13 [02:06<02:04, 20.78s/it]INFO:fbprophet:n_changepoints greater than number of observations. Using 15.\n",
      " 62%|██████▏   | 8/13 [02:36<01:59, 23.83s/it]INFO:fbprophet:n_changepoints greater than number of observations. Using 15.\n",
      " 69%|██████▉   | 9/13 [02:40<01:10, 17.71s/it]INFO:fbprophet:n_changepoints greater than number of observations. Using 16.\n",
      " 77%|███████▋  | 10/13 [02:47<00:43, 14.38s/it]INFO:fbprophet:n_changepoints greater than number of observations. Using 17.\n",
      " 85%|████████▍ | 11/13 [02:57<00:25, 12.82s/it]INFO:fbprophet:n_changepoints greater than number of observations. Using 18.\n",
      "100%|██████████| 13/13 [03:50<00:00, 17.72s/it]"
     ]
    },
    {
     "name": "stdout",
     "output_type": "stream",
     "text": [
      "MAPE:  12.500487770623307\n"
     ]
    },
    {
     "name": "stderr",
     "output_type": "stream",
     "text": [
      "\n"
     ]
    }
   ],
   "source": [
    "from fbprophet.diagnostics import cross_validation\n",
    "df_cv=cross_validation(model=m, horizon='30 days', period='30 days')\n",
    "mape=mean_absolute_percentage_error(df_cv.y, df_cv.yhat)\n",
    "print('MAPE: ', mape)"
   ]
  },
  {
   "cell_type": "markdown",
   "metadata": {},
   "source": [
    "# Performance metrics"
   ]
  },
  {
   "cell_type": "code",
   "execution_count": 43,
   "metadata": {},
   "outputs": [
    {
     "data": {
      "text/html": [
       "<div>\n",
       "<style scoped>\n",
       "    .dataframe tbody tr th:only-of-type {\n",
       "        vertical-align: middle;\n",
       "    }\n",
       "\n",
       "    .dataframe tbody tr th {\n",
       "        vertical-align: top;\n",
       "    }\n",
       "\n",
       "    .dataframe thead th {\n",
       "        text-align: right;\n",
       "    }\n",
       "</style>\n",
       "<table border=\"1\" class=\"dataframe\">\n",
       "  <thead>\n",
       "    <tr style=\"text-align: right;\">\n",
       "      <th></th>\n",
       "      <th>horizon</th>\n",
       "      <th>mse</th>\n",
       "      <th>rmse</th>\n",
       "      <th>mae</th>\n",
       "      <th>mape</th>\n",
       "      <th>mdape</th>\n",
       "      <th>coverage</th>\n",
       "    </tr>\n",
       "  </thead>\n",
       "  <tbody>\n",
       "    <tr>\n",
       "      <th>0</th>\n",
       "      <td>25 days</td>\n",
       "      <td>5.590309e+11</td>\n",
       "      <td>7.476837e+05</td>\n",
       "      <td>6.112595e+05</td>\n",
       "      <td>3.362947</td>\n",
       "      <td>3.362947</td>\n",
       "      <td>0.0</td>\n",
       "    </tr>\n",
       "    <tr>\n",
       "      <th>1</th>\n",
       "      <td>26 days</td>\n",
       "      <td>5.990607e+12</td>\n",
       "      <td>2.447572e+06</td>\n",
       "      <td>2.095868e+06</td>\n",
       "      <td>14.911136</td>\n",
       "      <td>11.853074</td>\n",
       "      <td>0.0</td>\n",
       "    </tr>\n",
       "    <tr>\n",
       "      <th>2</th>\n",
       "      <td>27 days</td>\n",
       "      <td>1.376248e+13</td>\n",
       "      <td>3.709782e+06</td>\n",
       "      <td>2.972878e+06</td>\n",
       "      <td>7.280406</td>\n",
       "      <td>7.332170</td>\n",
       "      <td>0.0</td>\n",
       "    </tr>\n",
       "    <tr>\n",
       "      <th>3</th>\n",
       "      <td>28 days</td>\n",
       "      <td>1.474456e+13</td>\n",
       "      <td>3.839864e+06</td>\n",
       "      <td>2.479730e+06</td>\n",
       "      <td>21.004034</td>\n",
       "      <td>2.933247</td>\n",
       "      <td>0.0</td>\n",
       "    </tr>\n",
       "    <tr>\n",
       "      <th>4</th>\n",
       "      <td>29 days</td>\n",
       "      <td>7.978799e+12</td>\n",
       "      <td>2.824677e+06</td>\n",
       "      <td>2.824677e+06</td>\n",
       "      <td>22.725884</td>\n",
       "      <td>22.725884</td>\n",
       "      <td>0.0</td>\n",
       "    </tr>\n",
       "  </tbody>\n",
       "</table>\n",
       "</div>"
      ],
      "text/plain": [
       "  horizon           mse          rmse           mae       mape      mdape  \\\n",
       "0 25 days  5.590309e+11  7.476837e+05  6.112595e+05   3.362947   3.362947   \n",
       "1 26 days  5.990607e+12  2.447572e+06  2.095868e+06  14.911136  11.853074   \n",
       "2 27 days  1.376248e+13  3.709782e+06  2.972878e+06   7.280406   7.332170   \n",
       "3 28 days  1.474456e+13  3.839864e+06  2.479730e+06  21.004034   2.933247   \n",
       "4 29 days  7.978799e+12  2.824677e+06  2.824677e+06  22.725884  22.725884   \n",
       "\n",
       "   coverage  \n",
       "0       0.0  \n",
       "1       0.0  \n",
       "2       0.0  \n",
       "3       0.0  \n",
       "4       0.0  "
      ]
     },
     "execution_count": 43,
     "metadata": {},
     "output_type": "execute_result"
    }
   ],
   "source": [
    "from fbprophet.diagnostics import performance_metrics\n",
    "per_df = performance_metrics(df_cv)\n",
    "per_df.head()"
   ]
  },
  {
   "cell_type": "markdown",
   "metadata": {},
   "source": [
    "Compare actual and forecasted values after crossvalidation"
   ]
  },
  {
   "cell_type": "code",
   "execution_count": 45,
   "metadata": {},
   "outputs": [
    {
     "data": {
      "text/plain": [
       "Text(0.5, 1.0, 'Forecast Vs Actual')"
      ]
     },
     "execution_count": 45,
     "metadata": {},
     "output_type": "execute_result"
    },
    {
     "data": {
      "image/png": "[encoded data removed]",
      "text/plain": [
       "<Figure size 1080x360 with 1 Axes>"
      ]
     },
     "metadata": {},
     "output_type": "display_data"
    }
   ],
   "source": [
    "f, ax = plt.subplots(1)\n",
    "f.set_figheight(5)\n",
    "f.set_figwidth(15)\n",
    "ax.plot(df_cv['ds'], df_cv['y'], color='r', label='Actual Sales')\n",
    "ax.plot(df_cv['ds'], df_cv['yhat'], color='b', label='Forecast Sales')\n",
    "plt.legend()\n",
    "\n",
    "plt.title('Forecast Vs Actual')"
   ]
  },
  {
   "cell_type": "markdown",
   "metadata": {},
   "source": [
    "## 11- Tunning parameters"
   ]
  },
  {
   "cell_type": "code",
   "execution_count": 46,
   "metadata": {},
   "outputs": [
    {
     "name": "stderr",
     "output_type": "stream",
     "text": [
      "INFO:fbprophet:Disabling weekly seasonality. Run prophet with weekly_seasonality=True to override this.\n",
      "INFO:fbprophet:Disabling daily seasonality. Run prophet with daily_seasonality=True to override this.\n",
      "INFO:fbprophet:n_changepoints greater than number of observations. Using 19.\n",
      "INFO:fbprophet:Making 25 forecasts with cutoffs between 2020-08-06 00:00:00 and 2021-08-01 00:00:00\n",
      "INFO:fbprophet:Applying in parallel with <concurrent.futures.process.ProcessPoolExecutor object at 0x7f83d0019730>\n",
      "INFO:fbprophet:Disabling weekly seasonality. Run prophet with weekly_seasonality=True to override this.\n",
      "INFO:fbprophet:Disabling daily seasonality. Run prophet with daily_seasonality=True to override this.\n",
      "INFO:fbprophet:n_changepoints greater than number of observations. Using 19.\n",
      "INFO:fbprophet:Making 25 forecasts with cutoffs between 2020-08-06 00:00:00 and 2021-08-01 00:00:00\n",
      "INFO:fbprophet:Applying in parallel with <concurrent.futures.process.ProcessPoolExecutor object at 0x7f83cd15cb80>\n",
      "INFO:fbprophet:Disabling weekly seasonality. Run prophet with weekly_seasonality=True to override this.\n",
      "INFO:fbprophet:Disabling daily seasonality. Run prophet with daily_seasonality=True to override this.\n",
      "INFO:fbprophet:n_changepoints greater than number of observations. Using 19.\n",
      "INFO:fbprophet:Making 25 forecasts with cutoffs between 2020-08-06 00:00:00 and 2021-08-01 00:00:00\n",
      "INFO:fbprophet:Applying in parallel with <concurrent.futures.process.ProcessPoolExecutor object at 0x7f83d000c460>\n",
      "INFO:fbprophet:Disabling weekly seasonality. Run prophet with weekly_seasonality=True to override this.\n",
      "INFO:fbprophet:Disabling daily seasonality. Run prophet with daily_seasonality=True to override this.\n",
      "INFO:fbprophet:n_changepoints greater than number of observations. Using 19.\n",
      "INFO:fbprophet:Making 25 forecasts with cutoffs between 2020-08-06 00:00:00 and 2021-08-01 00:00:00\n",
      "INFO:fbprophet:Applying in parallel with <concurrent.futures.process.ProcessPoolExecutor object at 0x7f83cfe97370>\n",
      "INFO:fbprophet:Disabling weekly seasonality. Run prophet with weekly_seasonality=True to override this.\n",
      "INFO:fbprophet:Disabling daily seasonality. Run prophet with daily_seasonality=True to override this.\n",
      "INFO:fbprophet:n_changepoints greater than number of observations. Using 19.\n",
      "INFO:fbprophet:Making 25 forecasts with cutoffs between 2020-08-06 00:00:00 and 2021-08-01 00:00:00\n",
      "INFO:fbprophet:Applying in parallel with <concurrent.futures.process.ProcessPoolExecutor object at 0x7f83d0098640>\n",
      "INFO:fbprophet:Disabling weekly seasonality. Run prophet with weekly_seasonality=True to override this.\n",
      "INFO:fbprophet:Disabling daily seasonality. Run prophet with daily_seasonality=True to override this.\n",
      "INFO:fbprophet:n_changepoints greater than number of observations. Using 19.\n",
      "INFO:fbprophet:Making 25 forecasts with cutoffs between 2020-08-06 00:00:00 and 2021-08-01 00:00:00\n",
      "INFO:fbprophet:Applying in parallel with <concurrent.futures.process.ProcessPoolExecutor object at 0x7f83d000caf0>\n",
      "INFO:fbprophet:Disabling weekly seasonality. Run prophet with weekly_seasonality=True to override this.\n",
      "INFO:fbprophet:Disabling daily seasonality. Run prophet with daily_seasonality=True to override this.\n",
      "INFO:fbprophet:n_changepoints greater than number of observations. Using 19.\n",
      "INFO:fbprophet:Making 25 forecasts with cutoffs between 2020-08-06 00:00:00 and 2021-08-01 00:00:00\n",
      "INFO:fbprophet:Applying in parallel with <concurrent.futures.process.ProcessPoolExecutor object at 0x7f83cac52be0>\n",
      "INFO:fbprophet:Disabling weekly seasonality. Run prophet with weekly_seasonality=True to override this.\n",
      "INFO:fbprophet:Disabling daily seasonality. Run prophet with daily_seasonality=True to override this.\n",
      "INFO:fbprophet:n_changepoints greater than number of observations. Using 19.\n",
      "INFO:fbprophet:Making 25 forecasts with cutoffs between 2020-08-06 00:00:00 and 2021-08-01 00:00:00\n",
      "INFO:fbprophet:Applying in parallel with <concurrent.futures.process.ProcessPoolExecutor object at 0x7f83ce3560d0>\n",
      "INFO:fbprophet:Disabling weekly seasonality. Run prophet with weekly_seasonality=True to override this.\n",
      "INFO:fbprophet:Disabling daily seasonality. Run prophet with daily_seasonality=True to override this.\n",
      "INFO:fbprophet:n_changepoints greater than number of observations. Using 19.\n",
      "INFO:fbprophet:Making 25 forecasts with cutoffs between 2020-08-06 00:00:00 and 2021-08-01 00:00:00\n",
      "INFO:fbprophet:Applying in parallel with <concurrent.futures.process.ProcessPoolExecutor object at 0x7f83cac52be0>\n",
      "INFO:fbprophet:Disabling weekly seasonality. Run prophet with weekly_seasonality=True to override this.\n",
      "INFO:fbprophet:Disabling daily seasonality. Run prophet with daily_seasonality=True to override this.\n",
      "INFO:fbprophet:n_changepoints greater than number of observations. Using 19.\n",
      "INFO:fbprophet:Making 25 forecasts with cutoffs between 2020-08-06 00:00:00 and 2021-08-01 00:00:00\n",
      "INFO:fbprophet:Applying in parallel with <concurrent.futures.process.ProcessPoolExecutor object at 0x7f83cd15ce80>\n",
      "INFO:fbprophet:Disabling weekly seasonality. Run prophet with weekly_seasonality=True to override this.\n",
      "INFO:fbprophet:Disabling daily seasonality. Run prophet with daily_seasonality=True to override this.\n",
      "INFO:fbprophet:n_changepoints greater than number of observations. Using 19.\n",
      "INFO:fbprophet:Making 25 forecasts with cutoffs between 2020-08-06 00:00:00 and 2021-08-01 00:00:00\n",
      "INFO:fbprophet:Applying in parallel with <concurrent.futures.process.ProcessPoolExecutor object at 0x7f83ce2e96d0>\n",
      "INFO:fbprophet:Disabling weekly seasonality. Run prophet with weekly_seasonality=True to override this.\n",
      "INFO:fbprophet:Disabling daily seasonality. Run prophet with daily_seasonality=True to override this.\n",
      "INFO:fbprophet:n_changepoints greater than number of observations. Using 19.\n",
      "INFO:fbprophet:Making 25 forecasts with cutoffs between 2020-08-06 00:00:00 and 2021-08-01 00:00:00\n",
      "INFO:fbprophet:Applying in parallel with <concurrent.futures.process.ProcessPoolExecutor object at 0x7f83ce01e400>\n",
      "INFO:fbprophet:Disabling weekly seasonality. Run prophet with weekly_seasonality=True to override this.\n",
      "INFO:fbprophet:Disabling daily seasonality. Run prophet with daily_seasonality=True to override this.\n",
      "INFO:fbprophet:n_changepoints greater than number of observations. Using 19.\n",
      "INFO:fbprophet:Making 25 forecasts with cutoffs between 2020-08-06 00:00:00 and 2021-08-01 00:00:00\n",
      "INFO:fbprophet:Applying in parallel with <concurrent.futures.process.ProcessPoolExecutor object at 0x7f83d00aef40>\n",
      "INFO:fbprophet:Disabling weekly seasonality. Run prophet with weekly_seasonality=True to override this.\n",
      "INFO:fbprophet:Disabling daily seasonality. Run prophet with daily_seasonality=True to override this.\n",
      "INFO:fbprophet:n_changepoints greater than number of observations. Using 19.\n",
      "INFO:fbprophet:Making 25 forecasts with cutoffs between 2020-08-06 00:00:00 and 2021-08-01 00:00:00\n",
      "INFO:fbprophet:Applying in parallel with <concurrent.futures.process.ProcessPoolExecutor object at 0x7f83d00aea00>\n",
      "INFO:fbprophet:Disabling weekly seasonality. Run prophet with weekly_seasonality=True to override this.\n",
      "INFO:fbprophet:Disabling daily seasonality. Run prophet with daily_seasonality=True to override this.\n",
      "INFO:fbprophet:n_changepoints greater than number of observations. Using 19.\n",
      "INFO:fbprophet:Making 25 forecasts with cutoffs between 2020-08-06 00:00:00 and 2021-08-01 00:00:00\n",
      "INFO:fbprophet:Applying in parallel with <concurrent.futures.process.ProcessPoolExecutor object at 0x7f83cfe97850>\n",
      "INFO:fbprophet:Disabling weekly seasonality. Run prophet with weekly_seasonality=True to override this.\n",
      "INFO:fbprophet:Disabling daily seasonality. Run prophet with daily_seasonality=True to override this.\n",
      "INFO:fbprophet:n_changepoints greater than number of observations. Using 19.\n",
      "INFO:fbprophet:Making 25 forecasts with cutoffs between 2020-08-06 00:00:00 and 2021-08-01 00:00:00\n",
      "INFO:fbprophet:Applying in parallel with <concurrent.futures.process.ProcessPoolExecutor object at 0x7f83ce2e9eb0>\n"
     ]
    }
   ],
   "source": [
    "import itertools\n",
    "\n",
    "param_grid = {  \n",
    "    'changepoint_prior_scale': [0.001, 0.01, 0.1, 0.5],\n",
    "    'seasonality_prior_scale': [0.01, 0.1, 1.0, 10.0],   \n",
    "}\n",
    "\n",
    "# Generate all combinations of parameters\n",
    "all_params = [dict(zip(param_grid.keys(), v)) for v in itertools.product(*param_grid.values())]\n",
    "maes = []  # Store the MAE for each params here\n",
    "mapes = [] # Store the MAPE for each params here\n",
    "\n",
    "# Use cross validation to evaluate all parameters\n",
    "for params in all_params:\n",
    "    m = Prophet(**params).fit(train)  # Fit model with given params\n",
    "    df_cv = cross_validation(m, horizon='30 days', parallel=\"processes\")\n",
    "    df_p = performance_metrics(df_cv, rolling_window=1)\n",
    "    maes.append(df_p['mae'].values[0])\n",
    "    mapes.append(df_p['mape'].values[0])\n",
    "\n",
    "# Find the best parameters\n",
    "tuning_results = pd.DataFrame(all_params)\n",
    "tuning_results['mae'] = maes\n",
    "tuning_results['mape'] = mapes"
   ]
  },
  {
   "cell_type": "code",
   "execution_count": 47,
   "metadata": {},
   "outputs": [
    {
     "data": {
      "text/html": [
       "<div>\n",
       "<style scoped>\n",
       "    .dataframe tbody tr th:only-of-type {\n",
       "        vertical-align: middle;\n",
       "    }\n",
       "\n",
       "    .dataframe tbody tr th {\n",
       "        vertical-align: top;\n",
       "    }\n",
       "\n",
       "    .dataframe thead th {\n",
       "        text-align: right;\n",
       "    }\n",
       "</style>\n",
       "<table border=\"1\" class=\"dataframe\">\n",
       "  <thead>\n",
       "    <tr style=\"text-align: right;\">\n",
       "      <th></th>\n",
       "      <th>changepoint_prior_scale</th>\n",
       "      <th>seasonality_prior_scale</th>\n",
       "      <th>mae</th>\n",
       "      <th>mape</th>\n",
       "    </tr>\n",
       "  </thead>\n",
       "  <tbody>\n",
       "    <tr>\n",
       "      <th>2</th>\n",
       "      <td>0.001</td>\n",
       "      <td>1.00</td>\n",
       "      <td>2.703538e+05</td>\n",
       "      <td>1.480684</td>\n",
       "    </tr>\n",
       "    <tr>\n",
       "      <th>14</th>\n",
       "      <td>0.500</td>\n",
       "      <td>1.00</td>\n",
       "      <td>3.338681e+05</td>\n",
       "      <td>2.030367</td>\n",
       "    </tr>\n",
       "    <tr>\n",
       "      <th>5</th>\n",
       "      <td>0.010</td>\n",
       "      <td>0.10</td>\n",
       "      <td>3.352700e+05</td>\n",
       "      <td>1.655759</td>\n",
       "    </tr>\n",
       "    <tr>\n",
       "      <th>9</th>\n",
       "      <td>0.100</td>\n",
       "      <td>0.10</td>\n",
       "      <td>3.357240e+05</td>\n",
       "      <td>1.661804</td>\n",
       "    </tr>\n",
       "    <tr>\n",
       "      <th>1</th>\n",
       "      <td>0.001</td>\n",
       "      <td>0.10</td>\n",
       "      <td>3.368584e+05</td>\n",
       "      <td>1.681700</td>\n",
       "    </tr>\n",
       "    <tr>\n",
       "      <th>13</th>\n",
       "      <td>0.500</td>\n",
       "      <td>0.10</td>\n",
       "      <td>3.484058e+05</td>\n",
       "      <td>1.836487</td>\n",
       "    </tr>\n",
       "    <tr>\n",
       "      <th>0</th>\n",
       "      <td>0.001</td>\n",
       "      <td>0.01</td>\n",
       "      <td>3.503348e+05</td>\n",
       "      <td>1.322816</td>\n",
       "    </tr>\n",
       "    <tr>\n",
       "      <th>8</th>\n",
       "      <td>0.100</td>\n",
       "      <td>0.01</td>\n",
       "      <td>3.524106e+05</td>\n",
       "      <td>1.291775</td>\n",
       "    </tr>\n",
       "    <tr>\n",
       "      <th>4</th>\n",
       "      <td>0.010</td>\n",
       "      <td>0.01</td>\n",
       "      <td>3.529972e+05</td>\n",
       "      <td>1.292610</td>\n",
       "    </tr>\n",
       "    <tr>\n",
       "      <th>12</th>\n",
       "      <td>0.500</td>\n",
       "      <td>0.01</td>\n",
       "      <td>3.531574e+05</td>\n",
       "      <td>1.294480</td>\n",
       "    </tr>\n",
       "    <tr>\n",
       "      <th>6</th>\n",
       "      <td>0.010</td>\n",
       "      <td>1.00</td>\n",
       "      <td>3.553933e+05</td>\n",
       "      <td>1.970087</td>\n",
       "    </tr>\n",
       "    <tr>\n",
       "      <th>10</th>\n",
       "      <td>0.100</td>\n",
       "      <td>1.00</td>\n",
       "      <td>3.592425e+05</td>\n",
       "      <td>1.929468</td>\n",
       "    </tr>\n",
       "    <tr>\n",
       "      <th>3</th>\n",
       "      <td>0.001</td>\n",
       "      <td>10.00</td>\n",
       "      <td>4.215211e+05</td>\n",
       "      <td>2.480552</td>\n",
       "    </tr>\n",
       "    <tr>\n",
       "      <th>11</th>\n",
       "      <td>0.100</td>\n",
       "      <td>10.00</td>\n",
       "      <td>4.299046e+05</td>\n",
       "      <td>2.622011</td>\n",
       "    </tr>\n",
       "    <tr>\n",
       "      <th>7</th>\n",
       "      <td>0.010</td>\n",
       "      <td>10.00</td>\n",
       "      <td>4.949077e+05</td>\n",
       "      <td>2.654560</td>\n",
       "    </tr>\n",
       "    <tr>\n",
       "      <th>15</th>\n",
       "      <td>0.500</td>\n",
       "      <td>10.00</td>\n",
       "      <td>1.090780e+06</td>\n",
       "      <td>7.066624</td>\n",
       "    </tr>\n",
       "  </tbody>\n",
       "</table>\n",
       "</div>"
      ],
      "text/plain": [
       "    changepoint_prior_scale  seasonality_prior_scale           mae      mape\n",
       "2                     0.001                     1.00  2.703538e+05  1.480684\n",
       "14                    0.500                     1.00  3.338681e+05  2.030367\n",
       "5                     0.010                     0.10  3.352700e+05  1.655759\n",
       "9                     0.100                     0.10  3.357240e+05  1.661804\n",
       "1                     0.001                     0.10  3.368584e+05  1.681700\n",
       "13                    0.500                     0.10  3.484058e+05  1.836487\n",
       "0                     0.001                     0.01  3.503348e+05  1.322816\n",
       "8                     0.100                     0.01  3.524106e+05  1.291775\n",
       "4                     0.010                     0.01  3.529972e+05  1.292610\n",
       "12                    0.500                     0.01  3.531574e+05  1.294480\n",
       "6                     0.010                     1.00  3.553933e+05  1.970087\n",
       "10                    0.100                     1.00  3.592425e+05  1.929468\n",
       "3                     0.001                    10.00  4.215211e+05  2.480552\n",
       "11                    0.100                    10.00  4.299046e+05  2.622011\n",
       "7                     0.010                    10.00  4.949077e+05  2.654560\n",
       "15                    0.500                    10.00  1.090780e+06  7.066624"
      ]
     },
     "execution_count": 47,
     "metadata": {},
     "output_type": "execute_result"
    }
   ],
   "source": [
    "tuning_results.sort_values(['mae','mape'])\n",
    "\n"
   ]
  },
  {
   "cell_type": "markdown",
   "metadata": {},
   "source": [
    "We can see that MAE and MAPE for different values of changepoint_prior_scale and seasonality_prior_scale hyperparameters."
   ]
  },
  {
   "cell_type": "markdown",
   "metadata": {},
   "source": [
    "## 12-  Find the best  parameters and compare the results"
   ]
  },
  {
   "cell_type": "code",
   "execution_count": 48,
   "metadata": {},
   "outputs": [
    {
     "name": "stdout",
     "output_type": "stream",
     "text": [
      "{'changepoint_prior_scale': 0.1, 'seasonality_prior_scale': 0.01}\n"
     ]
    }
   ],
   "source": [
    "best_params = all_params[np.argmin(mapes)]\n",
    "print(best_params)"
   ]
  },
  {
   "cell_type": "code",
   "execution_count": 49,
   "metadata": {},
   "outputs": [
    {
     "name": "stderr",
     "output_type": "stream",
     "text": [
      "INFO:fbprophet:Disabling daily seasonality. Run prophet with daily_seasonality=True to override this.\n",
      "INFO:fbprophet:n_changepoints greater than number of observations. Using 19.\n"
     ]
    }
   ],
   "source": [
    "# Train the model with best parameters\n",
    "m_01 = Prophet(weekly_seasonality=True,yearly_seasonality=True,\n",
    "changepoint_prior_scale = best_params['changepoint_prior_scale'],\n",
    "seasonality_prior_scale = best_params['seasonality_prior_scale'] )\n",
    "m_01.add_seasonality(name='monthly', period=24, fourier_order=1)\n",
    "#m.add_country_holidays(country_name='UK')\n",
    "model = m_01.fit(train)"
   ]
  },
  {
   "cell_type": "code",
   "execution_count": 50,
   "metadata": {},
   "outputs": [],
   "source": [
    "# Predict with tunned parameters\n",
    "future_01 = model.make_future_dataframe(periods=7, freq = 'M')\n",
    "forecast_01 = model.predict(future_01)"
   ]
  },
  {
   "cell_type": "markdown",
   "metadata": {},
   "source": [
    "## Check the model improvement after parameter tunning"
   ]
  },
  {
   "cell_type": "code",
   "execution_count": 51,
   "metadata": {},
   "outputs": [
    {
     "data": {
      "text/html": [
       "<div>\n",
       "<style scoped>\n",
       "    .dataframe tbody tr th:only-of-type {\n",
       "        vertical-align: middle;\n",
       "    }\n",
       "\n",
       "    .dataframe tbody tr th {\n",
       "        vertical-align: top;\n",
       "    }\n",
       "\n",
       "    .dataframe thead th {\n",
       "        text-align: right;\n",
       "    }\n",
       "</style>\n",
       "<table border=\"1\" class=\"dataframe\">\n",
       "  <thead>\n",
       "    <tr style=\"text-align: right;\">\n",
       "      <th></th>\n",
       "      <th>ds</th>\n",
       "      <th>yhat_lower</th>\n",
       "      <th>yhat_upper</th>\n",
       "      <th>yhat</th>\n",
       "      <th>y</th>\n",
       "    </tr>\n",
       "  </thead>\n",
       "  <tbody>\n",
       "    <tr>\n",
       "      <th>0</th>\n",
       "      <td>2021-09-30</td>\n",
       "      <td>-434688.450230</td>\n",
       "      <td>385849.006634</td>\n",
       "      <td>-9671.177694</td>\n",
       "      <td>-3.511098e+04</td>\n",
       "    </tr>\n",
       "    <tr>\n",
       "      <th>1</th>\n",
       "      <td>2021-10-31</td>\n",
       "      <td>-406586.275003</td>\n",
       "      <td>453064.871184</td>\n",
       "      <td>-12764.878165</td>\n",
       "      <td>1.530401e+05</td>\n",
       "    </tr>\n",
       "    <tr>\n",
       "      <th>2</th>\n",
       "      <td>2021-11-30</td>\n",
       "      <td>-389153.699188</td>\n",
       "      <td>430091.013711</td>\n",
       "      <td>7689.647714</td>\n",
       "      <td>1.085221e+06</td>\n",
       "    </tr>\n",
       "    <tr>\n",
       "      <th>3</th>\n",
       "      <td>2021-12-31</td>\n",
       "      <td>-430067.709082</td>\n",
       "      <td>388142.508096</td>\n",
       "      <td>-29191.721506</td>\n",
       "      <td>-8.143882e+03</td>\n",
       "    </tr>\n",
       "    <tr>\n",
       "      <th>4</th>\n",
       "      <td>2022-01-31</td>\n",
       "      <td>-423579.297228</td>\n",
       "      <td>412267.376213</td>\n",
       "      <td>-19679.559128</td>\n",
       "      <td>-1.947112e+06</td>\n",
       "    </tr>\n",
       "  </tbody>\n",
       "</table>\n",
       "</div>"
      ],
      "text/plain": [
       "          ds     yhat_lower     yhat_upper          yhat             y\n",
       "0 2021-09-30 -434688.450230  385849.006634  -9671.177694 -3.511098e+04\n",
       "1 2021-10-31 -406586.275003  453064.871184 -12764.878165  1.530401e+05\n",
       "2 2021-11-30 -389153.699188  430091.013711   7689.647714  1.085221e+06\n",
       "3 2021-12-31 -430067.709082  388142.508096 -29191.721506 -8.143882e+03\n",
       "4 2022-01-31 -423579.297228  412267.376213 -19679.559128 -1.947112e+06"
      ]
     },
     "execution_count": 51,
     "metadata": {},
     "output_type": "execute_result"
    }
   ],
   "source": [
    "df_merge_1 = pd.merge(test, forecast_01[['ds','yhat_lower','yhat_upper','yhat']],on='ds')\n",
    "df_merge_1 = df_merge_1[['ds','yhat_lower','yhat_upper','yhat','y']]\n",
    "df_merge_1.head()"
   ]
  },
  {
   "cell_type": "markdown",
   "metadata": {},
   "source": [
    "## Model perfromance before tuning parameters"
   ]
  },
  {
   "cell_type": "code",
   "execution_count": 52,
   "metadata": {},
   "outputs": [
    {
     "name": "stdout",
     "output_type": "stream",
     "text": [
      "mape before tuning parameters: 11.856456839493248\n"
     ]
    }
   ],
   "source": [
    "y_true = df_merge['y'].values\n",
    "y_pred = df_merge['yhat'].values\n",
    "#mae_01 = mean_absolute_error(y_true, y_pred)\n",
    "mape_01 = mean_absolute_percentage_error(y_true, y_pred)\n",
    "\n",
    "print('mape before tuning parameters:',mape_01)"
   ]
  },
  {
   "cell_type": "markdown",
   "metadata": {},
   "source": [
    "## Model performance after tuning parameters"
   ]
  },
  {
   "cell_type": "code",
   "execution_count": 54,
   "metadata": {},
   "outputs": [
    {
     "name": "stdout",
     "output_type": "stream",
     "text": [
      "mape after tuning prarameters: 1.275053431587634\n"
     ]
    }
   ],
   "source": [
    "y_true_01 = df_merge_1['y'].values\n",
    "y_pred_01= df_merge_1['yhat'].values\n",
    "#mae_02 = mean_absolute_error(y_true_01, y_pred_01)\n",
    "mape_02 = mean_absolute_percentage_error(y_true_01, y_pred_01)\n",
    "\n",
    "print('mape after tuning prarameters:',mape_02)"
   ]
  },
  {
   "cell_type": "markdown",
   "metadata": {},
   "source": [
    " We can see that after fine-parameter tuning mape decreased from 11.856456839493248 to 1.275053431587634 which is a good sign of improvement"
   ]
  }
 ],
 "metadata": {
  "interpreter": {
   "hash": "40d3a090f54c6569ab1632332b64b2c03c39dcf918b08424e98f38b5ae0af88f"
  },
  "kernelspec": {
   "display_name": "Python 3.8.8 64-bit ('base': conda)",
   "language": "python",
   "name": "python3"
  },
  "language_info": {
   "codemirror_mode": {
    "name": "ipython",
    "version": 3
   },
   "file_extension": ".py",
   "mimetype": "text/x-python",
   "name": "python",
   "nbconvert_exporter": "python",
   "pygments_lexer": "ipython3",
   "version": "3.8.8"
  },
  "orig_nbformat": 4
 },
 "nbformat": 4,
 "nbformat_minor": 2
}
